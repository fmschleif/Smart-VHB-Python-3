{
 "cells": [
  {
   "source": [
    "# Python 3 Variablen und Operatoren \n",
    "\n",
    "Diese Präsentation ist ein Jupyter Notebook. Achten Sie auf $\\#$ Symbole für weitere Informationen.\n",
    "\n"
   ],
   "cell_type": "markdown",
   "metadata": {}
  },
  {
   "source": [
    "\n",
    "## Lernziele\n",
    "- Die verschiedenen Variablentypen und Operatoren können benannt werden.\n",
    "- Zuweisung von Werten können durchgeführt werden.\n",
    "- Einfache Berechnungen können umgesetzt werden.\n",
    "- Im Kurs besprochene Maniuplationen der Variablen ist anwendbar. \n"
   ],
   "cell_type": "markdown",
   "metadata": {}
  },
  {
   "source": [
    "## Vorkenntnisse \n",
    "- Grundlagen in Mathematik \n",
    "- Keine weiteren Python Kentnisse"
   ],
   "cell_type": "markdown",
   "metadata": {}
  },
  {
   "source": [
    "## Zielgruppe\n",
    "- Studierende in Naturwissenschaftlichen\n",
    "- Studierende in Ingenieurstudiengängen \n",
    "- Studierende mit anderweitigem naturwissenschaftlichen/technischen Hintergrund\n",
    "- Studierende mit ersten Erfahurngen in anderen Programmiersprachen"
   ],
   "cell_type": "markdown",
   "metadata": {}
  },
  {
   "source": [
    "## Aufbau\n",
    "- Definition Variablen \n",
    "- Datentypen und initialisierung von Variablen\n",
    "- Einführung Operatoren \n",
    "- Manipulation von Variblen durch \n",
    "- Zusammenfassung und Quellen"
   ],
   "cell_type": "markdown",
   "metadata": {}
  },
  {
   "source": [
    "## Variablen\n",
    "- Variablen speichern Informationen welche durch fest zugewiesene Namen wieder aufrufbar sind. \n",
    "- Diese Information kann beispielsweise sein:\n",
    "    - Zahlen\n",
    "    - Wörter, Buchstaben, Sätze\n",
    "    - Datum\n",
    "    - Wahr/Falsch-Ausdrücke\n",
    "    - Referenz auf eine andere Variable (Nicht behandelt)\n",
    "- Der Inhalt einer Variable entscheidet den (Daten)-Typ einer Variable. \n",
    "- Jede Variable besitzt einen eindeutigen Namem.\n",
    "- Es ist nicht möglich zwei Variablen mit gleichen Namen zu initialisierne."
   ],
   "cell_type": "markdown",
   "metadata": {}
  },
  {
   "cell_type": "code",
   "execution_count": 13,
   "metadata": {},
   "outputs": [],
   "source": [
    "# Beispiele von Variablen und deren initaliserung\n",
    "x = 5 # Integer\n",
    "buchstabe = \"c\" # String\n",
    "wort = \"Apfel\" # String\n",
    "satz = \"Das Wetter ist heute schön!\" # String\n",
    "wahr = True # Boolean Wahr\n",
    "falsch = False # Boolean Falsch"
   ]
  },
  {
   "cell_type": "code",
   "execution_count": 14,
   "metadata": {},
   "outputs": [
    {
     "output_type": "stream",
     "name": "stdout",
     "text": [
      "5\n"
     ]
    },
    {
     "output_type": "execute_result",
     "data": {
      "text/plain": [
       "5"
      ]
     },
     "metadata": {},
     "execution_count": 14
    }
   ],
   "source": [
    "# Jede Zelle enthält Code oder Inhalt\n",
    "# Ausgabe des Inhaltes von Variablen \n",
    "x = 5 \n",
    "print(x) # print() = Ausgabefunktion\n",
    "x # Am Ende einer Zelle"
   ]
  },
  {
   "cell_type": "code",
   "execution_count": 16,
   "metadata": {},
   "outputs": [
    {
     "output_type": "stream",
     "name": "stdout",
     "text": [
      "0.2\n"
     ]
    }
   ],
   "source": [
    "# Änhlich wie in der Mathematik wird beim Datentypen zwischen den Zahlenbereichen \n",
    "\n",
    "natürliche_zahl = 5 # Integer\n",
    "ganze_zahl= -5 # Integer\n",
    "rationale_zahlen = 1.5 # Float\n",
    "bruch = 1 / 5 # Float\n",
    "print(bruch) # Bruch wird als Float dargestellt"
   ]
  },
  {
   "cell_type": "code",
   "execution_count": 16,
   "metadata": {},
   "outputs": [
    {
     "output_type": "stream",
     "name": "stdout",
     "text": [
      "<class 'int'>\n<class 'float'>\n"
     ]
    }
   ],
   "source": [
    "# Nachweis von Datentypen der Variablen\n",
    "x = 5\n",
    "y = 3.4\n",
    "type_x = type(x) # type() Funktion liefert den Datentyp\n",
    "type_y = type(y) \n",
    "print(type_x)\n",
    "print(type_y)"
   ]
  },
  {
   "cell_type": "code",
   "execution_count": 22,
   "metadata": {},
   "outputs": [
    {
     "output_type": "execute_result",
     "data": {
      "text/plain": [
       "(1.3, 16000000000.0, -0.09999999990000001)"
      ]
     },
     "metadata": {},
     "execution_count": 22
    }
   ],
   "source": [
    "# Darstellung von Floats\n",
    "\n",
    "x = 1.3 \n",
    "y = 1.6e10\n",
    "z = 1.0e-10 # 0.1\n",
    "x,y,z"
   ]
  },
  {
   "cell_type": "code",
   "execution_count": null,
   "metadata": {},
   "outputs": [],
   "source": [
    "# Komplexe Zahlen "
   ]
  },
  {
   "source": [
    "## Irrationalle Zahlen und Imports\n",
    "- Irrationalle Zahlen stehen nicht regulär zur Verfügung.\n",
    "- Um diese nutzen zu können müssen wir Sie in das Programm importieren.\n",
    "- Das Modul \"math\" bietet eine Vielzahl von mathematischen Funktionen und Ausdrücken "
   ],
   "cell_type": "markdown",
   "metadata": {}
  },
  {
   "cell_type": "code",
   "execution_count": 3,
   "metadata": {},
   "outputs": [
    {
     "output_type": "stream",
     "name": "stdout",
     "text": [
      "3.141592653589793\n5.0\n"
     ]
    }
   ],
   "source": [
    "import math \n",
    "# Importieren von mathematischen Funktionen in das Program\n",
    "# Ab jetz können Sie math benutzen \n",
    "\n",
    "pi = math.pi # Variable mit irrationaler Zahl\n",
    "print(pi) # Ausgabe \n",
    "neg = -5 # Negativer Integer\n",
    "pos = math.fabs(neg) # Absoluter Wert der Variable \n",
    "print(pos)\n"
   ]
  },
  {
   "source": [
    "## Operatoren für Zahlen\n",
    "- Durch Operatoren können die Informationen der Variablen bearbeitet werden \n",
    "- Fast alle mathematischen Operatoren sind in python Vorhanden  \n"
   ],
   "cell_type": "markdown",
   "metadata": {}
  },
  {
   "source": [
    "## String und Characters\n",
    "- Einzelne Buchstaben, Wörter oder Sätze sind String\n",
    "- Anders als in anderen Programmiersprachen gibt es den Datentypen Character nicht\n",
    "- ABER: Jeder String ist eine abfolge von aneinander gerreiten Buchstaben \n",
    "- Auf diese Buchstaben kann zugegriffen werden"
   ],
   "cell_type": "markdown",
   "metadata": {}
  },
  {
   "cell_type": "code",
   "execution_count": 15,
   "metadata": {},
   "outputs": [
    {
     "output_type": "stream",
     "name": "stdout",
     "text": [
      "<class 'str'>\n<class 'str'>\n"
     ]
    }
   ],
   "source": [
    "# Beide Variablen sind Strings\n",
    "buchstabe = \"a\"\n",
    "wort = \"apfel\"\n",
    "\n",
    "type_wort = type(wort) # type() Funktion liefert den Datentyp\n",
    "type_buchstabe = type(buchstabe)\n",
    "print(type_wort)\n",
    "print(type_buchstabe)"
   ]
  },
  {
   "source": [
    "## String Operatoren"
   ],
   "cell_type": "markdown",
   "metadata": {}
  },
  {
   "source": [],
   "cell_type": "markdown",
   "metadata": {}
  },
  {
   "cell_type": "code",
   "execution_count": null,
   "metadata": {},
   "outputs": [],
   "source": []
  },
  {
   "cell_type": "code",
   "execution_count": null,
   "id": "aa59a7f7",
   "metadata": {},
   "outputs": [],
   "source": [
    "a = 3\n",
    "b = 3\n",
    "c = a + b \n",
    "c"
   ]
  },
  {
   "source": [
    "# Zusammenfassung \n",
    "- Sie können dieses Notebook mit jedem Jupyter Server ausführen.\n",
    "- Beispielsweise in Google Collab: https://colab.research.google.com/"
   ],
   "cell_type": "markdown",
   "metadata": {}
  },
  {
   "source": [
    "## Quellen\n",
    "- https://docs.python.org/3/tutorial/introduction.html\n",
    "- \n",
    "\n",
    "## Weiterführendes\n",
    "- Import von Modulen: https://docs.python.org/3/reference/import.html\n",
    "- Math Modul: https://docs.python.org/3/library/math.html  "
   ],
   "cell_type": "markdown",
   "metadata": {}
  }
 ],
 "metadata": {
  "kernelspec": {
   "name": "python3",
   "display_name": "Python 3.9.5 64-bit"
  },
  "language_info": {
   "codemirror_mode": {
    "name": "ipython",
    "version": 3
   },
   "file_extension": ".py",
   "mimetype": "text/x-python",
   "name": "python",
   "nbconvert_exporter": "python",
   "pygments_lexer": "ipython3",
   "version": "3.9.5"
  },
  "interpreter": {
   "hash": "b0fa6594d8f4cbf19f97940f81e996739fb7646882a419484c72d19e05852a7e"
  }
 },
 "nbformat": 4,
 "nbformat_minor": 5
}