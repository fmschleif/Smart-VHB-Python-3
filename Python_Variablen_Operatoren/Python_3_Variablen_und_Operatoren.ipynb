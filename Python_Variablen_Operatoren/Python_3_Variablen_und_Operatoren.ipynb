{
 "cells": [
  {
   "cell_type": "markdown",
   "id": "6cbb7fca",
   "metadata": {
    "slideshow": {
     "slide_type": "slide"
    }
   },
   "source": [
    "# Python 3 Variablen und Operatoren \n",
    "\n",
    "Diese Präsentation ist ein Jupyter Notebook. Achten Sie auf $\\#$ Symbole für weitere Informationen.\n",
    "\n"
   ]
  },
  {
   "cell_type": "markdown",
   "id": "f348c9c9",
   "metadata": {},
   "source": [
    "\n",
    "## Lernziele\n",
    "- Die verschiedenen Variablentypen und Operatoren können benannt werden.\n",
    "- Zuweisung von Werten können durchgeführt werden.\n",
    "- Einfache Berechnungen können umgesetzt werden.\n",
    "- Im Kurs besprochene Maniuplationen der Variablen ist anwendbar. \n"
   ]
  },
  {
   "cell_type": "markdown",
   "id": "30c710c6",
   "metadata": {},
   "source": [
    "## Vorkenntnisse \n",
    "- Grundlagen in Mathematik \n",
    "- Keine weiteren Python Kenntnisse"
   ]
  },
  {
   "cell_type": "markdown",
   "id": "ecd211c1",
   "metadata": {},
   "source": [
    "## Zielgruppe\n",
    "- Studierende in Naturwissenschaftlichen\n",
    "- Studierende in Ingenieurstudiengängen \n",
    "- Studierende mit anderweitigem naturwissenschaftlichen/technischen Hintergrund\n",
    "- Studierende mit ersten Erfahurngen in anderen Programmiersprachen"
   ]
  },
  {
   "cell_type": "markdown",
   "id": "00ebbc9d",
   "metadata": {},
   "source": [
    "## Aufbau\n",
    "- Definition Variablen \n",
    "- Datentypen und initialisierung von Variablen\n",
    "- Einführung Operatoren \n",
    "- Manipulation von Variblen durch \n",
    "- Zusammenfassung und Quellen"
   ]
  },
  {
   "cell_type": "markdown",
   "id": "3ccec0d6",
   "metadata": {},
   "source": [
    "## Variablen\n",
    "- Variablen speichern Informationen welche durch fest zugewiesene Namen wieder aufrufbar sind. \n",
    "- Diese Information kann beispielsweise sein:\n",
    "    - Zahlen\n",
    "    - Wörter, Buchstaben, Sätze\n",
    "    - Datum\n",
    "    - Wahr/Falsch-Ausdrücke\n",
    "    - Referenz auf eine andere Variable (Nicht behandelt)\n",
    "- Der Inhalt einer Variable entscheidet den (Daten)-Typ einer Variable. \n",
    "- Jede Variable besitzt einen eindeutigen Namem.\n",
    "- Es ist nicht möglich zwei Variablen mit gleichen Namen zu initialisierne."
   ]
  },
  {
   "cell_type": "code",
   "execution_count": 1,
   "id": "a8cc5f7b",
   "metadata": {},
   "outputs": [],
   "source": [
    "# Beispiele von Variablen und deren initaliserung\n",
    "x = 5 # Integer\n",
    "buchstabe = \"c\" # String\n",
    "wort = \"Apfel\" # String\n",
    "satz = \"Das Wetter ist heute schön!\" # String\n",
    "wahr = True # Boolean Wahr\n",
    "falsch = False # Boolean Falsch"
   ]
  },
  {
   "cell_type": "code",
   "execution_count": 2,
   "id": "1100b042",
   "metadata": {},
   "outputs": [
    {
     "output_type": "stream",
     "name": "stdout",
     "text": [
      "5\n"
     ]
    },
    {
     "output_type": "execute_result",
     "data": {
      "text/plain": [
       "5"
      ]
     },
     "metadata": {},
     "execution_count": 2
    }
   ],
   "source": [
    "# Jede Zelle enthält Code oder Inhalt. Ausgabe des Inhaltes von Variablen \n",
    "x = 5 \n",
    "print(x) # print() => Ausgabefunktion\n",
    "x # Am Ende einer Zelle"
   ]
  },
  {
   "cell_type": "code",
   "execution_count": 3,
   "id": "aa2ec4c8",
   "metadata": {},
   "outputs": [
    {
     "output_type": "stream",
     "name": "stdout",
     "text": [
      "0.2\n"
     ]
    }
   ],
   "source": [
    "# Änhlich wie in der Mathematik wird beim Datentypen zwischen den Zahlenbereichen \n",
    "\n",
    "natürliche_zahl = 5 # Integer\n",
    "ganze_zahl= -5 # Integer\n",
    "rationale_zahlen = 1.5 # Float\n",
    "bruch = 1 / 5 # Float\n",
    "print(bruch) # Bruch wird als Float dargestellt"
   ]
  },
  {
   "cell_type": "code",
   "execution_count": 4,
   "id": "b2f93947",
   "metadata": {},
   "outputs": [
    {
     "output_type": "stream",
     "name": "stdout",
     "text": [
      "<class 'int'> <class 'float'>\n"
     ]
    }
   ],
   "source": [
    "# Nachweis von Datentypen der Variablen\n",
    "x = 5\n",
    "y = 3.4\n",
    "type_x = type(x) # type() Funktion liefert den Datentyp\n",
    "type_y = type(y) \n",
    "print(type_x,type_y)"
   ]
  },
  {
   "cell_type": "code",
   "execution_count": 5,
   "id": "0fb7815b",
   "metadata": {},
   "outputs": [
    {
     "output_type": "stream",
     "name": "stdout",
     "text": [
      "3 4\n2 2\n"
     ]
    }
   ],
   "source": [
    "# Short cuts \n",
    "a,b = 3,4 # Unterschiedliche Werte \n",
    "print(a,b)\n",
    "a = b = 2 # Alle haben den Wert 2 \n",
    "print(a,b)\n"
   ]
  },
  {
   "cell_type": "code",
   "execution_count": 6,
   "id": "064e613f",
   "metadata": {},
   "outputs": [
    {
     "output_type": "stream",
     "name": "stdout",
     "text": [
      "1.3 16000000000.0 1e-10\n"
     ]
    }
   ],
   "source": [
    "# Darstellung von Floats\n",
    "\n",
    "x = 1.3 \n",
    "y = 1.6e10 # 1.6^10\n",
    "z = 1.0e-10 # 0.1\n",
    "print(x,y,z)"
   ]
  },
  {
   "cell_type": "markdown",
   "id": "91110999",
   "metadata": {},
   "source": [
    "## Operatoren für Zahlen\n",
    "- Durch Operatoren können die Informationen der Variablen bearbeitet werden.\n",
    "- Fast alle mathematischen Operatoren sind standartmäßig in Python vorhanden.\n"
   ]
  },
  {
   "cell_type": "code",
   "execution_count": 7,
   "id": "9e6034cc",
   "metadata": {},
   "outputs": [
    {
     "output_type": "stream",
     "name": "stdout",
     "text": [
      "11\n-5\n3\n6561\n0.375\n"
     ]
    }
   ],
   "source": [
    " a,b = 3, 8\n",
    " c = a + b # Plus operation\n",
    " print(c) \n",
    " print( a - b) # Minus \n",
    " print( a % b) # Modulo Operator\n",
    " print( a**b) # a hoch b \n",
    " print( a / b) # a geteilt durch b"
   ]
  },
  {
   "cell_type": "markdown",
   "id": "74f6ab98",
   "metadata": {},
   "source": [
    "## Irrationalle Zahlen und Imports\n",
    "- Irrationalle Zahlen stehen nicht regulär zur Verfügung.\n",
    "- Um diese nutzen zu können müssen wir Sie in das Programm importieren.\n",
    "- Das Modul \"math\" bietet eine Vielzahl von mathematischen Funktionen und Ausdrücken\n",
    "- Durch das \"import\" Statement können zusätzliche Funktionen und Variablen in den Progamm-Code importiert werden  "
   ]
  },
  {
   "cell_type": "code",
   "execution_count": 8,
   "id": "2b54c031",
   "metadata": {},
   "outputs": [
    {
     "output_type": "stream",
     "name": "stdout",
     "text": [
      "3.141592653589793\n5\n0.479425538604203\n"
     ]
    }
   ],
   "source": [
    "import math \n",
    "# Importieren von mathematischen Funktionen in das Program\n",
    "# Ab jetz können Sie math benutzen \n",
    "\n",
    "pi = math.pi # Variable mit irrationaler Zahl\n",
    "print(pi) # Ausgabe \n",
    "neg = -5 # Negativer Integer\n",
    "pos = abs(neg) # Absoluter Wert der Variable \n",
    "print(pos)\n",
    "print(math.sin(0.5)) # Sinusfunktion an der Stelle 0.5\n"
   ]
  },
  {
   "cell_type": "code",
   "execution_count": 9,
   "id": "8485475b",
   "metadata": {},
   "outputs": [
    {
     "output_type": "stream",
     "name": "stdout",
     "text": [
      "(3+4j)\nTrue\n"
     ]
    }
   ],
   "source": [
    "# Komplexe zahlen \n",
    "z = 3+4j # Reeler Anteil gleich 3 und imaginärer is 4\n",
    "print(z) # Ausgabe von z \n",
    "\n",
    "z2 = complex(3,4) # Alternative Art der Variablenerstellung\n",
    "print(z == z2) # Vergelich über Äquivalenz operator\n",
    "\n"
   ]
  },
  {
   "cell_type": "code",
   "execution_count": 10,
   "id": "f68dd287",
   "metadata": {},
   "outputs": [
    {
     "output_type": "stream",
     "name": "stdout",
     "text": [
      "5.0\n5.0\nTrue\n"
     ]
    }
   ],
   "source": [
    "import math # Funktionen für nicht reele Zahlen \n",
    "import cmath # Funktionen für complexe Zaheln \n",
    "\n",
    "# Funktionen für komplexe Zahlen \n",
    "z = 3+4j\n",
    "print(abs(z)) # Abs-Funktion is übergreifend\n",
    "import math\n",
    "def complex_abs(z): # Test zur übereinstimmung\n",
    "    result = math.sqrt( z.real**2 + z.imag**2) #  Schachtelung von sqrt() und pow() funktion\n",
    "    return result\n",
    "print(complex_abs(z))\n",
    "print(complex_abs(z) == abs(z))\n"
   ]
  },
  {
   "cell_type": "markdown",
   "id": "539dad7a",
   "metadata": {},
   "source": [
    "## Funtionen \n",
    "- Bisherige Funktionen: print(),abs(),type() und die gerade erstelle comlex_abs()\n",
    "- Funktionen enthalten Programmlogik \n",
    "- Beispiel sind Berechnungen oder Prozesse.\n",
    "- Funktionen können ein oder mehrere Eingaben haben,\n",
    "    - allerdings keine, nur eine oder mehrere Ausgaben haben.\n",
    "- print() ist eine Beispiel für eine Funktion mit mehreren Eingaben. \n",
    " "
   ]
  },
  {
   "cell_type": "code",
   "execution_count": 11,
   "id": "cb1df8c5",
   "metadata": {},
   "outputs": [
    {
     "output_type": "execute_result",
     "data": {
      "text/plain": [
       "4"
      ]
     },
     "metadata": {},
     "execution_count": 11
    }
   ],
   "source": [
    "# Beispiel einer Funktion f(x) = x * x \n",
    "\n",
    "def square(x): # Definieren einer Funktion mit Eingabe-Argument\n",
    "    result = x * x # Funktionslogik\n",
    "    return result # Ausgabe der Funktion\n",
    "x = 2 \n",
    "square(2)"
   ]
  },
  {
   "cell_type": "code",
   "execution_count": 12,
   "id": "cc27c213",
   "metadata": {},
   "outputs": [
    {
     "output_type": "stream",
     "name": "stdout",
     "text": [
      "16.0\n4.0\n"
     ]
    }
   ],
   "source": [
    "# Beispiel mit zwei Eingaben: f(x,n) = x^n \n",
    "import math\n",
    "def convert(x,n=2): # Standartwert für n ist 2\n",
    "    result = math.pow(x,n) # Verwenden einer bereits importierten Funktion\n",
    "    print(result) # Keine Funktionsausgabe sondern direkt.\n",
    "x,n = 2,4\n",
    "convert(x,n) # Üblich auch in anderen Programiersprachen\n",
    "convert(x) # Optionale Parameter durch Standartwert"
   ]
  },
  {
   "cell_type": "markdown",
   "id": "04b5d774",
   "metadata": {},
   "source": [
    "## String und Characters\n",
    "- Einzelne Buchstaben, Wörter oder Sätze sind String\n",
    "- Anders als in anderen Programmiersprachen gibt es den Datentypen Character nicht\n",
    "- ABER: Jeder String ist eine abfolge von aneinander gerreiten Buchstaben \n",
    "- Auf diese Buchstaben kann zugegriffen werden"
   ]
  },
  {
   "cell_type": "code",
   "execution_count": 13,
   "id": "162c9ee7",
   "metadata": {},
   "outputs": [
    {
     "output_type": "stream",
     "name": "stdout",
     "text": [
      "<class 'str'>\n<class 'str'>\n"
     ]
    }
   ],
   "source": [
    "# Beide Variablen sind Strings\n",
    "buchstabe = \"a\"\n",
    "wort = \"apfel\"\n",
    "\n",
    "type_wort = type(wort) # type() Funktion liefert den Datentyp\n",
    "type_buchstabe = type(buchstabe)\n",
    "print(type_wort)\n",
    "print(type_buchstabe)"
   ]
  },
  {
   "cell_type": "markdown",
   "id": "cf8ad4dd",
   "metadata": {},
   "source": [
    "## String Operatoren\n",
    "- String können durch Operatoren Manipuliert werden, beispielsweise\n",
    "    - können weiter Zeichen hinzugefügt oder wiederholt werden,\n",
    "    - Zeichen in einem String gesucht werden,\n",
    "    - Sonderzeichen und Zahlen hinzugefügt werden\n",
    "- Letzeres ist nötig um ein gültiger zu sein. "
   ]
  },
  {
   "cell_type": "code",
   "execution_count": 14,
   "id": "38ae122c",
   "metadata": {},
   "outputs": [
    {
     "output_type": "stream",
     "name": "stdout",
     "text": [
      "Äpfel oder 'Apples'\nÄpfel oder 'Apples'und Birnen oder 'pear'.\nÄpfel oder 'Apples'Äpfel oder 'Apples'\n"
     ]
    }
   ],
   "source": [
    "satz1 = \"Äpfel oder \\'Apples\\'\"\n",
    "satz2 = \"und Birnen oder \\'pear\\'.\"\n",
    "print(satz1) # Einfache Ausgabe\n",
    "print( satz1 + satz2 ) # Satz 2 an Satz 1 ausgehängt\n",
    "print(satz1*2) # Satz1 zwei mal "
   ]
  },
  {
   "cell_type": "code",
   "execution_count": 15,
   "id": "23bc3544",
   "metadata": {},
   "outputs": [
    {
     "output_type": "stream",
     "name": "stdout",
     "text": [
      "True\n"
     ]
    }
   ],
   "source": [
    "# Buchstabe und Wörter in Strings suchen \n",
    "satz = \"Äpfel und Birnen\"\n",
    "suchwort = \"Birne\"\n",
    "print( suchwort in satz) # \"in\" Operator für das suchen von String in String\n",
    "# Ausgabe ist Boolean True, d. h. das suchwort ist im Satz "
   ]
  },
  {
   "cell_type": "code",
   "execution_count": 16,
   "id": "1f1a6d89",
   "metadata": {},
   "outputs": [
    {
     "output_type": "stream",
     "name": "stdout",
     "text": [
      "Äpfel\n"
     ]
    }
   ],
   "source": [
    "# Zugriff auf einzelne Elemente im String\n",
    "\n",
    "satz = \"Äpfel und Birnen\"\n",
    "\n",
    "print(satz[0:5]) # [] Slice Operator,\n",
    "# d. h. Zugriff auf ein einzelnes Element \n",
    "# oder mehrere, mit 0 als erstes Element\n",
    "# Die Position eines Element ist sein Index\n",
    "# \":\" ist von index 0 bis index 5"
   ]
  },
  {
   "cell_type": "code",
   "execution_count": 17,
   "id": "f662f85d",
   "metadata": {},
   "outputs": [
    {
     "output_type": "stream",
     "name": "stdout",
     "text": [
      "Ä\nn\nÄpf\nnen\n"
     ]
    }
   ],
   "source": [
    "# Wichtige Slice Index Befehle\n",
    "satz = \"Äpfel und Birnen\"\n",
    "print(satz[0]) # Index 0: Erstes Element\n",
    "print(satz[-1]) # Index -1: Letzes Elemtn\n",
    "print(satz[0:3]) # Index 0 bis Index 3\n",
    "print(satz[-3:]) # Drittletzer Index bis Ende\n"
   ]
  },
  {
   "cell_type": "markdown",
   "id": "1df8ea1d",
   "metadata": {},
   "source": [
    "# String Funktionen\n",
    "- Neben Operatoren haben Strings auch Funktionen\n",
    "- Diese beinhalten komplexere Logik wie, z. B.\n",
    "- Ersetzen, Zeichen Zählen, Alles kleine oder große Symbole.\n",
    "\n",
    "\n",
    "\n"
   ]
  },
  {
   "cell_type": "code",
   "execution_count": 18,
   "id": "5c29d45a",
   "metadata": {},
   "outputs": [
    {
     "output_type": "stream",
     "name": "stdout",
     "text": [
      "Äpfel und Bananen\näpfel und bananen\n"
     ]
    }
   ],
   "source": [
    "satz = \"Äpfel und Birnen\"\n",
    "satz = satz.replace(\"Birnen\",\"Bananen\") \n",
    "#Suche den String Birnen und erstze mit Bananan\n",
    "print(satz)\n",
    "\n",
    "print(satz.lower()) # Alles klein "
   ]
  },
  {
   "cell_type": "markdown",
   "id": "4cb0d20d",
   "metadata": {},
   "source": [
    "## Booleans\n",
    "- Binärer Datentyp mit True oder Falsch\n",
    "- Meist genutz in Kontrollstrukturen"
   ]
  },
  {
   "cell_type": "code",
   "execution_count": 19,
   "id": "aa59a7f7",
   "metadata": {},
   "outputs": [
    {
     "output_type": "stream",
     "name": "stdout",
     "text": [
      "True False\n",
      "<class 'bool'> <class 'bool'>\n"
     ]
    }
   ],
   "source": [
    "a = True\n",
    "b = False\n",
    "print(a,b)\n",
    "print(type(a),type(b))"
   ]
  },
  {
   "cell_type": "code",
   "execution_count": 24,
   "id": "0acecee4",
   "metadata": {},
   "outputs": [
    {
     "name": "stdout",
     "output_type": "stream",
     "text": [
      "True\n",
      "False\n",
      "False\n",
      "True\n",
      "False\n",
      "True\n"
     ]
    }
   ],
   "source": [
    "# Operatoren auf Booleans folgen dem Prinzip Aussagenlogik \n",
    "a,b,c = True, False,True\n",
    "\n",
    "print(a or b) # OR Operator: Wahr, wenn a oder b wahr.\n",
    "print(a and b) # AND Operator: Wahr, wenn a und b wahr.\n",
    "print(a == b) # EQ Operator: Wahr, wenn a und b gleich.\n",
    "print(a != b) # NEQ Operator: Wahr, wenn a oder b ungleich.\n",
    "print(not a and b) # NOT Operator: Negiere Variable\n",
    "print((a and c ) or b) # Verschachtelung\n"
   ]
  },
  {
   "cell_type": "markdown",
   "id": "76e80a74",
   "metadata": {},
   "source": [
    "# Zusammenfassung \n",
    "- Sie können dieses Notebook mit jedem Jupyter Server ausführen.\n",
    "- Beispielsweise in Google Collab: https://colab.research.google.com/\n",
    "- Variablen speichern Informationen\n",
    "- Der Datentyp wird wenn nicht anders definiert impliziert zugewiesen. \n",
    "- Operatoen sind kürzel für einfache Befehle \n",
    "- Funktionen enthalten Programmlogik, die entweder vorhanden, importiert oder selst implementiert werden kann. "
   ]
  },
  {
   "cell_type": "markdown",
   "id": "66179856",
   "metadata": {},
   "source": [
    "## Quellen\n",
    "- https://docs.python.org/3/tutorial/introduction.html\n",
    "- https://docs.python.org/3/tutorial/controlflow.html#defining-functions \n",
    "- https://docs.python.org/3/library/stdtypes.html \n",
    "- https://docs.python.org/3/library/math.html  \n",
    "- https://docs.python.org/3/library/functions.html#complex \n",
    "\n",
    "## Weiterführendes\n",
    "- Import von Modulen: https://docs.python.org/3/reference/import.html\n",
    "- Math Modul: https://docs.python.org/3/library/math.html  \n",
    "- Eininge String Funktionen: https://www.educba.com/string-operators-in-python/"
   ]
  }
 ],
 "metadata": {
  "celltoolbar": "Slideshow",
  "interpreter": {
   "hash": "b0fa6594d8f4cbf19f97940f81e996739fb7646882a419484c72d19e05852a7e"
  },
  "kernelspec": {
   "name": "python3",
   "display_name": "Python 3.9.5 64-bit"
  },
  "language_info": {
   "codemirror_mode": {
    "name": "ipython",
    "version": 3
   },
   "file_extension": ".py",
   "mimetype": "text/x-python",
   "name": "python",
   "nbconvert_exporter": "python",
   "pygments_lexer": "ipython3",
   "version": "3.9.5"
  }
 },
 "nbformat": 4,
 "nbformat_minor": 5
}