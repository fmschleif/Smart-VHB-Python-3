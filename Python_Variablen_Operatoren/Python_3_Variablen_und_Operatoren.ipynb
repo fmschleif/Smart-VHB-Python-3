{
 "cells": [
  {
   "cell_type": "markdown",
   "metadata": {
    "slideshow": {
     "slide_type": "slide"
    }
   },
   "source": [
    "# Python 3 Variablen und Operatoren "
   ]
  },
  {
   "cell_type": "markdown",
   "metadata": {
    "slideshow": {
     "slide_type": "slide"
    }
   },
   "source": [
    "Diese Präsentation ist ein Jupyter Notebook. Mit Jupyter-Notebooks können gewöhnliche Präsentation-Slides und Code kombiniert dargestellt werden. Eine Code-Slide erkennen Sie an ```In [Zahl]:``` und ```Out[Zahl]:```. Dabei bezeichnet ```In``` den verwendeten Code und ```Out``` die Ausgabe dessen. Achten Sie auf ```#``` Symbole für weitere Informationen.\n"
   ]
  },
  {
   "cell_type": "markdown",
   "metadata":{"slideshow":{"slide_type":"slide"}},
   "source": [
    "## Kurzbeschreibung \n",
    "Variablen und Operatoren sind die einfachsten Datenstrukturen in der Python Programmiersprache. Damit sind sie das Grundkonstrukt der Programmiersprache und die einfachste Art Informationen zu speichern. Die Initialisierung unterscheidet sich von typisierten Programmiersprachen, da der Datentyp von Variablen implizit vom Compiler festgelegt wird.\n",
    "\n",
    "In dieser Lerneinheit lernen Sie die unterschiedlichen Variablen und Operatoren kennen sowie eine kurze Einführung in Imports, Funktionen und Strings."
   ]
  },
  {
   "cell_type": "markdown",
   "metadata": {
    "slideshow": {
     "slide_type": "slide"
    }
   },
   "source": [
    "\n",
    "## Lernziele\n",
    "- Die verschiedenen Variablentypen und Operatoren können benannt werden.\n",
    "- Zuweisung von Werten können durchgeführt werden.\n",
    "- Einfache Berechnungen können umgesetzt werden.\n",
    "- Im Kurs besprochene Manipulationen der Variablen ist anwendbar. \n",
    "- Funktionen können definiert und implementiert werden"
   ]
  },
  {
   "cell_type": "markdown",
   "metadata": {
    "slideshow": {
     "slide_type": "slide"
    }
   },
   "source": [
    "## Vorkenntnisse \n",
    "- Grundlagen in Mathematik \n",
    "- Keine weiteren Python Kenntnisse"
   ]
  },
  {
   "cell_type": "markdown",
   "metadata": {
    "slideshow": {
     "slide_type": "slide"
    }
   },
   "source": [
    "## Zielgruppe\n",
    "- Studierende in naturwissenschaftlichen Studiengängen\n",
    "- Studierende in Ingenieurstudiengängen \n",
    "- Studierende mit anderweitigem naturwissenschaftlichen/technischen Hintergrund\n",
    "- Studierende mit ersten Erfahrungen in anderen Programmiersprachen"
   ]
  },
  {
   "cell_type": "markdown",
   "metadata": {
    "slideshow": {
     "slide_type": "slide"
    }
   },
   "source": [
    "## Aufbau\n",
    "- Variablen\n",
    "- Operatoren \n",
    "- Import Statements\n",
    "- Irrationale Zahlen als Variablen\n",
    "- Funktionen\n",
    "- Strings "
   ]
  },
  {
   "cell_type": "markdown",
   "metadata": {
    "slideshow": {
     "slide_type": "slide"
    }
   },
   "source": [
    "## Variablen\n",
    "- Variablen speichern Informationen welche durch fest zugewiesene Namen wieder aufrufbar sind. \n",
    "- Diese Information kann beispielsweise sein:\n",
    "    - Zahlen\n",
    "    - Wörter, Buchstaben, Sätze\n",
    "    - Datum\n",
    "    - Wahr/Falsch-Ausdrücke\n",
    "    - Referenz auf eine andere Variable (Nicht behandelt)\n",
    "- Der Inhalt einer Variable entscheidet den (Daten)-Typ einer Variable. \n",
    "- Jede Variable besitzt einen eindeutigen Namen.\n",
    "- Es ist nicht möglich zwei Variablen mit gleichen Namen zu initialisieren."
   ]
  },
  {
   "cell_type": "markdown",
   "metadata": {
    "slideshow": {
     "slide_type": "slide"
    }
   },
   "source": [
    "## Grundsätzliches \n",
    "In der Sprache Python ist jede Zeile eine für sich eigenständige Codezeile. Das heißt jede geschriebene Linie wird als Code interpretiert und ausgeführt. \n",
    "Um mehrere Variablen zu initialisieren wird dementsprechend für jede Variable eine Zeile verwendet.  "
   ]
  },
  {
   "cell_type": "code",
   "execution_count": 1,
   "metadata": {
    "slideshow": {
     "slide_type": "slide"
    }
   },
   "outputs": [
    {
     "name": "stdout",
     "output_type": "stream",
     "text": [
      "5\n"
     ]
    },
    {
     "data": {
      "text/plain": [
       "5"
      ]
     },
     "execution_count": 1,
     "metadata": {
      "slideshow": {
       "slide_type": "slide"
      }
     },
     "output_type": "execute_result"
    }
   ],
   "source": [
    "# Jede Zeile enthält Code. Python wird zeilenweise Programmiert.\n",
    "# Das heißt jede Zeile ist ausführbar mit Ausnahme von Zeilen mit #.\n",
    "# Diese sind Kommentare und bieten weitere Informationen zum Programm.  \n",
    "x = 5  # Eine Code Zeile. Die Variable x mit Wert 5 wird initialisiert.\n",
    "print(x) # print() ist eine sogenannte Ausgabefunktion.\n",
    "x # Am Ende einer Zelle"
   ]
  },
  {
   "cell_type": "markdown",
   "metadata": {
    "slideshow": {
     "slide_type": "slide"
    }
   },
   "source": [
    "## Datentypen \n",
    "Jede Variable besitzt nach der Zuweisung einer Information einen Datentyp. Dieser Datentyp wird vom Compiler festgelegt. Der Typ bestimmt wie die Variable verwendet werden kann. "
   ]
  },
  {
   "cell_type": "code",
   "execution_count": 2,
   "metadata": {
    "slideshow": {
     "slide_type": "slide"
    }
   },
   "outputs": [],
   "source": [
    "# Beispiele von Variablen und deren Datentyp\n",
    "x = 5 # Integer\n",
    "buchstabe = \"c\" # String\n",
    "wort = \"Apfel\" # String\n",
    "satz = \"Das Wetter ist heute schön!\" # String\n",
    "wahr = True # Boolean Wahr\n",
    "falsch = False # Boolean Falsch"
   ]
  },
  {
   "cell_type": "code",
   "execution_count": 3,
   "metadata": {
    "slideshow": {
     "slide_type": "slide"
    }
   },
   "outputs": [
    {
     "name": "stdout",
     "output_type": "stream",
     "text": [
      "<class 'int'> <class 'float'>\n"
     ]
    }
   ],
   "source": [
    "# Nachweis von Datentypen der Variablen\n",
    "x = 5 \n",
    "y = 3.4 # Wir initialisieren zwei Variablen.\n",
    "type_x = type(x) # type() Funktion liefert den Datentyp\n",
    "type_y = type(y) \n",
    "print(type_x,type_y) # Funktionen können\n",
    "# geschachtelt werden. "
   ]
  },
  {
   "cell_type": "markdown",
   "metadata": {
    "slideshow": {
     "slide_type": "slide"
    }
   },
   "source": [
    "## Shortcuts\n",
    "Anders als in anderen Programmiersprachen können in Python mehrere Variablen gleichzeitig initialisiert werden. "
   ]
  },
  {
   "cell_type": "code",
   "execution_count": 4,
   "metadata": {
    "slideshow": {
     "slide_type": "slide"
    }
   },
   "outputs": [
    {
     "name": "stdout",
     "output_type": "stream",
     "text": [
      "3 4\n",
      "2 2\n"
     ]
    }
   ],
   "source": [
    "# Shortcuts \n",
    "a,b = 3,4 # Unterschiedliche Werte für zwei Variablen\n",
    "print(a,b)\n",
    "a = b = 2 # Alle haben den Wert 2 \n",
    "print(a,b)"
   ]
  },
  {
   "cell_type": "code",
   "execution_count": 5,
   "metadata": {
    "slideshow": {
     "slide_type": "slide"
    }
   },
   "outputs": [
    {
     "name": "stdout",
     "output_type": "stream",
     "text": [
      "1.3 16000000000.0 1e-10\n"
     ]
    }
   ],
   "source": [
    "# Darstellung von Floats\n",
    "x = 1.3 \n",
    "y = 1.6e10 # 1.6^10\n",
    "z = 1.0e-10 # 0.1\n",
    "print(x,y,z)"
   ]
  },
  {
   "cell_type": "markdown",
   "metadata": {
    "slideshow": {
     "slide_type": "slide"
    }
   },
   "source": [
    "## Operatoren für Zahlen\n",
    "- Durch Operatoren können die Informationen der Variablen bearbeitet werden.\n",
    "- Fast alle mathematischen Operatoren sind standartmäßig in Python vorhanden.\n"
   ]
  },
  {
   "cell_type": "code",
   "execution_count": 6,
   "metadata": {
    "slideshow": {
     "slide_type": "slide"
    }
   },
   "outputs": [
    {
     "name": "stdout",
     "output_type": "stream",
     "text": [
      "11\n",
      "-5\n",
      "3\n",
      "6561\n",
      "0.375\n"
     ]
    }
   ],
   "source": [
    " a,b = 3, 8\n",
    " c = a + b # Plus operation\n",
    " print(c) \n",
    " print( a - b) # Minus \n",
    " print( a % b) # Modulo Operator\n",
    " print( a**b) # a hoch b \n",
    " print( a / b) # a geteilt durch b"
   ]
  },
  {
   "cell_type": "markdown",
   "metadata": {
    "slideshow": {
     "slide_type": "slide"
    }
   },
   "source": [
    "## Imports\n",
    "Ein standard Python-Programm bietet nur eine sehr begrenzte Auswahl an Funktionen und Operatoren an. Beispielsweise die print() Funktion. Durch das importieren von zusätzlichen Modulen lässt sich der Funktionsumfang erweitern und zusätzliche Variablen einführen. Ein Modul bezeichnet eine selbständige Python-Datei (.py), die Variablen, Operatoren und Funktionen definiert. "
   ]
  },
  {
   "cell_type": "code",
   "execution_count": 7,
   "metadata": {
    "slideshow": {
     "slide_type": "slide"
    }
   },
   "outputs": [
    {
     "name": "stdout",
     "output_type": "stream",
     "text": [
      "3.141592653589793\n"
     ]
    }
   ],
   "source": [
    "import math # \n",
    "print(math.pi) # Gibt die Zahl Pi aus die wir durch \n",
    "# den Import vom Modul Math unserem Programm verfügbar machen."
   ]
  },
  {
   "cell_type": "markdown",
   "metadata": {
    "slideshow": {
     "slide_type": "slide"
    }
   },
   "source": [
    "## Irrationalle Zahlen\n",
    "- Irrationalle Zahlen stehen nicht regulär zur Verfügung.\n",
    "- Um diese nutzen zu können müssen wir Sie in das Programm importieren.\n",
    "- Das Modul \"math\" bietet eine Vielzahl von mathematischen Funktionen und Ausdrücken\n",
    "- Durch das \"import\" Statement können zusätzliche Funktionen und Variablen in den Progamm-Code importiert werden  "
   ]
  },
  {
   "cell_type": "code",
   "execution_count": 8,
   "metadata": {
    "slideshow": {
     "slide_type": "slide"
    }
   },
   "outputs": [
    {
     "name": "stdout",
     "output_type": "stream",
     "text": [
      "3.141592653589793\n",
      "5\n",
      "0.479425538604203\n"
     ]
    }
   ],
   "source": [
    "import math \n",
    "# Importieren von mathematischen Funktionen in das Program\n",
    "# Ab jetzt können Sie \"math\" benutzen \n",
    "\n",
    "pi = math.pi # Variable mit irrationaler Zahl\n",
    "print(pi) # Ausgabe \n",
    "neg = -5 # Negativer Integer\n",
    "pos = abs(neg) # Absoluter Wert der Variable \n",
    "print(pos)\n",
    "print(math.sin(0.5)) # Sinusfunktion an der Stelle 0.5"
   ]
  },
  {
   "cell_type": "code",
   "execution_count": 9,
   "metadata": {
    "slideshow": {
     "slide_type": "slide"
    }
   },
   "outputs": [
    {
     "name": "stdout",
     "output_type": "stream",
     "text": [
      "(3+4j)\n",
      "True\n"
     ]
    }
   ],
   "source": [
    "# Komplexe Zahlen \n",
    "z = 3+4j # Reeller Anteil gleich 3 und imaginärer is 4\n",
    "print(z) # Ausgabe von z \n",
    "\n",
    "z2 = complex(3,4) # Alternative Art der Variablenerstellung\n",
    "print(z == z2) # Vergleich über Äquivalenz operator"
   ]
  },
  {
   "cell_type": "code",
   "execution_count": 10,
   "metadata": {
    "slideshow": {
     "slide_type": "slide"
    }
   },
   "outputs": [
    {
     "name": "stdout",
     "output_type": "stream",
     "text": [
      "5.0\n",
      "5.0\n",
      "True\n"
     ]
    }
   ],
   "source": [
    "import math # Funktionen für nicht reelle Zahlen\n",
    "import cmath # Funktionen für komplexe Zahlen\n",
    "\n",
    "# Funktionen für komplexe Zahlen\n",
    "z = 3+4j\n",
    "print(abs(z)) # Abs-Funktion ist übergreifend\n",
    "def complex_abs(z): # Test zur übereinstimmung\n",
    "    # Eigene Implementierung von einer Funktion\n",
    "    result = math.sqrt( z.real**2 + z.imag**2) \n",
    "    #  Schachtelung von sqrt()-Funktion und ** Operator\n",
    "    return result\n",
    "print(complex_abs(z))\n",
    "print(complex_abs(z) == abs(z))\n"
   ]
  },
  {
   "cell_type": "markdown",
   "metadata": {
    "slideshow": {
     "slide_type": "slide"
    }
   },
   "source": [
    "## Funtionen \n",
    "- Bisherige Funktionen: print(),abs(),type() und die gerade erstelle comlex_abs()\n",
    "- Funktionen enthalten Programmlogik.\n",
    "- Beispiel sind Berechnungen oder Prozesse.\n",
    "- Funktionen können ein oder mehrere Eingaben haben.\n",
    "    - Dabei können diese optional oder erforderlich sein.\n",
    "- Funktionen können eine oder mehrere Ausgaben haben.\n",
    "    - Diese sind allerdings bei Implementierung festzulegen.\n",
    "- print() ist eine Beispiel für eine Funktion mit mehreren Eingaben. \n",
    " "
   ]
  },
  {
   "cell_type": "code",
   "execution_count": 11,
   "metadata": {
    "slideshow": {
     "slide_type": "slide"
    }
   },
   "outputs": [
    {
     "data": {
      "text/plain": [
       "4"
      ]
     },
     "execution_count": 11,
     "metadata": {
      "slideshow": {
       "slide_type": "slide"
      }
     },
     "output_type": "execute_result"
    }
   ],
   "source": [
    "# Beispiel einer Funktion f(x) = x * x \n",
    "\n",
    "def square(x): # Definieren einer Funktion mit Eingabe-Argument\n",
    "    # Name beliebig\n",
    "    result = x * x # Funktionslogik\n",
    "    return result # Ausgabe der Funktion\n",
    "x = 2 \n",
    "square(2)"
   ]
  },
  {
   "cell_type": "code",
   "execution_count": 12,
   "metadata": {
    "slideshow": {
     "slide_type": "slide"
    }
   },
   "outputs": [
    {
     "name": "stdout",
     "output_type": "stream",
     "text": [
      "16.0\n",
      "4.0\n"
     ]
    }
   ],
   "source": [
    "# Beispiel mit zwei Eingaben: f(x,n) = x^n \n",
    "import math\n",
    "def convert(x,n=2): # Standartwert für n ist 2\n",
    "    result = math.pow(x,n) # Verwenden einer bereits importierten Funktion\n",
    "    print(result) # Keine Funktionsausgabe sondern \n",
    "                  # endet mit einer Print-Funktion.\n",
    "x,n = 2,4\n",
    "convert(x,n) # Üblich auch in anderen Programmiersprachen\n",
    "convert(x) # Optionale Parameter durch Standartwert"
   ]
  },
  {
   "cell_type": "markdown",
   "metadata": {
    "slideshow": {
     "slide_type": "slide"
    }
   },
   "source": [
    "## String und Characters\n",
    "- Einzelne Buchstaben, Wörter oder Sätze sind Strings.\n",
    "- Anders als in anderen Programmiersprachen gibt es den Datentypen Character nicht.\n",
    "- ABER: Jeder String ist eine abfolge von aneinandergereihten Buchstaben. \n",
    "- Auf diese Buchstaben kann zugegriffen werden."
   ]
  },
  {
   "cell_type": "code",
   "execution_count": 13,
   "metadata": {
    "slideshow": {
     "slide_type": "slide"
    }
   },
   "outputs": [
    {
     "name": "stdout",
     "output_type": "stream",
     "text": [
      "<class 'str'>\n",
      "<class 'str'>\n"
     ]
    }
   ],
   "source": [
    "# Beide Variablen sind Strings\n",
    "buchstabe = \"a\"\n",
    "wort = \"apfel\"\n",
    "\n",
    "type_wort = type(wort) # type() Funktion liefert den Datentyp\n",
    "type_buchstabe = type(buchstabe)\n",
    "print(type_wort)\n",
    "print(type_buchstabe)"
   ]
  },
  {
   "cell_type": "markdown",
   "metadata": {
    "slideshow": {
     "slide_type": "slide"
    }
   },
   "source": [
    "## String Operatoren\n",
    "- String können durch Operatoren Manipuliert werden, beispielsweise\n",
    "    - können weiter Zeichen hinzugefügt oder wiederholt werden,\n",
    "    - Zeichen in einem String gesucht werden,\n",
    "    - Sonderzeichen und Zahlen hinzugefügt werden\n",
    "- Sonderzeichen müssen encoded werden, um innerhalb eines String eingesetzt zu werden.\n",
    "    - Dies ist notwendig da Sonderzeichen, wie beispielsweise % Programmlogik kapseln\n",
    "    - Um diese Logik nicht auszuführen sonder das Zeichen als solches zu verwenden, muss es daher encoded werden. "
   ]
  },
  {
   "cell_type": "code",
   "execution_count": 14,
   "metadata": {
    "slideshow": {
     "slide_type": "slide"
    }
   },
   "outputs": [
    {
     "name": "stdout",
     "output_type": "stream",
     "text": [
      "Äpfel oder 'Apples'\n",
      "Äpfel oder 'Apples'und Birnen oder 'pear'.\n",
      "Äpfel oder 'Apples'Äpfel oder 'Apples'\n"
     ]
    }
   ],
   "source": [
    "satz1 = \"Äpfel oder \\'Apples\\'\"\n",
    "satz2 = \"und Birnen oder \\'pear\\'.\"\n",
    "print(satz1) # Einfache Ausgabe\n",
    "print( satz1 + satz2 ) # Satz 2 an Satz 1 ausgehängt\n",
    "print(satz1*2) # Satz1 zwei mal "
   ]
  },
  {
   "cell_type": "code",
   "execution_count": 15,
   "metadata": {
    "slideshow": {
     "slide_type": "slide"
    }
   },
   "outputs": [
    {
     "name": "stdout",
     "output_type": "stream",
     "text": [
      "True\n"
     ]
    }
   ],
   "source": [
    "# Buchstabe und Wörter in Strings suchen \n",
    "satz = \"Äpfel und Birnen\"\n",
    "suchwort = \"Birne\"\n",
    "print( suchwort in satz) # \"in\" Operator für das suchen von String in String\n",
    "# Ausgabe ist Boolean True, d. h. das suchwort ist im Satz "
   ]
  },
  {
   "cell_type": "code",
   "execution_count": 16,
   "metadata": {
    "slideshow": {
     "slide_type": "slide"
    }
   },
   "outputs": [
    {
     "name": "stdout",
     "output_type": "stream",
     "text": [
      "Äpfel\n"
     ]
    }
   ],
   "source": [
    "# Zugriff auf einzelne Elemente im String\n",
    "\n",
    "satz = \"Äpfel und Birnen\"\n",
    "\n",
    "print(satz[0:5]) # [] Slice Operator,\n",
    "# d. h. Zugriff auf ein einzelnes Element \n",
    "# oder mehrere, mit 0 als erstes Element\n",
    "# Die Position eines Element ist sein Index\n",
    "# \":\" ist von index 0 bis index 5"
   ]
  },
  {
   "cell_type": "code",
   "execution_count": 17,
   "metadata": {
    "slideshow": {
     "slide_type": "slide"
    }
   },
   "outputs": [
    {
     "name": "stdout",
     "output_type": "stream",
     "text": [
      "Ä\n",
      "n\n",
      "Äpf\n",
      "nen\n"
     ]
    }
   ],
   "source": [
    "# Wichtige Slice Index Befehle\n",
    "satz = \"Äpfel und Birnen\"\n",
    "print(satz[0]) # Index 0: Erstes Element\n",
    "print(satz[-1]) # Index -1: Letzes Elemtn\n",
    "print(satz[0:3]) # Index 0 bis Index 3\n",
    "print(satz[-3:]) # Drittletzer Index bis Ende\n"
   ]
  },
  {
   "cell_type": "markdown",
   "metadata": {
    "slideshow": {
     "slide_type": "slide"
    }
   },
   "source": [
    "## String Funktionen\n",
    "- Neben Operatoren haben Strings auch Funktionen.\n",
    "- Diese beinhalten komplexere Logik wie, z. B.:\n",
    "- Ersetzen, Zeichen Zählen, Alles kleine oder große Symbole.\n",
    "\n",
    "\n",
    "\n"
   ]
  },
  {
   "cell_type": "code",
   "execution_count": 18,
   "metadata": {
    "slideshow": {
     "slide_type": "slide"
    }
   },
   "outputs": [
    {
     "name": "stdout",
     "output_type": "stream",
     "text": [
      "Äpfel und Bananen\n",
      "äpfel und bananen\n"
     ]
    }
   ],
   "source": [
    "satz = \"Äpfel und Birnen\"\n",
    "satz = satz.replace(\"Birnen\",\"Bananen\") \n",
    "#Suche den String Birnen und erstze mit Bananan\n",
    "print(satz)\n",
    "\n",
    "print(satz.lower()) # Alles klein "
   ]
  },
  {
   "cell_type": "markdown",
   "metadata": {
    "slideshow": {
     "slide_type": "slide"
    }
   },
   "source": [
    "## Booleans\n",
    "- Binärer Datentyp mit True oder Falsch\n",
    "- Meist genutzt in Kontrollstrukturen"
   ]
  },
  {
   "cell_type": "code",
   "execution_count": 19,
   "metadata": {
    "slideshow": {
     "slide_type": "slide"
    }
   },
   "outputs": [
    {
     "name": "stdout",
     "output_type": "stream",
     "text": [
      "True False\n",
      "<class 'bool'> <class 'bool'>\n"
     ]
    }
   ],
   "source": [
    "a = True\n",
    "b = False\n",
    "print(a,b)\n",
    "print(type(a),type(b))"
   ]
  },
  {
   "cell_type": "code",
   "execution_count": 20,
   "metadata": {
    "slideshow": {
     "slide_type": "slide"
    }
   },
   "outputs": [
    {
     "name": "stdout",
     "output_type": "stream",
     "text": [
      "True\n",
      "False\n",
      "False\n",
      "True\n",
      "False\n",
      "True\n"
     ]
    }
   ],
   "source": [
    "# Operatoren auf Booleans folgen dem Prinzip der Aussagenlogik \n",
    "a,b,c = True, False,True\n",
    "\n",
    "print(a or b) # OR Operator: Wahr, wenn a oder b wahr.\n",
    "print(a and b) # AND Operator: Wahr, wenn a und b wahr.\n",
    "print(a == b) # EQ Operator: Wahr, wenn a und b gleich.\n",
    "print(a != b) # NEQ Operator: Wahr, wenn a oder b ungleich.\n",
    "print(not a and b) # NOT Operator: Negiere Variable\n",
    "print((a and c ) or b) # Verbschachtelung\n"
   ]
  },
  {
   "cell_type": "code",
   "execution_count": 24,
   "metadata": {
    "slideshow": {
     "slide_type": "slide"
    }
   },
   "outputs": [
    {
     "data": {
      "text/html": [
       "<script>var code_show=!1;function code_toggle(){var e,d;code_show?(null!=(e=document.getElementsByClassName(\"jp-CodeMirrorEditor jp-Editor jp-InputArea-editor\")[20])&&(e.style.display=\"\"),null!=(d=document.querySelector(\"div.cell.code_cell.rendered.selected div.input\"))&&(d.style.display=\"\")):(null!=(e=document.getElementsByClassName(\"jp-CodeMirrorEditor jp-Editor jp-InputArea-editor\")[20])&&(e.style.display=\"none\"),null!=(d=document.querySelector(\"div.cell.code_cell.rendered.selected div.input\"))&&(d.style.display=\"none\"));code_show=!code_show}code_toggle();</script>Zum Anzeigen des verwendeten Javascript klicken Sie <a onClick=\"code_toggle(); return false;\" >hier</a>.<center><h1>Single Choice Fragen</h1></center><p><form name=\"quiz\"><p><b>Frage 1.<br>Welche der folgenden Aussagen stimmt über Funktionen?<br></b><blockquote><input type=\"radio\" name=\"q1\" value=\"first\">Funktionen können mehrere Eingaben und Ausgaben haben.<br><input type=\"radio\" name=\"q1\" value=\"second\">Funktionen können eine Ein- und Ausgabe haben.<br><input type=\"radio\" name=\"q1\" value=\"third\">Funktionen können eine Eingaben und optionale Ausgaben haben.<br></blockquote><p><b><hr>Frage 2.<br>Welcher Befehl erlaubt das Zugreifen auf die letzten fünf Zeichen von einer Stringvariable genannt \"satz\" ?<br></b><blockquote><input type=\"radio\" name=\"q2\" value=\"first\">satz[-5:]<br><input type=\"radio\" name=\"q2\" value=\"second\">satz[5:]<br><input type=\"radio\" name=\"q2\" value=\"thrid\">satz.get(5}<br></blockquote><p><b><hr><input type=\"button\"value=\"Einreichen\"onClick=\"getScore(this.form);\"><input type=\"reset\" value=\"Auswahl löschen\"><p>Von 2 Fragen sind richtig: <input type=text size 15 name=\"mark\"> Genauigkeit=<input type=text size=15 name=\"percentage\"><br></form><p><form method=\"post\" name=\"Form\" onsubmit=\"\" action=\"\"></form></body><script>var numQues=2;var numChoi=3;var answers=new Array(numQues);answers[0]=\"first\";answers[1]=\"first\";function getScore(form){var score=0;var currElt;var currSelection;for (i=0; i<numQues; i++){currElt=i*numChoi;answered=false;for (j=0; j<numChoi; j++){currSelection=form.elements[currElt + j];if (currSelection.checked){answered=true;if (currSelection.value==answers[i]){score++;break;}}}if (answered===false){alert(\"Bitte alle Fragen beantworten!\") ;return false;}}var scoreper=Math.round(score/numQues*100);form.percentage.value=scoreper + \"%\";form.mark.value=score;}</script>\n"
      ],
      "text/plain": [
       "<IPython.core.display.HTML object>"
      ]
     },
     "metadata": {
      "slideshow": {
       "slide_type": "slide"
      }
     },
     "output_type": "display_data"
    }
   ],
   "source": [
    "%%html\n",
    "<script>var code_show=!1;function code_toggle(){var e,d;code_show?(null!=(e=document.getElementsByClassName(\"jp-CodeMirrorEditor jp-Editor jp-InputArea-editor\")[20])&&(e.style.display=\"\"),null!=(d=document.querySelector(\"div.cell.code_cell.rendered.selected div.input\"))&&(d.style.display=\"\")):(null!=(e=document.getElementsByClassName(\"jp-CodeMirrorEditor jp-Editor jp-InputArea-editor\")[20])&&(e.style.display=\"none\"),null!=(d=document.querySelector(\"div.cell.code_cell.rendered.selected div.input\"))&&(d.style.display=\"none\"));code_show=!code_show}code_toggle();</script>Zum Anzeigen des verwendeten Javascript klicken Sie <a onClick=\"code_toggle(); return false;\" >hier</a>.<center><h1>Single Choice Fragen</h1></center><p><form name=\"quiz\"><p><b>Frage 1.<br>Welche der folgenden Aussagen stimmt über Funktionen?<br></b><blockquote><input type=\"radio\" name=\"q1\" value=\"first\">Funktionen können mehrere Eingaben und Ausgaben haben.<br><input type=\"radio\" name=\"q1\" value=\"second\">Funktionen können eine Ein- und Ausgabe haben.<br><input type=\"radio\" name=\"q1\" value=\"third\">Funktionen können eine Eingaben und optionale Ausgaben haben.<br></blockquote><p><b><hr>Frage 2.<br>Welcher Befehl erlaubt das Zugreifen auf die letzten fünf Zeichen von einer Stringvariable genannt \"satz\" ?<br></b><blockquote><input type=\"radio\" name=\"q2\" value=\"first\">satz[-5:]<br><input type=\"radio\" name=\"q2\" value=\"second\">satz[5:]<br><input type=\"radio\" name=\"q2\" value=\"thrid\">satz.get(5}<br></blockquote><p><b><hr><input type=\"button\"value=\"Einreichen\"onClick=\"getScore(this.form);\"><input type=\"reset\" value=\"Auswahl löschen\"><p>Von 2 Fragen sind richtig: <input type=text size 15 name=\"mark\"> Genauigkeit=<input type=text size=15 name=\"percentage\"><br></form><p><form method=\"post\" name=\"Form\" onsubmit=\"\" action=\"\"></form></body><script>var numQues=2;var numChoi=3;var answers=new Array(numQues);answers[0]=\"first\";answers[1]=\"first\";function getScore(form){var score=0;var currElt;var currSelection;for (i=0; i<numQues; i++){currElt=i*numChoi;answered=false;for (j=0; j<numChoi; j++){currSelection=form.elements[currElt + j];if (currSelection.checked){answered=true;if (currSelection.value==answers[i]){score++;break;}}}if (answered===false){alert(\"Bitte alle Fragen beantworten!\") ;return false;}}var scoreper=Math.round(score/numQues*100);form.percentage.value=scoreper + \"%\";form.mark.value=score;}</script>"
   ]
  },
  {
   "cell_type": "markdown",
   "metadata": {
    "slideshow": {
     "slide_type": "slide"
    }
   },
   "source": [
    "# Zusammenfassung \n",
    "- Variablen speichern Informationen\n",
    "- Der Datentyp wird wenn nicht anders definiert impliziert zugewiesen. \n",
    "- Operatoren sind Kürzel für einfache Befehle.\n",
    "- Mit dem Import Statement wird das Programm durch ein Modul erweitert. \n",
    "- Funktionen enthalten Programmlogik, die entweder vorhanden, importiert oder selst implementiert werden kann. "
   ]
  },
  {
   "cell_type": "markdown",
   "metadata": {
    "slideshow": {
     "slide_type": "slide"
    }
   },
   "source": [
    "## Quellen und Weiterführendes\n",
    "- https://docs.python.org/3/tutorial/introduction.html\n",
    "- https://docs.python.org/3/tutorial/controlflow.html#defining-functions \n",
    "- https://docs.python.org/3/library/stdtypes.html \n",
    "- https://docs.python.org/3/library/math.html  \n",
    "- https://docs.python.org/3/library/functions.html#complex \n",
    "- https://docs.python.org/3/reference/import.html\n",
    "-https://www.educba.com/string-operators-in-python/\n"
   ]
  }
 ],
 "metadata": {
  "celltoolbar": "Slideshow",
  "interpreter": {
   "hash": "b73d1a4536618e175e90ff685b834bc4473c0d15eefc412f5790ee72ebe09a54"
  },
  "kernelspec": {
   "display_name": "Python 3.7.11 64-bit ('thesis': conda)",
   "name": "python3"
  },
  "language_info": {
   "codemirror_mode": {
    "name": "ipython",
    "version": 3
   },
   "file_extension": ".py",
   "mimetype": "text/x-python",
   "name": "python",
   "nbconvert_exporter": "python",
   "pygments_lexer": "ipython3",
   "version": "3.7.11"
  }
 },
 "nbformat": 4,
 "nbformat_minor": 5
}
