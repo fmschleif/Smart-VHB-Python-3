{
 "cells": [
  {
   "source": [
    "# Übungen Python 3 Variablen und Operatoren \n",
    "\n",
    "Diese Präsentation ist ein Jupyter Notebook. \n",
    "- Achten Sie auf $\\#$ Symbole für weitere Informationen.\n",
    "- https://alldocs.app/convert-html-to-jupyter-notebook\n",
    "- Sie können dieses Notebook mit jedem Jupyter Server ausführen.\n",
    "- Beispielsweise in Google Collab: https://colab.research.google.com/"
   ],
   "cell_type": "markdown",
   "metadata": {}
  },
  {
   "source": [
    "# Aufgabe 1: Operatoren berechnung\n",
    "- Initialisieren Sie eine Variable die das Produkt aus zwei bereits definierten Variablen ist.\n",
    "- Schreiben Sie einen korrekten Satz aus bereits definierten Wörtern"
   ],
   "cell_type": "markdown",
   "metadata": {}
  },
  {
   "cell_type": "code",
   "execution_count": null,
   "metadata": {},
   "outputs": [],
   "source": [
    "# Ihre Lösung"
   ]
  },
  {
   "source": [
    "# Aufgabe 2: Implementierung Mathe-Funktion\n",
    "- Schreiben Sie eine Funktion die zwei Argumente erwartet.\n",
    "- Berechnen Sie die Wurzel aus dem ersten Argument\n",
    "- Das zweite Argument ist der Grad der Wurzel. \n",
    "- Geben Sie das Ergebnis _zurück_.\n",
    "- Schreiben Sie ein Beispiel um die korrekte Funktion zu testen. \n",
    "- (Tipp: Sie müssen das Math Package importieren)\n",
    "\n"
   ],
   "cell_type": "markdown",
   "metadata": {}
  },
  {
   "cell_type": "code",
   "execution_count": null,
   "metadata": {},
   "outputs": [],
   "source": [
    "# Ihre Lösung\n"
   ]
  },
  {
   "source": [
    "# Aufgabe 3: String Manipulation\n",
    "- Schreiben Sie eine Funktion mit drei Argumenten: sentence, search und replace \n",
    "- Die Funktion ersetzt den String search mit den replace string \n",
    "- Geben Sie das Ergebnis zurück sowie das Ergebnis mit Großbuchstaben\n"
   ],
   "cell_type": "markdown",
   "metadata": {}
  },
  {
   "cell_type": "code",
   "execution_count": null,
   "metadata": {},
   "outputs": [],
   "source": [
    "# Ihre Lösung\n"
   ]
  }
 ],
 "metadata": {
  "kernelspec": {
   "display_name": "Python 3",
   "language": "python",
   "name": "python3"
  },
  "language_info": {
   "codemirror_mode": {
    "name": "ipython",
    "version": 3
   },
   "file_extension": ".py",
   "mimetype": "text/x-python",
   "name": "python",
   "nbconvert_exporter": "python",
   "pygments_lexer": "ipython3",
   "version": "3.8.5"
  }
 },
 "nbformat": 4,
 "nbformat_minor": 5
}