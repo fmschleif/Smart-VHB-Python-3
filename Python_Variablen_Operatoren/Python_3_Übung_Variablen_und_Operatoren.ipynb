{
 "cells": [
  {
   "cell_type": "markdown",
   "source": [
    "# Übungen Python 3 Variablen und Operatoren "
   ],
   "metadata":{"slideshow":{"slide_type":"slide"}}
  },
  {
   "cell_type": "markdown",
   "source": [
    "Diese Präsentation ist ein Jupyter Notebook. Mit Jupyter-Notebooks können gewöhnliche Präsentation-Slides und Code kombiniert dargestellt werden. Eine Code-Slide erkennen Sie an ```In [Zahl]:``` und ```Out[Zahl]:```. Dabei bezeichnet ```In``` den verwendeten Code und ```Out``` die Ausgabe dessen. Achten Sie auf ```#``` Symbole für weitere Informationen."
   ],
   "metadata":{"slideshow":{"slide_type":"slide"}}
  },
  {
   "cell_type": "markdown",
   "source": [
    "# Aufgabe 1: Operatoren berechnung\n",
    "- Initialisieren Sie eine Variable die das Produkt aus zwei bereits definierten Variablen ist.\n",
    "- Schreiben Sie einen korrekten Satz aus bereits definierten Wörtern"
   ],
   "metadata":{"slideshow":{"slide_type":"slide"}}
  },
  {
   "cell_type": "code",
   "execution_count": 1,
   "source": [
    "# Ihre Lösung"
   ],
   "outputs": [],
   "metadata":{"slideshow":{"slide_type":"slide"}}
  },
  {
   "cell_type": "code",
   "execution_count": 2,
   "source": [
    "# Unsere Lösung\n",
    "x,y = 3,4\n",
    "z = x*y\n",
    "print(x)\n",
    "\n",
    "a,b,c = \"Eine \", \"Code \", \"Zeile.\"\n",
    "d = a + b +c \n",
    "print(d)"
   ],
   "outputs": [
    {
     "output_type": "stream",
     "name": "stdout",
     "text": [
      "3\n",
      "Eine Code Zeile.\n"
     ]
    }
   ],
   "metadata":{"slideshow":{"slide_type":"slide"}}
  },
  {
   "cell_type": "markdown",
   "source": [
    "# Aufgabe 2: Implementierung Mathe-Funktion\n",
    "- Schreiben Sie eine Funktion die zwei Argumente erwartet.\n",
    "- Berechnen Sie die Wurzel aus dem ersten Argument\n",
    "- Das zweite Argument ist der Grad der Wurzel. \n",
    "- Geben Sie das Ergebnis _zurück_.\n",
    "- Schreiben Sie ein Beispiel um die korrekte Funktion zu testen. \n",
    "\n"
   ],
   "metadata":{"slideshow":{"slide_type":"slide"}}
  },
  {
   "cell_type": "code",
   "execution_count": 3,
   "source": [
    "# Ihre Lösung\n"
   ],
   "outputs": [],
   "metadata":{"slideshow":{"slide_type":"slide"}}
  },
  {
   "cell_type": "code",
   "execution_count": 4,
   "source": [
    "# Unsere Lösung \n",
    "def nth_sqrt(a,b):\n",
    "    a_nsqrt = a**(1/b)\n",
    "    return a_nsqrt\n",
    "\n",
    "x = 64\n",
    "y = 3\n",
    "answer = nth_sqrt(x,y)\n",
    "print(answer) # Fast viert ist auch eine valide Lösung aufgrund von Ungenauigkeiten"
   ],
   "outputs": [
    {
     "output_type": "stream",
     "name": "stdout",
     "text": [
      "3.9999999999999996\n"
     ]
    }
   ],
   "metadata":{"slideshow":{"slide_type":"slide"}}
  },
  {
   "cell_type": "markdown",
   "source": [
    "# Aufgabe 3: String Manipulation\n",
    "- Schreiben Sie eine Funktion mit drei Argumenten: sentence, search und replace \n",
    "- Die Funktion ersetzt den String search mit den replace string \n",
    "- Geben Sie das Ergebnis zurück sowie das Ergebnis mit Großbuchstaben\n"
   ],
   "metadata":{"slideshow":{"slide_type":"slide"}}
  },
  {
   "cell_type": "code",
   "execution_count": 5,
   "source": [
    "# Ihre Lösung"
   ],
   "outputs": [],
   "metadata":{"slideshow":{"slide_type":"slide"}}
  },
  {
   "cell_type": "code",
   "execution_count": 6,
   "source": [
    "# Unser Lösung\n",
    "\n",
    "def search_replace(sentence,search,replace):\n",
    "    return sentence.replace(search,replace)\n",
    "\n",
    "sents  = \"Dieser Satz muss ersetzt werden\"\n",
    "search = \"muss\"\n",
    "replace = \"soll\"\n",
    "replaced_sents = search_replace(sents,search,replace)\n",
    "print(replaced_sents)\n"
   ],
   "outputs": [
    {
     "output_type": "stream",
     "name": "stdout",
     "text": [
      "Dieser Satz soll ersetzt werden\n"
     ]
    }
   ],
   "metadata":{"slideshow":{"slide_type":"slide"}}
  }
 ],
 "metadata": {
  "kernelspec": {
   "name": "python3",
   "display_name": "Python 3.7.11 64-bit ('thesis': conda)"
  },
  "language_info": {
   "codemirror_mode": {
    "name": "ipython",
    "version": 3
   },
   "file_extension": ".py",
   "mimetype": "text/x-python",
   "name": "python",
   "nbconvert_exporter": "python",
   "pygments_lexer": "ipython3",
   "version": "3.7.11"
  },
  "interpreter": {
   "hash": "e16839f294d4c0c3a950d69e469040cf54ee0fe2b9ac54c836cd69dce56f946f"
  }
 },
 "nbformat": 4,
 "nbformat_minor": 5
}