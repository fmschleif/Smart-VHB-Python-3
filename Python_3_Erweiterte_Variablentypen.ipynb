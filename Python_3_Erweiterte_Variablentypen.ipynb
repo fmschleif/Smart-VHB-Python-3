{
  "nbformat": 4,
  "nbformat_minor": 5,
  "metadata": {
    "interpreter": {
      "hash": "e16839f294d4c0c3a950d69e469040cf54ee0fe2b9ac54c836cd69dce56f946f"
    },
    "kernelspec": {
      "display_name": "Python 3",
      "language": "python",
      "name": "python3"
    },
    "language_info": {
      "codemirror_mode": {
        "name": "ipython",
        "version": 3
      },
      "file_extension": ".py",
      "mimetype": "text/x-python",
      "name": "python",
      "nbconvert_exporter": "python",
      "pygments_lexer": "ipython3",
      "version": "3.8.5"
    },
    "colab": {
      "name": "Python_3_Erweiterte_Variablentypen.ipynb",
      "provenance": [],
      "include_colab_link": true
    }
  },
  "cells": [
    {
      "cell_type": "markdown",
      "metadata": {
        "id": "view-in-github",
        "colab_type": "text"
      },
      "source": [
        "<a href=\"https://colab.research.google.com/github/ChristophRaab/Smart-VHB-Python-3/blob/main/Python_3_Erweiterte_Variablentypen.ipynb\" target=\"_parent\"><img src=\"https://colab.research.google.com/assets/colab-badge.svg\" alt=\"Open In Colab\"/></a>"
      ]
    },
    {
      "cell_type": "markdown",
      "metadata": {
        "id": "cdfc6e7a"
      },
      "source": [
        "# Python 3 Erweiterte Variablentypen"
      ],
      "id": "cdfc6e7a"
    },
    {
      "cell_type": "markdown",
      "metadata": {
        "id": "3f86e881"
      },
      "source": [
        "Diese Präsentation ist ein Jupyter Notebook. Mit Jupyter-Notebooks können gewöhnliche Präsentation-Slides und Code kombiniert dargestellt werden. Eine Code-Slide erkennen Sie an ```In [Zahl]:``` und ```Out[Zahl]:```. Dabei bezeichnet ```In``` den verwendeten Code und ```Out``` die Ausgabe dessen. Achten Sie auf ```#``` Symbole für weitere Informationen."
      ],
      "id": "3f86e881"
    },
    {
      "cell_type": "markdown",
      "metadata": {
        "id": "391d69d5"
      },
      "source": [
        "## Lernziele\n",
        "- Erweiterte Variablentypen können benannt werden.\n",
        "- Methoden für erweiterte Variablentypen können eingesetzt werden.\n",
        "- Komplexere Datenstrukturen können erstellt und verändert werden."
      ],
      "id": "391d69d5"
    },
    {
      "cell_type": "markdown",
      "metadata": {
        "id": "a919ea16"
      },
      "source": [
        "## Vorkenntnisse \n",
        "- Grundlagen in Mathematik \n",
        "- Grundlagen in Python 3 Variablen und Operatoren\n",
        "- Grundlagen in Python 3 Methoden und Kontrollstrukturen"
      ],
      "id": "a919ea16"
    },
    {
      "cell_type": "markdown",
      "metadata": {
        "id": "64841566"
      },
      "source": [
        "## Zielgruppe\n",
        "- Studierende in naturwissenschaftlichen Studiengängen.\n",
        "- Studierende in Ingenieurstudiengängen \n",
        "- Studierende mit anderweitigem naturwissenschaftlichen/technischen Hintergrund\n",
        "- Studierende mit ersten Erfahrung in Python oder in anderen Programmiersprachen"
      ],
      "id": "64841566"
    },
    {
      "cell_type": "markdown",
      "metadata": {
        "id": "6e54b79d"
      },
      "source": [
        "## Aufbau\n",
        "- Einführung Listen\n",
        "- Umgang mit Listen\n",
        "- Stack\n",
        "- Queue\n",
        "- Tupel und Sequenzen\n",
        "- Sets\n",
        "- Dictionaries"
      ],
      "id": "6e54b79d"
    },
    {
      "cell_type": "markdown",
      "metadata": {
        "id": "b47d1f00"
      },
      "source": [
        "## Einführung Liste\n",
        "\n",
        "Eine Liste ist eine Datenstruktur in Python, in die jede Art von Datentyp in einer praktisch beliebigen Länge und anordnung aneinander gereiht werden können. Die Liste stellt somit die flexibelste Datenstruktur in der Python-Sprache dar. Die Liste wird mit [...] oder mit list(...) initialisiert.\n",
        "\n",
        "Beispiel: ``` a = [1, \"test\", false]``` oder ```a = list([1,\"test\",false])```"
      ],
      "id": "b47d1f00"
    },
    {
      "cell_type": "code",
      "metadata": {
        "id": "4b3f45f5",
        "outputId": "9b9c7b94-6301-4049-c273-d25c54e81711"
      },
      "source": [
        "# Python liste mit zwei Elementen\n",
        "list([\"a\",5])"
      ],
      "id": "4b3f45f5",
      "execution_count": null,
      "outputs": [
        {
          "data": {
            "text/plain": [
              "['a', 5]"
            ]
          },
          "execution_count": 1,
          "metadata": {
            "slideshow": {
              "slide_type": "slide"
            }
          },
          "output_type": "execute_result"
        }
      ]
    },
    {
      "cell_type": "markdown",
      "metadata": {
        "id": "39d37e13"
      },
      "source": [
        "## Flexibiltät der Liste\n",
        "Beispielsweise kann ein\n",
        "- \"test\" # String\n",
        "- 5 # Integer\n",
        "- 1.0 # Float\n",
        "- True # Boolean\n",
        "\n",
        "zusammen eine Liste sein."
      ],
      "id": "39d37e13"
    },
    {
      "cell_type": "code",
      "metadata": {
        "id": "0afb2c8e",
        "outputId": "7d7654d6-dafb-4b06-f6f7-16740e3906b3"
      },
      "source": [
        "# Beispiel von vorheriger Slide\n",
        "# \"test\",5,1.0,True\n",
        "test = [\"test\",5,1.0,True]\n",
        "test"
      ],
      "id": "0afb2c8e",
      "execution_count": null,
      "outputs": [
        {
          "data": {
            "text/plain": [
              "['test', 5, 1.0, True]"
            ]
          },
          "execution_count": 2,
          "metadata": {
            "slideshow": {
              "slide_type": "slide"
            }
          },
          "output_type": "execute_result"
        }
      ]
    },
    {
      "cell_type": "markdown",
      "metadata": {
        "id": "c5bc310e"
      },
      "source": [
        "## Slicing \n",
        "Das Slicing bezeichnet das Zugreifen auf ein oder mehrere Elemente der List. Jede Liste speichert einen Index mit dem auf die Elemente der Liste zugegriffen werden kann. Der Index beginnt ab 0 bis der Länge der Liste -1."
      ],
      "id": "c5bc310e"
    },
    {
      "cell_type": "code",
      "metadata": {
        "id": "279ee753",
        "outputId": "08833b24-6aed-4c4c-acbb-9313ef3c7ee9"
      },
      "source": [
        "print(test[0])  # Erstes Element\n",
        "print(test[-1]) # Letztes Element\n",
        "print(test[0:2]) # Erstes bis 2-1tes ELement\n",
        "print(test[-3:-1]) # Drittletztes bis vorletztes Element\n",
        "print(test[2:]) # Alle Elemente bis zum Ende, beginnend ab Element 2"
      ],
      "id": "279ee753",
      "execution_count": null,
      "outputs": [
        {
          "name": "stdout",
          "output_type": "stream",
          "text": [
            "test\n",
            "True\n",
            "['test', 5]\n",
            "[5, 1.0]\n",
            "[1.0, True]\n"
          ]
        }
      ]
    },
    {
      "cell_type": "markdown",
      "metadata": {
        "id": "6b29982e"
      },
      "source": [
        "## Umgang Listen\n",
        "Eine Liste in Python hat einige Methoden, die direkt auf die Liste angewandt werden können:\n",
        "- list.append(x)\n",
        "- list.extend(iterable)\n",
        "- list.insert(i, x)\n",
        "- list.remove(x)\n",
        "- list.pop([i])\n",
        "- list.clear()\n",
        "- list.index(x[, start[,end]])\n",
        "- list.count(x)\n",
        "- list.sort(*, key=None, reverse=False)\n",
        "- list.reverse()\n",
        "- list.copy()\n",
        "\n",
        "Nachfolgend wird sehr einfach eine Liste mit der range() Funktion erstellt und mit den genannten Funktionen manipuliert."
      ],
      "id": "6b29982e"
    },
    {
      "cell_type": "code",
      "metadata": {
        "id": "819876ce",
        "outputId": "2cad76d2-1753-4c7c-aa7f-6497c0df7246"
      },
      "source": [
        "numbers = list(range(0,10)) # Die Methode range() gibt einen Iterator für die \n",
        "                           # Zahlen [1,...10] zurück, die Methode list() fasst\n",
        "                           # diese Elemente in eine Python Liste zusammen.\n",
        "print(\"Liste: \",numbers)\n",
        "\n",
        "numbers.append([11,12]) # Füge die Zahlen 11 und 12 als Liste am Ende hinzu.\n",
        "print(\"\\nAppend: \",numbers)"
      ],
      "id": "819876ce",
      "execution_count": null,
      "outputs": [
        {
          "name": "stdout",
          "output_type": "stream",
          "text": [
            "Liste:  [0, 1, 2, 3, 4, 5, 6, 7, 8, 9]\n",
            "\n",
            "Append:  [0, 1, 2, 3, 4, 5, 6, 7, 8, 9, [11, 12]]\n"
          ]
        }
      ]
    },
    {
      "cell_type": "code",
      "metadata": {
        "id": "bc34099a",
        "outputId": "967c815e-6d67-4308-dbe3-9124a250db44"
      },
      "source": [
        "numbers.extend([13,14]) # Erweitert die Liste numbers mit den Zahlen\n",
        "                        # [13,14] am Ende, durch das erweitern\n",
        "                        # der Liste mit Iterator([13,14]).\n",
        "                        # numb[len(numbers):] = range(13,14)\n",
        "print(\"\\nExtend: \",numbers)\n",
        "\n",
        "numbers.insert(10, 99) # Für am Index 10 die Zahl 99 ein. Notiz: der Index beginnt bei 0\n",
        "print(\"\\nInsert: \",numbers)"
      ],
      "id": "bc34099a",
      "execution_count": null,
      "outputs": [
        {
          "name": "stdout",
          "output_type": "stream",
          "text": [
            "\n",
            "Extend:  [0, 1, 2, 3, 4, 5, 6, 7, 8, 9, [11, 12], 13, 14]\n",
            "\n",
            "Insert:  [0, 1, 2, 3, 4, 5, 6, 7, 8, 9, 99, [11, 12], 13, 14]\n"
          ]
        }
      ]
    },
    {
      "cell_type": "code",
      "metadata": {
        "id": "c73079ac",
        "outputId": "ec49d33a-4700-4447-9c8e-15417f4cf373"
      },
      "source": [
        "numbers.remove(99) # Löscht die erste 99 in der Liste. \n",
        "                   # Wenn die Zahl nicht vorhanden ist, dann gibt es einen ValueError.\n",
        "print(\"\\nRemove: \",numbers)\n",
        "\n",
        "x = numbers.pop()  # Entfernt das Element an der letzten Stelle, \n",
        "                   # wenn kein Index angegeben ist und gibt das entfernte Element zurück.\n",
        "y = numbers.pop(0) # Entfernt das Element an einer bestimmten Stelle und\n",
        "                   # gibt das entfernte Element zurück.\n",
        "                   # Alternativ mit del numbers[0], jedoch ohne return Wert.\n",
        "print(\"\\nPop \",x,\", \",y,\": \",numbers)"
      ],
      "id": "c73079ac",
      "execution_count": null,
      "outputs": [
        {
          "name": "stdout",
          "output_type": "stream",
          "text": [
            "\n",
            "Remove:  [0, 1, 2, 3, 4, 5, 6, 7, 8, 9, [11, 12], 13, 14]\n",
            "\n",
            "Pop  14 ,  0 :  [1, 2, 3, 4, 5, 6, 7, 8, 9, [11, 12], 13]\n"
          ]
        }
      ]
    },
    {
      "cell_type": "code",
      "metadata": {
        "id": "143c4392",
        "outputId": "8b98a781-3125-44b2-ce39-d955d43c0c87"
      },
      "source": [
        "index = numbers.index(3) # Gibt den Index der ersten 3 zurück. \n",
        "                         # Optional kann mit Start, Ende nach der Zahl,\n",
        "                         # die Suche auf ein Teil der Liste begrenzt werden.\n",
        "print(\"\\nIndex der ersten 10: \", index)\n",
        "\n",
        "count = numbers.count(5) # Zählt die Anzahl eines Elementes in einer Liste\n",
        "print(\"\\nCount of 5: \", count)"
      ],
      "id": "143c4392",
      "execution_count": null,
      "outputs": [
        {
          "name": "stdout",
          "output_type": "stream",
          "text": [
            "\n",
            "Index der ersten 10:  2\n",
            "\n",
            "Count of 5:  1\n"
          ]
        }
      ]
    },
    {
      "cell_type": "code",
      "metadata": {
        "id": "c75125bb",
        "outputId": "82a1a447-1a4a-4b88-de24-d65c0f76f1b5"
      },
      "source": [
        "numbers = [13,2,8,4,1]\n",
        "numbers.sort(reverse=True) # Sortiert die Liste, optional kann mit reverse=True/False\n",
        "                           # die Reihenfolge bestimmt werden.\n",
        "print(\"\\nSort: \",numbers)\n",
        "\n",
        "numbers.reverse() # Kehrt die Liste um.\n",
        "print(\"\\nReverse: \",numbers)"
      ],
      "id": "c75125bb",
      "execution_count": null,
      "outputs": [
        {
          "name": "stdout",
          "output_type": "stream",
          "text": [
            "\n",
            "Sort:  [13, 8, 4, 2, 1]\n",
            "\n",
            "Reverse:  [1, 2, 4, 8, 13]\n"
          ]
        }
      ]
    },
    {
      "cell_type": "code",
      "metadata": {
        "id": "9deda736",
        "outputId": "7d11c7c0-824c-46b0-ec68-e5a62a20716c"
      },
      "source": [
        "numbers_kopie = numbers.copy() # Gibt eine Kopie der Liste zurück,\n",
        "                               # äquivalent zu numbers_kopie = numbers[:]\n",
        "numbers.clear() # Entfernt alle Elemente in einer Liste, äquivalent: del numbers[:]\n",
        "print(\"\\nClear: \",numbers)\n",
        "print(\"\\nKopie von numbers: \",numbers_kopie)"
      ],
      "id": "9deda736",
      "execution_count": null,
      "outputs": [
        {
          "name": "stdout",
          "output_type": "stream",
          "text": [
            "\n",
            "Clear:  []\n",
            "\n",
            "Kopie von numbers:  [1, 2, 4, 8, 13]\n"
          ]
        }
      ]
    },
    {
      "cell_type": "markdown",
      "metadata": {
        "id": "0bca37bd"
      },
      "source": [
        "##  Iterationen über Listen\n",
        "Schleifen über die Datenstruktur Liste. Anders als in anderen Programmiersprachen, muss nicht zwingend mit einem eigens programmierten Index über eine Liste iteriert werden. Es reicht lediglich ein Keyword für das iterieren zu benennen. Beispielsweise wie in der nächsten Slide. "
      ],
      "id": "0bca37bd"
    },
    {
      "cell_type": "code",
      "metadata": {
        "id": "3b214cc4",
        "outputId": "e2232990-4f20-45aa-fe6d-caaada63076a"
      },
      "source": [
        "numbers = [1,2,3,4,5]\n",
        "summe = 0\n",
        "for zahl in numbers: # zahl ist eine beliebig benennbare Variable.\n",
        "    summe += zahl\n",
        "print(\"\\nSumme: \",summe)\n",
        "# Kurzform mit der sum() Funktion:\n",
        "print(\"\\nKurzform-Summe: \",sum(numbers))"
      ],
      "id": "3b214cc4",
      "execution_count": null,
      "outputs": [
        {
          "name": "stdout",
          "output_type": "stream",
          "text": [
            "\n",
            "Summe:  15\n",
            "\n",
            "Kurzform-Summe:  15\n"
          ]
        }
      ]
    },
    {
      "cell_type": "markdown",
      "metadata": {
        "id": "fe335d4d"
      },
      "source": [
        "## Liste erzeugen mit For-Schleife"
      ],
      "id": "fe335d4d"
    },
    {
      "cell_type": "code",
      "metadata": {
        "id": "9c0df6bd",
        "outputId": "99c7f64b-df93-4229-b690-d3c17deed2b4"
      },
      "source": [
        "numbers = [] ## Leere Liste\n",
        "for zahl in range(6): # Iterator von 0 bis 6-1.\n",
        "    numbers.append(zahl) # Bei einzelnen Zahlen\n",
        "print(numbers)           # ist append und extend gleich.\n",
        "# Kurzform\n",
        "numbers2 = [zahl for zahl in range(6)] # List Comprehension\n",
        "print(numbers2)"
      ],
      "id": "9c0df6bd",
      "execution_count": null,
      "outputs": [
        {
          "name": "stdout",
          "output_type": "stream",
          "text": [
            "[0, 1, 2, 3, 4, 5]\n",
            "[0, 1, 2, 3, 4, 5]\n"
          ]
        }
      ]
    },
    {
      "cell_type": "markdown",
      "metadata": {
        "id": "274aa407"
      },
      "source": [
        "## Enumerate\n",
        "Anders als in anderen Programmiersprachen, gibt es in Python die Möglichkeit, durch enumerate() einen Index-Zähler zu erhalten der nicht selbst programmiert werden muss."
      ],
      "id": "274aa407"
    },
    {
      "cell_type": "code",
      "metadata": {
        "id": "52a3c5ee",
        "outputId": "7af80846-4966-46e3-95eb-bf43f241dfc8"
      },
      "source": [
        "numbers = list(range(10,15))\n",
        "summe = 0\n",
        "for index, zahl in enumerate(numbers):\n",
        "    print(\"Index: \" + str(index) + \", Zahl: \" + str(zahl))\n",
        "    summe += zahl\n",
        "print(\"Summe: \" + str(summe))"
      ],
      "id": "52a3c5ee",
      "execution_count": null,
      "outputs": [
        {
          "name": "stdout",
          "output_type": "stream",
          "text": [
            "Index: 0, Zahl: 10\n",
            "Index: 1, Zahl: 11\n",
            "Index: 2, Zahl: 12\n",
            "Index: 3, Zahl: 13\n",
            "Index: 4, Zahl: 14\n",
            "Summe: 60\n"
          ]
        }
      ]
    },
    {
      "cell_type": "markdown",
      "metadata": {
        "id": "2942ed15"
      },
      "source": [
        "## Zip\n",
        "Durch die zip() Funktion lassen sich mehrere Listen verbinden und z.B. gleichzeitig iterieren."
      ],
      "id": "2942ed15"
    },
    {
      "cell_type": "code",
      "metadata": {
        "id": "753ab0cc",
        "outputId": "1449249d-b8af-4474-9598-4e4f83214731"
      },
      "source": [
        "speisekarte = ['steak', 'salat', 'nudeln']\n",
        "preise = [22.99, 9.99, 13.99]\n",
        "\n",
        "for speise, preis in zip(speisekarte,preise):\n",
        "    print (speise,\"kostet\", preis)"
      ],
      "id": "753ab0cc",
      "execution_count": null,
      "outputs": [
        {
          "name": "stdout",
          "output_type": "stream",
          "text": [
            "steak kostet 22.99\n",
            "salat kostet 9.99\n",
            "nudeln kostet 13.99\n"
          ]
        }
      ]
    },
    {
      "cell_type": "markdown",
      "metadata": {
        "id": "572f5e73"
      },
      "source": [
        "## Stack\n",
        "Listen in Python können auch einfach als Stack nach dem LIFO Prinzip (“last-in, first-out”) genutzt werden. Die hierfür nötigen Funktionen sind append() und pop()"
      ],
      "id": "572f5e73"
    },
    {
      "cell_type": "code",
      "metadata": {
        "id": "6190d809",
        "outputId": "d60922c4-63aa-45d4-922b-17090a4b88e2"
      },
      "source": [
        "stack = [1,2,3,4,5]\n",
        "stack.append(6)\n",
        "print(stack)\n",
        "stack.pop()\n",
        "print(stack)"
      ],
      "id": "6190d809",
      "execution_count": null,
      "outputs": [
        {
          "name": "stdout",
          "output_type": "stream",
          "text": [
            "[1, 2, 3, 4, 5, 6]\n",
            "[1, 2, 3, 4, 5]\n"
          ]
        }
      ]
    },
    {
      "cell_type": "markdown",
      "metadata": {
        "id": "eecbdf6a"
      },
      "source": [
        "## Queue \n",
        "Queues (dt. Schlange) nach dem FIFO Prinzip (“first-in, first-out”) können theoretisch mit Python Listen umgesetzt werden, sind jedoch nicht optimal, weil alle nachfolgenden Elemente beim Einfügen/Entfernen um eine Position verschoben werden müssen. Die Methode deque von Python Collections bietet hier abhilfe."
      ],
      "id": "eecbdf6a"
    },
    {
      "cell_type": "code",
      "metadata": {
        "id": "a020c3e0",
        "outputId": "6c835781-3cb6-4109-f1d7-5a8d2b73c607"
      },
      "source": [
        "from collections import deque ## import der deque-Methode\n",
        "numbers = [1,2,3,4,5]\n",
        "queue = deque(numbers)\n",
        "print(queue)\n",
        "\n",
        "queue.append(0) # gleich wie bei der Liste\n",
        "print(\"\\nAppend 0: \",queue)"
      ],
      "id": "a020c3e0",
      "execution_count": null,
      "outputs": [
        {
          "name": "stdout",
          "output_type": "stream",
          "text": [
            "deque([1, 2, 3, 4, 5])\n",
            "\n",
            "Append 0:  deque([1, 2, 3, 4, 5, 0])\n"
          ]
        }
      ]
    },
    {
      "cell_type": "code",
      "metadata": {
        "id": "251e9a7d",
        "outputId": "cdde0552-cab8-46ec-cd3e-1933d60e6b51"
      },
      "source": [
        "a = queue.popleft() # neue Methode von deque, die effizient das erste Element\n",
        "                    # in der Liste entfernt\n",
        "print(\"\\nPopleft\",a,\":\",queue)\n",
        "\n",
        "b = queue.pop() # Gleich wie bei der Liste, \n",
        "                # entfernt das letzte Element und gibt es zurück\n",
        "print(\"\\nPop(last)\",b,\":\",queue)"
      ],
      "id": "251e9a7d",
      "execution_count": null,
      "outputs": [
        {
          "name": "stdout",
          "output_type": "stream",
          "text": [
            "\n",
            "Popleft 1 : deque([2, 3, 4, 5, 0])\n",
            "\n",
            "Pop(last) 0 : deque([2, 3, 4, 5])\n"
          ]
        }
      ]
    },
    {
      "cell_type": "markdown",
      "metadata": {
        "id": "6a6e75f4"
      },
      "source": [
        "## Tupel und Sequenzen\n",
        "Tupel sind komma-getrennte Datenstrukturen ohne einheitliches Format. Standard operationen wie index und slice operationen sind hier auch möglich. Tupel können auch andere Tupel enthalten, jedoch können Elemente in einem Tupel nicht verändert werden. "
      ],
      "id": "6a6e75f4"
    },
    {
      "cell_type": "code",
      "metadata": {
        "id": "e72c7370",
        "outputId": "ccc431ba-4af0-4bc3-e0a2-7fdd8afe5ba8"
      },
      "source": [
        "t = 1, \"hallo\", \"welt\", 0.41, \"a\" # Verpacken von mehreren Elementen zu einem Tupel\n",
        "_, a, b, _, _ = t # Entpacken der Elemente in Variablen möglich\n",
        "print(a,b)\n",
        "t2 = t,1,2,3,4,5,[6,7]\n",
        "print(t)\n",
        "print(t[1:3])\n"
      ],
      "id": "e72c7370",
      "execution_count": null,
      "outputs": [
        {
          "name": "stdout",
          "output_type": "stream",
          "text": [
            "hallo welt\n",
            "(1, 'hallo', 'welt', 0.41, 'a')\n",
            "('hallo', 'welt')\n"
          ]
        }
      ]
    },
    {
      "cell_type": "code",
      "metadata": {
        "id": "29ed8756",
        "outputId": "571fb45d-8071-452e-fb09-219fd3e2ff47"
      },
      "source": [
        "print(t2)\n",
        "t2[6][0] = 10 # veränderbare Elemente in einem Tupel können verändert werden!\n",
        "print(t2)\n",
        "# t2[0] = 1 ist Beispielsweise nicht möglich!"
      ],
      "id": "29ed8756",
      "execution_count": null,
      "outputs": [
        {
          "name": "stdout",
          "output_type": "stream",
          "text": [
            "((1, 'hallo', 'welt', 0.41, 'a'), 1, 2, 3, 4, 5, [6, 7])\n",
            "((1, 'hallo', 'welt', 0.41, 'a'), 1, 2, 3, 4, 5, [10, 7])\n"
          ]
        }
      ]
    },
    {
      "cell_type": "markdown",
      "metadata": {
        "id": "8c96f9cc"
      },
      "source": [
        "## Spezielle Initialisierung von Tupeln"
      ],
      "id": "8c96f9cc"
    },
    {
      "cell_type": "code",
      "metadata": {
        "id": "040e439d",
        "outputId": "c8d60502-9b42-456b-bf69-88b8732f523c"
      },
      "source": [
        "empty_tupel = ()\n",
        "print(len(empty_tupel))\n",
        "singleton = 'hello',  # Wichtig: Durch das Komma am Ende wird aus dem String ein Tupel\n",
        "                      # und ist somit nicht veränderbar\n",
        "print(len(singleton))"
      ],
      "id": "040e439d",
      "execution_count": null,
      "outputs": [
        {
          "name": "stdout",
          "output_type": "stream",
          "text": [
            "0\n",
            "1\n"
          ]
        }
      ]
    },
    {
      "cell_type": "markdown",
      "metadata": {
        "id": "21e7a58e"
      },
      "source": [
        "## Sets\n",
        "Ein Set ist eine unsortierte Liste ohne Duplikate. Dieser Variablentyp wird normalerweise zum Entfernen von Duplikaten oder zur Überprüfung, ob ein Element vorhanden ist, verwendet. Ein Set ist mit {} gekennzeichnet, kann jedoch nur mit set() leer initialisiert werden. Des Weiteren gibt es verschiedene Set Operationen, um Elemente in Sets zu vergleichen."
      ],
      "id": "21e7a58e"
    },
    {
      "cell_type": "code",
      "metadata": {
        "id": "97c5fb3e",
        "outputId": "df1340fa-0ee5-4085-ba8c-a2742fcc6987"
      },
      "source": [
        "leeres_set = set()\n",
        "print(leeres_set)\n",
        "hellow_set = set('hallo welt') # Alternativ: {'h','a','l','l','o',' ','w','e','l','t'}\n",
        "hallo_set = set('hallo')\n",
        "print(hellow_set)\n",
        "print(\"x\" in hellow_set) # Prüfung, ob Element vorhanden ist\n",
        "print(\"h\" in hellow_set) # Prüfung, ob Element vorhanden ist"
      ],
      "id": "97c5fb3e",
      "execution_count": null,
      "outputs": [
        {
          "name": "stdout",
          "output_type": "stream",
          "text": [
            "set()\n",
            "{'w', 'h', 'l', 'e', 't', ' ', 'a', 'o'}\n",
            "False\n",
            "True\n"
          ]
        }
      ]
    },
    {
      "cell_type": "code",
      "metadata": {
        "id": "424ca24f",
        "outputId": "726231be-446e-4313-d83a-d429bd111a61"
      },
      "source": [
        "aset = set([1,1,3,6,8,2]) # Initialisiere set über Liste\n",
        "print(aset) # Alle duplikate wurden entfernt.\n",
        "alist=list(aset) # Konvertiere zurück zur liste\n",
        "print(alist)"
      ],
      "id": "424ca24f",
      "execution_count": null,
      "outputs": [
        {
          "name": "stdout",
          "output_type": "stream",
          "text": [
            "{1, 2, 3, 6, 8}\n",
            "[1, 2, 3, 6, 8]\n"
          ]
        }
      ]
    },
    {
      "cell_type": "markdown",
      "metadata": {
        "id": "913992c7"
      },
      "source": [
        "## Set Operationen\n",
        "Mit einer Set Operation kann Boolesche Algebra auf zwei Listen angewendet werden. Dadurch können Beispielsweise duplikate oder fehlende Elemente herausgefiltert werden.   "
      ],
      "id": "913992c7"
    },
    {
      "cell_type": "code",
      "metadata": {
        "id": "98425630",
        "outputId": "dfd85742-70d3-4fbd-e491-9435fbadd44e"
      },
      "source": [
        "print(hellow_set - hallo_set) # Alle Elemente in hellow_set abzüglich der Elemente in hallo_set\n",
        "print(hellow_set | hallo_set) # Alle Elemente in hellow_set oder in hallo_set, oder in beiden\n",
        "print(hellow_set & hallo_set) # Alle Elemente in hellow_set und in hallo_set\n",
        "print(hellow_set ^ hallo_set) # Alle Elemente in hellow_set oder in hallo_set, oder nicht in beiden"
      ],
      "id": "98425630",
      "execution_count": null,
      "outputs": [
        {
          "name": "stdout",
          "output_type": "stream",
          "text": [
            "{'w', 'e', 't', ' '}\n",
            "{'w', 'h', 'l', 'e', 't', ' ', 'a', 'o'}\n",
            "{'l', 'a', 'o', 'h'}\n",
            "{'w', 'e', 't', ' '}\n"
          ]
        }
      ]
    },
    {
      "cell_type": "markdown",
      "metadata": {
        "id": "5fb242ba"
      },
      "source": [
        "## Dictionaries\n",
        "Ein Wörterbuch (dictionaray) ähnelt einer Liste, hat aber Schlüssel als Indizes anstelle von impliziten Ganzzahlwerten. Diese Schlüssel müssen einzigartig sein, können aber sehr flexibel sein, z.B. auch Strings. Dictionaries werden mit {} initialisiert. Hauptsächlich wird dieser Variablentyp verwendet, um Werte schlüsselweise zu speichern. Mit del kann ein Schlüssel-Werte-Paar gelöscht oder einfach mit einem neuen Wert an einem vorhandenen Schlüssel überschrieben werden. Ein dictionary kann auch ähnlich wie eine Liste in Kurzform initialisiert werden. Ein einfacher Weg durch ein Dictionary zu iterieren ist die .items() Methode."
      ],
      "id": "5fb242ba"
    },
    {
      "cell_type": "code",
      "metadata": {
        "id": "fbf8474d",
        "outputId": "08043d2c-3115-4753-c9eb-55e1e5ea9b76"
      },
      "source": [
        "speisekarte = {'Nudeln':11.99, 'Salat':9.99}\n",
        "speisekarte['Steak'] = 15.99 # Setzen eines neuen Schlüssel-Werte-Paars\n",
        "                             #(oder überschreiben, falls bereits vorhanden)\n",
        "print(speisekarte) # Standardausgabe des dictionaries\n",
        "print(speisekarte[\"Salat\"]) # Standardausgabe des Wertes bei einem speziellen Schlüssel\n",
        "del speisekarte[\"Salat\"]"
      ],
      "id": "fbf8474d",
      "execution_count": null,
      "outputs": [
        {
          "name": "stdout",
          "output_type": "stream",
          "text": [
            "{'Nudeln': 11.99, 'Salat': 9.99, 'Steak': 15.99}\n",
            "9.99\n"
          ]
        }
      ]
    },
    {
      "cell_type": "code",
      "metadata": {
        "id": "5dfc4081",
        "outputId": "09275a93-e82b-48ad-dbec-db1665e0e19b"
      },
      "source": [
        "print(speisekarte)\n",
        "print(list(speisekarte)) # Liste aller Schlüssel\n",
        "print(sorted(speisekarte)) # sortierte Liste aller Schlüssel\n",
        "print('Salat' in speisekarte) # Existenzprüfung\n",
        "print('Steak' in speisekarte) # Existenzprüfung\n",
        "print({a:a*10 for a in (1,2,3,4,5)})"
      ],
      "id": "5dfc4081",
      "execution_count": null,
      "outputs": [
        {
          "name": "stdout",
          "output_type": "stream",
          "text": [
            "{'Nudeln': 11.99, 'Steak': 15.99}\n",
            "['Nudeln', 'Steak']\n",
            "['Nudeln', 'Steak']\n",
            "False\n",
            "True\n",
            "{1: 10, 2: 20, 3: 30, 4: 40, 5: 50}\n"
          ]
        }
      ]
    },
    {
      "cell_type": "code",
      "metadata": {
        "id": "a21303ad",
        "outputId": "6abe6c16-f14f-4bab-b600-0c7c3c7a03a2"
      },
      "source": [
        "for key, value in speisekarte.items():\n",
        "    print(key,value)\n",
        "\n",
        "for i, (key, value) in enumerate(speisekarte.items()): \n",
        "            # Kann auch mit Enumerate kombiniert werden für automatischen Zähler.\n",
        "    print(i, key,value)"
      ],
      "id": "a21303ad",
      "execution_count": null,
      "outputs": [
        {
          "name": "stdout",
          "output_type": "stream",
          "text": [
            "Nudeln 11.99\n",
            "Steak 15.99\n",
            "0 Nudeln 11.99\n",
            "1 Steak 15.99\n"
          ]
        }
      ]
    },
    {
      "cell_type": "code",
      "metadata": {
        "id": "f2c75bd3",
        "outputId": "e8cc4b7b-a145-4544-9485-bff3536e0a53"
      },
      "source": [
        "%%html\n",
        "<script>var code_show=!1;function code_toggle(){var e,d;code_show?(null!=(e=document.getElementsByClassName(\"jp-CodeMirrorEditor jp-Editor jp-InputArea-editor\")[25])&&(e.style.display=\"\"),null!=(d=document.querySelector(\"div.cell.code_cell.rendered.selected div.input\"))&&(d.style.display=\"\")):(null!=(e=document.getElementsByClassName(\"jp-CodeMirrorEditor jp-Editor jp-InputArea-editor\")[25])&&(e.style.display=\"none\"),null!=(d=document.querySelector(\"div.cell.code_cell.rendered.selected div.input\"))&&(d.style.display=\"none\"));code_show=!code_show}code_toggle();</script>Zum Anzeigen des verwendeten Javascript klicken Sie <a onClick=\"code_toggle(); return false;\" >hier</a>.<center><h1>Single Choice Fragen</h1></center><p><form name=\"quiz\"><p><b>Frage 1.<br>Welche Operation hängt eine Liste an eine weitere ohne diese aufzulösen?<br></b><blockquote><input type=\"radio\" name=\"q1\" value=\"extend\">extend()<br><input type=\"radio\" name=\"q1\" value=\"append\">append()<br><input type=\"radio\" name=\"q1\" value=\"insert\">insert()<br></blockquote><p><b><hr>Frage 2.<br>Welcher Befehl lässt es zu, gleichzeitig einen index zu generieren und über zwei Listen zu iterieren?<br></b><blockquote><input type=\"radio\" name=\"q2\" value=\"zip\">for x,y in enumerate(list1,liste2)<br><input type=\"radio\" name=\"q2\" value=\"zipenumerate\">for i,x,y in zip(enumerate(liste1,liste2))<br><input type=\"radio\" name=\"q2\" value=\"tuplezipenumerate\">for i,(x,y) in enumerate(zip(liste1,liste2))<br></blockquote><p><b><hr><input type=\"button\"value=\"Einreichen\"onClick=\"getScore(this.form);\"><input type=\"reset\" value=\"Auswahl löschen\"><p>Von 2 Fragen sind richtig: <input type=text size 15 name=\"mark\"> Genauigkeit=<input type=text size=15 name=\"percentage\"><br></form><p><form method=\"post\" name=\"Form\" onsubmit=\"\" action=\"\"></form></body><script>var numQues=2;var numChoi=3;var answers=new Array(numQues);answers[0]=\"append\";answers[1]=\"tuplezipenumerate\";function getScore(form){var score=0;var currElt;var currSelection;for (i=0; i<numQues; i++){currElt=i*numChoi;answered=false;for (j=0; j<numChoi; j++){currSelection=form.elements[currElt + j];if (currSelection.checked){answered=true;if (currSelection.value==answers[i]){score++;break;}}}if (answered===false){alert(\"Bitte alle Fragen beantworten!\") ;return false;}}var scoreper=Math.round(score/numQues*100);form.percentage.value=scoreper + \"%\";form.mark.value=score;}</script>"
      ],
      "id": "f2c75bd3",
      "execution_count": null,
      "outputs": [
        {
          "data": {
            "text/html": [
              "<script>var code_show=!1;function code_toggle(){var e,d;code_show?(null!=(e=document.getElementsByClassName(\"jp-CodeMirrorEditor jp-Editor jp-InputArea-editor\")[25])&&(e.style.display=\"\"),null!=(d=document.querySelector(\"div.cell.code_cell.rendered.selected div.input\"))&&(d.style.display=\"\")):(null!=(e=document.getElementsByClassName(\"jp-CodeMirrorEditor jp-Editor jp-InputArea-editor\")[25])&&(e.style.display=\"none\"),null!=(d=document.querySelector(\"div.cell.code_cell.rendered.selected div.input\"))&&(d.style.display=\"none\"));code_show=!code_show}code_toggle();</script>Zum Anzeigen des verwendeten Javascript klicken Sie <a onClick=\"code_toggle(); return false;\" >hier</a>.<center><h1>Single Choice Fragen</h1></center><p><form name=\"quiz\"><p><b>Frage 1.<br>Welche Operation hängt eine Liste an eine weitere ohne diese aufzulösen?<br></b><blockquote><input type=\"radio\" name=\"q1\" value=\"extend\">extend()<br><input type=\"radio\" name=\"q1\" value=\"append\">append()<br><input type=\"radio\" name=\"q1\" value=\"insert\">insert()<br></blockquote><p><b><hr>Frage 2.<br>Welcher Befehl lässt es zu, gleichzeitig einen index zu generieren und über zwei Listen zu iterieren?<br></b><blockquote><input type=\"radio\" name=\"q2\" value=\"zip\">for x,y in enumerate(list1,liste2)<br><input type=\"radio\" name=\"q2\" value=\"zipenumerate\">for i,x,y in zip(enumerate(liste1,liste2))<br><input type=\"radio\" name=\"q2\" value=\"tuplezipenumerate\">for i,(x,y) in enumerate(zip(liste1,liste2))<br></blockquote><p><b><hr><input type=\"button\"value=\"Einreichen\"onClick=\"getScore(this.form);\"><input type=\"reset\" value=\"Auswahl löschen\"><p>Von 2 Fragen sind richtig: <input type=text size 15 name=\"mark\"> Genauigkeit=<input type=text size=15 name=\"percentage\"><br></form><p><form method=\"post\" name=\"Form\" onsubmit=\"\" action=\"\"></form></body><script>var numQues=2;var numChoi=3;var answers=new Array(numQues);answers[0]=\"append\";answers[1]=\"tuplezipenumerate\";function getScore(form){var score=0;var currElt;var currSelection;for (i=0; i<numQues; i++){currElt=i*numChoi;answered=false;for (j=0; j<numChoi; j++){currSelection=form.elements[currElt + j];if (currSelection.checked){answered=true;if (currSelection.value==answers[i]){score++;break;}}}if (answered===false){alert(\"Bitte alle Fragen beantworten!\") ;return false;}}var scoreper=Math.round(score/numQues*100);form.percentage.value=scoreper + \"%\";form.mark.value=score;}</script>\n"
            ],
            "text/plain": [
              "<IPython.core.display.HTML object>"
            ]
          },
          "metadata": {
            "slideshow": {
              "slide_type": "slide"
            }
          },
          "output_type": "display_data"
        }
      ]
    },
    {
      "cell_type": "markdown",
      "metadata": {
        "id": "b7a0b92e"
      },
      "source": [
        "## Zusammenfassung: \n",
        "- Erweiterte Variablentypen erleichtern oft die Programmierung mit mehr als einer Variable.\n",
        "- Jeder Variablentyp kommt mit vordefinierten Methoden.\n",
        "- Alle erweiterten Variablentypen haben bestimmte Eigenschaften und damit Vor- und Nachteile.\n",
        "- Oft sind erweiterte Variablentypen austauschbar und es ist im Sinne des Programmierers zu entscheiden welcher Typ optimalerweise genutzt werden sollte.\n",
        "- Meist verbreitet ist allerdings die Liste und das Dictionary. "
      ],
      "id": "b7a0b92e"
    },
    {
      "cell_type": "markdown",
      "metadata": {
        "id": "d738ce20"
      },
      "source": [
        "## Quellen: \n",
        "-  https://docs.python.org/3/tutorial/datastructures.html"
      ],
      "id": "d738ce20"
    }
  ]
}