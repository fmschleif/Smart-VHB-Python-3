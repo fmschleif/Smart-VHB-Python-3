{
 "cells": [
  {
   "source": [
    "# Übungen Python 3 Kontrollstrukturen"
   ],
   "cell_type": "markdown",
   "metadata": {}
  },
  {
   "source": [
    "Diese Präsentation ist ein Jupyter Notebook. \n",
    "- Achten Sie auf $\\#$ Symbole für weitere Informationen.\n",
    "- https://alldocs.app/convert-html-to-jupyter-notebook\n",
    "- Sie können dieses Notebook mit jedem Jupyter Server ausführen.\n",
    "- Beispielsweise in Google Collab: https://colab.research.google.com/"
   ],
   "cell_type": "markdown",
   "metadata": {}
  },
  {
   "source": [
    "## Übung 1:\n",
    "Finden Sie den größten ganzzahligen Teiler von 61.\n"
   ],
   "cell_type": "markdown",
   "metadata": {}
  },
  {
   "source": [
    "Lösung:"
   ],
   "cell_type": "markdown",
   "metadata": {}
  },
  {
   "cell_type": "code",
   "execution_count": 7,
   "id": "aa59a7f7",
   "metadata": {},
   "outputs": [
    {
     "output_type": "stream",
     "name": "stdout",
     "text": [
      "Der größte ganzzahlige Teiler ist 31\n"
     ]
    }
   ],
   "source": [
    "x = 62\n",
    "teiler = x - 1\n",
    "while teiler > 1:\n",
    "    if x % teiler == 0:\n",
    "        print(\"Der größte ganzzahlige Teiler ist \" + str(teiler))\n",
    "        break\n",
    "    teiler -= 1\n",
    "else:\n",
    "    print(\"Der größte ganzzahlige Teiler ist 1\")"
   ]
  },
  {
   "source": [
    "## Übung 2:\n",
    "Erstellen Sie einen zweiten String und kehren Sie den unten genannten String um mit der Leserichtung von Rechts nach Links."
   ],
   "cell_type": "markdown",
   "metadata": {}
  },
  {
   "cell_type": "code",
   "execution_count": null,
   "metadata": {},
   "outputs": [],
   "source": [
    "example = \"Hallo Welt\"\n"
   ]
  },
  {
   "source": [
    "Lösung:"
   ],
   "cell_type": "markdown",
   "metadata": {}
  },
  {
   "cell_type": "code",
   "execution_count": 10,
   "metadata": {},
   "outputs": [
    {
     "output_type": "stream",
     "name": "stdout",
     "text": [
      "tleW ollaH\n"
     ]
    }
   ],
   "source": [
    "example = \"Hallo Welt\"\n",
    "reversed_example = \"\"\n",
    "for i in range(len(example)-1,-1,-1):\n",
    "    reversed_example += example[i]\n",
    "print(reversed_example)"
   ]
  },
  {
   "source": [
    "## Übung 3:\n",
    "Finden Sie alle Primzahlen von 2 bis 100 und geben Sie die Summe der Primzahlen und die Summe der Nicht-Primzahlen aus. Erinnerung: Eine Primzahl ist eine Zahl, die nur durch sich selbst und durch 1 ganzzahlig teilbar ist."
   ],
   "cell_type": "markdown",
   "metadata": {}
  },
  {
   "source": [
    "Lösung:"
   ],
   "cell_type": "markdown",
   "metadata": {}
  },
  {
   "cell_type": "code",
   "execution_count": 3,
   "metadata": {},
   "outputs": [
    {
     "output_type": "stream",
     "name": "stdout",
     "text": [
      "Summe der Primzahlen:  1060\nSumme der Nicht-Primzahlen:  3889\n"
     ]
    }
   ],
   "source": [
    "summe_prim = 0\n",
    "summe_nicht_prim = 0\n",
    "for n in range(2, 100):\n",
    "     for x in range(2, n):\n",
    "         if n % x == 0:\n",
    "             summe_nicht_prim += n\n",
    "             break\n",
    "     else:\n",
    "         summe_prim += n\n",
    "print(\"Summe der Primzahlen: \", summe_prim)\n",
    "print(\"Summe der Nicht-Primzahlen: \", summe_nicht_prim)"
   ]
  },
  {
   "cell_type": "code",
   "execution_count": null,
   "metadata": {},
   "outputs": [],
   "source": []
  }
 ],
 "metadata": {
  "kernelspec": {
   "name": "python3",
   "display_name": "Python 3.8.5 64-bit"
  },
  "language_info": {
   "codemirror_mode": {
    "name": "ipython",
    "version": 3
   },
   "file_extension": ".py",
   "mimetype": "text/x-python",
   "name": "python",
   "nbconvert_exporter": "python",
   "pygments_lexer": "ipython3",
   "version": "3.8.5"
  },
  "interpreter": {
   "hash": "916dbcbb3f70747c44a77c7bcd40155683ae19c65e1c03b4aa3499c5328201f1"
  }
 },
 "nbformat": 4,
 "nbformat_minor": 5
}