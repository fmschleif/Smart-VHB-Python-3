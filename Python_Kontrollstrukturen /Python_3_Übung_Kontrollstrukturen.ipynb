{
 "cells": [
  {
   "source": [
    "# Übung 1:\n",
    "Finden Sie den größten ganzzahligen Teiler von 61.\n"
   ],
   "cell_type": "markdown",
   "metadata": {}
  },
  {
   "source": [
    "Lösung:"
   ],
   "cell_type": "markdown",
   "metadata": {}
  },
  {
   "cell_type": "code",
   "execution_count": 7,
   "id": "aa59a7f7",
   "metadata": {},
   "outputs": [
    {
     "output_type": "stream",
     "name": "stdout",
     "text": [
      "Der größte ganzzahlige Teiler ist 31\n"
     ]
    }
   ],
   "source": [
    "x = 62\n",
    "teiler = x - 1\n",
    "while teiler > 1:\n",
    "    if x % teiler == 0:\n",
    "        print(\"Der größte ganzzahlige Teiler ist \" + str(teiler))\n",
    "        break\n",
    "    teiler -= 1\n",
    "else:\n",
    "    print(\"Der größte ganzzahlige Teiler ist 1\")"
   ]
  },
  {
   "cell_type": "code",
   "execution_count": null,
   "metadata": {},
   "outputs": [],
   "source": []
  },
  {
   "source": [
    "# Übung 2:\n",
    "..."
   ],
   "cell_type": "markdown",
   "metadata": {}
  },
  {
   "source": [
    "Lösung:"
   ],
   "cell_type": "markdown",
   "metadata": {}
  },
  {
   "cell_type": "code",
   "execution_count": null,
   "metadata": {},
   "outputs": [],
   "source": []
  }
 ],
 "metadata": {
  "kernelspec": {
   "name": "python3",
   "display_name": "Python 3.8.5 64-bit"
  },
  "language_info": {
   "codemirror_mode": {
    "name": "ipython",
    "version": 3
   },
   "file_extension": ".py",
   "mimetype": "text/x-python",
   "name": "python",
   "nbconvert_exporter": "python",
   "pygments_lexer": "ipython3",
   "version": "3.8.5"
  },
  "interpreter": {
   "hash": "916dbcbb3f70747c44a77c7bcd40155683ae19c65e1c03b4aa3499c5328201f1"
  }
 },
 "nbformat": 4,
 "nbformat_minor": 5
}