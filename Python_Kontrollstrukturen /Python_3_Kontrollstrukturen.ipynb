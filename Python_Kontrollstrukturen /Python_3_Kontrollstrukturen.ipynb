{
 "cells": [
  {
   "cell_type": "markdown",
   "source": [
    "# Kontrollstrukturen in Python 3"
   ],
   "metadata": {}
  },
  {
   "cell_type": "markdown",
   "source": [
    "Diese Präsentation ist ein Jupyter Notebook. Mit Jupyter-Notebooks können gewöhnliche Präsentation-Slides und Code kombiniert dargestellt werden. Eine Code-Slide erkennen Sie an ```In [Zahl]:``` und ```Out[Zahl]:```. Dabei bezeichnet ```In``` den verwendeten Code und ```Out``` die Ausgabe dessen. Achten Sie auf ```#``` Symbole für weitere Informationen."
   ],
   "metadata": {}
  },
  {
   "cell_type": "markdown",
   "source": [
    "## Lernziele\n",
    "- Die verschiedenen Kontrollstrukturen können benannt werden.\n",
    "- Die Iteration von Collections oder Strings sollte bekannt sein.\n",
    "- Komplexere Berechnungen können umgesetzt werden.\n",
    "- Die range() und enumerate() Funktionen können eingesetzt werden. "
   ],
   "metadata": {}
  },
  {
   "cell_type": "markdown",
   "source": [
    "## Vorkenntnisse \n",
    "- Grundlagen in Mathematik und Logik \n",
    "- Grundlagen in Variablen und Operatoren\n",
    "- Keine tiefergehenden Python Kenntnisse (z.B. Collections, Methoden)"
   ],
   "metadata": {}
  },
  {
   "cell_type": "markdown",
   "source": [
    "## Zielgruppe\n",
    "- Studierende in Naturwissenschaftlichen\n",
    "- Studierende in Ingenieurstudiengängen \n",
    "- Studierende mit anderweitigem naturwissenschaftlichen/technischen Hintergrund\n",
    "- Studierende mit ersten Erfahurngen in anderen Programmiersprachen"
   ],
   "metadata": {}
  },
  {
   "cell_type": "markdown",
   "source": [
    "## Aufbau\n",
    "- Definition Kontrollstrukturen \n",
    "- If Abfrage\n",
    "- If-Else Abfrage\n",
    "- If-Elif-Else Abfrage\n",
    "- Bedingte Variablendefinition\n",
    "- While Schleife\n",
    "- For Schleife\n",
    "- range() Funktion\n",
    "- enumerate() Funktion"
   ],
   "metadata": {}
  },
  {
   "cell_type": "markdown",
   "source": [
    "### If Abfrage\n",
    "Die If Abfrage prüft eine Bedingung und führt den designierten Code nach der Abfrage nur dann aus, wenn die Bedingung True ist. Falls nicht, werden diese Codezeilen übersprungen."
   ],
   "metadata": {}
  },
  {
   "cell_type": "markdown",
   "source": [
    "## Syntax\n",
    "`if Bedingung:` Abfrage via if und Boolean Wert </br>\n",
    "&emsp;&emsp;`Code`  Code der ausgeführt werden soll</br>\n",
    "`else`: Else besitzt nur implizierte Bedingung </br>\n",
    "&emsp;&emsp;`Code` Zeile wird bei else ausgeführt.</br>\n",
    "`Code` kann auch leer sein.</br>"
   ],
   "metadata": {}
  },
  {
   "cell_type": "code",
   "execution_count": 1,
   "source": [
    "#Beispiel\n",
    "x = 5 # Zuweisung der Variable x mit einem Integer\n",
    "if x > 2: # Wenn die Variable x größer ist als zwei, dann...\n",
    "    print(\"x ist größer 2\")"
   ],
   "outputs": [
    {
     "output_type": "stream",
     "name": "stdout",
     "text": [
      "x ist größer 2\n"
     ]
    }
   ],
   "metadata": {}
  },
  {
   "cell_type": "markdown",
   "source": [
    "## If-Else Abfrage\n",
    "Wenn neben der Hauptabfrage etwas passieren soll, wenn die Bedungung nicht True ist, dann kann Else benutzt werden."
   ],
   "metadata": {}
  },
  {
   "cell_type": "code",
   "execution_count": 45,
   "source": [
    "x = 2 # Zuweisung der Variable x mit einem Integer\n",
    "if x > 2: # Wenn die Variable x größer ist als zwei, dann...\n",
    "    print(\"x ist größer 2\")\n",
    "else: # Sonst...\n",
    "    print(\"x ist kleiner gleich 2\")"
   ],
   "outputs": [
    {
     "output_type": "stream",
     "name": "stdout",
     "text": [
      "x ist kleiner gleich 2\n"
     ]
    }
   ],
   "metadata": {}
  },
  {
   "cell_type": "markdown",
   "source": [
    "## If-Elif-Else\n",
    "Elif steht für Else If und prüft ähnlich wie die If Abfrage eine weitere Bedingung. Eine Elif Abfrage kann nur nach einer If Abfrage kommen, sie ist aber optional. Eine Elif Abfrage kann auch für verschiedene Bedingungen eigesetzt werden und ist nicht nur auf einen Einsatz pro If Abfrage beschränkt. Daher kann Elif ähnlich wie ein Switch Case oder Select von anderen Sprachen verwendet werden."
   ],
   "metadata": {}
  },
  {
   "cell_type": "code",
   "execution_count": 5,
   "source": [
    "x = 7 # Zuweisung der Variable x mit einem Integer\n",
    "if x % 5 == 0: # Ist die Variable x ganzzahlig durch fünf teilbar? Dann...\n",
    "    print(\"x ist ganzzahlig durch fünf teilbar\")\n",
    "elif x % 3 == 0: # Ist die Variable x ganzzahlig durch drei teilbar? Dann...\n",
    "    print(\"x ist ganzzahlig durch drei teilbar\")\n",
    "else: # Sonst...\n",
    "    print(\"x ist nicht ganzzahlig durch zwei oder drei teilbar\")"
   ],
   "outputs": [
    {
     "output_type": "stream",
     "name": "stdout",
     "text": [
      "x ist nicht ganzzahlig durch zwei oder drei teilbar\n"
     ]
    }
   ],
   "metadata": {}
  },
  {
   "cell_type": "markdown",
   "source": [
    "## Bedingte Variablendefinition\n",
    "Eine If-(Elif-)Else Abfrage kann auch benutzt werden, um dynamisch Variablen zu definieren oder zu maniplieren. Zusätzlich gibt es für diese Abfrage eine Kurzform. Für das Beispiel wird hier die Wurzelfunktion sqrt() importiert."
   ],
   "metadata": {}
  },
  {
   "cell_type": "code",
   "execution_count": null,
   "source": [
    "# Import der Wurzelfunktion\n",
    "from math import sqrt"
   ],
   "outputs": [],
   "metadata": {}
  },
  {
   "cell_type": "code",
   "execution_count": 15,
   "source": [
    "x=6 # Zuweisung der Variable x mit einem Integer\n",
    "if x<=0: # Wenn x negativ ist, dann:\n",
    "    x=0\n",
    "else: # Sonst...\n",
    "    x=sqrt(x)\n",
    "print(x)"
   ],
   "outputs": [
    {
     "output_type": "stream",
     "name": "stdout",
     "text": [
      "2.449489742783178\n"
     ]
    }
   ],
   "metadata": {}
  },
  {
   "cell_type": "markdown",
   "source": [
    "## Shortcuts "
   ],
   "metadata": {}
  },
  {
   "cell_type": "code",
   "execution_count": 19,
   "source": [
    "x=6 # Zuweisung der Variable x mit einem Integer\n",
    "x=(0 if x<=0 else sqrt(x)) # Wenn x negativ ist, dann wird x auf 0 gesetzt, sonst wird x = wurzel(x) gesetzt.\n",
    "print(x)"
   ],
   "outputs": [
    {
     "output_type": "stream",
     "name": "stdout",
     "text": [
      "2.449489742783178\n"
     ]
    }
   ],
   "metadata": {}
  },
  {
   "cell_type": "markdown",
   "source": [
    "# Schleifen"
   ],
   "metadata": {}
  },
  {
   "cell_type": "markdown",
   "source": [
    "## While\n",
    "Eine While Schleife führt den Inhalt so lange aus, bis die Bedingung False ist. Die Bedingung wird vor jeder Ausführung geprüft."
   ],
   "metadata": {}
  },
  {
   "cell_type": "code",
   "execution_count": 7,
   "source": [
    "y = 0 # Zuweisung der Variable y mit einem Integer\n",
    "while y < 10: # Solange y kleiner als 10 ist\n",
    "    print(y)\n",
    "    if y < 0: # Wenn y negativ ist, dann...\n",
    "        break # Schleife vorzeitig abbrechen\n",
    "    elif y == 5: # Wenn y gleich 5 ist, dann...\n",
    "        y+=2 # y um zwei hochzählen\n",
    "        continue # Restlichen Schleifendurchlauf überspringen\n",
    "    else: # Sonst...\n",
    "        y+=1 # y um eins hochzählen\n",
    "else: # Sonst (y größer gleich 10)\n",
    "    print(\"fertig\")"
   ],
   "outputs": [
    {
     "output_type": "stream",
     "name": "stdout",
     "text": [
      "0\n",
      "1\n",
      "2\n",
      "3\n",
      "4\n",
      "5\n",
      "7\n",
      "8\n",
      "9\n",
      "fertig\n"
     ]
    }
   ],
   "metadata": {}
  },
  {
   "cell_type": "markdown",
   "source": [
    "## For Schleife\n",
    "Anders als in anderen Sprachen durchläuft die For Schleife die Elemente von Listen, Strings, Arrays oder anderen Collections nach der Reihenfolge und benötigt keinen expliziten Stop- oder Indexmechanismus. Dieser Mechanismus kann auch genutzt werden, um neue Variablen, wie Strings und Collections, zu erstellen oder zu ändern."
   ],
   "metadata": {}
  },
  {
   "cell_type": "code",
   "execution_count": 1,
   "source": [
    "example_string = \"Hallo Welt\" # Zuweisung der Variable mit einem String\n",
    "for c in example_string: # Für jeden Charakter (=Element) in der Variable:\n",
    "    print(c)"
   ],
   "outputs": [
    {
     "output_type": "stream",
     "name": "stdout",
     "text": [
      "H\n",
      "a\n",
      "l\n",
      "l\n",
      "o\n",
      " \n",
      "W\n",
      "e\n",
      "l\n",
      "t\n"
     ]
    }
   ],
   "metadata": {}
  },
  {
   "cell_type": "code",
   "execution_count": 4,
   "source": [
    "example_string = \"Hallo Welt\" # Zuweisung der Variable mit einem String\n",
    "neuer_string = \"\" # Zuweisung der Variable mit einem leeren String\n",
    "for c in example_string: # Für jeden Charakter (=Element) in der Variable:\n",
    "    if c != \"l\": # Wenn der Charakter kein \"l\" ist, dann\n",
    "        neuer_string += c # füge den Charakter im Durchlauf zum neuen String dazu\n",
    "print(neuer_string) "
   ],
   "outputs": [
    {
     "output_type": "stream",
     "name": "stdout",
     "text": [
      "Hao Wet\n"
     ]
    }
   ],
   "metadata": {}
  },
  {
   "cell_type": "markdown",
   "source": [
    "## Die range() Funktion\n",
    "Die range(Start, Ende, Schritt) Funktion kann Sequenzen generieren, zum Beispiel für for Schleifen mit Start-, End- und Schrittwerten."
   ],
   "metadata": {}
  },
  {
   "cell_type": "code",
   "execution_count": 35,
   "source": [
    "y = 0 # Zuweisung der Variable x mit einem Integer\n",
    "for iteration in range(10): # 10 mal ausführen; range erstellt eine Liste von 0-9\n",
    "    print(\"Iteration: \" + str(iteration) + \", y: \" + str(y))\n",
    "    if y < 0: # Wenn y negativ ist, dann...\n",
    "        break # Schleife vorzeigig abbrechen\n",
    "    elif y == 5: # Wenn y gleich 5 ist, dann...\n",
    "        y+=2 # y um zwei hochzählen\n",
    "        continue # Restlichen Schleifendurchlauf überspringen\n",
    "    else: # Sonst...\n",
    "        y+=1 # y um eins hochzählen\n",
    "else: # Sonst (liste ist komplett durchgelaufen)\n",
    "    print(\"fertig\")"
   ],
   "outputs": [
    {
     "output_type": "stream",
     "name": "stdout",
     "text": [
      "Iteration: 0, y: 0\n",
      "Iteration: 1, y: 1\n",
      "Iteration: 2, y: 2\n",
      "Iteration: 3, y: 3\n",
      "Iteration: 4, y: 4\n",
      "Iteration: 5, y: 5\n",
      "Iteration: 6, y: 7\n",
      "Iteration: 7, y: 8\n",
      "Iteration: 8, y: 9\n",
      "Iteration: 9, y: 10\n",
      "fertig\n"
     ]
    }
   ],
   "metadata": {}
  },
  {
   "cell_type": "code",
   "execution_count": 8,
   "source": [
    "example_string = \"Hallo Welt\" # Zuweisung der Variable mit einem String\n",
    "for index in range(0,len(example_string),2): # Durchlaufe jeden zweiten Charakter. Die len() Funktion bestimmt die Länge einer Collection / eines Strings\n",
    "     print(index, example_string[index]) "
   ],
   "outputs": [
    {
     "output_type": "stream",
     "name": "stdout",
     "text": [
      "0 H\n",
      "2 l\n",
      "4 o\n",
      "6 W\n",
      "8 l\n"
     ]
    }
   ],
   "metadata": {}
  },
  {
   "cell_type": "markdown",
   "source": [
    "## Die enumerate() Funktion\n",
    "Alternativ ähnlich wie oben mit enumerate(collection/string) und einer if Abfrage. Die enumerate() Funktion gibt alle Elemente in einer Collection / alle Chars in einem String mit demm jeweiligen Index zurück."
   ],
   "metadata": {}
  },
  {
   "cell_type": "code",
   "execution_count": 1,
   "source": [
    "example_string = \"Hallo Welt\" # Zuweisung der Variable mit einem String\n",
    "for index,c in enumerate(example_string): # Durchlaufe jeden Charakter\n",
    "     if index % 2 == 0: # Jeder zweite Charakter\n",
    "        print(index, c) "
   ],
   "outputs": [
    {
     "output_type": "stream",
     "name": "stdout",
     "text": [
      "0 H\n",
      "2 l\n",
      "4 o\n",
      "6 W\n",
      "8 l\n"
     ]
    }
   ],
   "metadata": {}
  },
  {
   "cell_type": "markdown",
   "source": [
    "# Zusammenfassung \n",
    "- Sie können dieses Notebook mit jedem Jupyter Server ausführen.\n",
    "- Beispielsweise in Google Collab: https://colab.research.google.com/\n",
    "- Kontrollstrukturen werden gebraucht, wenn etwas mehrfach ausgeführt werden soll.\n",
    "- Kontrollstrukturen werden auch gebraucht, um Logik und verschiedene Programmabläufe abbilden zu können.\n",
    "- Die Kontrollstrukturen in Kombination mit Variablen und Operatoren sind das Grundgerüst von Programmen und können in Funktionen ausgelagert werden. "
   ],
   "metadata": {}
  },
  {
   "cell_type": "markdown",
   "source": [
    "## Quellen\n",
    "- https://docs.python.org/3/tutorial/controlflow.html"
   ],
   "metadata": {}
  }
 ],
 "metadata": {
  "kernelspec": {
   "name": "python3",
   "display_name": "Python 3.7.11 64-bit ('thesis': conda)"
  },
  "language_info": {
   "codemirror_mode": {
    "name": "ipython",
    "version": 3
   },
   "file_extension": ".py",
   "mimetype": "text/x-python",
   "name": "python",
   "nbconvert_exporter": "python",
   "pygments_lexer": "ipython3",
   "version": "3.7.11"
  },
  "interpreter": {
   "hash": "e16839f294d4c0c3a950d69e469040cf54ee0fe2b9ac54c836cd69dce56f946f"
  }
 },
 "nbformat": 4,
 "nbformat_minor": 5
}