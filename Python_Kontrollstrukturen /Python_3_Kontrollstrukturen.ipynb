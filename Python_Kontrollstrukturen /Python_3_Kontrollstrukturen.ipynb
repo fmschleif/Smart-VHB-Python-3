{
 "cells": [
  {
   "source": [
    "# Kontrollstrukturen in Python 3\n",
    "Diese Präsentation ist ein Jupyter Notebook. Achten Sie auf $\\#$ Symbole für weitere Informationen.\n"
   ],
   "cell_type": "markdown",
   "metadata": {}
  },
  {
   "source": [
    "## Lernziele\n",
    "- Die verschiedenen Kontrollstrukturen können benannt werden.\n",
    "- Die Iteration von Collections oder Strings sollte bekannt sein.\n",
    "- Komplexere Berechnungen können umgesetzt werden.\n",
    "- Die range() und enumerate() Funktionen können eingesetzt werden. "
   ],
   "cell_type": "markdown",
   "metadata": {}
  },
  {
   "source": [
    "## Vorkenntnisse \n",
    "- Grundlagen in Mathematik und Logik \n",
    "- Grundlagen in Variablen und Operatoren\n",
    "- Keine tiefergehenden Python Kenntnisse (z.B. Collections, Methoden)"
   ],
   "cell_type": "markdown",
   "metadata": {}
  },
  {
   "source": [
    "## Zielgruppe\n",
    "- Studierende in Naturwissenschaftlichen\n",
    "- Studierende in Ingenieurstudiengängen \n",
    "- Studierende mit anderweitigem naturwissenschaftlichen/technischen Hintergrund\n",
    "- Studierende mit ersten Erfahurngen in anderen Programmiersprachen"
   ],
   "cell_type": "markdown",
   "metadata": {}
  },
  {
   "source": [
    "## Aufbau\n",
    "- Definition Kontrollstrukturen \n",
    "- If Abfrage\n",
    "- If-Else Abfrage\n",
    "- If-Elif-Else Abfrage\n",
    "- Bedingte Variablendefinition\n",
    "- While Schleife\n",
    "- For Schleife\n",
    "- range() Funktion\n",
    "- enumerate() Funktion"
   ],
   "cell_type": "markdown",
   "metadata": {}
  },
  {
   "source": [
    "### If Abfrage\n",
    "Die If Abfrage prüft eine Bedingung und führt den designierten Code nach der Abfrage nur dann aus, wenn die Bedingung True ist. Falls nicht, werden diese Codezeilen übersprungen."
   ],
   "cell_type": "markdown",
   "metadata": {}
  },
  {
   "cell_type": "code",
   "execution_count": 43,
   "metadata": {},
   "outputs": [
    {
     "output_type": "stream",
     "name": "stdout",
     "text": [
      "x ist größer 2\n"
     ]
    }
   ],
   "source": [
    "x = 5 # Zuweisung der Variable x mit einem Integer\n",
    "if x > 2: # Wenn die Variable x größer ist als zwei, dann...\n",
    "    print(\"x ist größer 2\")"
   ]
  },
  {
   "source": [
    "## If-Else Abfrage\n",
    "Wenn neben der Hauptabfrage etwas passieren soll, wenn die Bedungung nicht True ist, dann kann Else benutzt werden."
   ],
   "cell_type": "markdown",
   "metadata": {}
  },
  {
   "cell_type": "code",
   "execution_count": 45,
   "metadata": {},
   "outputs": [
    {
     "output_type": "stream",
     "name": "stdout",
     "text": [
      "x ist kleiner gleich 2\n"
     ]
    }
   ],
   "source": [
    "x = 2 # Zuweisung der Variable x mit einem Integer\n",
    "if x > 2: # Wenn die Variable x größer ist als zwei, dann...\n",
    "    print(\"x ist größer 2\")\n",
    "else: # Sonst...\n",
    "    print(\"x ist kleiner gleich 2\")"
   ]
  },
  {
   "source": [
    "## If-Elif-Else\n",
    "Elif steht für Else If und prüft ähnlich wie die If Abfrage eine weitere Bedingung. Eine Elif Abfrage kann nur nach einer If Abfrage kommen, sie ist aber optional. Eine Elif Abfrage kann auch für verschiedene Bedingungen eigesetzt werden und ist nicht nur auf einen Einsatz pro If Abfrage beschränkt. Daher kann Elif ähnlich wie ein Switch Case oder Select von anderen Sprachen verwendet werden."
   ],
   "cell_type": "markdown",
   "metadata": {}
  },
  {
   "source": [
    "x = 7 # Zuweisung der Variable x mit einem Integer\n",
    "if x % 5 == 0: # Ist die Variable x ganzzahlig durch fünf teilbar? Dann...\n",
    "    print(\"x ist ganzzahlig durch fünf teilbar\")\n",
    "elif x % 3 == 0: # Ist die Variable x ganzzahlig durch drei teilbar? Dann...\n",
    "    print(\"x ist ganzzahlig durch drei teilbar\")\n",
    "else: # Sonst...\n",
    "    print(\"x ist nicht ganzzahlig durch zwei oder drei teilbar\")"
   ],
   "cell_type": "code",
   "metadata": {},
   "execution_count": 5,
   "outputs": [
    {
     "output_type": "stream",
     "name": "stdout",
     "text": [
      "x ist nicht ganzzahlig durch zwei oder drei teilbar\n"
     ]
    }
   ]
  },
  {
   "source": [
    "## Bedingte Variablendefinition\n",
    "Eine If-(Elif-)Else Abfrage kann auch benutzt werden, um dynamisch Variablen zu definieren oder zu maniplieren. Zusätzlich gibt es für diese Abfrage eine Kurzform. Für das Beispiel wird hier die Wurzelfunktion sqrt() importiert."
   ],
   "cell_type": "markdown",
   "metadata": {}
  },
  {
   "cell_type": "code",
   "execution_count": null,
   "metadata": {},
   "outputs": [],
   "source": [
    "# Import der Wurzelfunktion\n",
    "from math import sqrt"
   ]
  },
  {
   "cell_type": "code",
   "execution_count": 15,
   "metadata": {},
   "outputs": [
    {
     "output_type": "stream",
     "name": "stdout",
     "text": [
      "2.449489742783178\n"
     ]
    }
   ],
   "source": [
    "x=6 # Zuweisung der Variable x mit einem Integer\n",
    "if x<=0: # Wenn x negativ ist, dann:\n",
    "    x=0\n",
    "else: # Sonst...\n",
    "    x=sqrt(x)\n",
    "print(x)"
   ]
  },
  {
   "cell_type": "code",
   "execution_count": 19,
   "metadata": {},
   "outputs": [
    {
     "output_type": "stream",
     "name": "stdout",
     "text": [
      "2.449489742783178\n"
     ]
    }
   ],
   "source": [
    "x=6 # Zuweisung der Variable x mit einem Integer\n",
    "x=(0 if x<=0 else sqrt(x)) # Wenn x negativ ist, dann wird x auf 0 gesetzt, sonst wird x = wurzel(x) gesetzt.\n",
    "print(x)"
   ]
  },
  {
   "source": [
    "# Schleifen"
   ],
   "cell_type": "markdown",
   "metadata": {}
  },
  {
   "source": [
    "## While\n",
    "Eine While Schleife führt den Inhalt so lange aus, bis die Bedingung False ist. Die Bedingung wird vor jeder Ausführung geprüft."
   ],
   "cell_type": "markdown",
   "metadata": {}
  },
  {
   "cell_type": "code",
   "execution_count": 7,
   "metadata": {},
   "outputs": [
    {
     "output_type": "stream",
     "name": "stdout",
     "text": [
      "0\n1\n2\n3\n4\n5\n7\n8\n9\nfertig\n"
     ]
    }
   ],
   "source": [
    "y = 0 # Zuweisung der Variable y mit einem Integer\n",
    "while y < 10: # Solange y kleiner als 10 ist\n",
    "    print(y)\n",
    "    if y < 0: # Wenn y negativ ist, dann...\n",
    "        break # Schleife vorzeitig abbrechen\n",
    "    elif y == 5: # Wenn y gleich 5 ist, dann...\n",
    "        y+=2 # y um zwei hochzählen\n",
    "        continue # Restlichen Schleifendurchlauf überspringen\n",
    "    else: # Sonst...\n",
    "        y+=1 # y um eins hochzählen\n",
    "else: # Sonst (y größer gleich 10)\n",
    "    print(\"fertig\")"
   ]
  },
  {
   "source": [
    "## For Schleife\n",
    "Anders als in anderen Sprachen durchläuft die For Schleife die Elemente von Listen, Strings, Arrays oder anderen Collections nach der Reihenfolge und benötigt keinen expliziten Stop- oder Indexmechanismus. Dieser Mechanismus kann auch genutzt werden, um neue Variablen, wie Strings und Collections, zu erstellen oder zu ändern."
   ],
   "cell_type": "markdown",
   "metadata": {}
  },
  {
   "cell_type": "code",
   "execution_count": 1,
   "metadata": {},
   "outputs": [
    {
     "output_type": "stream",
     "name": "stdout",
     "text": [
      "H\na\nl\nl\no\n \nW\ne\nl\nt\n"
     ]
    }
   ],
   "source": [
    "example_string = \"Hallo Welt\" # Zuweisung der Variable mit einem String\n",
    "for c in example_string: # Für jeden Charakter (=Element) in der Variable:\n",
    "    print(c)"
   ]
  },
  {
   "cell_type": "code",
   "execution_count": 4,
   "metadata": {},
   "outputs": [
    {
     "output_type": "stream",
     "name": "stdout",
     "text": [
      "Hao Wet\n"
     ]
    }
   ],
   "source": [
    "example_string = \"Hallo Welt\" # Zuweisung der Variable mit einem String\n",
    "neuer_string = \"\" # Zuweisung der Variable mit einem leeren String\n",
    "for c in example_string: # Für jeden Charakter (=Element) in der Variable:\n",
    "    if c != \"l\": # Wenn der Charakter kein \"l\" ist, dann\n",
    "        neuer_string += c # füge den Charakter im Durchlauf zum neuen String dazu\n",
    "print(neuer_string) "
   ]
  },
  {
   "source": [
    "## Die range() Funktion\n",
    "Die range(Start, Ende, Schritt) Funktion kann Sequenzen generieren, zum Beispiel für for Schleifen mit Start-, End- und Schrittwerten."
   ],
   "cell_type": "markdown",
   "metadata": {}
  },
  {
   "cell_type": "code",
   "execution_count": 35,
   "metadata": {},
   "outputs": [
    {
     "output_type": "stream",
     "name": "stdout",
     "text": [
      "Iteration: 0, y: 0\nIteration: 1, y: 1\nIteration: 2, y: 2\nIteration: 3, y: 3\nIteration: 4, y: 4\nIteration: 5, y: 5\nIteration: 6, y: 7\nIteration: 7, y: 8\nIteration: 8, y: 9\nIteration: 9, y: 10\nfertig\n"
     ]
    }
   ],
   "source": [
    "y = 0 # Zuweisung der Variable x mit einem Integer\n",
    "for iteration in range(10): # 10 mal ausführen; range erstellt eine Liste von 0-9\n",
    "    print(\"Iteration: \" + str(iteration) + \", y: \" + str(y))\n",
    "    if y < 0: # Wenn y negativ ist, dann...\n",
    "        break # Schleife vorzeigig abbrechen\n",
    "    elif y == 5: # Wenn y gleich 5 ist, dann...\n",
    "        y+=2 # y um zwei hochzählen\n",
    "        continue # Restlichen Schleifendurchlauf überspringen\n",
    "    else: # Sonst...\n",
    "        y+=1 # y um eins hochzählen\n",
    "else: # Sonst (liste ist komplett durchgelaufen)\n",
    "    print(\"fertig\")"
   ]
  },
  {
   "cell_type": "code",
   "execution_count": 8,
   "metadata": {},
   "outputs": [
    {
     "output_type": "stream",
     "name": "stdout",
     "text": [
      "0 H\n2 l\n4 o\n6 W\n8 l\n"
     ]
    }
   ],
   "source": [
    "example_string = \"Hallo Welt\" # Zuweisung der Variable mit einem String\n",
    "for index in range(0,len(example_string),2): # Durchlaufe jeden zweiten Charakter. Die len() Funktion bestimmt die Länge einer Collection / eines Strings\n",
    "     print(index, example_string[index]) "
   ]
  },
  {
   "source": [
    "## Die enumerate() Funktion\n",
    "Alternativ ähnlich wie oben mit enumerate(collection/string) und einer if Abfrage. Die enumerate() Funktion gibt alle Elemente in einer Collection / alle Chars in einem String mit demm jeweiligen Index zurück."
   ],
   "cell_type": "markdown",
   "metadata": {}
  },
  {
   "cell_type": "code",
   "execution_count": 1,
   "metadata": {},
   "outputs": [
    {
     "output_type": "stream",
     "name": "stdout",
     "text": [
      "0 H\n2 l\n4 o\n6 W\n8 l\n"
     ]
    }
   ],
   "source": [
    "example_string = \"Hallo Welt\" # Zuweisung der Variable mit einem String\n",
    "for index,c in enumerate(example_string): # Durchlaufe jeden Charakter\n",
    "     if index % 2 == 0: # Jeder zweite Charakter\n",
    "        print(index, c) "
   ]
  },
  {
   "source": [
    "# Zusammenfassung \n",
    "- Sie können dieses Notebook mit jedem Jupyter Server ausführen.\n",
    "- Beispielsweise in Google Collab: https://colab.research.google.com/\n",
    "- Kontrollstrukturen werden gebraucht, wenn etwas mehrfach ausgeführt werden soll.\n",
    "- Kontrollstrukturen werden auch gebraucht, um Logik und verschiedene Programmabläufe abbilden zu können.\n",
    "- Die Kontrollstrukturen in Kombination mit Variablen und Operatoren sind das Grundgerüst von Programmen und können in Funktionen ausgelagert werden. "
   ],
   "cell_type": "markdown",
   "metadata": {}
  },
  {
   "source": [
    "## Quellen\n",
    "- https://docs.python.org/3/tutorial/controlflow.html"
   ],
   "cell_type": "markdown",
   "metadata": {}
  }
 ],
 "metadata": {
  "kernelspec": {
   "name": "python3",
   "display_name": "Python 3.8.8 64-bit ('python3': conda)"
  },
  "language_info": {
   "codemirror_mode": {
    "name": "ipython",
    "version": 3
   },
   "file_extension": ".py",
   "mimetype": "text/x-python",
   "name": "python",
   "nbconvert_exporter": "python",
   "pygments_lexer": "ipython3",
   "version": "3.8.8"
  },
  "interpreter": {
   "hash": "1138f79decc51b83a3ea60d92cab6f6fea32c5813347b77c2d181441fcf8c397"
  }
 },
 "nbformat": 4,
 "nbformat_minor": 5
}