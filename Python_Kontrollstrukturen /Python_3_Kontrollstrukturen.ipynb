{
 "cells": [
  {
   "source": [
    "# Kontrollstrukturen in Python 3"
   ],
   "cell_type": "markdown",
   "metadata": {}
  },
  {
   "cell_type": "code",
   "execution_count": 10,
   "metadata": {},
   "outputs": [],
   "source": [
    "# Import der Wurzelfunktion\n",
    "from math import sqrt"
   ]
  },
  {
   "source": [
    "If Abfrage"
   ],
   "cell_type": "markdown",
   "metadata": {}
  },
  {
   "cell_type": "code",
   "execution_count": 43,
   "metadata": {},
   "outputs": [
    {
     "output_type": "stream",
     "name": "stdout",
     "text": [
      "x ist größer 2\n"
     ]
    }
   ],
   "source": [
    "x = 5 # Zuweisung der Variable x mit einem Integer\n",
    "if x > 2: # Wenn die Variable x größer ist als zwei, dann...\n",
    "    print(\"x ist größer 2\")"
   ]
  },
  {
   "source": [
    "If-Else Abfrage"
   ],
   "cell_type": "markdown",
   "metadata": {}
  },
  {
   "cell_type": "code",
   "execution_count": 45,
   "metadata": {},
   "outputs": [
    {
     "output_type": "stream",
     "name": "stdout",
     "text": [
      "x ist kleiner gleich 2\n"
     ]
    }
   ],
   "source": [
    "x = 2 # Zuweisung der Variable x mit einem Integer\n",
    "if x > 2: # Wenn die Variable x größer ist als zwei, dann...\n",
    "    print(\"x ist größer 2\")\n",
    "else: # Sonst...\n",
    "    print(\"x ist kleiner gleich 2\")"
   ]
  },
  {
   "source": [
    "If-Elif-Else"
   ],
   "cell_type": "markdown",
   "metadata": {}
  },
  {
   "source": [
    "x = 7 # Zuweisung der Variable x mit einem Integer\n",
    "if x % 5 == 0: # Ist die Variable x ganzzahlig durch fünf teilbar? Dann...\n",
    "    print(\"x ist ganzzahlig durch fünf teilbar\")\n",
    "elif x % 3 == 0: # Ist die Variable x ganzzahlig durch drei teilbar? Dann...\n",
    "    print(\"x ist ganzzahlig durch drei teilbar\")\n",
    "else: # Sonst...\n",
    "    print(\"x ist nicht ganzzahlig durch zwei oder drei teilbar\")"
   ],
   "cell_type": "code",
   "metadata": {},
   "execution_count": 46,
   "outputs": [
    {
     "output_type": "stream",
     "name": "stdout",
     "text": [
      "x ist nicht ganzzahlig durch zwei oder drei teilbar\n"
     ]
    }
   ]
  },
  {
   "source": [
    "Bedingte Variablendefinition"
   ],
   "cell_type": "markdown",
   "metadata": {}
  },
  {
   "cell_type": "code",
   "execution_count": 15,
   "metadata": {},
   "outputs": [
    {
     "output_type": "stream",
     "name": "stdout",
     "text": [
      "2.449489742783178\n"
     ]
    }
   ],
   "source": [
    "x=6 # Zuweisung der Variable x mit einem Integer\n",
    "if x<=0: # Wenn x negativ ist, dann:\n",
    "    x=0\n",
    "else: # Sonst...\n",
    "    x=sqrt(x)\n",
    "print(x)"
   ]
  },
  {
   "source": [
    "Kurzform"
   ],
   "cell_type": "markdown",
   "metadata": {}
  },
  {
   "cell_type": "code",
   "execution_count": 19,
   "metadata": {},
   "outputs": [
    {
     "output_type": "stream",
     "name": "stdout",
     "text": [
      "2.449489742783178\n"
     ]
    }
   ],
   "source": [
    "x=6 # Zuweisung der Variable x mit einem Integer\n",
    "x=(0 if x<=0 else sqrt(x)) # Wenn x negativ ist, dann wird x auf 0 gesetzt, sonst wird x = wurzel(x) gesetzt.\n",
    "print(x)"
   ]
  },
  {
   "source": [
    "Schleifen"
   ],
   "cell_type": "markdown",
   "metadata": {}
  },
  {
   "source": [
    "While"
   ],
   "cell_type": "markdown",
   "metadata": {}
  },
  {
   "cell_type": "code",
   "execution_count": 51,
   "metadata": {},
   "outputs": [
    {
     "output_type": "stream",
     "name": "stdout",
     "text": [
      "0\n1\n2\n3\n4\n5\n7\n8\n9\nfertig\n"
     ]
    }
   ],
   "source": [
    "y = 0 # Zuweisung der Variable x mit einem Integer\n",
    "while y < 10: # Solange y kleiner als 10 ist\n",
    "    print(y)\n",
    "    if y < 0: # Wenn y negativ ist, dann...\n",
    "        break # Schleife vorzeitig abbrechen\n",
    "    elif y == 5: # Wenn y gleich 5 ist, dann...\n",
    "        y+=2 # y um zwei hochzählen\n",
    "        continue # Restlichen Schleifendurchlauf überspringen\n",
    "    else: # Sonst...\n",
    "        y+=1 # y um eins hochzählen\n",
    "else: # Sonst (y größer gleich 10)\n",
    "    print(\"fertig\")"
   ]
  },
  {
   "source": [
    "For"
   ],
   "cell_type": "markdown",
   "metadata": {}
  },
  {
   "cell_type": "code",
   "execution_count": 35,
   "metadata": {},
   "outputs": [
    {
     "output_type": "stream",
     "name": "stdout",
     "text": [
      "Iteration: 0, y: 0\nIteration: 1, y: 1\nIteration: 2, y: 2\nIteration: 3, y: 3\nIteration: 4, y: 4\nIteration: 5, y: 5\nIteration: 6, y: 7\nIteration: 7, y: 8\nIteration: 8, y: 9\nIteration: 9, y: 10\nfertig\n"
     ]
    }
   ],
   "source": [
    "y = 0 # Zuweisung der Variable x mit einem Integer\n",
    "for iteration in range(10): # 10 mal ausführen; range erstellt eine Liste von 0-9\n",
    "    print(\"Iteration: \" + str(iteration) + \", y: \" + str(y))\n",
    "    if y < 0: # Wenn y negativ ist, dann...\n",
    "        break # Schleife vorzeigig abbrechen\n",
    "    elif y == 5: # Wenn y gleich 5 ist, dann...\n",
    "        y+=2 # y um zwei hochzählen\n",
    "        continue # Restlichen Schleifendurchlauf überspringen\n",
    "    else: # Sonst...\n",
    "        y+=1 # y um eins hochzählen\n",
    "else: # Sonst (liste ist komplett durchgelaufen)\n",
    "    print(\"fertig\")"
   ]
  }
 ],
 "metadata": {
  "kernelspec": {
   "name": "python3",
   "display_name": "Python 3.8.8 64-bit ('python3': conda)"
  },
  "language_info": {
   "codemirror_mode": {
    "name": "ipython",
    "version": 3
   },
   "file_extension": ".py",
   "mimetype": "text/x-python",
   "name": "python",
   "nbconvert_exporter": "python",
   "pygments_lexer": "ipython3",
   "version": "3.8.8"
  },
  "interpreter": {
   "hash": "1138f79decc51b83a3ea60d92cab6f6fea32c5813347b77c2d181441fcf8c397"
  }
 },
 "nbformat": 4,
 "nbformat_minor": 5
}