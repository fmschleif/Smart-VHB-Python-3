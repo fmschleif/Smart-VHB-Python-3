{
  "nbformat": 4,
  "nbformat_minor": 5,
  "metadata": {
    "kernelspec": {
      "name": "python3",
      "display_name": "Python 3.7.11 64-bit ('thesis': conda)"
    },
    "language_info": {
      "codemirror_mode": {
        "name": "ipython",
        "version": 3
      },
      "file_extension": ".py",
      "mimetype": "text/x-python",
      "name": "python",
      "nbconvert_exporter": "python",
      "pygments_lexer": "ipython3",
      "version": "3.7.11"
    },
    "interpreter": {
      "hash": "e16839f294d4c0c3a950d69e469040cf54ee0fe2b9ac54c836cd69dce56f946f"
    },
    "colab": {
      "name": "Python_3_Übung_Kontrollstrukturen.ipynb",
      "provenance": [],
      "include_colab_link": true
    }
  },
  "cells": [
    {
      "cell_type": "markdown",
      "metadata": {
        "id": "view-in-github",
        "colab_type": "text"
      },
      "source": [
        "<a href=\"https://colab.research.google.com/github/ChristophRaab/Smart-VHB-Python-3/blob/main/Python_3_U%CC%88bung_Kontrollstrukturen.ipynb\" target=\"_parent\"><img src=\"https://colab.research.google.com/assets/colab-badge.svg\" alt=\"Open In Colab\"/></a>"
      ]
    },
    {
      "cell_type": "markdown",
      "metadata": {
        "id": "fb4OXBY_OpMC"
      },
      "source": [
        "# Übungen Python 3 Kontrollstrukturen"
      ],
      "id": "fb4OXBY_OpMC"
    },
    {
      "cell_type": "markdown",
      "metadata": {
        "id": "bfHhk-fiOpMD"
      },
      "source": [
        "Diese Präsentation ist ein Jupyter Notebook. Mit Jupyter-Notebooks können gewöhnliche Präsentation-Slides und Code kombiniert dargestellt werden. Eine Code-Slide erkennen Sie an ```In [Zahl]:``` und ```Out[Zahl]:```. Dabei bezeichnet ```In``` den verwendeten Code und ```Out``` die Ausgabe dessen. Achten Sie auf ```#``` Symbole für weitere Informationen."
      ],
      "id": "bfHhk-fiOpMD"
    },
    {
      "cell_type": "markdown",
      "metadata": {
        "id": "mz6PI5WuOpME"
      },
      "source": [
        "## Übung 1:\n",
        "Finden Sie den größten ganzzahligen Teiler von 62, welche nicht 62 ist, mit einer Schleife.\n"
      ],
      "id": "mz6PI5WuOpME"
    },
    {
      "cell_type": "code",
      "metadata": {
        "id": "zLM3fHm5OpME"
      },
      "source": [
        "# Ihre Lösung"
      ],
      "id": "zLM3fHm5OpME",
      "execution_count": null,
      "outputs": []
    },
    {
      "cell_type": "code",
      "metadata": {
        "id": "BY-i2vm9OpMF",
        "outputId": "8e6ab6bf-d6d1-4f7a-a9bf-9fcfd4ef6e1a"
      },
      "source": [
        "# Unsere Lösung\n",
        "x = 62\n",
        "teiler = x - 1 # Jede Zahl ist durch sich selbst teilbar, daher beginnt man bei x - 1.\n",
        "while teiler > 1: # Jede Zahl ist durch eins teilbar, daher prüft man alle Zahlen bis inklusive zwei.\n",
        "    if x % teiler == 0: # wWnn die Zahl x ganzzahlig mit dem derzeitigen Teiler teilbar ist, dann ...\n",
        "        print(\"Der größte ganzzahlige Teiler ist \" + str(teiler))\n",
        "        break # Schleifenabbruch\n",
        "    teiler -= 1  # Wenn nicht, dann Teiler runterzählen und erneut prüfen.\n",
        "else: # Wenn die While Schleife nicht durch break verlassen wurde und die Bedingung teiler > 1 False ist, dann ...\n",
        "    print(\"Der größte ganzzahlige Teiler ist 1\")"
      ],
      "id": "BY-i2vm9OpMF",
      "execution_count": null,
      "outputs": [
        {
          "output_type": "stream",
          "name": "stdout",
          "text": [
            "Der größte ganzzahlige Teiler ist 31\n"
          ]
        }
      ]
    },
    {
      "cell_type": "markdown",
      "metadata": {
        "id": "pyH5VkEvOpMG"
      },
      "source": [
        "## Übung 2:\n",
        "Erstellen Sie einen String mit dem Inhalt \"Hallo Welt\" und kehren Sie diesen mit der Leserichtung von Rechts nach Links um."
      ],
      "id": "pyH5VkEvOpMG"
    },
    {
      "cell_type": "code",
      "metadata": {
        "id": "JcVzSrljOpMH"
      },
      "source": [
        "# Ihre Lösung"
      ],
      "id": "JcVzSrljOpMH",
      "execution_count": null,
      "outputs": []
    },
    {
      "cell_type": "code",
      "metadata": {
        "id": "vocKrEWGOpMH",
        "outputId": "87a116af-af21-4606-bdb4-97a60dc1ef5e"
      },
      "source": [
        "#Unsere Lösung \n",
        "example = \"Hallo Welt\"\n",
        "reversed_example = \"\"\n",
        "for i in range(len(example)-1,-1,-1): # len(example): Anzahl der Zeichen im String, range(): Start bei Anzahl -1 bis (0-1) in -1 Schritten. Wichtig!: in Python fangen Indizes bei 0 an, daher muss bei Start und Stop jeweils eins subtrahiert werden\n",
        "    reversed_example += example[i] # Auslesen vom Zeichen an der speziellen Position und hinzufügen zu dem reversed_example\n",
        "print(reversed_example)"
      ],
      "id": "vocKrEWGOpMH",
      "execution_count": null,
      "outputs": [
        {
          "output_type": "stream",
          "name": "stdout",
          "text": [
            "tleW ollaH\n"
          ]
        }
      ]
    },
    {
      "cell_type": "markdown",
      "metadata": {
        "id": "jWXqtzYTOpMI"
      },
      "source": [
        "## Übung 3:\n",
        "Finden Sie alle Primzahlen von 2 bis 100 und geben Sie die Summe der Primzahlen und die Summe der Nicht-Primzahlen aus. Erinnerung: Eine Primzahl ist eine Zahl, die nur durch sich selbst und durch 1 ganzzahlig teilbar ist."
      ],
      "id": "jWXqtzYTOpMI"
    },
    {
      "cell_type": "code",
      "metadata": {
        "id": "DZwU72ejOpMI"
      },
      "source": [
        "# Ihre Lösung"
      ],
      "id": "DZwU72ejOpMI",
      "execution_count": null,
      "outputs": []
    },
    {
      "cell_type": "code",
      "metadata": {
        "id": "aE6l9rYEOpMJ",
        "outputId": "244f5c14-4c00-4e2b-931d-b9deb83d42e0"
      },
      "source": [
        "#Unsere Lösung\n",
        "summe_prim = 0\n",
        "summe_nicht_prim = 0\n",
        "for n in range(2, 101): # für alle Zahlen n in der Liste [2,3,4,5,...100]\n",
        "     for x in range(2, n):  # für alle Zahlen x in der Liste [2,...n] - hier bis maximal x = 99\n",
        "         if n % x == 0: # Wenn die Zahl n durch den derzeitigen Teiler x ganzzahlig teilbar ist, dann ist n keine Primzahl\n",
        "             summe_nicht_prim += n\n",
        "             break\n",
        "     else: # Wenn die for Schleife nie durch break verlassen wurde, dann muss n eine Primzahl sein\n",
        "         summe_prim += n\n",
        "print(\"Summe der Primzahlen: \", summe_prim)\n",
        "print(\"Summe der Nicht-Primzahlen: \", summe_nicht_prim)"
      ],
      "id": "aE6l9rYEOpMJ",
      "execution_count": null,
      "outputs": [
        {
          "output_type": "stream",
          "name": "stdout",
          "text": [
            "Summe der Primzahlen:  1060\n",
            "Summe der Nicht-Primzahlen:  3989\n"
          ]
        }
      ]
    }
  ]
}