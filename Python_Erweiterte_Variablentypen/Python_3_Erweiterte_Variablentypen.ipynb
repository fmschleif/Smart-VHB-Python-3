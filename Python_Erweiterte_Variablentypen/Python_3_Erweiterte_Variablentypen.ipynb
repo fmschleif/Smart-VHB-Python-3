{
 "cells": [
  {
   "cell_type": "markdown",
   "source": [
    "# Python 3 Erweiterte Variablentypen"
   ],
   "metadata": {
    "slideshow": {
     "slide_type": "slide"
    }
   }
  },
  {
   "cell_type": "markdown",
   "source": [
    "Diese Präsentation ist ein Jupyter Notebook. Mit Jupyter-Notebooks können gewöhnliche Präsentation-Slides und Code kombiniert dargestellt werden. Eine Code-Slide erkennen Sie an ```In [Zahl]:``` und ```Out[Zahl]:```. Dabei bezeichnet ```In``` den verwendeten Code und ```Out``` die Ausgabe dessen. Achten Sie auf ```#``` Symbole für weitere Informationen."
   ],
   "metadata": {
    "slideshow": {
     "slide_type": "slide"
    }
   }
  },
  {
   "cell_type": "markdown",
   "source": [
    "## Lernziele\n",
    "- Erweiterte Variablentypen können benannt werden.\n",
    "- Methoden für erweiterte Variablentypen können eingesetzt werden.\n",
    "- Komplexere Datenstrukturen können erstellt und verändert werden."
   ],
   "metadata": {
    "slideshow": {
     "slide_type": "slide"
    }
   }
  },
  {
   "cell_type": "markdown",
   "source": [
    "## Vorkenntnisse \n",
    "- Grundlagen in Mathematik \n",
    "- Grundlagen in Python 3 Variablen und Operatoren\n",
    "- Grundlagen in Python 3 Methoden und Kontrollstrukturen"
   ],
   "metadata": {
    "slideshow": {
     "slide_type": "slide"
    }
   }
  },
  {
   "cell_type": "markdown",
   "source": [
    "## Zielgruppe\n",
    "- Studierende in naturwissenschaftlichen Studiengängen.\n",
    "- Studierende in Ingenieurstudiengängen \n",
    "- Studierende mit anderweitigem naturwissenschaftlichen/technischen Hintergrund\n",
    "- Studierende mit ersten Erfahrung in Python oder in anderen Programmiersprachen"
   ],
   "metadata": {
    "slideshow": {
     "slide_type": "slide"
    }
   }
  },
  {
   "cell_type": "markdown",
   "source": [
    "## Aufbau\n",
    "- Einführung Listen\n",
    "- Umgang mit Listen\n",
    "- Stack\n",
    "- Queue\n",
    "- Tupel und Sequenzen\n",
    "- Sets\n",
    "- Dictionaries"
   ],
   "metadata": {
    "slideshow": {
     "slide_type": "slide"
    }
   }
  },
  {
   "cell_type": "markdown",
   "source": [
    "## Einführung Liste\n",
    "\n",
    "Eine Liste ist eine Datenstruktur in Python, in die jede Art von Datentyp in einer praktisch beliebigen Länge und anordnung aneinander gereiht werden können. Die Liste stellt somit die flexibelste Datenstruktur in der Python-Sprache dar. Die Liste wird mit [...] oder mit list(...) initialisiert.\n",
    "\n",
    "Beispiel: ``` a = [1, \"test\", false]``` oder ```a = list([1,\"test\",false])```"
   ],
   "metadata": {
    "slideshow": {
     "slide_type": "slide"
    }
   }
  },
  {
   "cell_type": "code",
   "execution_count": 2,
   "source": [
    "# Python liste mit zwei Elementen\n",
    "list([\"a\",5])"
   ],
   "outputs": [
    {
     "output_type": "execute_result",
     "data": {
      "text/plain": [
       "['a', 5]"
      ]
     },
     "metadata": {
      "slideshow": {
       "slide_type": "slide"
      }
     },
     "execution_count": 2
    }
   ],
   "metadata": {
    "slideshow": {
     "slide_type": "slide"
    }
   }
  },
  {
   "cell_type": "markdown",
   "source": [
    "## Flexibiltät der Liste\n",
    "Beispielsweise kann ein\n",
    "- \"test\" # String\n",
    "- 5 # Integer\n",
    "- 1.0 # Float\n",
    "- True # Boolean\n",
    "\n",
    "zusammen eine Liste sein."
   ],
   "metadata": {
    "slideshow": {
     "slide_type": "slide"
    }
   }
  },
  {
   "cell_type": "code",
   "execution_count": 2,
   "source": [
    "# Beispiel von vorheriger Slide\n",
    "# \"test\",5,1.0,True\n",
    "test = [\"test\",5,1.0,True]\n",
    "test"
   ],
   "outputs": [
    {
     "output_type": "execute_result",
     "data": {
      "text/plain": [
       "['test', 5, 1.0, True]"
      ]
     },
     "metadata": {
      "slideshow": {
       "slide_type": "slide"
      }
     },
     "execution_count": 2
    }
   ],
   "metadata": {
    "slideshow": {
     "slide_type": "slide"
    }
   }
  },
  {
   "cell_type": "markdown",
   "source": [
    "## Slicing \n",
    "Das Slicing bezeichnet das Zugreifen auf ein oder mehrere Elemente der List. Jede Liste speichert einen Index mit dem auf die Elemente der Liste zugegriffen werden kann. Der Index beginnt ab 0 bis der Länge der Liste -1."
   ],
   "metadata": {
    "slideshow": {
     "slide_type": "slide"
    }
   }
  },
  {
   "cell_type": "code",
   "execution_count": 3,
   "source": [
    "print(test[0])  # Erstes Element\n",
    "print(test[-1]) # Letztes Element\n",
    "print(test[0:2]) # Erstes bis 2-1tes ELement\n",
    "print(test[-3:-1]) # Drittletztes bis vorletztes Element\n",
    "print(test[2:]) # Alle Elemente bis zum Ende, beginnend ab Element 2"
   ],
   "outputs": [
    {
     "output_type": "stream",
     "name": "stdout",
     "text": [
      "test\n",
      "True\n",
      "['test', 5]\n",
      "[5, 1.0]\n",
      "[1.0, True]\n"
     ]
    }
   ],
   "metadata": {
    "slideshow": {
     "slide_type": "slide"
    }
   }
  },
  {
   "cell_type": "markdown",
   "source": [
    "## Umgang Listen\n",
    "Eine Liste in Python hat einige Methoden, die direkt auf die Liste angewandt werden können:\n",
    "- list.append(x)\n",
    "- list.extend(iterable)\n",
    "- list.insert(i, x)\n",
    "- list.remove(x)\n",
    "- list.pop([i])\n",
    "- list.clear()\n",
    "- list.index(x[, start[,end]])\n",
    "- list.count(x)\n",
    "- list.sort(*, key=None, reverse=False)\n",
    "- list.reverse()\n",
    "- list.copy()\n",
    "\n",
    "Nachfolgend wird sehr einfach eine Liste mit der range() Funktion erstellt und mit den genannten Funktionen manipuliert."
   ],
   "metadata": {
    "slideshow": {
     "slide_type": "slide"
    }
   }
  },
  {
   "cell_type": "code",
   "execution_count": 4,
   "source": [
    "numbers = list(range(0,10)) # Die Methode range() gibt einen Iterator für die \n",
    "                           # Zahlen [1,...10] zurück, die Methode list() fasst\n",
    "                           # diese Elemente in eine Python Liste zusammen.\n",
    "print(\"Liste: \",numbers)\n",
    "\n",
    "numbers.append([11,12]) # Füge die Zahlen 11 und 12 als Liste am Ende hinzu.\n",
    "print(\"\\nAppend: \",numbers)"
   ],
   "outputs": [
    {
     "output_type": "stream",
     "name": "stdout",
     "text": [
      "Liste:  [0, 1, 2, 3, 4, 5, 6, 7, 8, 9]\n",
      "\n",
      "Append:  [0, 1, 2, 3, 4, 5, 6, 7, 8, 9, [11, 12]]\n"
     ]
    }
   ],
   "metadata": {
    "slideshow": {
     "slide_type": "slide"
    }
   }
  },
  {
   "cell_type": "code",
   "execution_count": 5,
   "source": [
    "numbers.extend([13,14]) # Erweitert die Liste numbers mit den Zahlen\n",
    "                        # [13,14] am Ende, durch das erweitern\n",
    "                        # der Liste mit Iterator([13,14]).\n",
    "                        # numb[len(numbers):] = range(13,14)\n",
    "print(\"\\nExtend: \",numbers)\n",
    "\n",
    "numbers.insert(10, 99) # Für am Index 10 die Zahl 99 ein. Notiz: der Index beginnt bei 0\n",
    "print(\"\\nInsert: \",numbers)"
   ],
   "outputs": [
    {
     "output_type": "stream",
     "name": "stdout",
     "text": [
      "\n",
      "Extend:  [0, 1, 2, 3, 4, 5, 6, 7, 8, 9, [11, 12], 13, 14]\n",
      "\n",
      "Insert:  [0, 1, 2, 3, 4, 5, 6, 7, 8, 9, 99, [11, 12], 13, 14]\n"
     ]
    }
   ],
   "metadata": {
    "slideshow": {
     "slide_type": "slide"
    }
   }
  },
  {
   "cell_type": "code",
   "execution_count": 6,
   "source": [
    "numbers.remove(99) # Löscht die erste 99 in der Liste. \n",
    "                   # Wenn die Zahl nicht vorhanden ist, dann gibt es einen ValueError.\n",
    "print(\"\\nRemove: \",numbers)\n",
    "\n",
    "x = numbers.pop()  # Entfernt das Element an der letzten Stelle, \n",
    "                   # wenn kein Index angegeben ist und gibt das entfernte Element zurück.\n",
    "y = numbers.pop(0) # Entfernt das Element an einer bestimmten Stelle und\n",
    "                   # gibt das entfernte Element zurück.\n",
    "                   # Alternativ mit del numbers[0], jedoch ohne return Wert.\n",
    "print(\"\\nPop \",x,\", \",y,\": \",numbers)"
   ],
   "outputs": [
    {
     "output_type": "stream",
     "name": "stdout",
     "text": [
      "\n",
      "Remove:  [0, 1, 2, 3, 4, 5, 6, 7, 8, 9, [11, 12], 13, 14]\n",
      "\n",
      "Pop  14 ,  0 :  [1, 2, 3, 4, 5, 6, 7, 8, 9, [11, 12], 13]\n"
     ]
    }
   ],
   "metadata": {
    "slideshow": {
     "slide_type": "slide"
    }
   }
  },
  {
   "cell_type": "code",
   "execution_count": 7,
   "source": [
    "index = numbers.index(3) # Gibt den Index der ersten 3 zurück. \n",
    "                         # Optional kann mit Start, Ende nach der Zahl,\n",
    "                         # die Suche auf ein Teil der Liste begrenzt werden.\n",
    "print(\"\\nIndex der ersten 10: \", index)\n",
    "\n",
    "count = numbers.count(5) # Zählt die Anzahl eines Elementes in einer Liste\n",
    "print(\"\\nCount of 5: \", count)"
   ],
   "outputs": [
    {
     "output_type": "stream",
     "name": "stdout",
     "text": [
      "\n",
      "Index der ersten 10:  2\n",
      "\n",
      "Count of 5:  1\n"
     ]
    }
   ],
   "metadata": {
    "slideshow": {
     "slide_type": "slide"
    }
   }
  },
  {
   "cell_type": "code",
   "execution_count": 8,
   "source": [
    "numbers = [13,2,8,4,1]\n",
    "numbers.sort(reverse=True) # Sortiert die Liste, optional kann mit reverse=True/False\n",
    "                           # die Reihenfolge bestimmt werden.\n",
    "print(\"\\nSort: \",numbers)\n",
    "\n",
    "numbers.reverse() # Kehrt die Liste um.\n",
    "print(\"\\nReverse: \",numbers)"
   ],
   "outputs": [
    {
     "output_type": "stream",
     "name": "stdout",
     "text": [
      "\n",
      "Sort:  [13, 8, 4, 2, 1]\n",
      "\n",
      "Reverse:  [1, 2, 4, 8, 13]\n"
     ]
    }
   ],
   "metadata": {
    "slideshow": {
     "slide_type": "slide"
    }
   }
  },
  {
   "cell_type": "code",
   "execution_count": 9,
   "source": [
    "numbers_kopie = numbers.copy() # Gibt eine Kopie der Liste zurück,\n",
    "                               # äquivalent zu numbers_kopie = numbers[:]\n",
    "numbers.clear() # Entfernt alle Elemente in einer Liste, äquivalent: del numbers[:]\n",
    "print(\"\\nClear: \",numbers)\n",
    "print(\"\\nKopie von numbers: \",numbers_kopie)"
   ],
   "outputs": [
    {
     "output_type": "stream",
     "name": "stdout",
     "text": [
      "\n",
      "Clear:  []\n",
      "\n",
      "Kopie von numbers:  [1, 2, 4, 8, 13]\n"
     ]
    }
   ],
   "metadata": {
    "slideshow": {
     "slide_type": "slide"
    }
   }
  },
  {
   "cell_type": "markdown",
   "source": [
    "##  Iterationen über Listen\n",
    "Schleifen über die Datenstruktur Liste. Anders als in anderen Programmiersprachen, muss nicht zwingend mit einem eigens programmierten Index über eine Liste iteriert werden. Es reicht lediglich ein Keyword für das iterieren zu benennen. Beispielsweise wie in der nächsten Slide. "
   ],
   "metadata": {
    "slideshow": {
     "slide_type": "slide"
    }
   }
  },
  {
   "cell_type": "code",
   "execution_count": 10,
   "source": [
    "numbers = [1,2,3,4,5]\n",
    "summe = 0\n",
    "for zahl in numbers: # zahl ist eine beliebig benennbare Variable.\n",
    "    summe += zahl\n",
    "print(\"\\nSumme: \",summe)\n",
    "# Kurzform mit der sum() Funktion:\n",
    "print(\"\\nKurzform-Summe: \",sum(numbers))"
   ],
   "outputs": [
    {
     "output_type": "stream",
     "name": "stdout",
     "text": [
      "\n",
      "Summe:  15\n",
      "\n",
      "Kurzform-Summe:  15\n"
     ]
    }
   ],
   "metadata": {
    "slideshow": {
     "slide_type": "slide"
    }
   }
  },
  {
   "cell_type": "markdown",
   "source": [
    "## Liste erzeugen mit For-Schleife"
   ],
   "metadata": {
    "slideshow": {
     "slide_type": "slide"
    }
   }
  },
  {
   "cell_type": "code",
   "execution_count": 11,
   "source": [
    "numbers = [] ## Leere Liste\n",
    "for zahl in range(6): # Iterator von 0 bis 6-1.\n",
    "    numbers.append(zahl) # Bei einzelnen Zahlen\n",
    "print(numbers)           # ist append und extend gleich.\n",
    "# Kurzform\n",
    "numbers2 = [zahl for zahl in range(6)] # List Comprehension\n",
    "print(numbers2)"
   ],
   "outputs": [
    {
     "output_type": "stream",
     "name": "stdout",
     "text": [
      "[0, 1, 2, 3, 4, 5]\n",
      "[0, 1, 2, 3, 4, 5]\n"
     ]
    }
   ],
   "metadata": {
    "slideshow": {
     "slide_type": "slide"
    }
   }
  },
  {
   "cell_type": "markdown",
   "source": [
    "## Enumerate\n",
    "Anders als in anderen Programmiersprachen, gibt es in Python die Möglichkeit, durch enumerate() einen Index-Zähler zu erhalten der nicht selbst programmiert werden muss."
   ],
   "metadata": {
    "slideshow": {
     "slide_type": "slide"
    }
   }
  },
  {
   "cell_type": "code",
   "execution_count": 12,
   "source": [
    "numbers = list(range(10,15))\n",
    "summe = 0\n",
    "for index, zahl in enumerate(numbers):\n",
    "    print(\"Index: \" + str(index) + \", Zahl: \" + str(zahl))\n",
    "    summe += zahl\n",
    "print(\"Summe: \" + str(summe))"
   ],
   "outputs": [
    {
     "output_type": "stream",
     "name": "stdout",
     "text": [
      "Index: 0, Zahl: 10\n",
      "Index: 1, Zahl: 11\n",
      "Index: 2, Zahl: 12\n",
      "Index: 3, Zahl: 13\n",
      "Index: 4, Zahl: 14\n",
      "Summe: 60\n"
     ]
    }
   ],
   "metadata": {
    "slideshow": {
     "slide_type": "slide"
    }
   }
  },
  {
   "cell_type": "markdown",
   "source": [
    "## Zip\n",
    "Durch die zip() Funktion lassen sich mehrere Listen verbinden und z.B. gleichzeitig iterieren."
   ],
   "metadata": {
    "slideshow": {
     "slide_type": "slide"
    }
   }
  },
  {
   "cell_type": "code",
   "execution_count": 13,
   "source": [
    "speisekarte = ['steak', 'salat', 'nudeln']\n",
    "preise = [22.99, 9.99, 13.99]\n",
    "\n",
    "for speise, preis in zip(speisekarte,preise):\n",
    "    print (speise,\"kostet\", preis)"
   ],
   "outputs": [
    {
     "output_type": "stream",
     "name": "stdout",
     "text": [
      "steak kostet 22.99\n",
      "salat kostet 9.99\n",
      "nudeln kostet 13.99\n"
     ]
    }
   ],
   "metadata": {
    "slideshow": {
     "slide_type": "slide"
    }
   }
  },
  {
   "cell_type": "markdown",
   "source": [
    "## Stack\n",
    "Listen in Python können auch einfach als Stack nach dem LIFO Prinzip (“last-in, first-out”) genutzt werden. Die hierfür nötigen Funktionen sind append() und pop()"
   ],
   "metadata": {
    "slideshow": {
     "slide_type": "slide"
    }
   }
  },
  {
   "cell_type": "code",
   "execution_count": 14,
   "source": [
    "stack = [1,2,3,4,5]\n",
    "stack.append(6)\n",
    "print(stack)\n",
    "stack.pop()\n",
    "print(stack)"
   ],
   "outputs": [
    {
     "output_type": "stream",
     "name": "stdout",
     "text": [
      "[1, 2, 3, 4, 5, 6]\n",
      "[1, 2, 3, 4, 5]\n"
     ]
    }
   ],
   "metadata": {
    "slideshow": {
     "slide_type": "slide"
    }
   }
  },
  {
   "cell_type": "markdown",
   "source": [
    "## Queue \n",
    "Queues (dt. Schlange) nach dem FIFO Prinzip (“first-in, first-out”) können theoretisch mit Python Listen umgesetzt werden, sind jedoch nicht optimal, weil alle nachfolgenden Elemente beim Einfügen/Entfernen um eine Position verschoben werden müssen. Die Methode deque von Python Collections bietet hier abhilfe."
   ],
   "metadata": {
    "slideshow": {
     "slide_type": "slide"
    }
   }
  },
  {
   "cell_type": "code",
   "execution_count": 15,
   "source": [
    "from collections import deque ## import der deque-Methode\n",
    "numbers = [1,2,3,4,5]\n",
    "queue = deque(numbers)\n",
    "print(queue)\n",
    "\n",
    "queue.append(0) # gleich wie bei der Liste\n",
    "print(\"\\nAppend 0: \",queue)"
   ],
   "outputs": [
    {
     "output_type": "stream",
     "name": "stdout",
     "text": [
      "deque([1, 2, 3, 4, 5])\n",
      "\n",
      "Append 0:  deque([1, 2, 3, 4, 5, 0])\n"
     ]
    }
   ],
   "metadata": {
    "slideshow": {
     "slide_type": "slide"
    }
   }
  },
  {
   "cell_type": "code",
   "execution_count": 16,
   "source": [
    "a = queue.popleft() # neue Methode von deque, die effizient das erste Element\n",
    "                    # in der Liste entfernt\n",
    "print(\"\\nPopleft\",a,\":\",queue)\n",
    "\n",
    "b = queue.pop() # Gleich wie bei der Liste, \n",
    "                # entfernt das letzte Element und gibt es zurück\n",
    "print(\"\\nPop(last)\",b,\":\",queue)"
   ],
   "outputs": [
    {
     "output_type": "stream",
     "name": "stdout",
     "text": [
      "\n",
      "Popleft 1 : deque([2, 3, 4, 5, 0])\n",
      "\n",
      "Pop(last) 0 : deque([2, 3, 4, 5])\n"
     ]
    }
   ],
   "metadata": {
    "slideshow": {
     "slide_type": "slide"
    }
   }
  },
  {
   "cell_type": "markdown",
   "source": [
    "## Tupel und Sequenzen\n",
    "Tupel sind komma-getrennte Datenstrukturen ohne einheitliches Format. Standard operationen wie index und slice operationen sind hier auch möglich. Tupel können auch andere Tupel enthalten, jedoch können Elemente in einem Tupel nicht verändert werden. "
   ],
   "metadata": {
    "slideshow": {
     "slide_type": "slide"
    }
   }
  },
  {
   "cell_type": "code",
   "execution_count": 17,
   "source": [
    "t = 1, \"hallo\", \"welt\", 0.41, \"a\" # Verpacken von mehreren Elementen zu einem Tupel\n",
    "_, a, b, _, _ = t # Entpacken der Elemente in Variablen möglich\n",
    "print(a,b)\n",
    "t2 = t,1,2,3,4,5,[6,7]\n",
    "print(t)\n",
    "print(t[1:3])\n"
   ],
   "outputs": [
    {
     "output_type": "stream",
     "name": "stdout",
     "text": [
      "hallo welt\n",
      "(1, 'hallo', 'welt', 0.41, 'a')\n",
      "('hallo', 'welt')\n"
     ]
    }
   ],
   "metadata": {
    "slideshow": {
     "slide_type": "slide"
    }
   }
  },
  {
   "cell_type": "code",
   "execution_count": 18,
   "source": [
    "print(t2)\n",
    "t2[6][0] = 10 # veränderbare Elemente in einem Tupel können verändert werden!\n",
    "print(t2)\n",
    "# t2[0] = 1 ist Beispielsweise nicht möglich!"
   ],
   "outputs": [
    {
     "output_type": "stream",
     "name": "stdout",
     "text": [
      "((1, 'hallo', 'welt', 0.41, 'a'), 1, 2, 3, 4, 5, [6, 7])\n",
      "((1, 'hallo', 'welt', 0.41, 'a'), 1, 2, 3, 4, 5, [10, 7])\n"
     ]
    }
   ],
   "metadata": {
    "slideshow": {
     "slide_type": "slide"
    }
   }
  },
  {
   "cell_type": "markdown",
   "source": [
    "## Spezielle Initialisierung von Tupeln"
   ],
   "metadata": {
    "slideshow": {
     "slide_type": "slide"
    }
   }
  },
  {
   "cell_type": "code",
   "execution_count": 19,
   "source": [
    "empty_tupel = ()\n",
    "print(len(empty_tupel))\n",
    "singleton = 'hello',  # Wichtig: Durch das Komma am Ende wird aus dem String ein Tupel\n",
    "                      # und ist somit nicht veränderbar\n",
    "print(len(singleton))"
   ],
   "outputs": [
    {
     "output_type": "stream",
     "name": "stdout",
     "text": [
      "0\n",
      "1\n"
     ]
    }
   ],
   "metadata": {
    "slideshow": {
     "slide_type": "slide"
    }
   }
  },
  {
   "cell_type": "markdown",
   "source": [
    "## Sets\n",
    "Ein Set ist eine unsortierte Liste ohne Duplikate. Dieser Variablentyp wird normalerweise zum Entfernen von Duplikaten oder zur Überprüfung, ob ein Element vorhanden ist, verwendet. Ein Set ist mit {} gekennzeichnet, kann jedoch nur mit set() leer initialisiert werden. Des Weiteren gibt es verschiedene Set Operationen, um Elemente in Sets zu vergleichen."
   ],
   "metadata": {
    "slideshow": {
     "slide_type": "slide"
    }
   }
  },
  {
   "cell_type": "code",
   "execution_count": 20,
   "source": [
    "leeres_set = set()\n",
    "print(leeres_set)\n",
    "hellow_set = set('hallo welt') # Alternativ: {'h','a','l','l','o',' ','w','e','l','t'}\n",
    "hallo_set = set('hallo')\n",
    "print(hellow_set)\n",
    "print(\"x\" in hellow_set) # Prüfung, ob Element vorhanden ist\n",
    "print(\"h\" in hellow_set) # Prüfung, ob Element vorhanden ist"
   ],
   "outputs": [
    {
     "output_type": "stream",
     "name": "stdout",
     "text": [
      "set()\n",
      "{'w', 'h', 'l', 'e', 't', ' ', 'a', 'o'}\n",
      "False\n",
      "True\n"
     ]
    }
   ],
   "metadata": {
    "slideshow": {
     "slide_type": "slide"
    }
   }
  },
  {
   "cell_type": "code",
   "execution_count": 21,
   "source": [
    "aset = set([1,1,3,6,8,2]) # Initialisiere set über Liste\n",
    "print(aset) # Alle duplikate wurden entfernt.\n",
    "alist=list(aset) # Konvertiere zurück zur liste\n",
    "print(alist)"
   ],
   "outputs": [
    {
     "output_type": "stream",
     "name": "stdout",
     "text": [
      "{1, 2, 3, 6, 8}\n",
      "[1, 2, 3, 6, 8]\n"
     ]
    }
   ],
   "metadata": {
    "slideshow": {
     "slide_type": "slide"
    }
   }
  },
  {
   "cell_type": "markdown",
   "source": [
    "## Set Operationen\n",
    "Mit einer Set Operation kann Boolesche Algebra auf zwei Listen angewendet werden. Dadurch können Beispielsweise duplikate oder fehlende Elemente herausgefiltert werden.   "
   ],
   "metadata": {
    "slideshow": {
     "slide_type": "slide"
    }
   }
  },
  {
   "cell_type": "code",
   "execution_count": 22,
   "source": [
    "print(hellow_set - hallo_set) # Alle Elemente in hellow_set abzüglich der Elemente in hallo_set\n",
    "print(hellow_set | hallo_set) # Alle Elemente in hellow_set oder in hallo_set, oder in beiden\n",
    "print(hellow_set & hallo_set) # Alle Elemente in hellow_set und in hallo_set\n",
    "print(hellow_set ^ hallo_set) # Alle Elemente in hellow_set oder in hallo_set, oder nicht in beiden"
   ],
   "outputs": [
    {
     "output_type": "stream",
     "name": "stdout",
     "text": [
      "{'w', 'e', 't', ' '}\n",
      "{'w', 'h', 'l', 'e', 't', ' ', 'a', 'o'}\n",
      "{'l', 'a', 'o', 'h'}\n",
      "{'w', 'e', 't', ' '}\n"
     ]
    }
   ],
   "metadata": {
    "slideshow": {
     "slide_type": "slide"
    }
   }
  },
  {
   "cell_type": "markdown",
   "source": [
    "## Dictionaries\n",
    "Ein Wörterbuch (dictionaray) ähnelt einer Liste, hat aber Schlüssel als Indizes anstelle von impliziten Ganzzahlwerten. Diese Schlüssel müssen einzigartig sein, können aber sehr flexibel sein, z.B. auch Strings. Dictionaries werden mit {} initialisiert. Hauptsächlich wird dieser Variablentyp verwendet, um Werte schlüsselweise zu speichern. Mit del kann ein Schlüssel-Werte-Paar gelöscht oder einfach mit einem neuen Wert an einem vorhandenen Schlüssel überschrieben werden. Ein dictionary kann auch ähnlich wie eine Liste in Kurzform initialisiert werden. Ein einfacher Weg durch ein Dictionary zu iterieren ist die .items() Methode."
   ],
   "metadata": {
    "slideshow": {
     "slide_type": "slide"
    }
   }
  },
  {
   "cell_type": "code",
   "execution_count": 23,
   "source": [
    "speisekarte = {'Nudeln':11.99, 'Salat':9.99}\n",
    "speisekarte['Steak'] = 15.99 # Setzen eines neuen Schlüssel-Werte-Paars\n",
    "                             #(oder überschreiben, falls bereits vorhanden)\n",
    "print(speisekarte) # Standardausgabe des dictionaries\n",
    "print(speisekarte[\"Salat\"]) # Standardausgabe des Wertes bei einem speziellen Schlüssel\n",
    "del speisekarte[\"Salat\"]"
   ],
   "outputs": [
    {
     "output_type": "stream",
     "name": "stdout",
     "text": [
      "{'Nudeln': 11.99, 'Salat': 9.99, 'Steak': 15.99}\n",
      "9.99\n"
     ]
    }
   ],
   "metadata": {
    "slideshow": {
     "slide_type": "slide"
    }
   }
  },
  {
   "cell_type": "code",
   "execution_count": 24,
   "source": [
    "print(speisekarte)\n",
    "print(list(speisekarte)) # Liste aller Schlüssel\n",
    "print(sorted(speisekarte)) # sortierte Liste aller Schlüssel\n",
    "print('Salat' in speisekarte) # Existenzprüfung\n",
    "print('Steak' in speisekarte) # Existenzprüfung\n",
    "print({a:a*10 for a in (1,2,3,4,5)})"
   ],
   "outputs": [
    {
     "output_type": "stream",
     "name": "stdout",
     "text": [
      "{'Nudeln': 11.99, 'Steak': 15.99}\n",
      "['Nudeln', 'Steak']\n",
      "['Nudeln', 'Steak']\n",
      "False\n",
      "True\n",
      "{1: 10, 2: 20, 3: 30, 4: 40, 5: 50}\n"
     ]
    }
   ],
   "metadata": {
    "slideshow": {
     "slide_type": "slide"
    }
   }
  },
  {
   "cell_type": "code",
   "execution_count": 25,
   "source": [
    "for key, value in speisekarte.items():\n",
    "    print(key,value)\n",
    "\n",
    "for i, (key, value) in enumerate(speisekarte.items()): \n",
    "            # Kann auch mit Enumerate kombiniert werden für automatischen Zähler.\n",
    "    print(i, key,value)"
   ],
   "outputs": [
    {
     "output_type": "stream",
     "name": "stdout",
     "text": [
      "Nudeln 11.99\n",
      "Steak 15.99\n",
      "0 Nudeln 11.99\n",
      "1 Steak 15.99\n"
     ]
    }
   ],
   "metadata": {
    "slideshow": {
     "slide_type": "slide"
    }
   }
  },
  {
   "cell_type": "code",
   "execution_count": 1,
   "source": [
    "%%html\n",
    "<script>var code_show=!1;function code_toggle(){var e,d;code_show?(null!=(e=document.getElementsByClassName(\"jp-CodeMirrorEditor jp-Editor jp-InputArea-editor\")[25])&&(e.style.display=\"\"),null!=(d=document.querySelector(\"div.cell.code_cell.rendered.selected div.input\"))&&(d.style.display=\"\")):(null!=(e=document.getElementsByClassName(\"jp-CodeMirrorEditor jp-Editor jp-InputArea-editor\")[25])&&(e.style.display=\"none\"),null!=(d=document.querySelector(\"div.cell.code_cell.rendered.selected div.input\"))&&(d.style.display=\"none\"));code_show=!code_show}code_toggle();</script>Zum Anzeigen des verwendeten Javascript klicken Sie <a onClick=\"code_toggle(); return false;\" >hier</a>.<center><h1>Single Choice Fragen</h1></center><p><form name=\"quiz\"><p><b>Frage 1.<br>Welche Funktion hängt eine Liste an eine weitere ohne diese aufzulösen?<br></b><blockquote><input type=\"radio\" name=\"q1\" value=\"extend\">extend()<br><input type=\"radio\" name=\"q1\" value=\"append\">append()<br><input type=\"radio\" name=\"q1\" value=\"insert\">insert()<br></blockquote><p><b><hr>Frage 2.<br>Welcher Befehl lässt es zu, gleichzeitig einen index zu generieren und über zwei Listen zu iterieren?<br></b><blockquote><input type=\"radio\" name=\"q2\" value=\"zip\">for x,y in enumerate(list1,liste2)<br><input type=\"radio\" name=\"q2\" value=\"zipenumerate\">for i,x,y in zip(enumerate(liste1,liste2))<br><input type=\"radio\" name=\"q2\" value=\"tuplezipenumerate\">for i,(x,y) in enumerate(zip(liste1,liste2))<br></blockquote><p><b><hr><input type=\"button\"value=\"Einreichen\"onClick=\"getScore(this.form);\"><input type=\"reset\" value=\"Auswahl löschen\"><p>Von 2 Fragen sind richtig: <input type=text size 15 name=\"mark\"> Genauigkeit=<input type=text size=15 name=\"percentage\"><br></form><p><form method=\"post\" name=\"Form\" onsubmit=\"\" action=\"\"></form></body><script>var numQues=2;var numChoi=3;var answers=new Array(numQues);answers[0]=\"append\";answers[1]=\"tuplezipenumerate\";function getScore(form){var score=0;var currElt;var currSelection;for (i=0; i<numQues; i++){currElt=i*numChoi;answered=false;for (j=0; j<numChoi; j++){currSelection=form.elements[currElt + j];if (currSelection.checked){answered=true;if (currSelection.value==answers[i]){score++;break;}}}if (answered===false){alert(\"Bitte alle Fragen beantworten!\") ;return false;}}var scoreper=Math.round(score/numQues*100);form.percentage.value=scoreper + \"%\";form.mark.value=score;}</script>"
   ],
   "outputs": [
    {
     "output_type": "display_data",
     "data": {
      "text/html": [
       "<script>var code_show=!1;function code_toggle(){var e,d;code_show?(null!=(e=document.getElementsByClassName(\"jp-CodeMirrorEditor jp-Editor jp-InputArea-editor\")[25])&&(e.style.display=\"\"),null!=(d=document.querySelector(\"div.cell.code_cell.rendered.selected div.input\"))&&(d.style.display=\"\")):(null!=(e=document.getElementsByClassName(\"jp-CodeMirrorEditor jp-Editor jp-InputArea-editor\")[25])&&(e.style.display=\"none\"),null!=(d=document.querySelector(\"div.cell.code_cell.rendered.selected div.input\"))&&(d.style.display=\"none\"));code_show=!code_show}code_toggle();</script>Zum Anzeigen des verwendeten Javascript klicken Sie <a onClick=\"code_toggle(); return false;\" >hier</a>.<center><h1>Single Choice Fragen</h1></center><p><form name=\"quiz\"><p><b>Frage 1.<br>Welche Funktion hängt eine Liste an eine weitere ohne diese aufzulösen?<br></b><blockquote><input type=\"radio\" name=\"q1\" value=\"extend\">extend()<br><input type=\"radio\" name=\"q1\" value=\"append\">append()<br><input type=\"radio\" name=\"q1\" value=\"insert\">insert()<br></blockquote><p><b><hr>Frage 2.<br>Welcher Befehl lässt es zu, gleichzeitig einen index zu generieren und über zwei Listen zu iterieren?<br></b><blockquote><input type=\"radio\" name=\"q2\" value=\"zip\">for x,y in enumerate(list1,liste2)<br><input type=\"radio\" name=\"q2\" value=\"zipenumerate\">for i,x,y in zip(enumerate(liste1,liste2))<br><input type=\"radio\" name=\"q2\" value=\"tuplezipenumerate\">for i,(x,y) in enumerate(zip(liste1,liste2))<br></blockquote><p><b><hr><input type=\"button\"value=\"Einreichen\"onClick=\"getScore(this.form);\"><input type=\"reset\" value=\"Auswahl löschen\"><p>Von 2 Fragen sind richtig: <input type=text size 15 name=\"mark\"> Genauigkeit=<input type=text size=15 name=\"percentage\"><br></form><p><form method=\"post\" name=\"Form\" onsubmit=\"\" action=\"\"></form></body><script>var numQues=2;var numChoi=3;var answers=new Array(numQues);answers[0]=\"append\";answers[1]=\"tuplezipenumerate\";function getScore(form){var score=0;var currElt;var currSelection;for (i=0; i<numQues; i++){currElt=i*numChoi;answered=false;for (j=0; j<numChoi; j++){currSelection=form.elements[currElt + j];if (currSelection.checked){answered=true;if (currSelection.value==answers[i]){score++;break;}}}if (answered===false){alert(\"Bitte alle Fragen beantworten!\") ;return false;}}var scoreper=Math.round(score/numQues*100);form.percentage.value=scoreper + \"%\";form.mark.value=score;}</script>\n"
      ],
      "text/plain": [
       "<IPython.core.display.HTML object>"
      ]
     },
     "metadata": {
      "slideshow": {
       "slide_type": "slide"
      }
     }
    }
   ],
   "metadata": {
    "slideshow": {
     "slide_type": "slide"
    }
   }
  },
  {
   "cell_type": "markdown",
   "source": [
    "## Zusammenfassung: \n",
    "- Erweiterte Variablentypen erleichtern oft die Programmierung mit mehr als einer Variable.\n",
    "- Jeder Variablentyp kommt mit vordefinierten Methoden.\n",
    "- Alle erweiterten Variablentypen haben bestimmte Eigenschaften und damit Vor- und Nachteile.\n",
    "- Oft sind erweiterte Variablentypen austauschbar und es ist im Sinne des Programmierers zu entscheiden welcher Typ optimalerweise genutzt werden sollte.\n",
    "- Meist verbreitet ist allerdings die Liste und das Dictionary. "
   ],
   "metadata": {
    "slideshow": {
     "slide_type": "slide"
    }
   }
  },
  {
   "cell_type": "markdown",
   "source": [
    "## Quellen: \n",
    "-  https://docs.python.org/3/tutorial/datastructures.html"
   ],
   "metadata": {
    "slideshow": {
     "slide_type": "slide"
    }
   }
  }
 ],
 "metadata": {
  "interpreter": {
   "hash": "e16839f294d4c0c3a950d69e469040cf54ee0fe2b9ac54c836cd69dce56f946f"
  },
  "kernelspec": {
   "name": "python3",
   "display_name": "Python 3.7.11 64-bit ('thesis': conda)"
  },
  "language_info": {
   "codemirror_mode": {
    "name": "ipython",
    "version": 3
   },
   "file_extension": ".py",
   "mimetype": "text/x-python",
   "name": "python",
   "nbconvert_exporter": "python",
   "pygments_lexer": "ipython3",
   "version": "3.7.11"
  }
 },
 "nbformat": 4,
 "nbformat_minor": 5
}