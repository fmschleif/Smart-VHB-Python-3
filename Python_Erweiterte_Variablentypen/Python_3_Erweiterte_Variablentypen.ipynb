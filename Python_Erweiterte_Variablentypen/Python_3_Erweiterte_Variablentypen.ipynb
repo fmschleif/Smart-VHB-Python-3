{
 "cells": [
  {
   "cell_type": "markdown",
   "source": [
    "# Python 3 Erweiterte Variablentypen\n",
    "\n",
    "Diese Präsentation ist ein Jupyter Notebook. Achten Sie auf $\\#$ Symbole für weitere Informationen."
   ],
   "metadata": {}
  },
  {
   "cell_type": "markdown",
   "source": [
    "## Lernziele\n",
    "- Erweiterte Variablentypen können benannt werden.\n",
    "- Methoden für erweiterte Variablentypen können eingesetzt werden.\n",
    "- Komplexere Datenstrukturen können erstellt und verändert werden."
   ],
   "metadata": {}
  },
  {
   "cell_type": "markdown",
   "source": [
    "## Vorkenntnisse \n",
    "- Grundlagen in Mathematik \n",
    "- Grundlagen in Python 3 Variablen und Operatoren\n",
    "- Grundlagen in Python 3 Methoden und Kontrollstrukturen\n",
    "- Keine weiteren Python Kenntnisse"
   ],
   "metadata": {}
  },
  {
   "cell_type": "markdown",
   "source": [
    "## Zielgruppe\n",
    "- Studierende in Naturwissenschaftlichen\n",
    "- Studierende in Ingenieurstudiengängen \n",
    "- Studierende mit anderweitigem naturwissenschaftlichen/technischen Hintergrund\n",
    "- Studierende mit ersten Erfahurngen in anderen Programmiersprachen"
   ],
   "metadata": {}
  },
  {
   "cell_type": "markdown",
   "source": [
    "## Aufbau\n",
    "- Einführung Listen\n",
    "- Umgang mit Listen\n",
    "- Stack\n",
    "- Queue\n",
    "- Tupel und Sequenzen\n",
    "- Sets\n",
    "- Dictionaries"
   ],
   "metadata": {}
  },
  {
   "cell_type": "markdown",
   "source": [
    "## Einführung Liste\n",
    "\n",
    "Eine Liste ist eine Datenstruktur, in Python, in die jede Art von Datentyp in einer praktisch beliebigen länge und anordnung aneinander gereit werden können. Die Liste stellt somit die flexibilste Datenstruktur in der Python-Sprache dar. Die Liste wird mit [...] oder mit list(...) initialisiert."
   ],
   "metadata": {}
  },
  {
   "cell_type": "markdown",
   "source": [
    "## Flexibiltät der Liste\n",
    "Beispielsweise kann eine Liste sein\n",
    "- \"test\" # String\n",
    "- 5 # Integer\n",
    "- 1.0 # Float\n",
    "- True # Boolean\n",
    "\n",
    "eine Liste sein."
   ],
   "metadata": {}
  },
  {
   "cell_type": "code",
   "execution_count": 2,
   "source": [
    "# Beispiel von vorheriger Slide\n",
    "# \"test\",5,1.0,True\n",
    "test = [\"test\",5,1.0,True]\n",
    "test"
   ],
   "outputs": [
    {
     "output_type": "execute_result",
     "data": {
      "text/plain": [
       "['test', 5, 1.0, True]"
      ]
     },
     "metadata": {},
     "execution_count": 2
    }
   ],
   "metadata": {}
  },
  {
   "cell_type": "markdown",
   "source": [
    "## Slicing \n",
    "Das Slicing bezeichnet das Zugreifen auf ein oder mehrere Elemente der List. Jede Liste speichert einen Index mit dem auf die Elemente der Liste zugegriffen werden kann. Der Index beginnt ab 0 bis Eins minus der Länge der Liste."
   ],
   "metadata": {}
  },
  {
   "cell_type": "code",
   "execution_count": 8,
   "source": [
    "print(test[0])  # Erstes Element\n",
    "print(test[-1]) # Letztes Element\n",
    "print(test[0:2]) # Erstes bis 2-1tes ELement\n",
    "print(test[-3:-1]) # Drittletzes bis vorletztes Element\n",
    "print(test[2:]) # Alle Elemente bis zum Ende, beginnend ab Element 2"
   ],
   "outputs": [
    {
     "output_type": "stream",
     "name": "stdout",
     "text": [
      "test\n",
      "True\n",
      "['test', 5]\n",
      "[5, 1.0]\n",
      "[1.0, True]\n"
     ]
    }
   ],
   "metadata": {}
  },
  {
   "cell_type": "markdown",
   "source": [
    "## Umgang Listen\n",
    "Eine Liste in Python hat einige Methoden, die direkt auf die Liste angewandt werden können:\n",
    "- list.append(x)\n",
    "- list.extend(iterable)\n",
    "- list.insert(i, x)\n",
    "- list.remove(x)\n",
    "- list.pop([i])\n",
    "- list.clear()\n",
    "- list.index(x[, start[,end]])\n",
    "- list.count(x)\n",
    "- list.sort(*, key=None, reverse=False)\n",
    "- list.reverse()\n",
    "- list.copy()\n",
    "\n",
    "Nachfolgend wird sehr einfach eine Liste mit der bekannten range() Funktion erstellt und mit den genannten Funktionen manipuliert."
   ],
   "metadata": {}
  },
  {
   "cell_type": "code",
   "execution_count": 4,
   "source": [
    "zahlen = list(range(0,10)) # Die Methode range() gibt einen Iterator für die Zahlen [1,...100] zurück, die Methode list() fasst diese Elemente in eine Python Liste zusammen\n",
    "print(\"Liste: \",zahlen)\n",
    "\n",
    "zahlen.append(11) # Füge die Zahl 101 am Ende hinzu, äquivalent: zahlen[len(zahlen):] = [101]\n",
    "print(\"\\nAppend: \",zahlen)"
   ],
   "outputs": [
    {
     "output_type": "stream",
     "name": "stdout",
     "text": [
      "Liste:  [0, 1, 2, 3, 4, 5, 6, 7, 8, 9]\n",
      "\n",
      "Append:  [0, 1, 2, 3, 4, 5, 6, 7, 8, 9, 11]\n"
     ]
    }
   ],
   "metadata": {}
  },
  {
   "cell_type": "code",
   "execution_count": 5,
   "source": [
    "zahlen.extend(range(12,21)) # Füge die Zahlen [102,...110] am Ende hinzu durch einen Iterator (hier range()), äquivalent: zahlen[len(zahlen):] = range(102,111)\n",
    "print(\"\\nExtend: \",zahlen)\n",
    "\n",
    "zahlen.insert(10, 99) # Für am Index 10 die Zahl 99 ein. Notiz: der Index beginnt bei 0\n",
    "print(\"\\nInsert: \",zahlen)"
   ],
   "outputs": [
    {
     "output_type": "stream",
     "name": "stdout",
     "text": [
      "\n",
      "Extend:  [0, 1, 2, 3, 4, 5, 6, 7, 8, 9, 11, 12, 13, 14, 15, 16, 17, 18, 19, 20]\n",
      "\n",
      "Insert:  [0, 1, 2, 3, 4, 5, 6, 7, 8, 9, 99, 11, 12, 13, 14, 15, 16, 17, 18, 19, 20]\n"
     ]
    }
   ],
   "metadata": {}
  },
  {
   "cell_type": "code",
   "execution_count": 6,
   "source": [
    "\n",
    "zahlen.remove(99) # Löscht die erste Zahl 99 in der Liste. Wenn die Zahl nicht vorhanden ist, dann gibt es einen ValueError\n",
    "print(\"\\nRemove: \",zahlen)\n",
    "\n",
    "x = zahlen.pop() # Entfernt das Element an der letzten Stelle wenn kein Index angegeben ist und gibt das entfernte Element zurück\n",
    "y = zahlen.pop(0) # Entfernt das Element an einer bestimmten Stelle und gibt das entfernte Element zurück, alternativ mit del zahlen[0], jedoch ohne return\n",
    "print(\"\\nPop \",x,\", \",y,\": \",zahlen)"
   ],
   "outputs": [
    {
     "output_type": "stream",
     "name": "stdout",
     "text": [
      "\n",
      "Remove:  [0, 1, 2, 3, 4, 5, 6, 7, 8, 9, 11, 12, 13, 14, 15, 16, 17, 18, 19, 20]\n",
      "\n",
      "Pop  20 ,  0 :  [1, 2, 3, 4, 5, 6, 7, 8, 9, 11, 12, 13, 14, 15, 16, 17, 18, 19]\n"
     ]
    }
   ],
   "metadata": {}
  },
  {
   "cell_type": "code",
   "execution_count": 8,
   "source": [
    "index = zahlen.index(9) # Gibt den Index der ersten 10 zurück. Optional kann mit Start, Ende nach der Zahl die Suche auf ein Teil der Liste begrenzt werden\n",
    "print(\"\\nIndex der ersten 10: \", index)\n",
    "\n",
    "count = zahlen.count(5) # Zählt die Anzahl eines Elementes in einer Liste\n",
    "print(\"\\nCount of 5: \", count)"
   ],
   "outputs": [
    {
     "output_type": "stream",
     "name": "stdout",
     "text": [
      "\n",
      "Index der ersten 10:  8\n",
      "\n",
      "Count of 5:  1\n"
     ]
    }
   ],
   "metadata": {}
  },
  {
   "cell_type": "code",
   "execution_count": 9,
   "source": [
    "zahlen.sort(reverse=True) # Sortiert die Liste, optional kann mit reverse=True/False die Reihenfolge bestimmt werden\n",
    "print(\"\\nSort: \",zahlen)\n",
    "\n",
    "zahlen.reverse() # Kehrt die Liste um\n",
    "print(\"\\nReverse: \",zahlen)"
   ],
   "outputs": [
    {
     "output_type": "stream",
     "name": "stdout",
     "text": [
      "\n",
      "Sort:  [19, 18, 17, 16, 15, 14, 13, 12, 11, 9, 8, 7, 6, 5, 4, 3, 2, 1]\n",
      "\n",
      "Reverse:  [1, 2, 3, 4, 5, 6, 7, 8, 9, 11, 12, 13, 14, 15, 16, 17, 18, 19]\n"
     ]
    }
   ],
   "metadata": {}
  },
  {
   "cell_type": "code",
   "execution_count": 10,
   "source": [
    "zahlen_kopie = zahlen.copy() # Gibt eine Kopie der Liste zurück, äquivalent zu zahlen_kopie = zahlen[:]\n",
    "zahlen.clear() # Entfernt alle Elemente in einer Liste, äquivalent: del a[:]\n",
    "print(\"\\nClear: \",zahlen)\n",
    "print(\"\\nKopie von Zahlen: \",zahlen_kopie)"
   ],
   "outputs": [
    {
     "output_type": "stream",
     "name": "stdout",
     "text": [
      "\n",
      "Clear:  []\n",
      "\n",
      "Kopie von Zahlen:  [1, 2, 3, 4, 5, 6, 7, 8, 9, 11, 12, 13, 14, 15, 16, 17, 18, 19]\n"
     ]
    }
   ],
   "metadata": {}
  },
  {
   "cell_type": "markdown",
   "source": [
    "##  Iterationen über Listen\n",
    "For Schleife für Collection (z.B. Array, Listen)"
   ],
   "metadata": {}
  },
  {
   "cell_type": "code",
   "execution_count": 11,
   "source": [
    "zahlen = [1,2,3,4,5]\n",
    "summe = 0\n",
    "for zahl in zahlen:\n",
    "    summe += zahl\n",
    "print(\"\\nSumme: \",summe)\n",
    "# Kurzform mit der sum() Funktion:\n",
    "print(\"\\nSumme: \",sum(zahlen))"
   ],
   "outputs": [
    {
     "output_type": "stream",
     "name": "stdout",
     "text": [
      "\n",
      "Summe:  15\n",
      "\n",
      "Summe:  15\n"
     ]
    }
   ],
   "metadata": {}
  },
  {
   "cell_type": "markdown",
   "source": [
    "Liste erzeugen mit For-Schleife"
   ],
   "metadata": {}
  },
  {
   "cell_type": "code",
   "execution_count": 12,
   "source": [
    "zahlen = []\n",
    "for zahl in range(6):\n",
    "    zahlen.append(zahl)\n",
    "print(zahlen)\n",
    "# Kurzform\n",
    "zahlen2 = [zahl for zahl in range(6)]\n",
    "print(zahlen2)"
   ],
   "outputs": [
    {
     "output_type": "stream",
     "name": "stdout",
     "text": [
      "[0, 1, 2, 3, 4, 5]\n",
      "[0, 1, 2, 3, 4, 5]\n"
     ]
    }
   ],
   "metadata": {}
  },
  {
   "cell_type": "markdown",
   "source": [
    "## Enumerate"
   ],
   "metadata": {}
  },
  {
   "cell_type": "code",
   "execution_count": 1,
   "source": [
    "zahlen = list(range(10,15))\n",
    "summe = 0\n",
    "for index, zahl in enumerate(zahlen):\n",
    "    print(\"Index: \" + str(index) + \", Zahl: \" + str(zahl))\n",
    "    summe += zahl\n",
    "print(\"Summe: \" + str(summe))"
   ],
   "outputs": [
    {
     "output_type": "stream",
     "name": "stdout",
     "text": [
      "Index: 0, Zahl: 10\n",
      "Index: 1, Zahl: 11\n",
      "Index: 2, Zahl: 12\n",
      "Index: 3, Zahl: 13\n",
      "Index: 4, Zahl: 14\n",
      "Summe: 60\n"
     ]
    }
   ],
   "metadata": {}
  },
  {
   "cell_type": "markdown",
   "source": [
    "## Zip\n",
    "Durch die zip() Funktion lassen sich mehrere Listen verbinden und z.B. gleichzeitig iterieren."
   ],
   "metadata": {}
  },
  {
   "cell_type": "code",
   "execution_count": 14,
   "source": [
    "speisekarte = ['steak', 'salat', 'nudeln']\n",
    "preise = [22.99, 9.99, 13.99]\n",
    "\n",
    "for speise, preis in zip(speisekarte,preise):\n",
    "    print (speise,\"kostet\", preis)"
   ],
   "outputs": [
    {
     "output_type": "stream",
     "name": "stdout",
     "text": [
      "steak kostet 22.99\n",
      "salat kostet 9.99\n",
      "nudeln kostet 13.99\n"
     ]
    }
   ],
   "metadata": {}
  },
  {
   "cell_type": "markdown",
   "source": [
    "## Stack\n",
    "Listen in Python können auch einfach als Stack nach dem LIFO Prinzip (“last-in, first-out”) genutzt werden. Die hierfür nötigen Funktionen sind append() und pop()"
   ],
   "metadata": {}
  },
  {
   "cell_type": "code",
   "execution_count": 41,
   "source": [
    "stack = [1,2,3,4,5]\n",
    "stack.append(6)\n",
    "print(stack)\n",
    "stack.pop()\n",
    "print(stack)"
   ],
   "outputs": [
    {
     "output_type": "stream",
     "name": "stdout",
     "text": [
      "[1, 2, 3, 4, 5, 6]\n",
      "[1, 2, 3, 4, 5]\n"
     ]
    }
   ],
   "metadata": {}
  },
  {
   "cell_type": "markdown",
   "source": [
    "## Queue \n",
    "Queues (dt. Schlange) nach dem FIFO Prinzip (“first-in, first-out”) können theoretisch mit Python Listen umgesetzt werden, sind jedoch nicht optimal, weil alle nachfolgenden Elemente beim Einfügen/Entfernen um eine Position verschoben werden müssen. Die Methode deque von Python Collections bietet hier abhilfe."
   ],
   "metadata": {}
  },
  {
   "cell_type": "code",
   "execution_count": 15,
   "source": [
    "from collections import deque\n",
    "zahlen = [1,2,3,4,5]\n",
    "queue = deque(zahlen)\n",
    "print(queue)\n",
    "\n",
    "queue.append(0) # gleich wie bei der Liste\n",
    "print(\"\\nAppend 0: \",queue)"
   ],
   "outputs": [
    {
     "output_type": "stream",
     "name": "stdout",
     "text": [
      "deque([1, 2, 3, 4, 5])\n",
      "\n",
      "Append 0:  deque([1, 2, 3, 4, 5, 0])\n"
     ]
    }
   ],
   "metadata": {}
  },
  {
   "cell_type": "code",
   "execution_count": 16,
   "source": [
    "a = queue.popleft() # neue Methode von deque, die effizient das erste Element in der Liste entfernt\n",
    "print(\"\\nPopleft\",a,\":\",queue)\n",
    "\n",
    "b = queue.pop() # gleich wie bei der Liste, entfernt das letzte Element und gibt es zurück\n",
    "print(\"\\nPop(last)\",b,\":\",queue)"
   ],
   "outputs": [
    {
     "output_type": "stream",
     "name": "stdout",
     "text": [
      "\n",
      "Popleft 1 : deque([2, 3, 4, 5, 0])\n",
      "\n",
      "Pop(last) 0 : deque([2, 3, 4, 5])\n"
     ]
    }
   ],
   "metadata": {}
  },
  {
   "cell_type": "markdown",
   "source": [
    "## Tupel und Sequenzen\n",
    "Tupel sind kommagetrennte Datenstrukturen ohne einheitliches Format. Standard operationen wie index und slice operationen sind hier auch möglich. Tupel können auch andere Tupel enthalten, jedoch können Elemente in einem Tupel nicht verändert werden. "
   ],
   "metadata": {}
  },
  {
   "cell_type": "code",
   "execution_count": 19,
   "source": [
    "t = 1, \"hallo\", \"welt\", 0.41, \"a\" # Verpacken von mehreren Elementen zu einem Tupel\n",
    "_, a, b, _, _ = t # Entpacken der Elemente in Variablen möglich\n",
    "print(a,b)\n",
    "t2 = t,1,2,3,4,5,[6,7]\n",
    "print(t)\n",
    "print(t[1:3])\n"
   ],
   "outputs": [
    {
     "output_type": "stream",
     "name": "stdout",
     "text": [
      "hallo welt\n",
      "(1, 'hallo', 'welt', 0.41, 'a')\n",
      "('hallo', 'welt')\n"
     ]
    }
   ],
   "metadata": {}
  },
  {
   "cell_type": "code",
   "execution_count": 20,
   "source": [
    "print(t2)\n",
    "print()\n",
    "t2[6][0] = 10 # veränderbare Elemente in einem Tupel können verändert werden!\n",
    "print(t2)\n",
    "t2[0] = 1 # nicht möglich!"
   ],
   "outputs": [
    {
     "output_type": "stream",
     "name": "stdout",
     "text": [
      "((1, 'hallo', 'welt', 0.41, 'a'), 1, 2, 3, 4, 5, [6, 7])\n",
      "\n",
      "((1, 'hallo', 'welt', 0.41, 'a'), 1, 2, 3, 4, 5, [10, 7])\n"
     ]
    },
    {
     "output_type": "error",
     "ename": "TypeError",
     "evalue": "'tuple' object does not support item assignment",
     "traceback": [
      "\u001b[0;31m---------------------------------------------------------------------------\u001b[0m",
      "\u001b[0;31mTypeError\u001b[0m                                 Traceback (most recent call last)",
      "\u001b[0;32m/var/folders/gh/3m_3p_5x0mnczrxzy1zqfych0000gn/T/ipykernel_2021/3834916050.py\u001b[0m in \u001b[0;36m<module>\u001b[0;34m\u001b[0m\n\u001b[1;32m      3\u001b[0m \u001b[0mt2\u001b[0m\u001b[0;34m[\u001b[0m\u001b[0;36m6\u001b[0m\u001b[0;34m]\u001b[0m\u001b[0;34m[\u001b[0m\u001b[0;36m0\u001b[0m\u001b[0;34m]\u001b[0m \u001b[0;34m=\u001b[0m \u001b[0;36m10\u001b[0m \u001b[0;31m# veränderbare Elemente in einem Tupel können verändert werden!\u001b[0m\u001b[0;34m\u001b[0m\u001b[0;34m\u001b[0m\u001b[0m\n\u001b[1;32m      4\u001b[0m \u001b[0mprint\u001b[0m\u001b[0;34m(\u001b[0m\u001b[0mt2\u001b[0m\u001b[0;34m)\u001b[0m\u001b[0;34m\u001b[0m\u001b[0;34m\u001b[0m\u001b[0m\n\u001b[0;32m----> 5\u001b[0;31m \u001b[0mt2\u001b[0m\u001b[0;34m[\u001b[0m\u001b[0;36m0\u001b[0m\u001b[0;34m]\u001b[0m \u001b[0;34m=\u001b[0m \u001b[0;36m1\u001b[0m \u001b[0;31m# nicht möglich!\u001b[0m\u001b[0;34m\u001b[0m\u001b[0;34m\u001b[0m\u001b[0m\n\u001b[0m",
      "\u001b[0;31mTypeError\u001b[0m: 'tuple' object does not support item assignment"
     ]
    }
   ],
   "metadata": {}
  },
  {
   "cell_type": "markdown",
   "source": [
    "## Spezielle Initialisierung von Tupeln"
   ],
   "metadata": {}
  },
  {
   "cell_type": "code",
   "execution_count": 21,
   "source": [
    "empty_tupel = ()\n",
    "print(len(empty_tupel))\n",
    "singleton = 'hello',  # Wichtig: Durch das Komma am Ende wird aus dem String ein Tupel und ist somit nicht veränderbar\n",
    "print(len(singleton))"
   ],
   "outputs": [
    {
     "output_type": "stream",
     "name": "stdout",
     "text": [
      "0\n",
      "1\n"
     ]
    }
   ],
   "metadata": {}
  },
  {
   "cell_type": "markdown",
   "source": [
    "## Sets\n",
    "Ein Set ist eine unsortierte Liste ohne Duplikate. Dieser Variablentyp wird normalerweise zum Entfernen von Duplikaten oder zur Überprüfung, ob ein Element vorhanden ist, verwendet. Ein Set ist mit {} gekennzeichnet, kann jedoch nur mit set() leer initialisiert werden. Desweiteren gibt es verschiedene Set Operationen, um Elemente in Sets zu vergleichen."
   ],
   "metadata": {}
  },
  {
   "cell_type": "code",
   "execution_count": 24,
   "source": [
    "leeres_set = set()\n",
    "print(leeres_set)\n",
    "hallo_welt_set = set('hallo welt') # Alternativ: {'h','a','l','l','o',' ','w','e','l','t'}\n",
    "hallo_set = set('hallo')\n",
    "print(hallo_welt_set)\n",
    "print(\"x\" in hallo_welt_set) # Prüfung, ob Element vorhanden ist\n",
    "print(\"h\" in hallo_welt_set) # Prüfung, ob Element vorhanden ist"
   ],
   "outputs": [
    {
     "output_type": "stream",
     "name": "stdout",
     "text": [
      "set()\n",
      "{'h', 'e', 'l', 'a', 'w', ' ', 't', 'o'}\n",
      "False\n",
      "True\n"
     ]
    }
   ],
   "metadata": {}
  },
  {
   "cell_type": "code",
   "execution_count": 25,
   "source": [
    "print(hallo_welt_set - hallo_set) # Set Operationen, z.B. alle Elemente in hallo_welt_set abzüglich der Elemente in hallo_set\n",
    "print(hallo_welt_set | hallo_set) # Set Operationen, z.B. alle Elemente in hallo_welt_set oder in hallo_set, oder in beiden\n",
    "print(hallo_welt_set & hallo_set) # Set Operationen, z.B. alle Elemente in hallo_welt_set und in hallo_set\n",
    "print(hallo_welt_set ^ hallo_set) # Set Operationen, z.B. alle Elemente in hallo_welt_set oder in hallo_set, oder nicht in beiden"
   ],
   "outputs": [
    {
     "output_type": "stream",
     "name": "stdout",
     "text": [
      "{'e', 'w', ' ', 't'}\n",
      "{'h', 'e', 'l', 'a', 'w', ' ', 't', 'o'}\n",
      "{'h', 'a', 'l', 'o'}\n",
      "{'e', 'w', ' ', 't'}\n"
     ]
    }
   ],
   "metadata": {}
  },
  {
   "cell_type": "markdown",
   "source": [
    "## Dictionaries\n",
    "Ein Wörterbuch (dictionaray) ähnelt einer Liste, hat aber Schlüssel als Indizes anstelle von impliziten Ganzzahlwerten. Diese Schlüssel müssen einzigartig sein, können aber sehr flexibel sein, z.B. auch Strings. Dictionaries werden mit {} initialisiert. Hauptsächlich wird dieser Variablentyp verwendet, um Werte schlüsselweise zu speichern. Mit del kann ein Schlüssel-Werte-Paar gelöscht oder einfach mit einem neuen Wert an einem vorhandenen Schlüssel überschrieben werden. Ein dictionary kann auch ähnlich wie eine Liste in Kurzform initialisiert werden. Ein einfacher Weg durch ein dictionary zu iterieren ist die .items() Methode."
   ],
   "metadata": {}
  },
  {
   "cell_type": "code",
   "execution_count": 27,
   "source": [
    "speisekarte = {'Nudeln':11.99, 'Salat':9.99}\n",
    "speisekarte['Steak'] = 15.99 # Setzen eines neuen Schlüssel-Werte-Paars (oder überschreiben, falls bereits vorhanden)\n",
    "print(speisekarte) # Standardausgabe des dictionaries\n",
    "print(speisekarte[\"Salat\"]) # Standardausgabe des Wertes bei einem speziellen Schlüssel\n",
    "del speisekarte[\"Salat\"]"
   ],
   "outputs": [
    {
     "output_type": "stream",
     "name": "stdout",
     "text": [
      "{'Nudeln': 11.99, 'Salat': 9.99, 'Steak': 15.99}\n",
      "9.99\n"
     ]
    }
   ],
   "metadata": {}
  },
  {
   "cell_type": "code",
   "execution_count": 29,
   "source": [
    "print(speisekarte)\n",
    "print(list(speisekarte)) # Liste aller Schlüssel\n",
    "print(sorted(speisekarte)) # sortierte Liste aller Schlüssel\n",
    "print('Salat' in speisekarte) # Existenzprüfung\n",
    "print('Steak' in speisekarte) # Existenzprüfung\n",
    "print({a:a*10 for a in (1,2,3,4,5)})"
   ],
   "outputs": [
    {
     "output_type": "stream",
     "name": "stdout",
     "text": [
      "{'Nudeln': 11.99, 'Steak': 15.99}\n",
      "['Nudeln', 'Steak']\n",
      "['Nudeln', 'Steak']\n",
      "False\n",
      "True\n",
      "{1: 10, 2: 20, 3: 30, 4: 40, 5: 50}\n"
     ]
    }
   ],
   "metadata": {}
  },
  {
   "cell_type": "code",
   "execution_count": 28,
   "source": [
    "for key, value in speisekarte.items():\n",
    "    print(key,value)\n",
    "\n",
    "for i, (key, value) in enumerate(speisekarte.items()): # Kann auch mit Enumerate kombiniert werden für automatischen Zähler\n",
    "    print(i, key,value)"
   ],
   "outputs": [
    {
     "output_type": "stream",
     "name": "stdout",
     "text": [
      "Nudeln 11.99\n",
      "Steak 15.99\n",
      "0 Nudeln 11.99\n",
      "1 Steak 15.99\n"
     ]
    }
   ],
   "metadata": {}
  },
  {
   "cell_type": "markdown",
   "source": [
    "## Zusammenfassung: \n",
    "- Sie können dieses Notebook mit jedem Jupyter Server ausführen.\n",
    "- Beispielsweise in Google Collab: https://colab.research.google.com/\n",
    "- Erweiterte Variablentypen erleichtern oft die Programmierung und kommen mit vordefinierten Methoden\n",
    "- Alle erweiterten Variablentypen haben bestimmte Eigenschaften und damit Vor- und Nachteile\n",
    "- Oft sind erweiterte Variablentypen austauschbar und es ist im Sinne des Programmierers zu entscheiden welcher Typ optimalerweise genutzt werden sollte"
   ],
   "metadata": {}
  },
  {
   "cell_type": "markdown",
   "source": [
    "## Quellen: \n",
    "-  https://docs.python.org/3/tutorial/datastructures.html"
   ],
   "metadata": {}
  }
 ],
 "metadata": {
  "interpreter": {
   "hash": "e16839f294d4c0c3a950d69e469040cf54ee0fe2b9ac54c836cd69dce56f946f"
  },
  "kernelspec": {
   "name": "python3",
   "display_name": "Python 3.7.11 64-bit ('thesis': conda)"
  },
  "language_info": {
   "codemirror_mode": {
    "name": "ipython",
    "version": 3
   },
   "file_extension": ".py",
   "mimetype": "text/x-python",
   "name": "python",
   "nbconvert_exporter": "python",
   "pygments_lexer": "ipython3",
   "version": "3.7.11"
  }
 },
 "nbformat": 4,
 "nbformat_minor": 5
}