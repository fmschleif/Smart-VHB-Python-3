{
 "cells": [
  {
   "cell_type": "markdown",
   "metadata": {},
   "source": [
    "# Python 3 Erweiterte Variablentypen\n",
    "\n",
    "Diese Präsentation ist ein Jupyter Notebook. Achten Sie auf $\\#$ Symbole für weitere Informationen."
   ]
  },
  {
   "cell_type": "markdown",
   "metadata": {},
   "source": [
    "## Lernziele\n",
    "- Erweiterte Variablentypen können benannt werden.\n",
    "- Methoden für erweiterte Variablentypen können eingesetzt werden.\n",
    "- Komplexere Datenstrukturen können erstellt und verändert werden."
   ]
  },
  {
   "cell_type": "markdown",
   "metadata": {},
   "source": [
    "## Vorkenntnisse \n",
    "- Grundlagen in Mathematik \n",
    "- Grundlagen in Python 3 Variablen und Operatoren\n",
    "- Grundlagen in Python 3 Methoden und Kontrollstrukturen\n",
    "- Keine weiteren Python Kenntnisse"
   ]
  },
  {
   "cell_type": "markdown",
   "metadata": {},
   "source": [
    "## Zielgruppe\n",
    "- Studierende in Naturwissenschaftlichen\n",
    "- Studierende in Ingenieurstudiengängen \n",
    "- Studierende mit anderweitigem naturwissenschaftlichen/technischen Hintergrund\n",
    "- Studierende mit ersten Erfahurngen in anderen Programmiersprachen"
   ]
  },
  {
   "cell_type": "markdown",
   "metadata": {},
   "source": [
    "## Aufbau\n",
    "- Erweiterte Listen\n",
    "- Umgang mit Listen\n",
    "- Stack\n",
    "- Queue\n",
    "- Tupel und Sequenzen\n",
    "- Sets\n",
    "- Dictionaries"
   ]
  },
  {
   "cell_type": "markdown",
   "metadata": {},
   "source": [
    "## Erweiterte Listen\n",
    "Eine Liste in Python hat einige Methoden, die direkt auf das Object angewandt werden können:\n",
    "- list.append(x)\n",
    "- list.extend(iterable)\n",
    "- list.insert(i, x)\n",
    "- list.remove(x)\n",
    "- list.pop([i])\n",
    "- list.clear()\n",
    "- list.index(x[, start[,end]])\n",
    "- list.count(x)\n",
    "- list.sort(*, key=None, reverse=False)\n",
    "- list.reverse()\n",
    "- list.copy()\n",
    "\n",
    "Nachfolgend wird sehr einfach eine Liste mit der bekannten range() Funktion erstellt und mit den genannten Funktionen manipuliert."
   ]
  },
  {
   "cell_type": "code",
   "execution_count": 33,
   "metadata": {},
   "outputs": [
    {
     "name": "stdout",
     "output_type": "stream",
     "text": [
      "Liste:  [1, 2, 3, 4, 5, 6, 7, 8, 9, 10, 11, 12, 13, 14, 15, 16, 17, 18, 19, 20, 21, 22, 23, 24, 25, 26, 27, 28, 29, 30, 31, 32, 33, 34, 35, 36, 37, 38, 39, 40, 41, 42, 43, 44, 45, 46, 47, 48, 49, 50, 51, 52, 53, 54, 55, 56, 57, 58, 59, 60, 61, 62, 63, 64, 65, 66, 67, 68, 69, 70, 71, 72, 73, 74, 75, 76, 77, 78, 79, 80, 81, 82, 83, 84, 85, 86, 87, 88, 89, 90, 91, 92, 93, 94, 95, 96, 97, 98, 99, 100]\n",
      "\n",
      "Append:  [1, 2, 3, 4, 5, 6, 7, 8, 9, 10, 11, 12, 13, 14, 15, 16, 17, 18, 19, 20, 21, 22, 23, 24, 25, 26, 27, 28, 29, 30, 31, 32, 33, 34, 35, 36, 37, 38, 39, 40, 41, 42, 43, 44, 45, 46, 47, 48, 49, 50, 51, 52, 53, 54, 55, 56, 57, 58, 59, 60, 61, 62, 63, 64, 65, 66, 67, 68, 69, 70, 71, 72, 73, 74, 75, 76, 77, 78, 79, 80, 81, 82, 83, 84, 85, 86, 87, 88, 89, 90, 91, 92, 93, 94, 95, 96, 97, 98, 99, 100, 101]\n",
      "\n",
      "Extend:  [1, 2, 3, 4, 5, 6, 7, 8, 9, 10, 11, 12, 13, 14, 15, 16, 17, 18, 19, 20, 21, 22, 23, 24, 25, 26, 27, 28, 29, 30, 31, 32, 33, 34, 35, 36, 37, 38, 39, 40, 41, 42, 43, 44, 45, 46, 47, 48, 49, 50, 51, 52, 53, 54, 55, 56, 57, 58, 59, 60, 61, 62, 63, 64, 65, 66, 67, 68, 69, 70, 71, 72, 73, 74, 75, 76, 77, 78, 79, 80, 81, 82, 83, 84, 85, 86, 87, 88, 89, 90, 91, 92, 93, 94, 95, 96, 97, 98, 99, 100, 101, 102, 103, 104, 105, 106, 107, 108, 109, 110]\n",
      "\n",
      "Insert:  [1, 2, 3, 4, 5, 6, 7, 8, 9, 10, 99, 11, 12, 13, 14, 15, 16, 17, 18, 19, 20, 21, 22, 23, 24, 25, 26, 27, 28, 29, 30, 31, 32, 33, 34, 35, 36, 37, 38, 39, 40, 41, 42, 43, 44, 45, 46, 47, 48, 49, 50, 51, 52, 53, 54, 55, 56, 57, 58, 59, 60, 61, 62, 63, 64, 65, 66, 67, 68, 69, 70, 71, 72, 73, 74, 75, 76, 77, 78, 79, 80, 81, 82, 83, 84, 85, 86, 87, 88, 89, 90, 91, 92, 93, 94, 95, 96, 97, 98, 99, 100, 101, 102, 103, 104, 105, 106, 107, 108, 109, 110]\n",
      "\n",
      "Remove:  [1, 2, 3, 4, 5, 6, 7, 8, 9, 10, 11, 12, 13, 14, 15, 16, 17, 18, 19, 20, 21, 22, 23, 24, 25, 26, 27, 28, 29, 30, 31, 32, 33, 34, 35, 36, 37, 38, 39, 40, 41, 42, 43, 44, 45, 46, 47, 48, 49, 50, 51, 52, 53, 54, 55, 56, 57, 58, 59, 60, 61, 62, 63, 64, 65, 66, 67, 68, 69, 70, 71, 72, 73, 74, 75, 76, 77, 78, 79, 80, 81, 82, 83, 84, 85, 86, 87, 88, 89, 90, 91, 92, 93, 94, 95, 96, 97, 98, 99, 100, 101, 102, 103, 104, 105, 106, 107, 108, 109, 110]\n",
      "\n",
      "Pop  110 ,  1 :  [2, 3, 4, 5, 6, 7, 8, 9, 10, 11, 12, 13, 14, 15, 16, 17, 18, 19, 20, 21, 22, 23, 24, 25, 26, 27, 28, 29, 30, 31, 32, 33, 34, 35, 36, 37, 38, 39, 40, 41, 42, 43, 44, 45, 46, 47, 48, 49, 50, 51, 52, 53, 54, 55, 56, 57, 58, 59, 60, 61, 62, 63, 64, 65, 66, 67, 68, 69, 70, 71, 72, 73, 74, 75, 76, 77, 78, 79, 80, 81, 82, 83, 84, 85, 86, 87, 88, 89, 90, 91, 92, 93, 94, 95, 96, 97, 98, 99, 100, 101, 102, 103, 104, 105, 106, 107, 108, 109]\n",
      "\n",
      "Index der ersten 10:  8\n",
      "\n",
      "Count of 5:  1\n",
      "\n",
      "Sort:  [109, 108, 107, 106, 105, 104, 103, 102, 101, 100, 99, 98, 97, 96, 95, 94, 93, 92, 91, 90, 89, 88, 87, 86, 85, 84, 83, 82, 81, 80, 79, 78, 77, 76, 75, 74, 73, 72, 71, 70, 69, 68, 67, 66, 65, 64, 63, 62, 61, 60, 59, 58, 57, 56, 55, 54, 53, 52, 51, 50, 49, 48, 47, 46, 45, 44, 43, 42, 41, 40, 39, 38, 37, 36, 35, 34, 33, 32, 31, 30, 29, 28, 27, 26, 25, 24, 23, 22, 21, 20, 19, 18, 17, 16, 15, 14, 13, 12, 11, 10, 9, 8, 7, 6, 5, 4, 3, 2]\n",
      "\n",
      "Reverse:  [2, 3, 4, 5, 6, 7, 8, 9, 10, 11, 12, 13, 14, 15, 16, 17, 18, 19, 20, 21, 22, 23, 24, 25, 26, 27, 28, 29, 30, 31, 32, 33, 34, 35, 36, 37, 38, 39, 40, 41, 42, 43, 44, 45, 46, 47, 48, 49, 50, 51, 52, 53, 54, 55, 56, 57, 58, 59, 60, 61, 62, 63, 64, 65, 66, 67, 68, 69, 70, 71, 72, 73, 74, 75, 76, 77, 78, 79, 80, 81, 82, 83, 84, 85, 86, 87, 88, 89, 90, 91, 92, 93, 94, 95, 96, 97, 98, 99, 100, 101, 102, 103, 104, 105, 106, 107, 108, 109]\n",
      "\n",
      "Clear:  []\n",
      "\n",
      "Kopie von Zahlen:  [2, 3, 4, 5, 6, 7, 8, 9, 10, 11, 12, 13, 14, 15, 16, 17, 18, 19, 20, 21, 22, 23, 24, 25, 26, 27, 28, 29, 30, 31, 32, 33, 34, 35, 36, 37, 38, 39, 40, 41, 42, 43, 44, 45, 46, 47, 48, 49, 50, 51, 52, 53, 54, 55, 56, 57, 58, 59, 60, 61, 62, 63, 64, 65, 66, 67, 68, 69, 70, 71, 72, 73, 74, 75, 76, 77, 78, 79, 80, 81, 82, 83, 84, 85, 86, 87, 88, 89, 90, 91, 92, 93, 94, 95, 96, 97, 98, 99, 100, 101, 102, 103, 104, 105, 106, 107, 108, 109]\n"
     ]
    }
   ],
   "source": [
    "zahlen = list(range(1,101)) # Die Methode range() gibt einen Iterator für die Zahlen [1,...100] zurück, die Methode list() fasst diese Elemente in eine Python Liste zusammen\n",
    "print(\"Liste: \",zahlen)\n",
    "\n",
    "zahlen.append(101) # Füge die Zahl 101 am Ende hinzu, äquivalent: zahlen[len(zahlen):] = [101]\n",
    "print(\"\\nAppend: \",zahlen)\n",
    "\n",
    "zahlen.extend(range(102,111)) # Füge die Zahlen [102,...110] am Ende hinzu durch einen Iterator (hier range()), äquivalent: zahlen[len(zahlen):] = range(102,111)\n",
    "print(\"\\nExtend: \",zahlen)\n",
    "\n",
    "zahlen.insert(10, 99) # Für am Index 10 die Zahl 99 ein. Notiz: der Index beginnt bei 0\n",
    "print(\"\\nInsert: \",zahlen)\n",
    "\n",
    "zahlen.remove(99) # Löscht die erste Zahl 99 in der Liste. Wenn die Zahl nicht vorhanden ist, dann gibt es einen ValueError\n",
    "print(\"\\nRemove: \",zahlen)\n",
    "\n",
    "x = zahlen.pop() # Entfernt das Element an der letzten Stelle wenn kein Index angegeben ist und gibt das entfernte Element zurück\n",
    "y = zahlen.pop(0) # Entfernt das Element an einer bestimmten Stelle und gibt das entfernte Element zurück, alternativ mit del zahlen[0], jedoch ohne return\n",
    "print(\"\\nPop \",x,\", \",y,\": \",zahlen)\n",
    "\n",
    "index = zahlen.index(10) # Gibt den Index der ersten 10 zurück. Optional kann mit Start, Ende nach der Zahl die Suche auf ein Teil der Liste begrenzt werden\n",
    "print(\"\\nIndex der ersten 10: \", index)\n",
    "\n",
    "count = zahlen.count(5) # Zählt die Anzahl eines Elementes in einer Liste\n",
    "print(\"\\nCount of 5: \", count)\n",
    "\n",
    "zahlen.sort(reverse=True) # Sortiert die Liste, optional kann mit reverse=True/False die Reihenfolge bestimmt werden\n",
    "print(\"\\nSort: \",zahlen)\n",
    "\n",
    "zahlen.reverse() # Kehrt die Liste um\n",
    "print(\"\\nReverse: \",zahlen)\n",
    "\n",
    "zahlen_kopie = zahlen.copy() # Gibt eine Kopie der Liste zurück, äquivalent zu zahlen_kopie = zahlen[:]\n",
    "zahlen.clear() # Entfernt alle Elemente in einer Liste, äquivalent: del a[:]\n",
    "print(\"\\nClear: \",zahlen)\n",
    "print(\"\\nKopie von Zahlen: \",zahlen_kopie)"
   ]
  },
  {
   "cell_type": "markdown",
   "metadata": {},
   "source": [
    "## Umgang mit Listen\n",
    "For Schleife für Collection (z.B. Array, Listen)"
   ]
  },
  {
   "cell_type": "code",
   "execution_count": 38,
   "metadata": {},
   "outputs": [
    {
     "name": "stdout",
     "output_type": "stream",
     "text": [
      "\n",
      "Summe:  15\n",
      "\n",
      "Summe:  15\n"
     ]
    }
   ],
   "source": [
    "zahlen = [1,2,3,4,5]\n",
    "summe = 0\n",
    "for zahl in zahlen:\n",
    "    summe += zahl\n",
    "print(\"\\nSumme: \",summe)\n",
    "# Kurzform mit der sum() Funktion:\n",
    "print(\"\\nSumme: \",sum(zahlen))"
   ]
  },
  {
   "cell_type": "markdown",
   "metadata": {},
   "source": [
    "Liste erzeugen mit For-Schleife"
   ]
  },
  {
   "cell_type": "code",
   "execution_count": 39,
   "metadata": {},
   "outputs": [
    {
     "name": "stdout",
     "output_type": "stream",
     "text": [
      "[0, 1, 2, 3, 4, 5]\n",
      "[0, 1, 2, 3, 4, 5]\n"
     ]
    }
   ],
   "source": [
    "zahlen = []\n",
    "for zahl in range(6):\n",
    "    zahlen.append(zahl)\n",
    "print(zahlen)\n",
    "# Kurzform\n",
    "zahlen2 = [zahl for zahl in range(6)]\n",
    "print(zahlen2)"
   ]
  },
  {
   "cell_type": "markdown",
   "metadata": {},
   "source": [
    "Enumerate"
   ]
  },
  {
   "cell_type": "code",
   "execution_count": 6,
   "metadata": {},
   "outputs": [
    {
     "name": "stdout",
     "output_type": "stream",
     "text": [
      "Index: 0, Zahl: 1\n",
      "Index: 1, Zahl: 2\n",
      "Index: 2, Zahl: 3\n",
      "Index: 3, Zahl: 4\n",
      "Index: 4, Zahl: 5\n",
      "Summe: 15\n"
     ]
    }
   ],
   "source": [
    "zahlen = [1,2,3,4,5]\n",
    "summe = 0\n",
    "for index, zahl in enumerate(zahlen):\n",
    "    print(\"Index: \" + str(index) + \", Zahl: \" + str(zahl))\n",
    "    summe += zahl\n",
    "print(\"Summe: \" + str(summe))"
   ]
  },
  {
   "cell_type": "markdown",
   "metadata": {},
   "source": [
    "Zip - \n",
    "Durch die zip() Funktion lassen sich mehrere Listen verbinden und z.B. gleichzeitig iterieren."
   ]
  },
  {
   "cell_type": "code",
   "execution_count": 20,
   "metadata": {},
   "outputs": [
    {
     "name": "stdout",
     "output_type": "stream",
     "text": [
      "steak kostet 22.99\n",
      "salat kostet 9.99\n",
      "nudeln kostet 13.99\n"
     ]
    }
   ],
   "source": [
    "speisekarte = ['steak', 'salat', 'nudeln']\n",
    "preise = [22.99, 9.99, 13.99]\n",
    "\n",
    "for speise, preis in zip(speisekarte,preise):\n",
    "    print (speise,\"kostet\", preis)"
   ]
  },
  {
   "cell_type": "markdown",
   "metadata": {},
   "source": [
    "## Stack\n",
    "Listen in Python können auch einfach als Stack nach dem LIFO Prinzip (“last-in, first-out”) genutzt werden. Die hierfür nötigen Funktionen sind append() und pop()"
   ]
  },
  {
   "cell_type": "code",
   "execution_count": 41,
   "metadata": {},
   "outputs": [
    {
     "name": "stdout",
     "output_type": "stream",
     "text": [
      "[1, 2, 3, 4, 5, 6]\n",
      "[1, 2, 3, 4, 5]\n"
     ]
    }
   ],
   "source": [
    "stack = [1,2,3,4,5]\n",
    "stack.append(6)\n",
    "print(stack)\n",
    "stack.pop()\n",
    "print(stack)"
   ]
  },
  {
   "cell_type": "markdown",
   "metadata": {},
   "source": [
    "## Queue \n",
    "Queues (dt. Schlange) nach dem FIFO Prinzip (“first-in, first-out”) können theoretisch mit Python Listen umgesetzt werden, sind jedoch nicht optimal, weil alle nachfolgenden Elemente beim Einfügen/Entfernen um eine Position verschoben werden müssen. Die Methode deque von Python Collections bietet hier abhilfe."
   ]
  },
  {
   "cell_type": "code",
   "execution_count": 51,
   "metadata": {},
   "outputs": [
    {
     "name": "stdout",
     "output_type": "stream",
     "text": [
      "deque([1, 2, 3, 4, 5])\n",
      "\n",
      "Append 0:  deque([1, 2, 3, 4, 5, 0])\n",
      "\n",
      "Popleft 1 : deque([2, 3, 4, 5, 0])\n",
      "\n",
      "Pop(last) 0 : deque([2, 3, 4, 5])\n"
     ]
    }
   ],
   "source": [
    "from collections import deque\n",
    "zahlen = [1,2,3,4,5]\n",
    "queue = deque(zahlen)\n",
    "print(queue)\n",
    "\n",
    "queue.append(0) # gleich wie bei der Liste\n",
    "print(\"\\nAppend 0: \",queue)\n",
    "\n",
    "a = queue.popleft() # neue Methode von deque, die effizient das erste Element in der Liste entfernt\n",
    "print(\"\\nPopleft\",a,\":\",queue)\n",
    "\n",
    "b = queue.pop() # gleich wie bei der Liste, entfernt das letzte Element und gibt es zurück\n",
    "print(\"\\nPop(last)\",b,\":\",queue)\n"
   ]
  },
  {
   "cell_type": "markdown",
   "metadata": {},
   "source": [
    "## Tupel und Sequenzen\n",
    "Tupel sind kommagetrennte Datenstrukturen ohne einheitliches Format. Standard operationen wie index und slice operationen sind hier auch möglich. Tupel können auch andere Tupel enthalten, jedoch können Elemente in einem Tupel nicht verändert werden. "
   ]
  },
  {
   "cell_type": "code",
   "execution_count": 69,
   "metadata": {},
   "outputs": [
    {
     "name": "stdout",
     "output_type": "stream",
     "text": [
      "hallo welt\n",
      "(1, 'hallo', 'welt', 0.41, 'a')\n",
      "('hallo', 'welt')\n",
      "((1, 'hallo', 'welt', 0.41, 'a'), 1, 2, 3, 4, 5, [6, 7])\n",
      "\n",
      "((1, 'hallo', 'welt', 0.41, 'a'), 1, 2, 3, 4, 5, [10, 7])\n"
     ]
    },
    {
     "ename": "TypeError",
     "evalue": "'tuple' object does not support item assignment",
     "output_type": "error",
     "traceback": [
      "\u001b[0;31m---------------------------------------------------------------------------\u001b[0m",
      "\u001b[0;31mTypeError\u001b[0m                                 Traceback (most recent call last)",
      "\u001b[0;32m<ipython-input-69-c83b5630eedd>\u001b[0m in \u001b[0;36m<module>\u001b[0;34m\u001b[0m\n\u001b[1;32m      9\u001b[0m \u001b[0mt2\u001b[0m\u001b[0;34m[\u001b[0m\u001b[0;36m6\u001b[0m\u001b[0;34m]\u001b[0m\u001b[0;34m[\u001b[0m\u001b[0;36m0\u001b[0m\u001b[0;34m]\u001b[0m \u001b[0;34m=\u001b[0m \u001b[0;36m10\u001b[0m \u001b[0;31m# veränderbare Elemente in einem Tupel können verändert werden!\u001b[0m\u001b[0;34m\u001b[0m\u001b[0;34m\u001b[0m\u001b[0m\n\u001b[1;32m     10\u001b[0m \u001b[0mprint\u001b[0m\u001b[0;34m(\u001b[0m\u001b[0mt2\u001b[0m\u001b[0;34m)\u001b[0m\u001b[0;34m\u001b[0m\u001b[0;34m\u001b[0m\u001b[0m\n\u001b[0;32m---> 11\u001b[0;31m \u001b[0mt2\u001b[0m\u001b[0;34m[\u001b[0m\u001b[0;36m0\u001b[0m\u001b[0;34m]\u001b[0m \u001b[0;34m=\u001b[0m \u001b[0;36m1\u001b[0m \u001b[0;31m# nicht möglich!\u001b[0m\u001b[0;34m\u001b[0m\u001b[0;34m\u001b[0m\u001b[0m\n\u001b[0m",
      "\u001b[0;31mTypeError\u001b[0m: 'tuple' object does not support item assignment"
     ]
    }
   ],
   "source": [
    "t = 1, \"hallo\", \"welt\", 0.41, \"a\" # Verpacken von mehreren Elementen zu einem Tupel\n",
    "_, a, b, _, _ = t # Entpacken der Elemente in Variablen möglich\n",
    "print(a,b)\n",
    "t2 = t,1,2,3,4,5,[6,7]\n",
    "print(t)\n",
    "print(t[1:3])\n",
    "print(t2)\n",
    "print()\n",
    "t2[6][0] = 10 # veränderbare Elemente in einem Tupel können verändert werden!\n",
    "print(t2)\n",
    "t2[0] = 1 # nicht möglich!"
   ]
  },
  {
   "cell_type": "markdown",
   "metadata": {},
   "source": [
    "Spezielle Initialisierung von Tupeln"
   ]
  },
  {
   "cell_type": "code",
   "execution_count": 67,
   "metadata": {},
   "outputs": [
    {
     "name": "stdout",
     "output_type": "stream",
     "text": [
      "0\n",
      "1\n"
     ]
    }
   ],
   "source": [
    "empty_tupel = ()\n",
    "print(len(empty_tupel))\n",
    "singleton = 'hello',  # Wichtig: Durch das Komma am Ende wird aus dem String ein Tupel und ist somit nicht veränderbar\n",
    "print(len(singleton))"
   ]
  },
  {
   "cell_type": "markdown",
   "metadata": {},
   "source": [
    "## Sets\n",
    "Ein Set ist eine unsortierte Liste ohne Duplikate. Dieser Variablentyp wird normalerweise zum Entfernen von Duplikaten oder zur Überprüfung, ob ein Element vorhanden ist, verwendet. Ein Set ist mit {} gekennzeichnet, kann jedoch nur mit set() leer initialisiert werden. Desweiteren gibt es verschiedene Set Operationen, um Elemente in Sets zu vergleichen."
   ]
  },
  {
   "cell_type": "code",
   "execution_count": 5,
   "metadata": {},
   "outputs": [
    {
     "name": "stdout",
     "output_type": "stream",
     "text": [
      "set()\n",
      "{'h', 'o', 't', 'e', ' ', 'w', 'a', 'l'}\n",
      "False\n",
      "True\n",
      "{' ', 'w', 'e', 't'}\n",
      "{'h', 'o', 't', 'e', ' ', 'w', 'a', 'l'}\n",
      "{'h', 'o', 'a', 'l'}\n",
      "{' ', 'w', 't', 'e'}\n"
     ]
    }
   ],
   "source": [
    "leeres_set = set()\n",
    "print(leeres_set)\n",
    "hallo_welt_set = set('hallo welt') # Alternativ: {'h','a','l','l','o',' ','w','e','l','t'}\n",
    "hallo_set = set('hallo')\n",
    "print(hallo_welt_set)\n",
    "print(\"x\" in hallo_welt_set) # Prüfung, ob Element vorhanden ist\n",
    "print(\"h\" in hallo_welt_set) # Prüfung, ob Element vorhanden ist\n",
    "print(hallo_welt_set - hallo_set) # Set Operationen, z.B. alle Elemente in hallo_welt_set abzüglich der Elemente in hallo_set\n",
    "print(hallo_welt_set | hallo_set) # Set Operationen, z.B. alle Elemente in hallo_welt_set oder in hallo_set, oder in beiden\n",
    "print(hallo_welt_set & hallo_set) # Set Operationen, z.B. alle Elemente in hallo_welt_set und in hallo_set\n",
    "print(hallo_welt_set ^ hallo_set) # Set Operationen, z.B. alle Elemente in hallo_welt_set oder in hallo_set, oder nicht in beiden"
   ]
  },
  {
   "cell_type": "markdown",
   "metadata": {},
   "source": [
    "## Dictionaries\n",
    "Ein Wörterbuch (dictionaray) ähnelt einer Liste, hat aber Schlüssel als Indizes anstelle von impliziten Ganzzahlwerten. Diese Schlüssel müssen einzigartig sein, können aber sehr flexibel sein, z.B. auch Strings. Dictionaries werden mit {} initialisiert. Hauptsächlich wird dieser Variablentyp verwendet, um Werte schlüsselweise zu speichern. Mit del kann ein Schlüssel-Werte-Paar gelöscht oder einfach mit einem neuen Wert an einem vorhandenen Schlüssel überschrieben werden. Ein dictionary kann auch ähnlich wie eine Liste in Kurzform initialisiert werden. Ein einfacher Weg durch ein dictionary zu iterieren ist die .items() Methode."
   ]
  },
  {
   "cell_type": "code",
   "execution_count": 17,
   "metadata": {},
   "outputs": [
    {
     "name": "stdout",
     "output_type": "stream",
     "text": [
      "{'Nudeln': 11.99, 'Salat': 9.99, 'Steak': 15.99}\n",
      "9.99\n",
      "{'Nudeln': 11.99, 'Steak': 15.99}\n",
      "['Nudeln', 'Steak']\n",
      "['Nudeln', 'Steak']\n",
      "False\n",
      "True\n",
      "{1: 10, 2: 20, 3: 30, 4: 40, 5: 50}\n",
      "Nudeln 11.99\n",
      "Steak 15.99\n",
      "0 Nudeln 11.99\n",
      "1 Steak 15.99\n"
     ]
    }
   ],
   "source": [
    "speisekarte = {'Nudeln':11.99, 'Salat':9.99}\n",
    "speisekarte['Steak'] = 15.99 # Setzen eines neuen Schlüssel-Werte-Paars (oder überschreiben, falls bereits vorhanden)\n",
    "print(speisekarte) # Standardausgabe des dictionaries\n",
    "print(speisekarte[\"Salat\"]) # Standardausgabe des Wertes bei einem speziellen Schlüssel\n",
    "del speisekarte[\"Salat\"]\n",
    "print(speisekarte)\n",
    "print(list(speisekarte)) # Liste aller Schlüssel\n",
    "print(sorted(speisekarte)) # sortierte Liste aller Schlüssel\n",
    "print('Salat' in speisekarte) # Existenzprüfung\n",
    "print('Steak' in speisekarte) # Existenzprüfung\n",
    "print({a:a*10 for a in (1,2,3,4,5)})\n",
    "\n",
    "for key, value in speisekarte.items():\n",
    "    print(key,value)\n",
    "\n",
    "for i, (key, value) in enumerate(speisekarte.items()): # Kann auch mit Enumerate kombiniert werden für automatischen Zähler\n",
    "    print(i, key,value)"
   ]
  },
  {
   "cell_type": "markdown",
   "metadata": {},
   "source": [
    "## Zusammenfassung: \n",
    "- Sie können dieses Notebook mit jedem Jupyter Server ausführen.\n",
    "- Beispielsweise in Google Collab: https://colab.research.google.com/\n",
    "- Erweiterte Variablentypen erleichtern oft die Programmierung und kommen mit vordefinierten Methoden\n",
    "- Alle erweiterten Variablentypen haben bestimmte Eigenschaften und damit Vor- und Nachteile\n",
    "- Oft sind erweiterte Variablentypen austauschbar und es ist im Sinne des Programmierers zu entscheiden welcher Typ optimalerweise genutzt werden sollte"
   ]
  },
  {
   "cell_type": "markdown",
   "metadata": {},
   "source": [
    "## Quellen: \n",
    "-  https://docs.python.org/3/tutorial/datastructures.html"
   ]
  }
 ],
 "metadata": {
  "interpreter": {
   "hash": "916dbcbb3f70747c44a77c7bcd40155683ae19c65e1c03b4aa3499c5328201f1"
  },
  "kernelspec": {
   "display_name": "Python 3.8.10 64-bit",
   "name": "python3"
  },
  "language_info": {
   "codemirror_mode": {
    "name": "ipython",
    "version": 3
   },
   "file_extension": ".py",
   "mimetype": "text/x-python",
   "name": "python",
   "nbconvert_exporter": "python",
   "pygments_lexer": "ipython3",
   "version": "3.8.10"
  }
 },
 "nbformat": 4,
 "nbformat_minor": 5
}