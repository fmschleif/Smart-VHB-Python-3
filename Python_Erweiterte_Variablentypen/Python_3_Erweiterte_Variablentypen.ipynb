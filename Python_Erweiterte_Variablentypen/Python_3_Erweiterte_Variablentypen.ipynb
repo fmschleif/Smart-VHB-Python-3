{
 "cells": [
  {
   "cell_type": "code",
   "execution_count": 5,
   "id": "aa59a7f7",
   "metadata": {},
   "outputs": [],
   "source": [
    "a = 3\n",
    "b = 3\n",
    "c = a + b \n",
    "c"
   ]
  },
  {
   "source": [
    "For Schleife für Collection (z.B. Array, Listen)"
   ],
   "cell_type": "markdown",
   "metadata": {}
  },
  {
   "cell_type": "code",
   "execution_count": 1,
   "metadata": {},
   "outputs": [
    {
     "output_type": "stream",
     "name": "stdout",
     "text": [
      "15\n"
     ]
    }
   ],
   "source": [
    "zahlen = [1,2,3,4,5]\n",
    "summe = 0\n",
    "for zahl in zahlen:\n",
    "    summe += zahl\n",
    "print(summe)"
   ]
  },
  {
   "cell_type": "code",
   "execution_count": 2,
   "metadata": {},
   "outputs": [
    {
     "output_type": "stream",
     "name": "stdout",
     "text": [
      "15\n"
     ]
    }
   ],
   "source": [
    "#Alternativ:\n",
    "summe = 0\n",
    "for zahl in range(6): # range(6) = [0,1,2,3,4,5]\n",
    "    summe += zahl\n",
    "print(summe)"
   ]
  },
  {
   "source": [
    "Liste erzeugen mit For-Schleife"
   ],
   "cell_type": "markdown",
   "metadata": {}
  },
  {
   "cell_type": "code",
   "execution_count": 4,
   "metadata": {},
   "outputs": [
    {
     "output_type": "stream",
     "name": "stdout",
     "text": [
      "[0, 1, 2, 3, 4, 5]\n"
     ]
    }
   ],
   "source": [
    "zahlen = []\n",
    "for zahl in range(6):\n",
    "    zahlen.append(zahl)\n",
    "print(zahlen)"
   ]
  },
  {
   "source": [
    "Kurzform"
   ],
   "cell_type": "markdown",
   "metadata": {}
  },
  {
   "cell_type": "code",
   "execution_count": 5,
   "metadata": {},
   "outputs": [
    {
     "output_type": "stream",
     "name": "stdout",
     "text": [
      "[0, 1, 2, 3, 4, 5]\n"
     ]
    }
   ],
   "source": [
    "zahlen = [zahl for zahl in range(6)]\n",
    "print(zahlen)"
   ]
  },
  {
   "source": [
    "Enumerate"
   ],
   "cell_type": "markdown",
   "metadata": {}
  },
  {
   "cell_type": "code",
   "execution_count": 6,
   "metadata": {},
   "outputs": [
    {
     "output_type": "stream",
     "name": "stdout",
     "text": [
      "Index: 0, Zahl: 1\nIndex: 1, Zahl: 2\nIndex: 2, Zahl: 3\nIndex: 3, Zahl: 4\nIndex: 4, Zahl: 5\nSumme: 15\n"
     ]
    }
   ],
   "source": [
    "zahlen = [1,2,3,4,5]\n",
    "summe = 0\n",
    "for index, zahl in enumerate(zahlen):\n",
    "    print(\"Index: \" + str(index) + \", Zahl: \" + str(zahl))\n",
    "    summe += zahl\n",
    "print(\"Summe: \" + str(summe))"
   ]
  },
  {
   "cell_type": "code",
   "execution_count": null,
   "metadata": {},
   "outputs": [],
   "source": []
  }
 ],
 "metadata": {
  "kernelspec": {
   "name": "python3",
   "display_name": "Python 3.8.5 64-bit"
  },
  "language_info": {
   "codemirror_mode": {
    "name": "ipython",
    "version": 3
   },
   "file_extension": ".py",
   "mimetype": "text/x-python",
   "name": "python",
   "nbconvert_exporter": "python",
   "pygments_lexer": "ipython3",
   "version": "3.8.5"
  },
  "interpreter": {
   "hash": "916dbcbb3f70747c44a77c7bcd40155683ae19c65e1c03b4aa3499c5328201f1"
  }
 },
 "nbformat": 4,
 "nbformat_minor": 5
}