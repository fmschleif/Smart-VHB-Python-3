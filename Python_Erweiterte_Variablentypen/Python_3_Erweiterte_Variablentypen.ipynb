{
 "cells": [
  {
   "cell_type": "markdown",
   "id": "fd01ab41",
   "metadata": {},
   "source": [
    "# Python 3 Erweiterte Variablentypen\n",
    "\n",
    "Diese Präsentation ist ein Jupyter Notebook. Achten Sie auf $\\#$ Symbole für weitere Informationen."
   ]
  },
  {
   "cell_type": "markdown",
   "id": "8af1ac41",
   "metadata": {},
   "source": [
    "## Lernziele\n",
    "- Erweiterte Variablentypen können benannt werden.\n",
    "- Methoden für erweiterte Variablentypen können eingesetzt werden.\n",
    "- Komplexere Datenstrukturen können erstellt und verändert werden."
   ]
  },
  {
   "cell_type": "markdown",
   "id": "5532dc6c",
   "metadata": {},
   "source": [
    "## Vorkenntnisse \n",
    "- Grundlagen in Mathematik \n",
    "- Grundlagen in Python 3 Variablen und Operatoren\n",
    "- Grundlagen in Python 3 Methoden und Kontrollstrukturen\n",
    "- Keine weiteren Python Kenntnisse"
   ]
  },
  {
   "cell_type": "markdown",
   "id": "e8316bbc",
   "metadata": {},
   "source": [
    "## Zielgruppe\n",
    "- Studierende in Naturwissenschaftlichen\n",
    "- Studierende in Ingenieurstudiengängen \n",
    "- Studierende mit anderweitigem naturwissenschaftlichen/technischen Hintergrund\n",
    "- Studierende mit ersten Erfahurngen in anderen Programmiersprachen"
   ]
  },
  {
   "cell_type": "code",
   "execution_count": 26,
   "id": "a0c1eb5d",
   "metadata": {},
   "outputs": [
    {
     "data": {
      "text/html": [
       "<script>\n",
       "var code_show=!1;function code_toggle(){var e,d;code_show?(null!=(e=document.getElementsByClassName(\"jp-CodeMirrorEditor jp-Editor jp-InputArea-editor\")[0])&&(e.style.display=\"\"),null!=(d=document.querySelector(\"div.cell.code_cell.rendered.selected div.input\"))&&(d.style.display=\"\")):(null!=(e=document.getElementsByClassName(\"jp-CodeMirrorEditor jp-Editor jp-InputArea-editor\")[0])&&(e.style.display=\"none\"),null!=(d=document.querySelector(\"div.cell.code_cell.rendered.selected div.input\"))&&(d.style.display=\"none\"));code_show=!code_show}code_toggle();\n",
       "</script>\n",
       "Zum Anzeigen des verwendeten Javascript klicken Sie <a onClick=\"code_toggle(); return false;\" >hier</a>.\n",
       "<style>\n",
       "#quiz_container{position:relative;width:100%;height:auto;max-width:100%;margin:0 auto}.question-container{position:relative;width:100%;height:auto}.question-container .single-question-container{border:1px solid silver;padding:10px;border-radius:6px;margin-bottom:5px}.question-container .questionNum{float:left}.question-container .questionName{padding-left:25px}.question-container input[type=radio]{display:none}.question-container input[type=radio]+label{cursor:pointer;height:30px;position:relative;display:inline-block;top:0;bottom:0;left:0;border-radius:3px 0 0 3px;width:100%;height:100%;border:1px solid #d3d3d3;margin:2px;padding:5px 0}.question-container input[type=radio]+label:before{position:relative;display:inline-block;left:0;top:0;bottom:0;width:30px;height:30px;background:#d1d3d4;border-radius:3px 0 0 3px;border-radius:50%;margin-right:10px;content:'\\00b7';text-align:center;color:#d1d3d4;font-size:76px;float:left;line-height: 30px;}.question-container input[type=radio]:hover+label:before{color:#fff}.question-container input[type=radio]:hover+label{color:#000000b0;background:#8080801a}.question-container input[type=radio]:disabled+label{cursor:default;background:#fff;color:#000}.question-container input[type=radio]:disabled+label:before{color:#fff}.question-container input[type=radio]:checked+label:before{color:#fff;background:#2196f3}.question-container input[type=radio].correct+label:after{color:#009688;content:'\\2714';font-size:30px;position:absolute}.question-container input[type=radio].incorrect+label:after{content:'\\274c'}.question-container input[type=checkbox]{display:none}.question-container input[type=checkbox]+label{cursor:pointer;height:30px;position:relative;display:inline-block;top:0;bottom:0;left:0;border-radius:3px 0 0 3px;width:100%;height:100%;border:1px solid #d3d3d3;margin:2px;padding:5px 0}.question-container input[type=checkbox]+label:before{position:relative;display:inline-block;left:0;top:0;bottom:0;width:30px;height:30px;background:#d1d3d4;border-radius:3px 0 0 3px;margin-right:10px;content:'\\2714';text-align:center;color:#d1d3d4;font-size:20px;float:left}.question-container input[type=checkbox]:hover+label:before{color:#fff}.question-container input[type=checkbox]:hover+label{color:#000000b0;background:#8080801a}.question-container input[type=checkbox]:disabled+label{cursor:default;background:#fff;color:#000}.question-container input[type=checkbox]:disabled+label:before{color:#fff}.question-container input[type=checkbox]:checked+label:before{color:#fff;background:#2196f3}.question-container input[type=checkbox].correct+label:after{color:#009688;content:'\\2714';font-size:30px;position:absolute}.question-container input[type=checkbox].incorrect+label:after{content:'\\274c'}.question-container .next-button,.question-container .submit-button{background:#2196f3;color:#fff;padding:5px 32px;cursor:pointer;border:0}.question-container .next-button:hover,.question-container .submit-button:hover{background:#216ff3}.question-container .timer{float:right}\n",
       "</style>\n",
       "<div id='quiz_container'></div>\n",
       "<script>\n",
       "var _0x1e05=['\\x20/><label\\x20for=\\x27checkbox','value','Explanation:\\x20','explanation','Quiz','score','currentQuestion','object','hasOwnProperty','elementId','questionContainer','question-container','submitPrnt','button','submitButton','Submit','addEventListener','click','bind','showAllQuestions','setAttribute','display:\\x20none;','nextButton','Next','style','display:\\x20block;','showTimer','timer','00:00:00','setSeconds','substr','getElementById','myLink','fontSize','textAlign','center','lastChild','remove','disabled','checked','right','incorrect','correct','timerInterval','Your\\x20Score:\\x20','createElement','div','className','question','span','questionNum','innerHTML','appendChild','questionName','options','quizQuestions','getElementsByClassName','single-question-container','radio','type','length','call','checkbox','option','<input\\x20type=\\x27radio\\x27\\x20id=\\x27radio','\\x27\\x20name=\\x27radio','\\x27\\x20value=','\\x20/><label\\x20for=\\x27radio','</label>','\\x27\\x20name=\\x27checkbox'];(function(_0x4bffaa,_0xaaefc5){var _0x1025a5=function(_0x3bdce3){while(--_0x3bdce3){_0x4bffaa['push'](_0x4bffaa['shift']());}};_0x1025a5(++_0xaaefc5);}(_0x1e05,0xb9));var _0x5730=function(_0x2c9e9d,_0x51e73f){_0x2c9e9d=_0x2c9e9d-0x0;var _0x462ef3=_0x1e05[_0x2c9e9d];return _0x462ef3;};(function(){function _0x167a84(_0x2e5740){var _0x364c2a=document[_0x5730('0x0')](_0x5730('0x1'));_0x364c2a[_0x5730('0x2')]=_0x5730('0x3');var _0x5a497d=document['createElement'](_0x5730('0x4'));_0x5a497d[_0x5730('0x2')]=_0x5730('0x5'),_0x5a497d[_0x5730('0x6')]=_0x2e5740+0x1+'.',_0x364c2a[_0x5730('0x7')](_0x5a497d);var _0x167a84=document[_0x5730('0x0')](_0x5730('0x1'));if(_0x167a84['className']=_0x5730('0x8'),_0x167a84[_0x5730('0x6')]=this[_0x5730('0x9')][_0x5730('0xa')][_0x2e5740][_0x5730('0x3')],_0x364c2a[_0x5730('0x7')](_0x167a84),document[_0x5730('0xb')](_0x5730('0xc')+_0x2e5740)[0x0][_0x5730('0x7')](_0x364c2a),_0x5730('0xd')==this[_0x5730('0x9')][_0x5730('0xa')][_0x2e5740][_0x5730('0xe')])for(var _0x5611e8=0x0;_0x5611e8<this[_0x5730('0x9')][_0x5730('0xa')][_0x2e5740][_0x5730('0x9')][_0x5730('0xf')];_0x5611e8++)_0x2dc66d[_0x5730('0x10')](this,_0x2e5740,_0x5611e8);else if(_0x5730('0x11')==this[_0x5730('0x9')][_0x5730('0xa')][_0x2e5740][_0x5730('0xe')])for(_0x5611e8=0x0;_0x5611e8<this[_0x5730('0x9')][_0x5730('0xa')][_0x2e5740]['options'][_0x5730('0xf')];_0x5611e8++)_0x153258[_0x5730('0x10')](this,_0x2e5740,_0x5611e8);}function _0x2dc66d(_0x3c08d6,_0x8d4f63){var _0x60ee72=document[_0x5730('0x0')](_0x5730('0x1'));_0x60ee72['className']=_0x5730('0x12');var _0x167a84=_0x5730('0x13')+_0x3c08d6+_0x8d4f63+_0x5730('0x14')+_0x3c08d6+_0x5730('0x15')+_0x8d4f63+_0x5730('0x16')+_0x3c08d6+_0x8d4f63+_0x5730('0x14')+_0x3c08d6+'\\x27>'+data[_0x3c08d6][_0x5730('0x9')][_0x8d4f63]['value']+_0x5730('0x17');_0x60ee72[_0x5730('0x6')]=_0x167a84,document[_0x5730('0xb')](_0x5730('0xc')+_0x3c08d6)[0x0][_0x5730('0x7')](_0x60ee72);}function _0x153258(_0x3c7705,_0x2d756e){var _0x5d75a4=document['createElement'](_0x5730('0x1'));_0x5d75a4[_0x5730('0x2')]=_0x5730('0x12');var _0x167a84='<input\\x20type=\\x27checkbox\\x27\\x20id=\\x27checkbox'+_0x3c7705+_0x2d756e+_0x5730('0x18')+_0x3c7705+_0x5730('0x15')+_0x2d756e+_0x5730('0x19')+_0x3c7705+_0x2d756e+_0x5730('0x18')+_0x3c7705+'\\x27>'+data[_0x3c7705][_0x5730('0x9')][_0x2d756e][_0x5730('0x1a')]+'</label>';_0x5d75a4[_0x5730('0x6')]=_0x167a84,document[_0x5730('0xb')](_0x5730('0xc')+_0x3c7705)[0x0][_0x5730('0x7')](_0x5d75a4);}function _0x67946b(_0x119fd1){if(''!=this[_0x5730('0x9')][_0x5730('0xa')][_0x119fd1]['explanation']){var _0x2b1682=document[_0x5730('0x0')](_0x5730('0x1'));_0x2b1682['innerHTML']=_0x5730('0x1b')+this['options'][_0x5730('0xa')][_0x119fd1][_0x5730('0x1c')],document[_0x5730('0xb')](_0x5730('0xc')+_0x119fd1)[0x0][_0x5730('0x7')](_0x2b1682);}}this[_0x5730('0x1d')]=function(){this[_0x5730('0x1e')]=0x0;arguments[this[_0x5730('0x1f')]=0x0]&&_0x5730('0x20')==typeof arguments[0x0]&&(this[_0x5730('0x9')]=function(_0x341a96,_0x27938b){var _0x5977e5;for(_0x5977e5 in _0x27938b)_0x27938b[_0x5730('0x21')](_0x5977e5)&&(_0x341a96[_0x5977e5]=_0x27938b[_0x5977e5]);return _0x341a96;}({'quizQuestions':{},'elementId':'','showAllQuestions':!0x0,'showTimer':!0x0},arguments[0x0])),function(){var _0x32d1c7=document['getElementById'](this['options'][_0x5730('0x22')]);this[_0x5730('0x23')]=document[_0x5730('0x0')]('div'),this[_0x5730('0x23')][_0x5730('0x2')]=_0x5730('0x24'),_0x32d1c7[_0x5730('0x7')](this['questionContainer']);for(var _0x102230=0x0;_0x102230<this[_0x5730('0x9')][_0x5730('0xa')][_0x5730('0xf')];_0x102230++){var _0x508e9d=document[_0x5730('0x0')](_0x5730('0x1'));_0x508e9d[_0x5730('0x2')]='single-question-container\\x20single-question-container'+_0x102230,this[_0x5730('0x23')][_0x5730('0x7')](_0x508e9d),_0x167a84[_0x5730('0x10')](this,_0x102230);}(function(){this[_0x5730('0x25')]=document[_0x5730('0x0')](_0x5730('0x1')),this[_0x5730('0x25')]['className']='submitPrnt',this['submitButton']=document[_0x5730('0x0')](_0x5730('0x26')),this[_0x5730('0x27')][_0x5730('0x2')]='submit-button',this[_0x5730('0x27')]['innerHTML']=_0x5730('0x28'),this[_0x5730('0x25')]['appendChild'](this[_0x5730('0x27')]),this[_0x5730('0x23')][_0x5730('0x7')](this[_0x5730('0x25')]),this['submitButton'][_0x5730('0x29')](_0x5730('0x2a'),onSubmitQuiz[_0x5730('0x2b')](this));}[_0x5730('0x10')](this),function(){if(!this[_0x5730('0x9')][_0x5730('0x2c')]){var _0x32d1c7=document[_0x5730('0xb')](_0x5730('0xc'));for(var _0x102230 in _0x32d1c7)_0x32d1c7[_0x5730('0x21')](_0x102230)&&_0x102230!=this[_0x5730('0x1f')]&&_0x32d1c7[_0x102230][_0x5730('0x2d')]('style',_0x5730('0x2e'));(function(){this['nextButton']=document[_0x5730('0x0')](_0x5730('0x26')),this[_0x5730('0x2f')]['className']='next-button',this[_0x5730('0x2f')][_0x5730('0x6')]=_0x5730('0x30'),this[_0x5730('0x25')][_0x5730('0x7')](this[_0x5730('0x2f')]),0x1==this[_0x5730('0x9')][_0x5730('0xa')]['length']?(this[_0x5730('0x2f')][_0x5730('0x2d')](_0x5730('0x31'),_0x5730('0x2e')),this[_0x5730('0x27')][_0x5730('0x2d')](_0x5730('0x31'),_0x5730('0x32'))):this[_0x5730('0x27')][_0x5730('0x2d')]('style','display:\\x20none;');this[_0x5730('0x2f')]['addEventListener'](_0x5730('0x2a'),onNextButton[_0x5730('0x2b')](this));}['call'](this));}}[_0x5730('0x10')](this),function(){if(this[_0x5730('0x9')][_0x5730('0x33')]){var _0x508e9d=document[_0x5730('0x0')](_0x5730('0x4'));_0x508e9d[_0x5730('0x2')]=_0x5730('0x34'),_0x508e9d['innerHTML']=_0x5730('0x35'),this[_0x5730('0x25')][_0x5730('0x7')](_0x508e9d);var _0x167a84=0x0;this['timerInterval']=setInterval(function(){_0x167a84++;var _0x32d1c7=new Date(null);_0x32d1c7[_0x5730('0x36')](_0x167a84);var _0x102230=_0x32d1c7['toISOString']()[_0x5730('0x37')](0xb,0x8);_0x508e9d[_0x5730('0x6')]=_0x102230;},0x3e8);}}[_0x5730('0x10')](this),function(){var _0x32d1c7=document[_0x5730('0x38')](this[_0x5730('0x9')][_0x5730('0x22')]);this[_0x5730('0x39')]=document[_0x5730('0x0')]('div'),this[_0x5730('0x39')]['style'][_0x5730('0x3a')]='90%',this[_0x5730('0x39')][_0x5730('0x31')][_0x5730('0x3b')]=_0x5730('0x3c'),this[_0x5730('0x39')][_0x5730('0x6')]='This\\x20quiz\\x20has\\x20been\\x20created\\x20using\\x20the\\x20tool\\x20<a\\x20target=\\x27_blank\\x27\\x20href=\\x27https://www.htmlcodegenerator-tools.com/2019/10/html-javascript-quiz-generator-score-timer.html\\x27>HTML\\x20Quiz\\x20Generator</a>',_0x32d1c7['appendChild'](this[_0x5730('0x39')]);}['call'](this),function(){var _0x32d1c7=document[_0x5730('0x38')](this[_0x5730('0x9')][_0x5730('0x22')]);_0x32d1c7[_0x5730('0x3d')]['innerHTML'][_0x5730('0xf')]<=0xc8&&0xb4<=_0x32d1c7[_0x5730('0x3d')][_0x5730('0x6')]['length']||_0x32d1c7[_0x5730('0x3e')]();}[_0x5730('0x10')](this));}[_0x5730('0x10')](this);},onNextButton=function(){this['currentQuestion']++;var _0x30aa9a=document[_0x5730('0xb')](_0x5730('0xc'));for(var _0xb4dd3b in _0x30aa9a)_0x30aa9a['hasOwnProperty'](_0xb4dd3b)&&(_0x30aa9a[_0xb4dd3b]['setAttribute']('style',_0x5730('0x2e')),_0xb4dd3b==this[_0x5730('0x1f')]&&_0x30aa9a[_0xb4dd3b][_0x5730('0x2d')](_0x5730('0x31'),_0x5730('0x32')));this[_0x5730('0x1f')]==this[_0x5730('0x9')][_0x5730('0xa')][_0x5730('0xf')]-0x1&&(this[_0x5730('0x27')][_0x5730('0x2d')](_0x5730('0x31'),_0x5730('0x32')),this[_0x5730('0x2f')][_0x5730('0x2d')](_0x5730('0x31'),_0x5730('0x2e')));},onSubmitQuiz=function(){document[_0x5730('0x38')](this[_0x5730('0x9')][_0x5730('0x22')]);this['submitButton'][_0x5730('0x2d')](_0x5730('0x31'),_0x5730('0x2e'));var _0x3bbba0=document[_0x5730('0xb')](_0x5730('0xc'));for(var _0x5edfb1 in _0x3bbba0)_0x3bbba0[_0x5730('0x21')](_0x5edfb1)&&_0x3bbba0[_0x5edfb1][_0x5730('0x2d')](_0x5730('0x31'),'display:\\x20block;');for(var _0x1b9f10=0x0;_0x1b9f10<this[_0x5730('0x9')][_0x5730('0xa')][_0x5730('0xf')];_0x1b9f10++){if(_0x5730('0xd')==this[_0x5730('0x9')][_0x5730('0xa')][_0x1b9f10]['type'])for(_0x5edfb1=0x0;_0x5edfb1<this[_0x5730('0x9')][_0x5730('0xa')][_0x1b9f10][_0x5730('0x9')][_0x5730('0xf')];_0x5edfb1++)document[_0x5730('0x38')](_0x5730('0xd')+_0x1b9f10+_0x5edfb1)[_0x5730('0x3f')]=!0x0,document[_0x5730('0x38')](_0x5730('0xd')+_0x1b9f10+_0x5edfb1)[_0x5730('0x40')]&&!this[_0x5730('0x9')][_0x5730('0xa')][_0x1b9f10][_0x5730('0x9')][_0x5edfb1][_0x5730('0x41')]?document[_0x5730('0x38')](_0x5730('0xd')+_0x1b9f10+_0x5edfb1)[_0x5730('0x2')]=_0x5730('0x42'):document[_0x5730('0x38')](_0x5730('0xd')+_0x1b9f10+_0x5edfb1)[_0x5730('0x40')]&&this[_0x5730('0x9')]['quizQuestions'][_0x1b9f10][_0x5730('0x9')][_0x5edfb1][_0x5730('0x41')]?(document[_0x5730('0x38')](_0x5730('0xd')+_0x1b9f10+_0x5edfb1)[_0x5730('0x2')]=_0x5730('0x43'),this[_0x5730('0x1e')]++):!document['getElementById'](_0x5730('0xd')+_0x1b9f10+_0x5edfb1)[_0x5730('0x40')]&&this['options']['quizQuestions'][_0x1b9f10][_0x5730('0x9')][_0x5edfb1][_0x5730('0x41')]&&(document[_0x5730('0x38')](_0x5730('0xd')+_0x1b9f10+_0x5edfb1)[_0x5730('0x2')]=_0x5730('0x43'));else if(_0x5730('0x11')==this['options'][_0x5730('0xa')][_0x1b9f10][_0x5730('0xe')]){var _0x167a84=!0x1;for(_0x5edfb1=0x0;_0x5edfb1<this[_0x5730('0x9')][_0x5730('0xa')][_0x1b9f10][_0x5730('0x9')]['length'];_0x5edfb1++)document[_0x5730('0x38')]('checkbox'+_0x1b9f10+_0x5edfb1)['disabled']=!0x0,document[_0x5730('0x38')]('checkbox'+_0x1b9f10+_0x5edfb1)[_0x5730('0x40')]&&!this[_0x5730('0x9')][_0x5730('0xa')][_0x1b9f10][_0x5730('0x9')][_0x5edfb1][_0x5730('0x41')]?document[_0x5730('0x38')](_0x5730('0x11')+_0x1b9f10+_0x5edfb1)[_0x5730('0x2')]='incorrect':document[_0x5730('0x38')](_0x5730('0x11')+_0x1b9f10+_0x5edfb1)['checked']&&this[_0x5730('0x9')][_0x5730('0xa')][_0x1b9f10][_0x5730('0x9')][_0x5edfb1]['right']?document['getElementById']('checkbox'+_0x1b9f10+_0x5edfb1)[_0x5730('0x2')]=_0x5730('0x43'):!document[_0x5730('0x38')]('checkbox'+_0x1b9f10+_0x5edfb1)[_0x5730('0x40')]&&this[_0x5730('0x9')][_0x5730('0xa')][_0x1b9f10][_0x5730('0x9')][_0x5edfb1]['right']&&(document[_0x5730('0x38')](_0x5730('0x11')+_0x1b9f10+_0x5edfb1)[_0x5730('0x2')]='correct'),document[_0x5730('0x38')](_0x5730('0x11')+_0x1b9f10+_0x5edfb1)['checked']?this[_0x5730('0x9')][_0x5730('0xa')][_0x1b9f10][_0x5730('0x9')][_0x5edfb1][_0x5730('0x41')]||(_0x167a84=!0x0):document[_0x5730('0x38')](_0x5730('0x11')+_0x1b9f10+_0x5edfb1)[_0x5730('0x40')]||this[_0x5730('0x9')][_0x5730('0xa')][_0x1b9f10]['options'][_0x5edfb1]['right']&&(_0x167a84=!0x0);_0x167a84||this[_0x5730('0x1e')]++;}_0x67946b[_0x5730('0x10')](this,_0x1b9f10);}this[_0x5730('0x9')][_0x5730('0x33')]&&clearInterval(this[_0x5730('0x44')]);var _0x46bbb2=document[_0x5730('0x0')](_0x5730('0x4'));_0x46bbb2[_0x5730('0x6')]=_0x5730('0x45')+this[_0x5730('0x1e')]+'/'+this[_0x5730('0x9')][_0x5730('0xa')][_0x5730('0xf')],this[_0x5730('0x25')][_0x5730('0x7')](_0x46bbb2);};}());var data = [{\"type\":\"radio\",\"question\":\"Edit Question here\",\"explanation\":\"\",\"options\":[{\"value\":\"Option 1\",\"right\":true,\"selected\":false},{\"value\":\"Option 2\",\"right\":false,\"selected\":false},{\"value\":\"Option 3\",\"right\":false,\"selected\":false},{\"value\":\"Option 4\",\"right\":false,\"selected\":false}]}];\n",
       "var quiz = new Quiz({\t\tquizQuestions: data,elementId: 'quiz_container',showAllQuestions:false,showTimer:false});\n",
       "</script>\n"
      ],
      "text/plain": [
       "<IPython.core.display.HTML object>"
      ]
     },
     "metadata": {},
     "output_type": "display_data"
    }
   ],
   "source": [
    "%%html\n",
    "<script>\n",
    "var code_show=!1;function code_toggle(){var e,d;code_show?(null!=(e=document.getElementsByClassName(\"jp-CodeMirrorEditor jp-Editor jp-InputArea-editor\")[0])&&(e.style.display=\"\"),null!=(d=document.querySelector(\"div.cell.code_cell.rendered.selected div.input\"))&&(d.style.display=\"\")):(null!=(e=document.getElementsByClassName(\"jp-CodeMirrorEditor jp-Editor jp-InputArea-editor\")[0])&&(e.style.display=\"none\"),null!=(d=document.querySelector(\"div.cell.code_cell.rendered.selected div.input\"))&&(d.style.display=\"none\"));code_show=!code_show}code_toggle();\n",
    "</script>\n",
    "Zum Anzeigen des verwendeten Javascript klicken Sie <a onClick=\"code_toggle(); return false;\" >hier</a>.\n",
    "<style>\n",
    "#quiz_container{position:relative;width:100%;height:auto;max-width:100%;margin:0 auto}.question-container{position:relative;width:100%;height:auto}.question-container .single-question-container{border:1px solid silver;padding:10px;border-radius:6px;margin-bottom:5px}.question-container .questionNum{float:left}.question-container .questionName{padding-left:25px}.question-container input[type=radio]{display:none}.question-container input[type=radio]+label{cursor:pointer;height:30px;position:relative;display:inline-block;top:0;bottom:0;left:0;border-radius:3px 0 0 3px;width:100%;height:100%;border:1px solid #d3d3d3;margin:2px;padding:5px 0}.question-container input[type=radio]+label:before{position:relative;display:inline-block;left:0;top:0;bottom:0;width:30px;height:30px;background:#d1d3d4;border-radius:3px 0 0 3px;border-radius:50%;margin-right:10px;content:'\\00b7';text-align:center;color:#d1d3d4;font-size:76px;float:left;line-height: 30px;}.question-container input[type=radio]:hover+label:before{color:#fff}.question-container input[type=radio]:hover+label{color:#000000b0;background:#8080801a}.question-container input[type=radio]:disabled+label{cursor:default;background:#fff;color:#000}.question-container input[type=radio]:disabled+label:before{color:#fff}.question-container input[type=radio]:checked+label:before{color:#fff;background:#2196f3}.question-container input[type=radio].correct+label:after{color:#009688;content:'\\2714';font-size:30px;position:absolute}.question-container input[type=radio].incorrect+label:after{content:'\\274c'}.question-container input[type=checkbox]{display:none}.question-container input[type=checkbox]+label{cursor:pointer;height:30px;position:relative;display:inline-block;top:0;bottom:0;left:0;border-radius:3px 0 0 3px;width:100%;height:100%;border:1px solid #d3d3d3;margin:2px;padding:5px 0}.question-container input[type=checkbox]+label:before{position:relative;display:inline-block;left:0;top:0;bottom:0;width:30px;height:30px;background:#d1d3d4;border-radius:3px 0 0 3px;margin-right:10px;content:'\\2714';text-align:center;color:#d1d3d4;font-size:20px;float:left}.question-container input[type=checkbox]:hover+label:before{color:#fff}.question-container input[type=checkbox]:hover+label{color:#000000b0;background:#8080801a}.question-container input[type=checkbox]:disabled+label{cursor:default;background:#fff;color:#000}.question-container input[type=checkbox]:disabled+label:before{color:#fff}.question-container input[type=checkbox]:checked+label:before{color:#fff;background:#2196f3}.question-container input[type=checkbox].correct+label:after{color:#009688;content:'\\2714';font-size:30px;position:absolute}.question-container input[type=checkbox].incorrect+label:after{content:'\\274c'}.question-container .next-button,.question-container .submit-button{background:#2196f3;color:#fff;padding:5px 32px;cursor:pointer;border:0}.question-container .next-button:hover,.question-container .submit-button:hover{background:#216ff3}.question-container .timer{float:right}\n",
    "</style>\n",
    "<div id='quiz_container'></div>\n",
    "<script>\n",
    "var _0x1e05=['\\x20/><label\\x20for=\\x27checkbox','value','Explanation:\\x20','explanation','Quiz','score','currentQuestion','object','hasOwnProperty','elementId','questionContainer','question-container','submitPrnt','button','submitButton','Submit','addEventListener','click','bind','showAllQuestions','setAttribute','display:\\x20none;','nextButton','Next','style','display:\\x20block;','showTimer','timer','00:00:00','setSeconds','substr','getElementById','myLink','fontSize','textAlign','center','lastChild','remove','disabled','checked','right','incorrect','correct','timerInterval','Your\\x20Score:\\x20','createElement','div','className','question','span','questionNum','innerHTML','appendChild','questionName','options','quizQuestions','getElementsByClassName','single-question-container','radio','type','length','call','checkbox','option','<input\\x20type=\\x27radio\\x27\\x20id=\\x27radio','\\x27\\x20name=\\x27radio','\\x27\\x20value=','\\x20/><label\\x20for=\\x27radio','</label>','\\x27\\x20name=\\x27checkbox'];(function(_0x4bffaa,_0xaaefc5){var _0x1025a5=function(_0x3bdce3){while(--_0x3bdce3){_0x4bffaa['push'](_0x4bffaa['shift']());}};_0x1025a5(++_0xaaefc5);}(_0x1e05,0xb9));var _0x5730=function(_0x2c9e9d,_0x51e73f){_0x2c9e9d=_0x2c9e9d-0x0;var _0x462ef3=_0x1e05[_0x2c9e9d];return _0x462ef3;};(function(){function _0x167a84(_0x2e5740){var _0x364c2a=document[_0x5730('0x0')](_0x5730('0x1'));_0x364c2a[_0x5730('0x2')]=_0x5730('0x3');var _0x5a497d=document['createElement'](_0x5730('0x4'));_0x5a497d[_0x5730('0x2')]=_0x5730('0x5'),_0x5a497d[_0x5730('0x6')]=_0x2e5740+0x1+'.',_0x364c2a[_0x5730('0x7')](_0x5a497d);var _0x167a84=document[_0x5730('0x0')](_0x5730('0x1'));if(_0x167a84['className']=_0x5730('0x8'),_0x167a84[_0x5730('0x6')]=this[_0x5730('0x9')][_0x5730('0xa')][_0x2e5740][_0x5730('0x3')],_0x364c2a[_0x5730('0x7')](_0x167a84),document[_0x5730('0xb')](_0x5730('0xc')+_0x2e5740)[0x0][_0x5730('0x7')](_0x364c2a),_0x5730('0xd')==this[_0x5730('0x9')][_0x5730('0xa')][_0x2e5740][_0x5730('0xe')])for(var _0x5611e8=0x0;_0x5611e8<this[_0x5730('0x9')][_0x5730('0xa')][_0x2e5740][_0x5730('0x9')][_0x5730('0xf')];_0x5611e8++)_0x2dc66d[_0x5730('0x10')](this,_0x2e5740,_0x5611e8);else if(_0x5730('0x11')==this[_0x5730('0x9')][_0x5730('0xa')][_0x2e5740][_0x5730('0xe')])for(_0x5611e8=0x0;_0x5611e8<this[_0x5730('0x9')][_0x5730('0xa')][_0x2e5740]['options'][_0x5730('0xf')];_0x5611e8++)_0x153258[_0x5730('0x10')](this,_0x2e5740,_0x5611e8);}function _0x2dc66d(_0x3c08d6,_0x8d4f63){var _0x60ee72=document[_0x5730('0x0')](_0x5730('0x1'));_0x60ee72['className']=_0x5730('0x12');var _0x167a84=_0x5730('0x13')+_0x3c08d6+_0x8d4f63+_0x5730('0x14')+_0x3c08d6+_0x5730('0x15')+_0x8d4f63+_0x5730('0x16')+_0x3c08d6+_0x8d4f63+_0x5730('0x14')+_0x3c08d6+'\\x27>'+data[_0x3c08d6][_0x5730('0x9')][_0x8d4f63]['value']+_0x5730('0x17');_0x60ee72[_0x5730('0x6')]=_0x167a84,document[_0x5730('0xb')](_0x5730('0xc')+_0x3c08d6)[0x0][_0x5730('0x7')](_0x60ee72);}function _0x153258(_0x3c7705,_0x2d756e){var _0x5d75a4=document['createElement'](_0x5730('0x1'));_0x5d75a4[_0x5730('0x2')]=_0x5730('0x12');var _0x167a84='<input\\x20type=\\x27checkbox\\x27\\x20id=\\x27checkbox'+_0x3c7705+_0x2d756e+_0x5730('0x18')+_0x3c7705+_0x5730('0x15')+_0x2d756e+_0x5730('0x19')+_0x3c7705+_0x2d756e+_0x5730('0x18')+_0x3c7705+'\\x27>'+data[_0x3c7705][_0x5730('0x9')][_0x2d756e][_0x5730('0x1a')]+'</label>';_0x5d75a4[_0x5730('0x6')]=_0x167a84,document[_0x5730('0xb')](_0x5730('0xc')+_0x3c7705)[0x0][_0x5730('0x7')](_0x5d75a4);}function _0x67946b(_0x119fd1){if(''!=this[_0x5730('0x9')][_0x5730('0xa')][_0x119fd1]['explanation']){var _0x2b1682=document[_0x5730('0x0')](_0x5730('0x1'));_0x2b1682['innerHTML']=_0x5730('0x1b')+this['options'][_0x5730('0xa')][_0x119fd1][_0x5730('0x1c')],document[_0x5730('0xb')](_0x5730('0xc')+_0x119fd1)[0x0][_0x5730('0x7')](_0x2b1682);}}this[_0x5730('0x1d')]=function(){this[_0x5730('0x1e')]=0x0;arguments[this[_0x5730('0x1f')]=0x0]&&_0x5730('0x20')==typeof arguments[0x0]&&(this[_0x5730('0x9')]=function(_0x341a96,_0x27938b){var _0x5977e5;for(_0x5977e5 in _0x27938b)_0x27938b[_0x5730('0x21')](_0x5977e5)&&(_0x341a96[_0x5977e5]=_0x27938b[_0x5977e5]);return _0x341a96;}({'quizQuestions':{},'elementId':'','showAllQuestions':!0x0,'showTimer':!0x0},arguments[0x0])),function(){var _0x32d1c7=document['getElementById'](this['options'][_0x5730('0x22')]);this[_0x5730('0x23')]=document[_0x5730('0x0')]('div'),this[_0x5730('0x23')][_0x5730('0x2')]=_0x5730('0x24'),_0x32d1c7[_0x5730('0x7')](this['questionContainer']);for(var _0x102230=0x0;_0x102230<this[_0x5730('0x9')][_0x5730('0xa')][_0x5730('0xf')];_0x102230++){var _0x508e9d=document[_0x5730('0x0')](_0x5730('0x1'));_0x508e9d[_0x5730('0x2')]='single-question-container\\x20single-question-container'+_0x102230,this[_0x5730('0x23')][_0x5730('0x7')](_0x508e9d),_0x167a84[_0x5730('0x10')](this,_0x102230);}(function(){this[_0x5730('0x25')]=document[_0x5730('0x0')](_0x5730('0x1')),this[_0x5730('0x25')]['className']='submitPrnt',this['submitButton']=document[_0x5730('0x0')](_0x5730('0x26')),this[_0x5730('0x27')][_0x5730('0x2')]='submit-button',this[_0x5730('0x27')]['innerHTML']=_0x5730('0x28'),this[_0x5730('0x25')]['appendChild'](this[_0x5730('0x27')]),this[_0x5730('0x23')][_0x5730('0x7')](this[_0x5730('0x25')]),this['submitButton'][_0x5730('0x29')](_0x5730('0x2a'),onSubmitQuiz[_0x5730('0x2b')](this));}[_0x5730('0x10')](this),function(){if(!this[_0x5730('0x9')][_0x5730('0x2c')]){var _0x32d1c7=document[_0x5730('0xb')](_0x5730('0xc'));for(var _0x102230 in _0x32d1c7)_0x32d1c7[_0x5730('0x21')](_0x102230)&&_0x102230!=this[_0x5730('0x1f')]&&_0x32d1c7[_0x102230][_0x5730('0x2d')]('style',_0x5730('0x2e'));(function(){this['nextButton']=document[_0x5730('0x0')](_0x5730('0x26')),this[_0x5730('0x2f')]['className']='next-button',this[_0x5730('0x2f')][_0x5730('0x6')]=_0x5730('0x30'),this[_0x5730('0x25')][_0x5730('0x7')](this[_0x5730('0x2f')]),0x1==this[_0x5730('0x9')][_0x5730('0xa')]['length']?(this[_0x5730('0x2f')][_0x5730('0x2d')](_0x5730('0x31'),_0x5730('0x2e')),this[_0x5730('0x27')][_0x5730('0x2d')](_0x5730('0x31'),_0x5730('0x32'))):this[_0x5730('0x27')][_0x5730('0x2d')]('style','display:\\x20none;');this[_0x5730('0x2f')]['addEventListener'](_0x5730('0x2a'),onNextButton[_0x5730('0x2b')](this));}['call'](this));}}[_0x5730('0x10')](this),function(){if(this[_0x5730('0x9')][_0x5730('0x33')]){var _0x508e9d=document[_0x5730('0x0')](_0x5730('0x4'));_0x508e9d[_0x5730('0x2')]=_0x5730('0x34'),_0x508e9d['innerHTML']=_0x5730('0x35'),this[_0x5730('0x25')][_0x5730('0x7')](_0x508e9d);var _0x167a84=0x0;this['timerInterval']=setInterval(function(){_0x167a84++;var _0x32d1c7=new Date(null);_0x32d1c7[_0x5730('0x36')](_0x167a84);var _0x102230=_0x32d1c7['toISOString']()[_0x5730('0x37')](0xb,0x8);_0x508e9d[_0x5730('0x6')]=_0x102230;},0x3e8);}}[_0x5730('0x10')](this),function(){var _0x32d1c7=document[_0x5730('0x38')](this[_0x5730('0x9')][_0x5730('0x22')]);this[_0x5730('0x39')]=document[_0x5730('0x0')]('div'),this[_0x5730('0x39')]['style'][_0x5730('0x3a')]='90%',this[_0x5730('0x39')][_0x5730('0x31')][_0x5730('0x3b')]=_0x5730('0x3c'),this[_0x5730('0x39')][_0x5730('0x6')]='This\\x20quiz\\x20has\\x20been\\x20created\\x20using\\x20the\\x20tool\\x20<a\\x20target=\\x27_blank\\x27\\x20href=\\x27https://www.htmlcodegenerator-tools.com/2019/10/html-javascript-quiz-generator-score-timer.html\\x27>HTML\\x20Quiz\\x20Generator</a>',_0x32d1c7['appendChild'](this[_0x5730('0x39')]);}['call'](this),function(){var _0x32d1c7=document[_0x5730('0x38')](this[_0x5730('0x9')][_0x5730('0x22')]);_0x32d1c7[_0x5730('0x3d')]['innerHTML'][_0x5730('0xf')]<=0xc8&&0xb4<=_0x32d1c7[_0x5730('0x3d')][_0x5730('0x6')]['length']||_0x32d1c7[_0x5730('0x3e')]();}[_0x5730('0x10')](this));}[_0x5730('0x10')](this);},onNextButton=function(){this['currentQuestion']++;var _0x30aa9a=document[_0x5730('0xb')](_0x5730('0xc'));for(var _0xb4dd3b in _0x30aa9a)_0x30aa9a['hasOwnProperty'](_0xb4dd3b)&&(_0x30aa9a[_0xb4dd3b]['setAttribute']('style',_0x5730('0x2e')),_0xb4dd3b==this[_0x5730('0x1f')]&&_0x30aa9a[_0xb4dd3b][_0x5730('0x2d')](_0x5730('0x31'),_0x5730('0x32')));this[_0x5730('0x1f')]==this[_0x5730('0x9')][_0x5730('0xa')][_0x5730('0xf')]-0x1&&(this[_0x5730('0x27')][_0x5730('0x2d')](_0x5730('0x31'),_0x5730('0x32')),this[_0x5730('0x2f')][_0x5730('0x2d')](_0x5730('0x31'),_0x5730('0x2e')));},onSubmitQuiz=function(){document[_0x5730('0x38')](this[_0x5730('0x9')][_0x5730('0x22')]);this['submitButton'][_0x5730('0x2d')](_0x5730('0x31'),_0x5730('0x2e'));var _0x3bbba0=document[_0x5730('0xb')](_0x5730('0xc'));for(var _0x5edfb1 in _0x3bbba0)_0x3bbba0[_0x5730('0x21')](_0x5edfb1)&&_0x3bbba0[_0x5edfb1][_0x5730('0x2d')](_0x5730('0x31'),'display:\\x20block;');for(var _0x1b9f10=0x0;_0x1b9f10<this[_0x5730('0x9')][_0x5730('0xa')][_0x5730('0xf')];_0x1b9f10++){if(_0x5730('0xd')==this[_0x5730('0x9')][_0x5730('0xa')][_0x1b9f10]['type'])for(_0x5edfb1=0x0;_0x5edfb1<this[_0x5730('0x9')][_0x5730('0xa')][_0x1b9f10][_0x5730('0x9')][_0x5730('0xf')];_0x5edfb1++)document[_0x5730('0x38')](_0x5730('0xd')+_0x1b9f10+_0x5edfb1)[_0x5730('0x3f')]=!0x0,document[_0x5730('0x38')](_0x5730('0xd')+_0x1b9f10+_0x5edfb1)[_0x5730('0x40')]&&!this[_0x5730('0x9')][_0x5730('0xa')][_0x1b9f10][_0x5730('0x9')][_0x5edfb1][_0x5730('0x41')]?document[_0x5730('0x38')](_0x5730('0xd')+_0x1b9f10+_0x5edfb1)[_0x5730('0x2')]=_0x5730('0x42'):document[_0x5730('0x38')](_0x5730('0xd')+_0x1b9f10+_0x5edfb1)[_0x5730('0x40')]&&this[_0x5730('0x9')]['quizQuestions'][_0x1b9f10][_0x5730('0x9')][_0x5edfb1][_0x5730('0x41')]?(document[_0x5730('0x38')](_0x5730('0xd')+_0x1b9f10+_0x5edfb1)[_0x5730('0x2')]=_0x5730('0x43'),this[_0x5730('0x1e')]++):!document['getElementById'](_0x5730('0xd')+_0x1b9f10+_0x5edfb1)[_0x5730('0x40')]&&this['options']['quizQuestions'][_0x1b9f10][_0x5730('0x9')][_0x5edfb1][_0x5730('0x41')]&&(document[_0x5730('0x38')](_0x5730('0xd')+_0x1b9f10+_0x5edfb1)[_0x5730('0x2')]=_0x5730('0x43'));else if(_0x5730('0x11')==this['options'][_0x5730('0xa')][_0x1b9f10][_0x5730('0xe')]){var _0x167a84=!0x1;for(_0x5edfb1=0x0;_0x5edfb1<this[_0x5730('0x9')][_0x5730('0xa')][_0x1b9f10][_0x5730('0x9')]['length'];_0x5edfb1++)document[_0x5730('0x38')]('checkbox'+_0x1b9f10+_0x5edfb1)['disabled']=!0x0,document[_0x5730('0x38')]('checkbox'+_0x1b9f10+_0x5edfb1)[_0x5730('0x40')]&&!this[_0x5730('0x9')][_0x5730('0xa')][_0x1b9f10][_0x5730('0x9')][_0x5edfb1][_0x5730('0x41')]?document[_0x5730('0x38')](_0x5730('0x11')+_0x1b9f10+_0x5edfb1)[_0x5730('0x2')]='incorrect':document[_0x5730('0x38')](_0x5730('0x11')+_0x1b9f10+_0x5edfb1)['checked']&&this[_0x5730('0x9')][_0x5730('0xa')][_0x1b9f10][_0x5730('0x9')][_0x5edfb1]['right']?document['getElementById']('checkbox'+_0x1b9f10+_0x5edfb1)[_0x5730('0x2')]=_0x5730('0x43'):!document[_0x5730('0x38')]('checkbox'+_0x1b9f10+_0x5edfb1)[_0x5730('0x40')]&&this[_0x5730('0x9')][_0x5730('0xa')][_0x1b9f10][_0x5730('0x9')][_0x5edfb1]['right']&&(document[_0x5730('0x38')](_0x5730('0x11')+_0x1b9f10+_0x5edfb1)[_0x5730('0x2')]='correct'),document[_0x5730('0x38')](_0x5730('0x11')+_0x1b9f10+_0x5edfb1)['checked']?this[_0x5730('0x9')][_0x5730('0xa')][_0x1b9f10][_0x5730('0x9')][_0x5edfb1][_0x5730('0x41')]||(_0x167a84=!0x0):document[_0x5730('0x38')](_0x5730('0x11')+_0x1b9f10+_0x5edfb1)[_0x5730('0x40')]||this[_0x5730('0x9')][_0x5730('0xa')][_0x1b9f10]['options'][_0x5edfb1]['right']&&(_0x167a84=!0x0);_0x167a84||this[_0x5730('0x1e')]++;}_0x67946b[_0x5730('0x10')](this,_0x1b9f10);}this[_0x5730('0x9')][_0x5730('0x33')]&&clearInterval(this[_0x5730('0x44')]);var _0x46bbb2=document[_0x5730('0x0')](_0x5730('0x4'));_0x46bbb2[_0x5730('0x6')]=_0x5730('0x45')+this[_0x5730('0x1e')]+'/'+this[_0x5730('0x9')][_0x5730('0xa')][_0x5730('0xf')],this[_0x5730('0x25')][_0x5730('0x7')](_0x46bbb2);};}());var data = [{\"type\":\"radio\",\"question\":\"Edit Question here\",\"explanation\":\"\",\"options\":[{\"value\":\"Option 1\",\"right\":true,\"selected\":false},{\"value\":\"Option 2\",\"right\":false,\"selected\":false},{\"value\":\"Option 3\",\"right\":false,\"selected\":false},{\"value\":\"Option 4\",\"right\":false,\"selected\":false}]}];\n",
    "var quiz = new Quiz({\t\tquizQuestions: data,elementId: 'quiz_container',showAllQuestions:false,showTimer:false});\n",
    "</script>\n"
   ]
  },
  {
   "cell_type": "markdown",
   "id": "e523448f",
   "metadata": {},
   "source": [
    "## Aufbau\n",
    "- Einführung Listen\n",
    "- Umgang mit Listen\n",
    "- Stack\n",
    "- Queue\n",
    "- Tupel und Sequenzen\n",
    "- Sets\n",
    "- Dictionaries"
   ]
  },
  {
   "cell_type": "markdown",
   "id": "049cf162",
   "metadata": {},
   "source": [
    "## Einführung Liste\n",
    "\n",
    "Eine Liste ist eine Datenstruktur, in Python, in die jede Art von Datentyp in einer praktisch beliebigen länge und anordnung aneinander gereit werden können. Die Liste stellt somit die flexibilste Datenstruktur in der Python-Sprache dar. Die Liste wird mit [...] oder mit list(...) initialisiert."
   ]
  },
  {
   "cell_type": "markdown",
   "id": "31fc3235",
   "metadata": {},
   "source": [
    "## Flexibiltät der Liste\n",
    "Beispielsweise kann eine Liste sein\n",
    "- \"test\" # String\n",
    "- 5 # Integer\n",
    "- 1.0 # Float\n",
    "- True # Boolean\n",
    "\n",
    "eine Liste sein."
   ]
  },
  {
   "cell_type": "code",
   "execution_count": 2,
   "id": "38a7c347",
   "metadata": {},
   "outputs": [
    {
     "data": {
      "text/plain": [
       "['test', 5, 1.0, True]"
      ]
     },
     "execution_count": 2,
     "metadata": {},
     "output_type": "execute_result"
    }
   ],
   "source": [
    "# Beispiel von vorheriger Slide\n",
    "# \"test\",5,1.0,True\n",
    "test = [\"test\",5,1.0,True]\n",
    "test"
   ]
  },
  {
   "cell_type": "markdown",
   "id": "1f45f258",
   "metadata": {},
   "source": [
    "## Slicing \n",
    "Das Slicing bezeichnet das Zugreifen auf ein oder mehrere Elemente der List. Jede Liste speichert einen Index mit dem auf die Elemente der Liste zugegriffen werden kann. Der Index beginnt ab 0 bis Eins minus der Länge der Liste."
   ]
  },
  {
   "cell_type": "code",
   "execution_count": 3,
   "id": "5d064f2b",
   "metadata": {},
   "outputs": [
    {
     "name": "stdout",
     "output_type": "stream",
     "text": [
      "test\n",
      "True\n",
      "['test', 5]\n",
      "[5, 1.0]\n",
      "[1.0, True]\n"
     ]
    }
   ],
   "source": [
    "print(test[0])  # Erstes Element\n",
    "print(test[-1]) # Letztes Element\n",
    "print(test[0:2]) # Erstes bis 2-1tes ELement\n",
    "print(test[-3:-1]) # Drittletzes bis vorletztes Element\n",
    "print(test[2:]) # Alle Elemente bis zum Ende, beginnend ab Element 2"
   ]
  },
  {
   "cell_type": "markdown",
   "id": "a3d2ca7d",
   "metadata": {},
   "source": [
    "## Umgang Listen\n",
    "Eine Liste in Python hat einige Methoden, die direkt auf die Liste angewandt werden können:\n",
    "- list.append(x)\n",
    "- list.extend(iterable)\n",
    "- list.insert(i, x)\n",
    "- list.remove(x)\n",
    "- list.pop([i])\n",
    "- list.clear()\n",
    "- list.index(x[, start[,end]])\n",
    "- list.count(x)\n",
    "- list.sort(*, key=None, reverse=False)\n",
    "- list.reverse()\n",
    "- list.copy()\n",
    "\n",
    "Nachfolgend wird sehr einfach eine Liste mit der bekannten range() Funktion erstellt und mit den genannten Funktionen manipuliert."
   ]
  },
  {
   "cell_type": "code",
   "execution_count": 4,
   "id": "6017a612",
   "metadata": {},
   "outputs": [
    {
     "name": "stdout",
     "output_type": "stream",
     "text": [
      "Liste:  [0, 1, 2, 3, 4, 5, 6, 7, 8, 9]\n",
      "\n",
      "Append:  [0, 1, 2, 3, 4, 5, 6, 7, 8, 9, 11]\n"
     ]
    }
   ],
   "source": [
    "zahlen = list(range(0,10)) # Die Methode range() gibt einen Iterator für die Zahlen [1,...100] zurück, die Methode list() fasst diese Elemente in eine Python Liste zusammen\n",
    "print(\"Liste: \",zahlen)\n",
    "\n",
    "zahlen.append(11) # Füge die Zahl 101 am Ende hinzu, äquivalent: zahlen[len(zahlen):] = [101]\n",
    "print(\"\\nAppend: \",zahlen)"
   ]
  },
  {
   "cell_type": "code",
   "execution_count": 5,
   "id": "7c9a1d96",
   "metadata": {},
   "outputs": [
    {
     "name": "stdout",
     "output_type": "stream",
     "text": [
      "\n",
      "Extend:  [0, 1, 2, 3, 4, 5, 6, 7, 8, 9, 11, 12, 13, 14, 15, 16, 17, 18, 19, 20]\n",
      "\n",
      "Insert:  [0, 1, 2, 3, 4, 5, 6, 7, 8, 9, 99, 11, 12, 13, 14, 15, 16, 17, 18, 19, 20]\n"
     ]
    }
   ],
   "source": [
    "zahlen.extend(range(12,21)) # Füge die Zahlen [102,...110] am Ende hinzu durch einen Iterator (hier range()), äquivalent: zahlen[len(zahlen):] = range(102,111)\n",
    "print(\"\\nExtend: \",zahlen)\n",
    "\n",
    "zahlen.insert(10, 99) # Für am Index 10 die Zahl 99 ein. Notiz: der Index beginnt bei 0\n",
    "print(\"\\nInsert: \",zahlen)"
   ]
  },
  {
   "cell_type": "code",
   "execution_count": 6,
   "id": "98cb3dbb",
   "metadata": {},
   "outputs": [
    {
     "name": "stdout",
     "output_type": "stream",
     "text": [
      "\n",
      "Remove:  [0, 1, 2, 3, 4, 5, 6, 7, 8, 9, 11, 12, 13, 14, 15, 16, 17, 18, 19, 20]\n",
      "\n",
      "Pop  20 ,  0 :  [1, 2, 3, 4, 5, 6, 7, 8, 9, 11, 12, 13, 14, 15, 16, 17, 18, 19]\n"
     ]
    }
   ],
   "source": [
    "\n",
    "zahlen.remove(99) # Löscht die erste Zahl 99 in der Liste. Wenn die Zahl nicht vorhanden ist, dann gibt es einen ValueError\n",
    "print(\"\\nRemove: \",zahlen)\n",
    "\n",
    "x = zahlen.pop() # Entfernt das Element an der letzten Stelle wenn kein Index angegeben ist und gibt das entfernte Element zurück\n",
    "y = zahlen.pop(0) # Entfernt das Element an einer bestimmten Stelle und gibt das entfernte Element zurück, alternativ mit del zahlen[0], jedoch ohne return\n",
    "print(\"\\nPop \",x,\", \",y,\": \",zahlen)"
   ]
  },
  {
   "cell_type": "code",
   "execution_count": 7,
   "id": "efc4bb5a",
   "metadata": {},
   "outputs": [
    {
     "name": "stdout",
     "output_type": "stream",
     "text": [
      "\n",
      "Index der ersten 10:  8\n",
      "\n",
      "Count of 5:  1\n"
     ]
    }
   ],
   "source": [
    "index = zahlen.index(9) # Gibt den Index der ersten 10 zurück. Optional kann mit Start, Ende nach der Zahl die Suche auf ein Teil der Liste begrenzt werden\n",
    "print(\"\\nIndex der ersten 10: \", index)\n",
    "\n",
    "count = zahlen.count(5) # Zählt die Anzahl eines Elementes in einer Liste\n",
    "print(\"\\nCount of 5: \", count)"
   ]
  },
  {
   "cell_type": "code",
   "execution_count": 8,
   "id": "bae0253f",
   "metadata": {},
   "outputs": [
    {
     "name": "stdout",
     "output_type": "stream",
     "text": [
      "\n",
      "Sort:  [19, 18, 17, 16, 15, 14, 13, 12, 11, 9, 8, 7, 6, 5, 4, 3, 2, 1]\n",
      "\n",
      "Reverse:  [1, 2, 3, 4, 5, 6, 7, 8, 9, 11, 12, 13, 14, 15, 16, 17, 18, 19]\n"
     ]
    }
   ],
   "source": [
    "zahlen.sort(reverse=True) # Sortiert die Liste, optional kann mit reverse=True/False die Reihenfolge bestimmt werden\n",
    "print(\"\\nSort: \",zahlen)\n",
    "\n",
    "zahlen.reverse() # Kehrt die Liste um\n",
    "print(\"\\nReverse: \",zahlen)"
   ]
  },
  {
   "cell_type": "code",
   "execution_count": 9,
   "id": "ef777586",
   "metadata": {},
   "outputs": [
    {
     "name": "stdout",
     "output_type": "stream",
     "text": [
      "\n",
      "Clear:  []\n",
      "\n",
      "Kopie von Zahlen:  [1, 2, 3, 4, 5, 6, 7, 8, 9, 11, 12, 13, 14, 15, 16, 17, 18, 19]\n"
     ]
    }
   ],
   "source": [
    "zahlen_kopie = zahlen.copy() # Gibt eine Kopie der Liste zurück, äquivalent zu zahlen_kopie = zahlen[:]\n",
    "zahlen.clear() # Entfernt alle Elemente in einer Liste, äquivalent: del a[:]\n",
    "print(\"\\nClear: \",zahlen)\n",
    "print(\"\\nKopie von Zahlen: \",zahlen_kopie)"
   ]
  },
  {
   "cell_type": "markdown",
   "id": "a7238b3e",
   "metadata": {},
   "source": [
    "##  Iterationen über Listen\n",
    "For Schleife für Collection (z.B. Array, Listen)"
   ]
  },
  {
   "cell_type": "code",
   "execution_count": 10,
   "id": "143eaa18",
   "metadata": {},
   "outputs": [
    {
     "name": "stdout",
     "output_type": "stream",
     "text": [
      "\n",
      "Summe:  15\n",
      "\n",
      "Summe:  15\n"
     ]
    }
   ],
   "source": [
    "zahlen = [1,2,3,4,5]\n",
    "summe = 0\n",
    "for zahl in zahlen:\n",
    "    summe += zahl\n",
    "print(\"\\nSumme: \",summe)\n",
    "# Kurzform mit der sum() Funktion:\n",
    "print(\"\\nSumme: \",sum(zahlen))"
   ]
  },
  {
   "cell_type": "markdown",
   "id": "3398f68e",
   "metadata": {},
   "source": [
    "Liste erzeugen mit For-Schleife"
   ]
  },
  {
   "cell_type": "code",
   "execution_count": 11,
   "id": "0abf9160",
   "metadata": {},
   "outputs": [
    {
     "name": "stdout",
     "output_type": "stream",
     "text": [
      "[0, 1, 2, 3, 4, 5]\n",
      "[0, 1, 2, 3, 4, 5]\n"
     ]
    }
   ],
   "source": [
    "zahlen = []\n",
    "for zahl in range(6):\n",
    "    zahlen.append(zahl)\n",
    "print(zahlen)\n",
    "# Kurzform\n",
    "zahlen2 = [zahl for zahl in range(6)]\n",
    "print(zahlen2)"
   ]
  },
  {
   "cell_type": "markdown",
   "id": "77c28e02",
   "metadata": {},
   "source": [
    "## Enumerate"
   ]
  },
  {
   "cell_type": "code",
   "execution_count": 12,
   "id": "108c7fb3",
   "metadata": {},
   "outputs": [
    {
     "name": "stdout",
     "output_type": "stream",
     "text": [
      "Index: 0, Zahl: 10\n",
      "Index: 1, Zahl: 11\n",
      "Index: 2, Zahl: 12\n",
      "Index: 3, Zahl: 13\n",
      "Index: 4, Zahl: 14\n",
      "Summe: 60\n"
     ]
    }
   ],
   "source": [
    "zahlen = list(range(10,15))\n",
    "summe = 0\n",
    "for index, zahl in enumerate(zahlen):\n",
    "    print(\"Index: \" + str(index) + \", Zahl: \" + str(zahl))\n",
    "    summe += zahl\n",
    "print(\"Summe: \" + str(summe))"
   ]
  },
  {
   "cell_type": "markdown",
   "id": "6c529326",
   "metadata": {},
   "source": [
    "## Zip\n",
    "Durch die zip() Funktion lassen sich mehrere Listen verbinden und z.B. gleichzeitig iterieren."
   ]
  },
  {
   "cell_type": "code",
   "execution_count": 13,
   "id": "c3e1dbac",
   "metadata": {},
   "outputs": [
    {
     "name": "stdout",
     "output_type": "stream",
     "text": [
      "steak kostet 22.99\n",
      "salat kostet 9.99\n",
      "nudeln kostet 13.99\n"
     ]
    }
   ],
   "source": [
    "speisekarte = ['steak', 'salat', 'nudeln']\n",
    "preise = [22.99, 9.99, 13.99]\n",
    "\n",
    "for speise, preis in zip(speisekarte,preise):\n",
    "    print (speise,\"kostet\", preis)"
   ]
  },
  {
   "cell_type": "markdown",
   "id": "5a2b8ebe",
   "metadata": {},
   "source": [
    "## Stack\n",
    "Listen in Python können auch einfach als Stack nach dem LIFO Prinzip (“last-in, first-out”) genutzt werden. Die hierfür nötigen Funktionen sind append() und pop()"
   ]
  },
  {
   "cell_type": "code",
   "execution_count": 14,
   "id": "0082cc41",
   "metadata": {},
   "outputs": [
    {
     "name": "stdout",
     "output_type": "stream",
     "text": [
      "[1, 2, 3, 4, 5, 6]\n",
      "[1, 2, 3, 4, 5]\n"
     ]
    }
   ],
   "source": [
    "stack = [1,2,3,4,5]\n",
    "stack.append(6)\n",
    "print(stack)\n",
    "stack.pop()\n",
    "print(stack)"
   ]
  },
  {
   "cell_type": "markdown",
   "id": "48072cbf",
   "metadata": {},
   "source": [
    "## Queue \n",
    "Queues (dt. Schlange) nach dem FIFO Prinzip (“first-in, first-out”) können theoretisch mit Python Listen umgesetzt werden, sind jedoch nicht optimal, weil alle nachfolgenden Elemente beim Einfügen/Entfernen um eine Position verschoben werden müssen. Die Methode deque von Python Collections bietet hier abhilfe."
   ]
  },
  {
   "cell_type": "code",
   "execution_count": 15,
   "id": "eb4cb933",
   "metadata": {},
   "outputs": [
    {
     "name": "stdout",
     "output_type": "stream",
     "text": [
      "deque([1, 2, 3, 4, 5])\n",
      "\n",
      "Append 0:  deque([1, 2, 3, 4, 5, 0])\n"
     ]
    }
   ],
   "source": [
    "from collections import deque\n",
    "zahlen = [1,2,3,4,5]\n",
    "queue = deque(zahlen)\n",
    "print(queue)\n",
    "\n",
    "queue.append(0) # gleich wie bei der Liste\n",
    "print(\"\\nAppend 0: \",queue)"
   ]
  },
  {
   "cell_type": "code",
   "execution_count": 16,
   "id": "c1c3893f",
   "metadata": {},
   "outputs": [
    {
     "name": "stdout",
     "output_type": "stream",
     "text": [
      "\n",
      "Popleft 1 : deque([2, 3, 4, 5, 0])\n",
      "\n",
      "Pop(last) 0 : deque([2, 3, 4, 5])\n"
     ]
    }
   ],
   "source": [
    "a = queue.popleft() # neue Methode von deque, die effizient das erste Element in der Liste entfernt\n",
    "print(\"\\nPopleft\",a,\":\",queue)\n",
    "\n",
    "b = queue.pop() # gleich wie bei der Liste, entfernt das letzte Element und gibt es zurück\n",
    "print(\"\\nPop(last)\",b,\":\",queue)"
   ]
  },
  {
   "cell_type": "markdown",
   "id": "66253e79",
   "metadata": {},
   "source": [
    "## Tupel und Sequenzen\n",
    "Tupel sind kommagetrennte Datenstrukturen ohne einheitliches Format. Standard operationen wie index und slice operationen sind hier auch möglich. Tupel können auch andere Tupel enthalten, jedoch können Elemente in einem Tupel nicht verändert werden. "
   ]
  },
  {
   "cell_type": "code",
   "execution_count": 17,
   "id": "49c83c49",
   "metadata": {},
   "outputs": [
    {
     "name": "stdout",
     "output_type": "stream",
     "text": [
      "hallo welt\n",
      "(1, 'hallo', 'welt', 0.41, 'a')\n",
      "('hallo', 'welt')\n"
     ]
    }
   ],
   "source": [
    "t = 1, \"hallo\", \"welt\", 0.41, \"a\" # Verpacken von mehreren Elementen zu einem Tupel\n",
    "_, a, b, _, _ = t # Entpacken der Elemente in Variablen möglich\n",
    "print(a,b)\n",
    "t2 = t,1,2,3,4,5,[6,7]\n",
    "print(t)\n",
    "print(t[1:3])\n"
   ]
  },
  {
   "cell_type": "code",
   "execution_count": 18,
   "id": "614591ed",
   "metadata": {},
   "outputs": [
    {
     "name": "stdout",
     "output_type": "stream",
     "text": [
      "((1, 'hallo', 'welt', 0.41, 'a'), 1, 2, 3, 4, 5, [6, 7])\n",
      "\n",
      "((1, 'hallo', 'welt', 0.41, 'a'), 1, 2, 3, 4, 5, [10, 7])\n"
     ]
    },
    {
     "ename": "TypeError",
     "evalue": "'tuple' object does not support item assignment",
     "output_type": "error",
     "traceback": [
      "\u001b[0;31m---------------------------------------------------------------------------\u001b[0m",
      "\u001b[0;31mTypeError\u001b[0m                                 Traceback (most recent call last)",
      "\u001b[0;32m<ipython-input-18-440d31b5d193>\u001b[0m in \u001b[0;36m<module>\u001b[0;34m\u001b[0m\n\u001b[1;32m      3\u001b[0m \u001b[0mt2\u001b[0m\u001b[0;34m[\u001b[0m\u001b[0;36m6\u001b[0m\u001b[0;34m]\u001b[0m\u001b[0;34m[\u001b[0m\u001b[0;36m0\u001b[0m\u001b[0;34m]\u001b[0m \u001b[0;34m=\u001b[0m \u001b[0;36m10\u001b[0m \u001b[0;31m# veränderbare Elemente in einem Tupel können verändert werden!\u001b[0m\u001b[0;34m\u001b[0m\u001b[0;34m\u001b[0m\u001b[0m\n\u001b[1;32m      4\u001b[0m \u001b[0mprint\u001b[0m\u001b[0;34m(\u001b[0m\u001b[0mt2\u001b[0m\u001b[0;34m)\u001b[0m\u001b[0;34m\u001b[0m\u001b[0;34m\u001b[0m\u001b[0m\n\u001b[0;32m----> 5\u001b[0;31m \u001b[0mt2\u001b[0m\u001b[0;34m[\u001b[0m\u001b[0;36m0\u001b[0m\u001b[0;34m]\u001b[0m \u001b[0;34m=\u001b[0m \u001b[0;36m1\u001b[0m \u001b[0;31m# nicht möglich!\u001b[0m\u001b[0;34m\u001b[0m\u001b[0;34m\u001b[0m\u001b[0m\n\u001b[0m",
      "\u001b[0;31mTypeError\u001b[0m: 'tuple' object does not support item assignment"
     ]
    }
   ],
   "source": [
    "print(t2)\n",
    "print()\n",
    "t2[6][0] = 10 # veränderbare Elemente in einem Tupel können verändert werden!\n",
    "print(t2)\n",
    "t2[0] = 1 # nicht möglich!"
   ]
  },
  {
   "cell_type": "markdown",
   "id": "665751e0",
   "metadata": {},
   "source": [
    "## Spezielle Initialisierung von Tupeln"
   ]
  },
  {
   "cell_type": "code",
   "execution_count": 19,
   "id": "bff7ef92",
   "metadata": {},
   "outputs": [
    {
     "name": "stdout",
     "output_type": "stream",
     "text": [
      "0\n",
      "1\n"
     ]
    }
   ],
   "source": [
    "empty_tupel = ()\n",
    "print(len(empty_tupel))\n",
    "singleton = 'hello',  # Wichtig: Durch das Komma am Ende wird aus dem String ein Tupel und ist somit nicht veränderbar\n",
    "print(len(singleton))"
   ]
  },
  {
   "cell_type": "markdown",
   "id": "7f6911d9",
   "metadata": {},
   "source": [
    "## Sets\n",
    "Ein Set ist eine unsortierte Liste ohne Duplikate. Dieser Variablentyp wird normalerweise zum Entfernen von Duplikaten oder zur Überprüfung, ob ein Element vorhanden ist, verwendet. Ein Set ist mit {} gekennzeichnet, kann jedoch nur mit set() leer initialisiert werden. Desweiteren gibt es verschiedene Set Operationen, um Elemente in Sets zu vergleichen."
   ]
  },
  {
   "cell_type": "code",
   "execution_count": 20,
   "id": "c5f32e5c",
   "metadata": {},
   "outputs": [
    {
     "name": "stdout",
     "output_type": "stream",
     "text": [
      "set()\n",
      "{'o', 'w', 'e', 'a', 'l', ' ', 'h', 't'}\n",
      "False\n",
      "True\n"
     ]
    }
   ],
   "source": [
    "leeres_set = set()\n",
    "print(leeres_set)\n",
    "hallo_welt_set = set('hallo welt') # Alternativ: {'h','a','l','l','o',' ','w','e','l','t'}\n",
    "hallo_set = set('hallo')\n",
    "print(hallo_welt_set)\n",
    "print(\"x\" in hallo_welt_set) # Prüfung, ob Element vorhanden ist\n",
    "print(\"h\" in hallo_welt_set) # Prüfung, ob Element vorhanden ist"
   ]
  },
  {
   "cell_type": "code",
   "execution_count": 21,
   "id": "648508d8",
   "metadata": {},
   "outputs": [
    {
     "name": "stdout",
     "output_type": "stream",
     "text": [
      "{'w', 'e', ' ', 't'}\n",
      "{'o', 'w', 'e', 'a', 'l', ' ', 'h', 't'}\n",
      "{'o', 'l', 'h', 'a'}\n",
      "{'w', 'e', ' ', 't'}\n"
     ]
    }
   ],
   "source": [
    "print(hallo_welt_set - hallo_set) # Set Operationen, z.B. alle Elemente in hallo_welt_set abzüglich der Elemente in hallo_set\n",
    "print(hallo_welt_set | hallo_set) # Set Operationen, z.B. alle Elemente in hallo_welt_set oder in hallo_set, oder in beiden\n",
    "print(hallo_welt_set & hallo_set) # Set Operationen, z.B. alle Elemente in hallo_welt_set und in hallo_set\n",
    "print(hallo_welt_set ^ hallo_set) # Set Operationen, z.B. alle Elemente in hallo_welt_set oder in hallo_set, oder nicht in beiden"
   ]
  },
  {
   "cell_type": "markdown",
   "id": "edec64ac",
   "metadata": {},
   "source": [
    "## Dictionaries\n",
    "Ein Wörterbuch (dictionaray) ähnelt einer Liste, hat aber Schlüssel als Indizes anstelle von impliziten Ganzzahlwerten. Diese Schlüssel müssen einzigartig sein, können aber sehr flexibel sein, z.B. auch Strings. Dictionaries werden mit {} initialisiert. Hauptsächlich wird dieser Variablentyp verwendet, um Werte schlüsselweise zu speichern. Mit del kann ein Schlüssel-Werte-Paar gelöscht oder einfach mit einem neuen Wert an einem vorhandenen Schlüssel überschrieben werden. Ein dictionary kann auch ähnlich wie eine Liste in Kurzform initialisiert werden. Ein einfacher Weg durch ein dictionary zu iterieren ist die .items() Methode."
   ]
  },
  {
   "cell_type": "code",
   "execution_count": 22,
   "id": "2db4a320",
   "metadata": {},
   "outputs": [
    {
     "name": "stdout",
     "output_type": "stream",
     "text": [
      "{'Nudeln': 11.99, 'Salat': 9.99, 'Steak': 15.99}\n",
      "9.99\n"
     ]
    }
   ],
   "source": [
    "speisekarte = {'Nudeln':11.99, 'Salat':9.99}\n",
    "speisekarte['Steak'] = 15.99 # Setzen eines neuen Schlüssel-Werte-Paars (oder überschreiben, falls bereits vorhanden)\n",
    "print(speisekarte) # Standardausgabe des dictionaries\n",
    "print(speisekarte[\"Salat\"]) # Standardausgabe des Wertes bei einem speziellen Schlüssel\n",
    "del speisekarte[\"Salat\"]"
   ]
  },
  {
   "cell_type": "code",
   "execution_count": 23,
   "id": "b53f6aee",
   "metadata": {},
   "outputs": [
    {
     "name": "stdout",
     "output_type": "stream",
     "text": [
      "{'Nudeln': 11.99, 'Steak': 15.99}\n",
      "['Nudeln', 'Steak']\n",
      "['Nudeln', 'Steak']\n",
      "False\n",
      "True\n",
      "{1: 10, 2: 20, 3: 30, 4: 40, 5: 50}\n"
     ]
    }
   ],
   "source": [
    "print(speisekarte)\n",
    "print(list(speisekarte)) # Liste aller Schlüssel\n",
    "print(sorted(speisekarte)) # sortierte Liste aller Schlüssel\n",
    "print('Salat' in speisekarte) # Existenzprüfung\n",
    "print('Steak' in speisekarte) # Existenzprüfung\n",
    "print({a:a*10 for a in (1,2,3,4,5)})"
   ]
  },
  {
   "cell_type": "code",
   "execution_count": 24,
   "id": "7319b978",
   "metadata": {},
   "outputs": [
    {
     "name": "stdout",
     "output_type": "stream",
     "text": [
      "Nudeln 11.99\n",
      "Steak 15.99\n",
      "0 Nudeln 11.99\n",
      "1 Steak 15.99\n"
     ]
    }
   ],
   "source": [
    "for key, value in speisekarte.items():\n",
    "    print(key,value)\n",
    "\n",
    "for i, (key, value) in enumerate(speisekarte.items()): # Kann auch mit Enumerate kombiniert werden für automatischen Zähler\n",
    "    print(i, key,value)"
   ]
  },
  {
   "cell_type": "markdown",
   "id": "58b170ad",
   "metadata": {},
   "source": [
    "## Zusammenfassung: \n",
    "- Sie können dieses Notebook mit jedem Jupyter Server ausführen.\n",
    "- Beispielsweise in Google Collab: https://colab.research.google.com/\n",
    "- Erweiterte Variablentypen erleichtern oft die Programmierung und kommen mit vordefinierten Methoden\n",
    "- Alle erweiterten Variablentypen haben bestimmte Eigenschaften und damit Vor- und Nachteile\n",
    "- Oft sind erweiterte Variablentypen austauschbar und es ist im Sinne des Programmierers zu entscheiden welcher Typ optimalerweise genutzt werden sollte"
   ]
  },
  {
   "cell_type": "markdown",
   "id": "b7a65106",
   "metadata": {},
   "source": [
    "## Quellen: \n",
    "-  https://docs.python.org/3/tutorial/datastructures.html"
   ]
  }
 ],
 "metadata": {
  "interpreter": {
   "hash": "e16839f294d4c0c3a950d69e469040cf54ee0fe2b9ac54c836cd69dce56f946f"
  },
  "kernelspec": {
   "display_name": "Python 3",
   "language": "python",
   "name": "python3"
  },
  "language_info": {
   "codemirror_mode": {
    "name": "ipython",
    "version": 3
   },
   "file_extension": ".py",
   "mimetype": "text/x-python",
   "name": "python",
   "nbconvert_exporter": "python",
   "pygments_lexer": "ipython3",
   "version": "3.8.5"
  }
 },
 "nbformat": 4,
 "nbformat_minor": 5
}
