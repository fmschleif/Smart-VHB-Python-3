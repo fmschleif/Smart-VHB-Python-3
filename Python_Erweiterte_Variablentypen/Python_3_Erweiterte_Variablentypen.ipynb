{
 "cells": [
  {
   "cell_type": "markdown",
   "id": "cb788def",
   "metadata": {},
   "source": [
    "# Python 3 Erweiterte Variablentypen"
   ]
  },
  {
   "cell_type": "markdown",
   "id": "41e549d4",
   "metadata": {},
   "source": [
    "Diese Präsentation ist ein Jupyter Notebook. Mit Jupyter-Notebooks können gewöhnliche Präsentation-Slides und Code kombiniert dargestellt werden. Eine Code-Slide erkennen Sie an ```In [Zahl]:``` und ```Out[Zahl]:```. Dabei bezeichnet ```In``` den verwendeten Code und ```Out``` die Ausgabe dessen. Achten Sie auf ```#``` Symbole für weitere Informationen. "
   ]
  },
  {
   "cell_type": "markdown",
   "id": "ef3e4d01",
   "metadata": {},
   "source": [
    "## Lernziele\n",
    "- Erweiterte Variablentypen können benannt werden.\n",
    "- Methoden für erweiterte Variablentypen können eingesetzt werden.\n",
    "- Komplexere Datenstrukturen können erstellt und verändert werden."
   ]
  },
  {
   "cell_type": "markdown",
   "id": "884681da",
   "metadata": {},
   "source": [
    "## Vorkenntnisse \n",
    "- Grundlagen in Mathematik \n",
    "- Grundlagen in Python 3 Variablen und Operatoren\n",
    "- Grundlagen in Python 3 Methoden und Kontrollstrukturen"
   ]
  },
  {
   "cell_type": "markdown",
   "id": "3d8f664d",
   "metadata": {},
   "source": [
    "## Zielgruppe\n",
    "- Studierende in naturwissenschaftlichen Studiengängen.\n",
    "- Studierende in Ingenieurstudiengängen \n",
    "- Studierende mit anderweitigem naturwissenschaftlichen/technischen Hintergrund\n",
    "- Studierende mit ersten Erfahrung in Python oder in anderen Programmiersprachen"
   ]
  },
  {
   "cell_type": "markdown",
   "id": "bce07ac5",
   "metadata": {},
   "source": [
    "## Aufbau\n",
    "- Einführung Listen\n",
    "- Umgang mit Listen\n",
    "- Stack\n",
    "- Queue\n",
    "- Tupel und Sequenzen\n",
    "- Sets\n",
    "- Dictionaries"
   ]
  },
  {
   "cell_type": "markdown",
   "id": "39bd727a",
   "metadata": {},
   "source": [
    "## Einführung Liste\n",
    "\n",
    "Eine Liste ist eine Datenstruktur in Python, in die jede Art von Datentyp in einer praktisch beliebigen länge und anordnung aneinander gereit werden können. Die Liste stellt somit die flexibilste Datenstruktur in der Python-Sprache dar. Die Liste wird mit [...] oder mit list(...) initialisiert.\n",
    "\n",
    "Beispiel: ``` a = [1, \"test\", false]``` oder ```a = list([1,\"test\",false])```"
   ]
  },
  {
   "cell_type": "code",
   "execution_count": 1,
   "id": "3a68d73b",
   "metadata": {},
   "outputs": [
    {
     "data": {
      "text/plain": [
       "['a', 5]"
      ]
     },
     "execution_count": 1,
     "metadata": {},
     "output_type": "execute_result"
    }
   ],
   "source": [
    "# Python liste mit zwei Elementen\n",
    "list([\"a\",5])"
   ]
  },
  {
   "cell_type": "markdown",
   "id": "6210786a",
   "metadata": {},
   "source": [
    "## Flexibiltät der Liste\n",
    "Beispielsweise kann ein\n",
    "- \"test\" # String\n",
    "- 5 # Integer\n",
    "- 1.0 # Float\n",
    "- True # Boolean\n",
    "\n",
    "zusammen eine Liste sein."
   ]
  },
  {
   "cell_type": "code",
   "execution_count": 2,
   "id": "dbe6faae",
   "metadata": {},
   "outputs": [
    {
     "data": {
      "text/plain": [
       "['test', 5, 1.0, True]"
      ]
     },
     "execution_count": 2,
     "metadata": {},
     "output_type": "execute_result"
    }
   ],
   "source": [
    "# Beispiel von vorheriger Slide\n",
    "# \"test\",5,1.0,True\n",
    "test = [\"test\",5,1.0,True]\n",
    "test"
   ]
  },
  {
   "cell_type": "markdown",
   "id": "34ad8de6",
   "metadata": {},
   "source": [
    "## Slicing \n",
    "Das Slicing bezeichnet das Zugreifen auf ein oder mehrere Elemente der List. Jede Liste speichert einen Index mit dem auf die Elemente der Liste zugegriffen werden kann. Der Index beginnt ab 0 bis der Länge der Liste -1."
   ]
  },
  {
   "cell_type": "code",
   "execution_count": 3,
   "id": "7dfd2e3e",
   "metadata": {},
   "outputs": [
    {
     "name": "stdout",
     "output_type": "stream",
     "text": [
      "test\n",
      "True\n",
      "['test', 5]\n",
      "[5, 1.0]\n",
      "[1.0, True]\n"
     ]
    }
   ],
   "source": [
    "print(test[0])  # Erstes Element\n",
    "print(test[-1]) # Letztes Element\n",
    "print(test[0:2]) # Erstes bis 2-1tes ELement\n",
    "print(test[-3:-1]) # Drittletzes bis vorletztes Element\n",
    "print(test[2:]) # Alle Elemente bis zum Ende, beginnend ab Element 2"
   ]
  },
  {
   "cell_type": "markdown",
   "id": "a40ffb68",
   "metadata": {},
   "source": [
    "## Umgang Listen\n",
    "Eine Liste in Python hat einige Methoden, die direkt auf die Liste angewandt werden können:\n",
    "- list.append(x)\n",
    "- list.extend(iterable)\n",
    "- list.insert(i, x)\n",
    "- list.remove(x)\n",
    "- list.pop([i])\n",
    "- list.clear()\n",
    "- list.index(x[, start[,end]])\n",
    "- list.count(x)\n",
    "- list.sort(*, key=None, reverse=False)\n",
    "- list.reverse()\n",
    "- list.copy()\n",
    "\n",
    "Nachfolgend wird sehr einfach eine Liste mit der range() Funktion erstellt und mit den genannten Funktionen manipuliert."
   ]
  },
  {
   "cell_type": "code",
   "execution_count": 4,
   "id": "4dddc824",
   "metadata": {},
   "outputs": [
    {
     "name": "stdout",
     "output_type": "stream",
     "text": [
      "Liste:  [0, 1, 2, 3, 4, 5, 6, 7, 8, 9]\n",
      "\n",
      "Append:  [0, 1, 2, 3, 4, 5, 6, 7, 8, 9, [11, 12]]\n"
     ]
    }
   ],
   "source": [
    "numbers = list(range(0,10)) # Die Methode range() gibt einen Iterator für die \n",
    "                           # Zahlen [1,...10] zurück, die Methode list() fasst\n",
    "                           # diese Elemente in eine Python Liste zusammen.\n",
    "print(\"Liste: \",numbers)\n",
    "\n",
    "numbers.append([11,12]) # Füge die Zahlen 11 und 12 als Liste am Ende hinzu.\n",
    "print(\"\\nAppend: \",numbers)"
   ]
  },
  {
   "cell_type": "code",
   "execution_count": 5,
   "id": "3b613729",
   "metadata": {},
   "outputs": [
    {
     "name": "stdout",
     "output_type": "stream",
     "text": [
      "\n",
      "Extend:  [0, 1, 2, 3, 4, 5, 6, 7, 8, 9, [11, 12], 13, 14]\n",
      "\n",
      "Insert:  [0, 1, 2, 3, 4, 5, 6, 7, 8, 9, 99, [11, 12], 13, 14]\n"
     ]
    }
   ],
   "source": [
    "numbers.extend([13,14]) # Erweitert die Liste numbers mit den Zahlen\n",
    "                        # [13,14] am Ende, durch das erweitern\n",
    "                        # der Liste mit Iterator([13,14]).\n",
    "                        # numb[len(numbers):] = range(13,14)\n",
    "print(\"\\nExtend: \",numbers)\n",
    "\n",
    "numbers.insert(10, 99) # Für am Index 10 die Zahl 99 ein. Notiz: der Index beginnt bei 0\n",
    "print(\"\\nInsert: \",numbers)"
   ]
  },
  {
   "cell_type": "code",
   "execution_count": 6,
   "id": "720ad4ef",
   "metadata": {},
   "outputs": [
    {
     "name": "stdout",
     "output_type": "stream",
     "text": [
      "\n",
      "Remove:  [0, 1, 2, 3, 4, 5, 6, 7, 8, 9, [11, 12], 13, 14]\n",
      "\n",
      "Pop  14 ,  0 :  [1, 2, 3, 4, 5, 6, 7, 8, 9, [11, 12], 13]\n"
     ]
    }
   ],
   "source": [
    "numbers.remove(99) # Löscht die erste 99 in der Liste. \n",
    "                   # Wenn die Zahl nicht vorhanden ist, dann gibt es einen ValueError.\n",
    "print(\"\\nRemove: \",numbers)\n",
    "\n",
    "x = numbers.pop()  # Entfernt das Element an der letzten Stelle, \n",
    "                   # wenn kein Index angegeben ist und gibt das entfernte Element zurück.\n",
    "y = numbers.pop(0) # Entfernt das Element an einer bestimmten Stelle und\n",
    "                   # gibt das entfernte Element zurück.\n",
    "                   # Alternativ mit del numbers[0], jedoch ohne return Wert.\n",
    "print(\"\\nPop \",x,\", \",y,\": \",numbers)"
   ]
  },
  {
   "cell_type": "code",
   "execution_count": 7,
   "id": "d12eb851",
   "metadata": {},
   "outputs": [
    {
     "name": "stdout",
     "output_type": "stream",
     "text": [
      "\n",
      "Index der ersten 10:  2\n",
      "\n",
      "Count of 5:  1\n"
     ]
    }
   ],
   "source": [
    "index = numbers.index(3) # Gibt den Index der ersten 3 zurück. \n",
    "                         # Optional kann mit Start, Ende nach der Zahl,\n",
    "                         # die Suche auf ein Teil der Liste begrenzt werden.\n",
    "print(\"\\nIndex der ersten 10: \", index)\n",
    "\n",
    "count = numbers.count(5) # Zählt die Anzahl eines Elementes in einer Liste\n",
    "print(\"\\nCount of 5: \", count)"
   ]
  },
  {
   "cell_type": "code",
   "execution_count": 8,
   "id": "382ba048",
   "metadata": {},
   "outputs": [
    {
     "name": "stdout",
     "output_type": "stream",
     "text": [
      "\n",
      "Sort:  [13, 8, 4, 2, 1]\n",
      "\n",
      "Reverse:  [1, 2, 4, 8, 13]\n"
     ]
    }
   ],
   "source": [
    "numbers = [13,2,8,4,1]\n",
    "numbers.sort(reverse=True) # Sortiert die Liste, optional kann mit reverse=True/False\n",
    "                           # die Reihenfolge bestimmt werden.\n",
    "print(\"\\nSort: \",numbers)\n",
    "\n",
    "numbers.reverse() # Kehrt die Liste um.\n",
    "print(\"\\nReverse: \",numbers)"
   ]
  },
  {
   "cell_type": "code",
   "execution_count": 9,
   "id": "5d34957d",
   "metadata": {},
   "outputs": [
    {
     "name": "stdout",
     "output_type": "stream",
     "text": [
      "\n",
      "Clear:  []\n",
      "\n",
      "Kopie von numbers:  [1, 2, 4, 8, 13]\n"
     ]
    }
   ],
   "source": [
    "numbers_kopie = numbers.copy() # Gibt eine Kopie der Liste zurück,\n",
    "                               # äquivalent zu numbers_kopie = numbers[:]\n",
    "numbers.clear() # Entfernt alle Elemente in einer Liste, äquivalent: del numbers[:]\n",
    "print(\"\\nClear: \",numbers)\n",
    "print(\"\\nKopie von numbers: \",numbers_kopie)"
   ]
  },
  {
   "cell_type": "markdown",
   "id": "08bf7ac6",
   "metadata": {},
   "source": [
    "##  Iterationen über Listen\n",
    "Schleifen über die Datenstruktur Liste. Anders als in anderen Programmiersprachen, muss nicht zwingend mit einem eigens programmierten Index über eine Liste iteriert werden. Es reicht lediglich ein Keyword für das iterieren zu benennen. Beispielsweise wie in der nächsten Slide. "
   ]
  },
  {
   "cell_type": "code",
   "execution_count": 10,
   "id": "4ef6483a",
   "metadata": {},
   "outputs": [
    {
     "name": "stdout",
     "output_type": "stream",
     "text": [
      "\n",
      "Summe:  15\n",
      "\n",
      "Kurzform-Summe:  15\n"
     ]
    }
   ],
   "source": [
    "numbers = [1,2,3,4,5]\n",
    "summe = 0\n",
    "for zahl in numbers: # zahl ist eine beliebig benennbare Variable.\n",
    "    summe += zahl\n",
    "print(\"\\nSumme: \",summe)\n",
    "# Kurzform mit der sum() Funktion:\n",
    "print(\"\\nKurzform-Summe: \",sum(numbers))"
   ]
  },
  {
   "cell_type": "markdown",
   "id": "41d1ded8",
   "metadata": {},
   "source": [
    "## Liste erzeugen mit For-Schleife"
   ]
  },
  {
   "cell_type": "code",
   "execution_count": 11,
   "id": "41919487",
   "metadata": {},
   "outputs": [
    {
     "name": "stdout",
     "output_type": "stream",
     "text": [
      "[0, 1, 2, 3, 4, 5]\n",
      "[0, 1, 2, 3, 4, 5]\n"
     ]
    }
   ],
   "source": [
    "numbers = [] ## Leere Liste\n",
    "for zahl in range(6): # Iterator von 0 bis 6-1.\n",
    "    numbers.append(zahl) # Bei einzelnen Zahlen\n",
    "print(numbers)           # ist append und extend gleich.\n",
    "# Kurzform\n",
    "numbers2 = [zahl for zahl in range(6)] # List Comprehension\n",
    "print(numbers2)"
   ]
  },
  {
   "cell_type": "markdown",
   "id": "5565589e",
   "metadata": {},
   "source": [
    "## Enumerate\n",
    "Anders als in anderen Programmiersprachen, gibt es in Python die Möglichkeit, durch enumerate() einen Index-Zähler zu erhalten der nicht selbst programmiert werden muss."
   ]
  },
  {
   "cell_type": "code",
   "execution_count": 12,
   "id": "e35ad718",
   "metadata": {},
   "outputs": [
    {
     "name": "stdout",
     "output_type": "stream",
     "text": [
      "Index: 0, Zahl: 10\n",
      "Index: 1, Zahl: 11\n",
      "Index: 2, Zahl: 12\n",
      "Index: 3, Zahl: 13\n",
      "Index: 4, Zahl: 14\n",
      "Summe: 60\n"
     ]
    }
   ],
   "source": [
    "numbers = list(range(10,15))\n",
    "summe = 0\n",
    "for index, zahl in enumerate(numbers):\n",
    "    print(\"Index: \" + str(index) + \", Zahl: \" + str(zahl))\n",
    "    summe += zahl\n",
    "print(\"Summe: \" + str(summe))"
   ]
  },
  {
   "cell_type": "markdown",
   "id": "ed5dd6ea",
   "metadata": {},
   "source": [
    "## Zip\n",
    "Durch die zip() Funktion lassen sich mehrere Listen verbinden und z.B. gleichzeitig iterieren."
   ]
  },
  {
   "cell_type": "code",
   "execution_count": 13,
   "id": "14124cfd",
   "metadata": {},
   "outputs": [
    {
     "name": "stdout",
     "output_type": "stream",
     "text": [
      "steak kostet 22.99\n",
      "salat kostet 9.99\n",
      "nudeln kostet 13.99\n"
     ]
    }
   ],
   "source": [
    "speisekarte = ['steak', 'salat', 'nudeln']\n",
    "preise = [22.99, 9.99, 13.99]\n",
    "\n",
    "for speise, preis in zip(speisekarte,preise):\n",
    "    print (speise,\"kostet\", preis)"
   ]
  },
  {
   "cell_type": "markdown",
   "id": "a158059d",
   "metadata": {},
   "source": [
    "## Stack\n",
    "Listen in Python können auch einfach als Stack nach dem LIFO Prinzip (“last-in, first-out”) genutzt werden. Die hierfür nötigen Funktionen sind append() und pop()"
   ]
  },
  {
   "cell_type": "code",
   "execution_count": 14,
   "id": "acdfade6",
   "metadata": {},
   "outputs": [
    {
     "name": "stdout",
     "output_type": "stream",
     "text": [
      "[1, 2, 3, 4, 5, 6]\n",
      "[1, 2, 3, 4, 5]\n"
     ]
    }
   ],
   "source": [
    "stack = [1,2,3,4,5]\n",
    "stack.append(6)\n",
    "print(stack)\n",
    "stack.pop()\n",
    "print(stack)"
   ]
  },
  {
   "cell_type": "markdown",
   "id": "2bf8cc5f",
   "metadata": {},
   "source": [
    "## Queue \n",
    "Queues (dt. Schlange) nach dem FIFO Prinzip (“first-in, first-out”) können theoretisch mit Python Listen umgesetzt werden, sind jedoch nicht optimal, weil alle nachfolgenden Elemente beim Einfügen/Entfernen um eine Position verschoben werden müssen. Die Methode deque von Python Collections bietet hier abhilfe."
   ]
  },
  {
   "cell_type": "code",
   "execution_count": 15,
   "id": "d94250d9",
   "metadata": {},
   "outputs": [
    {
     "name": "stdout",
     "output_type": "stream",
     "text": [
      "deque([1, 2, 3, 4, 5])\n",
      "\n",
      "Append 0:  deque([1, 2, 3, 4, 5, 0])\n"
     ]
    }
   ],
   "source": [
    "from collections import deque ## import der deque-Methode\n",
    "numbers = [1,2,3,4,5]\n",
    "queue = deque(numbers)\n",
    "print(queue)\n",
    "\n",
    "queue.append(0) # gleich wie bei der Liste\n",
    "print(\"\\nAppend 0: \",queue)"
   ]
  },
  {
   "cell_type": "code",
   "execution_count": 16,
   "id": "d98574bd",
   "metadata": {},
   "outputs": [
    {
     "name": "stdout",
     "output_type": "stream",
     "text": [
      "\n",
      "Popleft 1 : deque([2, 3, 4, 5, 0])\n",
      "\n",
      "Pop(last) 0 : deque([2, 3, 4, 5])\n"
     ]
    }
   ],
   "source": [
    "a = queue.popleft() # neue Methode von deque, die effizient das erste Element\n",
    "                    # in der Liste entfernt\n",
    "print(\"\\nPopleft\",a,\":\",queue)\n",
    "\n",
    "b = queue.pop() # Gleich wie bei der Liste, \n",
    "                # entfernt das letzte Element und gibt es zurück\n",
    "print(\"\\nPop(last)\",b,\":\",queue)"
   ]
  },
  {
   "cell_type": "markdown",
   "id": "82b7f724",
   "metadata": {},
   "source": [
    "## Tupel und Sequenzen\n",
    "Tupel sind kommagetrennte Datenstrukturen ohne einheitliches Format. Standard operationen wie index und slice operationen sind hier auch möglich. Tupel können auch andere Tupel enthalten, jedoch können Elemente in einem Tupel nicht verändert werden. "
   ]
  },
  {
   "cell_type": "code",
   "execution_count": 17,
   "id": "6da4e48f",
   "metadata": {},
   "outputs": [
    {
     "name": "stdout",
     "output_type": "stream",
     "text": [
      "hallo welt\n",
      "(1, 'hallo', 'welt', 0.41, 'a')\n",
      "('hallo', 'welt')\n"
     ]
    }
   ],
   "source": [
    "t = 1, \"hallo\", \"welt\", 0.41, \"a\" # Verpacken von mehreren Elementen zu einem Tupel\n",
    "_, a, b, _, _ = t # Entpacken der Elemente in Variablen möglich\n",
    "print(a,b)\n",
    "t2 = t,1,2,3,4,5,[6,7]\n",
    "print(t)\n",
    "print(t[1:3])\n"
   ]
  },
  {
   "cell_type": "code",
   "execution_count": 18,
   "id": "b391e2e9",
   "metadata": {},
   "outputs": [
    {
     "name": "stdout",
     "output_type": "stream",
     "text": [
      "((1, 'hallo', 'welt', 0.41, 'a'), 1, 2, 3, 4, 5, [6, 7])\n",
      "((1, 'hallo', 'welt', 0.41, 'a'), 1, 2, 3, 4, 5, [10, 7])\n"
     ]
    }
   ],
   "source": [
    "print(t2)\n",
    "t2[6][0] = 10 # veränderbare Elemente in einem Tupel können verändert werden!\n",
    "print(t2)\n",
    "# t2[0] = 1 ist Beispielsweise nicht möglich!"
   ]
  },
  {
   "cell_type": "markdown",
   "id": "8f656e4b",
   "metadata": {},
   "source": [
    "## Spezielle Initialisierung von Tupeln"
   ]
  },
  {
   "cell_type": "code",
   "execution_count": 19,
   "id": "4f35cd79",
   "metadata": {},
   "outputs": [
    {
     "name": "stdout",
     "output_type": "stream",
     "text": [
      "0\n",
      "1\n"
     ]
    }
   ],
   "source": [
    "empty_tupel = ()\n",
    "print(len(empty_tupel))\n",
    "singleton = 'hello',  # Wichtig: Durch das Komma am Ende wird aus dem String ein Tupel\n",
    "                      # und ist somit nicht veränderbar\n",
    "print(len(singleton))"
   ]
  },
  {
   "cell_type": "markdown",
   "id": "328ea211",
   "metadata": {},
   "source": [
    "## Sets\n",
    "Ein Set ist eine unsortierte Liste ohne Duplikate. Dieser Variablentyp wird normalerweise zum Entfernen von Duplikaten oder zur Überprüfung, ob ein Element vorhanden ist, verwendet. Ein Set ist mit {} gekennzeichnet, kann jedoch nur mit set() leer initialisiert werden. Desweiteren gibt es verschiedene Set Operationen, um Elemente in Sets zu vergleichen."
   ]
  },
  {
   "cell_type": "code",
   "execution_count": 20,
   "id": "f473f24e",
   "metadata": {},
   "outputs": [
    {
     "name": "stdout",
     "output_type": "stream",
     "text": [
      "set()\n",
      "{'o', ' ', 'w', 't', 'e', 'l', 'h', 'a'}\n",
      "False\n",
      "True\n"
     ]
    }
   ],
   "source": [
    "leeres_set = set()\n",
    "print(leeres_set)\n",
    "hellow_set = set('hallo welt') # Alternativ: {'h','a','l','l','o',' ','w','e','l','t'}\n",
    "hallo_set = set('hallo')\n",
    "print(hellow_set)\n",
    "print(\"x\" in hellow_set) # Prüfung, ob Element vorhanden ist\n",
    "print(\"h\" in hellow_set) # Prüfung, ob Element vorhanden ist"
   ]
  },
  {
   "cell_type": "code",
   "execution_count": 21,
   "id": "cc1a6c70",
   "metadata": {},
   "outputs": [
    {
     "name": "stdout",
     "output_type": "stream",
     "text": [
      "{1, 2, 3, 6, 8}\n",
      "[1, 2, 3, 6, 8]\n"
     ]
    }
   ],
   "source": [
    "aset = set([1,1,3,6,8,2]) # Initialisiere set über Liste\n",
    "print(aset) # Alle duplikate wurden entfernt.\n",
    "alist=list(aset) # Konvertiere zurück zur liste\n",
    "print(alist)"
   ]
  },
  {
   "cell_type": "markdown",
   "id": "4b0ca5f6",
   "metadata": {},
   "source": [
    "## Set Operationen\n",
    "Mit einer Set Operation kann Bolsche Algebra auf zwei Lisen angewendet werden. Dadurch können Beispielsweise duplikate oder fehlende Elemente herausgefiltert werden.   "
   ]
  },
  {
   "cell_type": "code",
   "execution_count": 22,
   "id": "4c4c68b3",
   "metadata": {},
   "outputs": [
    {
     "name": "stdout",
     "output_type": "stream",
     "text": [
      "{'e', ' ', 'w', 't'}\n",
      "{'o', ' ', 'w', 't', 'e', 'l', 'h', 'a'}\n",
      "{'o', 'l', 'h', 'a'}\n",
      "{' ', 'w', 't', 'e'}\n"
     ]
    }
   ],
   "source": [
    "print(hellow_set - hallo_set) # Alle Elemente in hellow_set abzüglich der Elemente in hallo_set\n",
    "print(hellow_set | hallo_set) # Alle Elemente in hellow_set oder in hallo_set, oder in beiden\n",
    "print(hellow_set & hallo_set) # Alle Elemente in hellow_set und in hallo_set\n",
    "print(hellow_set ^ hallo_set) # Alle Elemente in hellow_set oder in hallo_set, oder nicht in beiden"
   ]
  },
  {
   "cell_type": "markdown",
   "id": "9dd62e10",
   "metadata": {},
   "source": [
    "## Dictionaries\n",
    "Ein Wörterbuch (dictionaray) ähnelt einer Liste, hat aber Schlüssel als Indizes anstelle von impliziten Ganzzahlwerten. Diese Schlüssel müssen einzigartig sein, können aber sehr flexibel sein, z.B. auch Strings. Dictionaries werden mit {} initialisiert. Hauptsächlich wird dieser Variablentyp verwendet, um Werte schlüsselweise zu speichern. Mit del kann ein Schlüssel-Werte-Paar gelöscht oder einfach mit einem neuen Wert an einem vorhandenen Schlüssel überschrieben werden. Ein dictionary kann auch ähnlich wie eine Liste in Kurzform initialisiert werden. Ein einfacher Weg durch ein Dictionary zu iterieren ist die .items() Methode."
   ]
  },
  {
   "cell_type": "code",
   "execution_count": 23,
   "id": "dd374a67",
   "metadata": {},
   "outputs": [
    {
     "name": "stdout",
     "output_type": "stream",
     "text": [
      "{'Nudeln': 11.99, 'Salat': 9.99, 'Steak': 15.99}\n",
      "9.99\n"
     ]
    }
   ],
   "source": [
    "speisekarte = {'Nudeln':11.99, 'Salat':9.99}\n",
    "speisekarte['Steak'] = 15.99 # Setzen eines neuen Schlüssel-Werte-Paars\n",
    "                             #(oder überschreiben, falls bereits vorhanden)\n",
    "print(speisekarte) # Standardausgabe des dictionaries\n",
    "print(speisekarte[\"Salat\"]) # Standardausgabe des Wertes bei einem speziellen Schlüssel\n",
    "del speisekarte[\"Salat\"]"
   ]
  },
  {
   "cell_type": "code",
   "execution_count": 24,
   "id": "96671300",
   "metadata": {},
   "outputs": [
    {
     "name": "stdout",
     "output_type": "stream",
     "text": [
      "{'Nudeln': 11.99, 'Steak': 15.99}\n",
      "['Nudeln', 'Steak']\n",
      "['Nudeln', 'Steak']\n",
      "False\n",
      "True\n",
      "{1: 10, 2: 20, 3: 30, 4: 40, 5: 50}\n"
     ]
    }
   ],
   "source": [
    "print(speisekarte)\n",
    "print(list(speisekarte)) # Liste aller Schlüssel\n",
    "print(sorted(speisekarte)) # sortierte Liste aller Schlüssel\n",
    "print('Salat' in speisekarte) # Existenzprüfung\n",
    "print('Steak' in speisekarte) # Existenzprüfung\n",
    "print({a:a*10 for a in (1,2,3,4,5)})"
   ]
  },
  {
   "cell_type": "code",
   "execution_count": 25,
   "id": "476acfd1",
   "metadata": {},
   "outputs": [
    {
     "name": "stdout",
     "output_type": "stream",
     "text": [
      "Nudeln 11.99\n",
      "Steak 15.99\n",
      "0 Nudeln 11.99\n",
      "1 Steak 15.99\n"
     ]
    }
   ],
   "source": [
    "for key, value in speisekarte.items():\n",
    "    print(key,value)\n",
    "\n",
    "for i, (key, value) in enumerate(speisekarte.items()): \n",
    "            # Kann auch mit Enumerate kombiniert werden für automatischen Zähler.\n",
    "    print(i, key,value)"
   ]
  },
  {
   "cell_type": "code",
   "execution_count": 5,
   "id": "61653c64",
   "metadata": {},
   "outputs": [
    {
     "data": {
      "text/html": [
       "\n",
       "<script>\n",
       "var code_show=!1;function code_toggle(){var e,d;code_show?(null!=(e=document.getElementsByClassName(\"jp-CodeMirrorEditor jp-Editor jp-InputArea-editor\")[26])&&(e.style.display=\"\"),null!=(d=document.querySelector(\"div.cell.code_cell.rendered.selected div.input\"))&&(d.style.display=\"\")):(null!=(e=document.getElementsByClassName(\"jp-CodeMirrorEditor jp-Editor jp-InputArea-editor\")[26])&&(e.style.display=\"none\"),null!=(d=document.querySelector(\"div.cell.code_cell.rendered.selected div.input\"))&&(d.style.display=\"none\"));code_show=!code_show}code_toggle();\n",
       "</script>\n",
       "Zum Anzeigen des verwendeten Javascript klicken Sie <a onClick=\"code_toggle(); return false;\" >hier</a>.\n",
       "<center><h1>Quiz Questions</h1></center>\n",
       "\n",
       "<p>\n",
       "\n",
       "<form name=\"quiz\">\n",
       "\n",
       "<p>\n",
       "\n",
       "<b>Question 1.\n",
       "\n",
       "<br>He -------------------- it.<br></b>\n",
       "\n",
       "<blockquote>\n",
       "\n",
       "<input type=\"radio\" name=\"q1\" value=\"don't like\">don't like<br>\n",
       "\n",
       "<input type=\"radio\" name=\"q1\" value=\"doesn't like\">doesn't like<br>\n",
       "\n",
       "<input type=\"radio\" name=\"q1\" value=\"doesn't likes\">doesn't likes<br>\n",
       "\n",
       "</blockquote>\n",
       "\n",
       "<p><b>\n",
       "\n",
       "<hr>\n",
       "\n",
       "Question 2.\n",
       "\n",
       "<br>They -------------------- here very often.<br></b>\n",
       "\n",
       "<blockquote>\n",
       "\n",
       "<input type=\"radio\" name=\"q2\" value=\"don't come\">don't come<br>\n",
       "\n",
       "<input type=\"radio\" name=\"q2\" value=\"doesn't come\">doesn't come<br>\n",
       "\n",
       "<input type=\"radio\" name=\"q2\" value=\"doesn't comes\">doesn't comes<br>\n",
       "\n",
       "</blockquote>\n",
       "\n",
       "<p><b>\n",
       "\n",
       "<hr>\n",
       "\n",
       "Question 3.\n",
       "\n",
       "<br>John and Mary -------------------- twice a week.<br></b>\n",
       "\n",
       "<blockquote>\n",
       "\n",
       "<input type=\"radio\" name=\"q3\" value=\"come\">come<br>\n",
       "\n",
       "<input type=\"radio\" name=\"q3\" value=\"comes\">comes<br>\n",
       "\n",
       "<input type=\"radio\" name=\"q3\" value=\"coming\">coming<br>\n",
       "\n",
       "</blockquote>\n",
       "\n",
       "<p><b>\n",
       "\n",
       "<hr>\n",
       "\n",
       "Question 4.\n",
       "\n",
       "<br>I -------------------- mind at all.<br></b>\n",
       "\n",
       "<blockquote>\n",
       "\n",
       "<input type=\"radio\" name=\"q4\" value=\"not\">not<br>\n",
       "\n",
       "<input type=\"radio\" name=\"q4\" value=\"isn't\">isn't<br>\n",
       "\n",
       "<input type=\"radio\" name=\"q4\" value=\"don't\">don't<br>\n",
       "\n",
       "</blockquote>\n",
       "\n",
       "<p><b>\n",
       "\n",
       "<hr>\n",
       "\n",
       "Question 5.\n",
       "\n",
       "<br>It -------------------- sense.<br></b>\n",
       "\n",
       "<blockquote>\n",
       "\n",
       "<input type=\"radio\" name=\"q5\" value=\"don't make\">don't make<br>\n",
       "\n",
       "<input type=\"radio\" name=\"q5\" value=\"doesn't makes\">doesn't makes<br>\n",
       "\n",
       "<input type=\"radio\" name=\"q5\" value=\"doesn't make\">doesn't make<br>\n",
       "\n",
       "</blockquote>\n",
       "\n",
       "<p><b>\n",
       "\n",
       "<hr>\n",
       "\n",
       "Question 6.\n",
       "\n",
       "<br>They -------------------- happy.<br></b>\n",
       "\n",
       "<blockquote>\n",
       "\n",
       "<input type=\"radio\" name=\"q6\" value=\"seem\">seem<br>\n",
       "\n",
       "<input type=\"radio\" name=\"q6\" value=\"seems\">seems<br>\n",
       "\n",
       "<input type=\"radio\" name=\"q6\" value=\"seeming\">seeming<br>\n",
       "\n",
       "</blockquote>\n",
       "\n",
       "<p><b>\n",
       "\n",
       "Question 7.\n",
       "\n",
       "<br>You -------------------- to do it.<br></b>\n",
       "\n",
       "<blockquote>\n",
       "\n",
       "<input type=\"radio\" name=\"q7\" value=\"don't have\">don't have<br>\n",
       "\n",
       "<input type=\"radio\" name=\"q7\" value=\"doesn't have\">doesn't have<br>\n",
       "\n",
       "<input type=\"radio\" name=\"q7\" value=\"doesn't has\">doesn't has<br>\n",
       "\n",
       "</blockquote>\n",
       "\n",
       "<p><b>\n",
       "\n",
       "<hr>\n",
       "\n",
       "Question 8.\n",
       "\n",
       "<br>She -------------------- a brother.<br></b>\n",
       "\n",
       "<blockquote>\n",
       "\n",
       "<input type=\"radio\" name=\"q8\" value=\"doesn't has\">doesn't has<br>\n",
       "\n",
       "<input type=\"radio\" name=\"q8\" value=\"don't has\">don't has<br>\n",
       "\n",
       "<input type=\"radio\" name=\"q8\" value=\"doesn't have\">doesn't have<br>\n",
       "\n",
       "</blockquote>\n",
       "\n",
       "<p><b>\n",
       "\n",
       "<hr>\n",
       "\n",
       "Question 9.\n",
       "\n",
       "<br>The journey -------------------- an hour.<br></b>\n",
       "\n",
       "<blockquote>\n",
       "\n",
       "<input type=\"radio\" name=\"q9\" value=\"take\">take<br>\n",
       "\n",
       "<input type=\"radio\" name=\"q9\" value=\"takes\">takes<br>\n",
       "\n",
       "<input type=\"radio\" name=\"q9\" value=\"taking\">taking<br>\n",
       "\n",
       "</blockquote>\n",
       "\n",
       "<p><b>\n",
       "\n",
       "<hr>\n",
       "\n",
       "Question 10.\n",
       "\n",
       "<br>I -------------------- it now.<br></b>\n",
       "\n",
       "<blockquote>\n",
       "\n",
       "<input type=\"radio\" name=\"q10\" value=\"want\">want<br>\n",
       "\n",
       "<input type=\"radio\" name=\"q10\" value=\"wants\">wants<br>\n",
       "\n",
       "<input type=\"radio\" name=\"q10\" value=\"wanting\">wanting<br>\n",
       "\n",
       "</blockquote>\n",
       "\n",
       "<p><b>\n",
       "\n",
       "<hr>\n",
       "\n",
       "Question 11.\n",
       "\n",
       "<br>Peggy -------------------- by bus.<br></b>\n",
       "\n",
       "<blockquote>\n",
       "\n",
       "<input type=\"radio\" name=\"q11\" value=\"come\">come<br>\n",
       "\n",
       "<input type=\"radio\" name=\"q11\" value=\"comes\">comes<br>\n",
       "\n",
       "<input type=\"radio\" name=\"q11\" value=\"coming\">coming<br>\n",
       "\n",
       "</blockquote>\n",
       "\n",
       "<p><b>\n",
       "\n",
       "<hr>\n",
       "\n",
       "Question 12.\n",
       "\n",
       "<br>She --------------------.<br></b>\n",
       "\n",
       "<blockquote>\n",
       "\n",
       "<input type=\"radio\" name=\"q12\" value=\"don't know\">don't know<br>\n",
       "\n",
       "<input type=\"radio\" name=\"q12\" value=\"doesn't knows\">doesn't knows<br>\n",
       "\n",
       "<input type=\"radio\" name=\"q12\" value=\"doesn't know\">doesn't know<br>\n",
       "\n",
       "</blockquote>\n",
       "\n",
       "<p><b>\n",
       "\n",
       "<hr>\n",
       "\n",
       "Question 13.\n",
       "\n",
       "<br>She -------------------- hard.<br></b>\n",
       "\n",
       "<blockquote>\n",
       "\n",
       "<input type=\"radio\" name=\"q13\" value=\"try\">try<br>\n",
       "\n",
       "<input type=\"radio\" name=\"q13\" value=\"trys\">trys<br>\n",
       "\n",
       "<input type=\"radio\" name=\"q13\" value=\"tries\">tries<br>\n",
       "\n",
       "</blockquote>\n",
       "\n",
       "<p><b>\n",
       "\n",
       "<hr>\n",
       "\n",
       "Question 14.\n",
       "\n",
       "<br>They -------------------- football every weekend.<br></b>\n",
       "\n",
       "<blockquote>\n",
       "\n",
       "<input type=\"radio\" name=\"q14\" value=\"play\">play<br>\n",
       "\n",
       "<input type=\"radio\" name=\"q14\" value=\"plays\">plays<br>\n",
       "\n",
       "<input type=\"radio\" name=\"q14\" value=\"playing\">playing<br>\n",
       "\n",
       "</blockquote>\n",
       "\n",
       "<p><b>\n",
       "\n",
       "<hr>\n",
       "\n",
       "Question 15.\n",
       "\n",
       "<br>The exam -------------------- two hours.<br></b>\n",
       "\n",
       "<blockquote>\n",
       "\n",
       "<input type=\"radio\" name=\"q15\" value=\"last\">last<br>\n",
       "\n",
       "<input type=\"radio\" name=\"q15\" value=\"lastes\">lastes<br>\n",
       "\n",
       "<input type=\"radio\" name=\"q15\" value=\"lasts\">lasts<br>\n",
       "\n",
       "</blockquote>\n",
       "\n",
       "<p><b>\n",
       "\n",
       "<input type=\"button\"value=\"Grade Me\"onClick=\"getScore(this.form);\">\n",
       "\n",
       "<input type=\"reset\" value=\"Clear\"><p>\n",
       "\n",
       "Number of score out of 15 = <input type= text size 15 name= \"mark\">\n",
       "\n",
       "Score in percentage = <input type=text size=15 name=\"percentage\"><br>\n",
       "\n",
       "</form>\n",
       "\n",
       "<p>\n",
       "\n",
       "<form method=\"post\" name=\"Form\" onsubmit=\"\" action=\"\">\n",
       "\n",
       "</form>\n",
       "\n",
       "</body>\n",
       "\n",
       "<script>\n",
       "\n",
       "var numQues = 15;\n",
       "\n",
       "var numChoi = 3;\n",
       "\n",
       "var answers = new Array(15);\n",
       "\n",
       "answers[0] = \"doesn't like\";\n",
       "\n",
       "answers[1] = \"don't come\";\n",
       "\n",
       "answers[2] = \"come\";\n",
       "\n",
       "answers[3] = \"don't\";\n",
       "\n",
       "answers[4] = \"doesn't make\";\n",
       "\n",
       "answers[5] = \"seem\";\n",
       "\n",
       "answers[6] = \"don't have\";\n",
       "\n",
       "answers[7] = \"doesn't have\";\n",
       "\n",
       "answers[8] = \"takes\";\n",
       "\n",
       "answers[9] = \"want\";\n",
       "\n",
       "answers[10] = \"comes\";\n",
       "\n",
       "answers[11] = \"doesn't know\";\n",
       "\n",
       "answers[12] = \"tries\";\n",
       "\n",
       "answers[13] = \"play\";\n",
       "\n",
       "answers[14] = \"lasts\";\n",
       "\n",
       "function getScore(form) {\n",
       "\n",
       "var score = 0;\n",
       "\n",
       "var currElt;\n",
       "\n",
       "var currSelection;\n",
       "\n",
       "for (i=0; i<numQues; i++) {\n",
       "\n",
       "currElt = i*numChoi;\n",
       "\n",
       "answered=false;\n",
       "\n",
       "for (j=0; j<numChoi; j++) {\n",
       "\n",
       "currSelection = form.elements[currElt + j];\n",
       "\n",
       "if (currSelection.checked) {\n",
       "\n",
       "answered=true;\n",
       "\n",
       "if (currSelection.value == answers[i]) {\n",
       "\n",
       "score++;\n",
       "\n",
       "break;\n",
       "\n",
       "}\n",
       "\n",
       "}\n",
       "\n",
       "}\n",
       "\n",
       "if (answered ===false){alert(\"Do answer all the questions, Please\") ;return false;}\n",
       "\n",
       "}\n",
       "\n",
       "var scoreper = Math.round(score/numQues*100);\n",
       "\n",
       "form.percentage.value = scoreper + \"%\";\n",
       "\n",
       "form.mark.value=score;\n",
       "\n",
       "}\n",
       "\n",
       "</script>\n"
      ],
      "text/plain": [
       "<IPython.core.display.HTML object>"
      ]
     },
     "metadata": {},
     "output_type": "display_data"
    }
   ],
   "source": [
    "%%html\n",
    "\n",
    "<script>\n",
    "var code_show=!1;function code_toggle(){var e,d;code_show?(null!=(e=document.getElementsByClassName(\"jp-CodeMirrorEditor jp-Editor jp-InputArea-editor\")[26])&&(e.style.display=\"\"),null!=(d=document.querySelector(\"div.cell.code_cell.rendered.selected div.input\"))&&(d.style.display=\"\")):(null!=(e=document.getElementsByClassName(\"jp-CodeMirrorEditor jp-Editor jp-InputArea-editor\")[26])&&(e.style.display=\"none\"),null!=(d=document.querySelector(\"div.cell.code_cell.rendered.selected div.input\"))&&(d.style.display=\"none\"));code_show=!code_show}code_toggle();\n",
    "</script>\n",
    "Zum Anzeigen des verwendeten Javascript klicken Sie <a onClick=\"code_toggle(); return false;\" >hier</a>.\n",
    "<center><h1>Quiz Questions</h1></center>\n",
    "\n",
    "<p>\n",
    "\n",
    "<form name=\"quiz\">\n",
    "\n",
    "<p>\n",
    "\n",
    "<b>Question 1.\n",
    "\n",
    "<br>He -------------------- it.<br></b>\n",
    "\n",
    "<blockquote>\n",
    "\n",
    "<input type=\"radio\" name=\"q1\" value=\"don't like\">don't like<br>\n",
    "\n",
    "<input type=\"radio\" name=\"q1\" value=\"doesn't like\">doesn't like<br>\n",
    "\n",
    "<input type=\"radio\" name=\"q1\" value=\"doesn't likes\">doesn't likes<br>\n",
    "\n",
    "</blockquote>\n",
    "\n",
    "<p><b>\n",
    "\n",
    "<hr>\n",
    "\n",
    "Question 2.\n",
    "\n",
    "<br>They -------------------- here very often.<br></b>\n",
    "\n",
    "<blockquote>\n",
    "\n",
    "<input type=\"radio\" name=\"q2\" value=\"don't come\">don't come<br>\n",
    "\n",
    "<input type=\"radio\" name=\"q2\" value=\"doesn't come\">doesn't come<br>\n",
    "\n",
    "<input type=\"radio\" name=\"q2\" value=\"doesn't comes\">doesn't comes<br>\n",
    "\n",
    "</blockquote>\n",
    "\n",
    "<p><b>\n",
    "\n",
    "<hr>\n",
    "\n",
    "Question 3.\n",
    "\n",
    "<br>John and Mary -------------------- twice a week.<br></b>\n",
    "\n",
    "<blockquote>\n",
    "\n",
    "<input type=\"radio\" name=\"q3\" value=\"come\">come<br>\n",
    "\n",
    "<input type=\"radio\" name=\"q3\" value=\"comes\">comes<br>\n",
    "\n",
    "<input type=\"radio\" name=\"q3\" value=\"coming\">coming<br>\n",
    "\n",
    "</blockquote>\n",
    "\n",
    "<p><b>\n",
    "\n",
    "<hr>\n",
    "\n",
    "Question 4.\n",
    "\n",
    "<br>I -------------------- mind at all.<br></b>\n",
    "\n",
    "<blockquote>\n",
    "\n",
    "<input type=\"radio\" name=\"q4\" value=\"not\">not<br>\n",
    "\n",
    "<input type=\"radio\" name=\"q4\" value=\"isn't\">isn't<br>\n",
    "\n",
    "<input type=\"radio\" name=\"q4\" value=\"don't\">don't<br>\n",
    "\n",
    "</blockquote>\n",
    "\n",
    "<p><b>\n",
    "\n",
    "<hr>\n",
    "\n",
    "Question 5.\n",
    "\n",
    "<br>It -------------------- sense.<br></b>\n",
    "\n",
    "<blockquote>\n",
    "\n",
    "<input type=\"radio\" name=\"q5\" value=\"don't make\">don't make<br>\n",
    "\n",
    "<input type=\"radio\" name=\"q5\" value=\"doesn't makes\">doesn't makes<br>\n",
    "\n",
    "<input type=\"radio\" name=\"q5\" value=\"doesn't make\">doesn't make<br>\n",
    "\n",
    "</blockquote>\n",
    "\n",
    "<p><b>\n",
    "\n",
    "<hr>\n",
    "\n",
    "Question 6.\n",
    "\n",
    "<br>They -------------------- happy.<br></b>\n",
    "\n",
    "<blockquote>\n",
    "\n",
    "<input type=\"radio\" name=\"q6\" value=\"seem\">seem<br>\n",
    "\n",
    "<input type=\"radio\" name=\"q6\" value=\"seems\">seems<br>\n",
    "\n",
    "<input type=\"radio\" name=\"q6\" value=\"seeming\">seeming<br>\n",
    "\n",
    "</blockquote>\n",
    "\n",
    "<p><b>\n",
    "\n",
    "Question 7.\n",
    "\n",
    "<br>You -------------------- to do it.<br></b>\n",
    "\n",
    "<blockquote>\n",
    "\n",
    "<input type=\"radio\" name=\"q7\" value=\"don't have\">don't have<br>\n",
    "\n",
    "<input type=\"radio\" name=\"q7\" value=\"doesn't have\">doesn't have<br>\n",
    "\n",
    "<input type=\"radio\" name=\"q7\" value=\"doesn't has\">doesn't has<br>\n",
    "\n",
    "</blockquote>\n",
    "\n",
    "<p><b>\n",
    "\n",
    "<hr>\n",
    "\n",
    "Question 8.\n",
    "\n",
    "<br>She -------------------- a brother.<br></b>\n",
    "\n",
    "<blockquote>\n",
    "\n",
    "<input type=\"radio\" name=\"q8\" value=\"doesn't has\">doesn't has<br>\n",
    "\n",
    "<input type=\"radio\" name=\"q8\" value=\"don't has\">don't has<br>\n",
    "\n",
    "<input type=\"radio\" name=\"q8\" value=\"doesn't have\">doesn't have<br>\n",
    "\n",
    "</blockquote>\n",
    "\n",
    "<p><b>\n",
    "\n",
    "<hr>\n",
    "\n",
    "Question 9.\n",
    "\n",
    "<br>The journey -------------------- an hour.<br></b>\n",
    "\n",
    "<blockquote>\n",
    "\n",
    "<input type=\"radio\" name=\"q9\" value=\"take\">take<br>\n",
    "\n",
    "<input type=\"radio\" name=\"q9\" value=\"takes\">takes<br>\n",
    "\n",
    "<input type=\"radio\" name=\"q9\" value=\"taking\">taking<br>\n",
    "\n",
    "</blockquote>\n",
    "\n",
    "<p><b>\n",
    "\n",
    "<hr>\n",
    "\n",
    "Question 10.\n",
    "\n",
    "<br>I -------------------- it now.<br></b>\n",
    "\n",
    "<blockquote>\n",
    "\n",
    "<input type=\"radio\" name=\"q10\" value=\"want\">want<br>\n",
    "\n",
    "<input type=\"radio\" name=\"q10\" value=\"wants\">wants<br>\n",
    "\n",
    "<input type=\"radio\" name=\"q10\" value=\"wanting\">wanting<br>\n",
    "\n",
    "</blockquote>\n",
    "\n",
    "<p><b>\n",
    "\n",
    "<hr>\n",
    "\n",
    "Question 11.\n",
    "\n",
    "<br>Peggy -------------------- by bus.<br></b>\n",
    "\n",
    "<blockquote>\n",
    "\n",
    "<input type=\"radio\" name=\"q11\" value=\"come\">come<br>\n",
    "\n",
    "<input type=\"radio\" name=\"q11\" value=\"comes\">comes<br>\n",
    "\n",
    "<input type=\"radio\" name=\"q11\" value=\"coming\">coming<br>\n",
    "\n",
    "</blockquote>\n",
    "\n",
    "<p><b>\n",
    "\n",
    "<hr>\n",
    "\n",
    "Question 12.\n",
    "\n",
    "<br>She --------------------.<br></b>\n",
    "\n",
    "<blockquote>\n",
    "\n",
    "<input type=\"radio\" name=\"q12\" value=\"don't know\">don't know<br>\n",
    "\n",
    "<input type=\"radio\" name=\"q12\" value=\"doesn't knows\">doesn't knows<br>\n",
    "\n",
    "<input type=\"radio\" name=\"q12\" value=\"doesn't know\">doesn't know<br>\n",
    "\n",
    "</blockquote>\n",
    "\n",
    "<p><b>\n",
    "\n",
    "<hr>\n",
    "\n",
    "Question 13.\n",
    "\n",
    "<br>She -------------------- hard.<br></b>\n",
    "\n",
    "<blockquote>\n",
    "\n",
    "<input type=\"radio\" name=\"q13\" value=\"try\">try<br>\n",
    "\n",
    "<input type=\"radio\" name=\"q13\" value=\"trys\">trys<br>\n",
    "\n",
    "<input type=\"radio\" name=\"q13\" value=\"tries\">tries<br>\n",
    "\n",
    "</blockquote>\n",
    "\n",
    "<p><b>\n",
    "\n",
    "<hr>\n",
    "\n",
    "Question 14.\n",
    "\n",
    "<br>They -------------------- football every weekend.<br></b>\n",
    "\n",
    "<blockquote>\n",
    "\n",
    "<input type=\"radio\" name=\"q14\" value=\"play\">play<br>\n",
    "\n",
    "<input type=\"radio\" name=\"q14\" value=\"plays\">plays<br>\n",
    "\n",
    "<input type=\"radio\" name=\"q14\" value=\"playing\">playing<br>\n",
    "\n",
    "</blockquote>\n",
    "\n",
    "<p><b>\n",
    "\n",
    "<hr>\n",
    "\n",
    "Question 15.\n",
    "\n",
    "<br>The exam -------------------- two hours.<br></b>\n",
    "\n",
    "<blockquote>\n",
    "\n",
    "<input type=\"radio\" name=\"q15\" value=\"last\">last<br>\n",
    "\n",
    "<input type=\"radio\" name=\"q15\" value=\"lastes\">lastes<br>\n",
    "\n",
    "<input type=\"radio\" name=\"q15\" value=\"lasts\">lasts<br>\n",
    "\n",
    "</blockquote>\n",
    "\n",
    "<p><b>\n",
    "\n",
    "<input type=\"button\"value=\"Grade Me\"onClick=\"getScore(this.form);\">\n",
    "\n",
    "<input type=\"reset\" value=\"Clear\"><p>\n",
    "\n",
    "Number of score out of 15 = <input type= text size 15 name= \"mark\">\n",
    "\n",
    "Score in percentage = <input type=text size=15 name=\"percentage\"><br>\n",
    "\n",
    "</form>\n",
    "\n",
    "<p>\n",
    "\n",
    "<form method=\"post\" name=\"Form\" onsubmit=\"\" action=\"\">\n",
    "\n",
    "</form>\n",
    "\n",
    "</body>\n",
    "\n",
    "<script>\n",
    "\n",
    "var numQues = 15;\n",
    "\n",
    "var numChoi = 3;\n",
    "\n",
    "var answers = new Array(15);\n",
    "\n",
    "answers[0] = \"doesn't like\";\n",
    "\n",
    "answers[1] = \"don't come\";\n",
    "\n",
    "answers[2] = \"come\";\n",
    "\n",
    "answers[3] = \"don't\";\n",
    "\n",
    "answers[4] = \"doesn't make\";\n",
    "\n",
    "answers[5] = \"seem\";\n",
    "\n",
    "answers[6] = \"don't have\";\n",
    "\n",
    "answers[7] = \"doesn't have\";\n",
    "\n",
    "answers[8] = \"takes\";\n",
    "\n",
    "answers[9] = \"want\";\n",
    "\n",
    "answers[10] = \"comes\";\n",
    "\n",
    "answers[11] = \"doesn't know\";\n",
    "\n",
    "answers[12] = \"tries\";\n",
    "\n",
    "answers[13] = \"play\";\n",
    "\n",
    "answers[14] = \"lasts\";\n",
    "\n",
    "function getScore(form) {\n",
    "\n",
    "var score = 0;\n",
    "\n",
    "var currElt;\n",
    "\n",
    "var currSelection;\n",
    "\n",
    "for (i=0; i<numQues; i++) {\n",
    "\n",
    "currElt = i*numChoi;\n",
    "\n",
    "answered=false;\n",
    "\n",
    "for (j=0; j<numChoi; j++) {\n",
    "\n",
    "currSelection = form.elements[currElt + j];\n",
    "\n",
    "if (currSelection.checked) {\n",
    "\n",
    "answered=true;\n",
    "\n",
    "if (currSelection.value == answers[i]) {\n",
    "\n",
    "score++;\n",
    "\n",
    "break;\n",
    "\n",
    "}\n",
    "\n",
    "}\n",
    "\n",
    "}\n",
    "\n",
    "if (answered ===false){alert(\"Do answer all the questions, Please\") ;return false;}\n",
    "\n",
    "}\n",
    "\n",
    "var scoreper = Math.round(score/numQues*100);\n",
    "\n",
    "form.percentage.value = scoreper + \"%\";\n",
    "\n",
    "form.mark.value=score;\n",
    "\n",
    "}\n",
    "\n",
    "</script>"
   ]
  },
  {
   "cell_type": "markdown",
   "id": "1718762e",
   "metadata": {},
   "source": [
    "## Zusammenfassung: \n",
    "- Erweiterte Variablentypen erleichtern oft die Programmierung mit mehr als einer Variable.\n",
    "- Jeder Variablentyp kommt mit vordefinierten Methoden.\n",
    "- Alle erweiterten Variablentypen haben bestimmte Eigenschaften und damit Vor- und Nachteile.\n",
    "- Oft sind erweiterte Variablentypen austauschbar und es ist im Sinne des Programmierers zu entscheiden welcher Typ optimalerweise genutzt werden sollte.\n",
    "- Meist verbreitet ist allerdings die Liste und das Dictionary. \n",
    "- Für eine interaktive Version klicken Sie hier (Google Collab - Externer Link)"
   ]
  },
  {
   "cell_type": "markdown",
   "id": "0a76f125",
   "metadata": {},
   "source": [
    "## Quellen: \n",
    "-  https://docs.python.org/3/tutorial/datastructures.html"
   ]
  }
 ],
 "metadata": {
  "interpreter": {
   "hash": "e16839f294d4c0c3a950d69e469040cf54ee0fe2b9ac54c836cd69dce56f946f"
  },
  "kernelspec": {
   "display_name": "Python 3",
   "language": "python",
   "name": "python3"
  },
  "language_info": {
   "codemirror_mode": {
    "name": "ipython",
    "version": 3
   },
   "file_extension": ".py",
   "mimetype": "text/x-python",
   "name": "python",
   "nbconvert_exporter": "python",
   "pygments_lexer": "ipython3",
   "version": "3.8.5"
  }
 },
 "nbformat": 4,
 "nbformat_minor": 5
}
