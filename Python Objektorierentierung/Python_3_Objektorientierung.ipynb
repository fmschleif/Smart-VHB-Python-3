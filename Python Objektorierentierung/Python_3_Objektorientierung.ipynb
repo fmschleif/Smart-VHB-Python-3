{
 "cells": [
  {
   "cell_type": "markdown",
   "metadata": {},
   "source": [
    "# Python 3 Objektorientierung"
   ]
  },
  {
   "cell_type": "markdown",
   "metadata": {},
   "source": [
    "Diese Präsentation ist ein Jupyter Notebook. Mit Jupyter-Notebooks können gewöhnliche Präsentation-Slides und Code kombiniert dargestellt werden. Eine Code-Slide erkennen Sie an ```In [Zahl]:``` und ```Out[Zahl]:```. Dabei bezeichnet ```In``` den verwendeten Code und ```Out``` die Ausgabe dessen. Achten Sie auf ```#``` oder ```\"\"\"text\"\"\"``` Symbole für weitere Informationen."
   ]
  },
  {
   "cell_type": "markdown",
   "metadata": {},
   "source": [
    "## Lernziele\n",
    "- Begriffe wie Klasse, Objekt und Vererbung sind bekannt. \n",
    "- Unterschied zwischen Klasse und Objekt ist bekannt.\n",
    "- Klassen können als solche erkannt und selbst implementiert werden.\n",
    "- Unterschied zwischen Instanz- und Klassenvariablen ist definierbar.\n",
    "- Vererbung kann erkannt und selbst implementiert werden. "
   ]
  },
  {
   "cell_type": "markdown",
   "metadata": {},
   "source": [
    "## Vorkenntnisse \n",
    "- Grundlagen in Mathematik \n",
    "- Grundlagen in Python 3 Variablen und Operatoren\n",
    "- Grundlagen in Python 3 Methoden und Kontrollstrukturen\n",
    "- Grundlagen in Python 3 Datenstrukturen"
   ]
  },
  {
   "cell_type": "markdown",
   "metadata": {},
   "source": [
    "## Zielgruppe\n",
    "- Studierende in naturwissenschaftlichen Studiengängen\n",
    "- Studierende in Ingenieurstudiengängen \n",
    "- Studierende mit anderweitigem naturwissenschaftlichen/technischen Hintergrund\n",
    "- Studierende mit ersten Erfahrungen in anderen Programmiersprachen"
   ]
  },
  {
   "cell_type": "markdown",
   "metadata": {},
   "source": [
    "## Aufbau\n",
    "- Einführung Objekte und Klassen\n",
    "- Instanziierung & Konstruktoren\n",
    "- Klassenfunktion\n",
    "- Private Variablen\n",
    "- Tupel und Vererbung\n",
    "- Standardvererbung"
   ]
  },
  {
   "cell_type": "markdown",
   "metadata": {},
   "source": [
    "## Objekte Orientierte Programmierung (OOP)\n",
    "- Das Ziel von OOP ist es reale Objekte möglichst gut in einem Programm zu approximieren. \n",
    "- Beispielsweise möchten wir ein Auto mit seinen Attributen und Funktionen im Programm darstellen.\n",
    "- Um dies zu tun benötigt es zwei Schritte:\n",
    "    - Als ersten muss eine Klasse implementiert werden.\n",
    "    - Anschließend muss die Klasse instanziiert werden als Klassenobjekt "
   ]
  },
  {
   "cell_type": "markdown",
   "metadata": {},
   "source": [
    "## Klassen\n",
    "- Sind im Prinzip die Baupläne eines Objekts.\n",
    "- Definieren die grundsätzlichen Eigenschaften und Funkionen, welches jedes instanziierte Objekt haben wird.\n",
    "- Eigenschaften einer Klasse werden als Klassenattribute bezeichnet.\n",
    "- Es ist beispielsweise möglich, eine Auto vom Typ Kleinwagen und ein Auto vom Type caprio durch die gleiche Klasse darzustellen.\n",
    "- Ein Beispiel folgt auf der nächsten Seite."
   ]
  },
  {
   "cell_type": "code",
   "execution_count": 1,
   "metadata": {},
   "outputs": [],
   "source": [
    "class Car:\n",
    "    \"\"\" Klassendefinition für Autos\"\"\"\n",
    "\n",
    "\n",
    "    \"\"\" Hier definieren wir die Klassenattribute\n",
    "        weight (kg) und max_speed (kmH) sind default Werte, \n",
    "        welches jedes initiierte Objekt besitzen wird.\"\"\"\n",
    "    weight,max_speed = 1000,200\n",
    "\n",
    "    \"\"\" Wir nehmen an, dass das Auto standardmäßig abgeschlossen ist \n",
    "    und alle Fenster 100% hochgefahren sind. \"\"\"\n",
    "    locked = True\n",
    "    window_positions = [100,100,100,100] "
   ]
  },
  {
   "cell_type": "markdown",
   "metadata": {},
   "source": [
    "# Instanziierung\n",
    "- Wie gesagt sind Klassen Baupläne, dass heißt, um die Klasse in unserem Programm zu verwenden müssen wir es realisieren bzw. instanziieren. \n",
    "- Diese Realisierungen werden als Klassenobjekt bezeichnet.\n",
    "- Klassenobjekte können wim Programm verwendet werden. "
   ]
  },
  {
   "cell_type": "code",
   "execution_count": 2,
   "metadata": {},
   "outputs": [],
   "source": [
    "# Beispiel für zwei Objekte, die vom Type Car instanziiert werden. \n",
    "smallcar = Car()\n",
    "caprio = Car()\n",
    "# Allerdings sind beide Objekte identisch!"
   ]
  },
  {
   "cell_type": "code",
   "execution_count": 3,
   "metadata": {},
   "outputs": [
    {
     "name": "stdout",
     "output_type": "stream",
     "text": [
      "1000\n",
      "1000\n"
     ]
    }
   ],
   "source": [
    "# Beim zugreifen auf Klassenattribute \n",
    "# kann gleichheit festgestellt werden.\n",
    "# Zugreifen auf Objektattribute über objekt.attribute:\n",
    "print(smallcar.weight)\n",
    "print(caprio.weight)"
   ]
  },
  {
   "cell_type": "markdown",
   "metadata": {},
   "source": [
    "## Korrektes Instanziieren über den Konstruktor\n",
    "- Das vorherige Beispiel zeigt grundsätzlich wie Klassenobjekte instanziiert werden können.\n",
    "- Allerdings werden die in der Klasse definierten Attribute als Standard übernommen. \n",
    "- Dies ist nicht gewünscht, da beispielsweise ein kleines Auto weniger wiegt als ein caprio.\n",
    "    - Unterschiedliche Werte der Klassenattribute können über einen sogenannten \"Klassen-Konstruktor\" übergeben werden. \n",
    "    - In Python ist dies die `__init__()` Funktion."
   ]
  },
  {
   "cell_type": "code",
   "execution_count": 4,
   "metadata": {},
   "outputs": [],
   "source": [
    "class Car:\n",
    "    \"\"\" Erweiterte Klassendefinition für Autos\"\"\"\n",
    "    \n",
    "    \"\"\" Init Funktion mit zwei Funktionsargumenten\n",
    "        als Konstruktor. Das Keyword self ist die Referenz \n",
    "        auf das Objekt das gerade infiziert ist.\n",
    "        Wichtig z.B. wenn Klassen und Instanzvariablen\n",
    "        gleichzeitig existieren. \"\"\"\n",
    "    def __init__(self,weight,max_speed):\n",
    "        self.weight = weight # Instanzvariable\n",
    "        self.max_speed = max_speed # Instanzvariable\n",
    "\n",
    "    \"\"\" Angenommen wir befinden uns auf einem Lagerplatz, dann\n",
    "    sind alle Autos geschlossen. Wenn eine __init__() Methode,\n",
    "    werden Klassenvariable über alle aktiven Objekte geteilt \"\"\"\n",
    "    looked = True # Klassenvariable\n",
    "    window_positions = [100,100,100,100]  # Klassenvariable\n"
   ]
  },
  {
   "cell_type": "code",
   "execution_count": 5,
   "metadata": {},
   "outputs": [
    {
     "name": "stdout",
     "output_type": "stream",
     "text": [
      "1200 2000\n",
      "True True\n"
     ]
    }
   ],
   "source": [
    "# Beispiel für Zwei-Auto Objekte mit Konstruktor\n",
    "smallcar = Car(weight=1200,max_speed=200)\n",
    "caprio = Car(weight=2000,max_speed=240)\n",
    "# Nun sind beide Objekte unterschiedlich voneinander\n",
    "# in Hinblick auf Gewicht und max. Geschwindigkeit.\n",
    "# Allerdings sind beide geschlossen:\n",
    "print(smallcar.weight,caprio.weight)\n",
    "print(caprio.looked,caprio.looked)\n"
   ]
  },
  {
   "cell_type": "markdown",
   "metadata": {},
   "source": [
    "## Klassenvariablen vs. Instanzvariablen\n",
    "- Beides sind sogenannte Attribute der Klasse\n",
    "- Klassenvariablen werden über alle Objekte geteilt.\n",
    "- Instanzvariablen sind spezifisch für das instanziierte Objekt \n"
   ]
  },
  {
   "cell_type": "code",
   "execution_count": 6,
   "metadata": {},
   "outputs": [
    {
     "name": "stdout",
     "output_type": "stream",
     "text": [
      "True True\n",
      "1000 2000\n"
     ]
    }
   ],
   "source": [
    "## Beispiel Klassenvariablen vs Instanzvariablen\n",
    "smallcar = Car(weight=1200,max_speed=200)\n",
    "caprio = Car(weight=2000,max_speed=240)\n",
    "smallcar.weight = 1000\n",
    "smallcar.looked = True\n",
    "print(smallcar.looked,caprio.looked)# Beide Attribute wurden geändert.\n",
    "print(smallcar.weight,caprio.weight)# Nur Smallcar.weight wurde geändert. "
   ]
  },
  {
   "cell_type": "markdown",
   "metadata": {},
   "source": [
    "## Klassenfunktionen \n",
    "- Wie auch standard Funktionen, kapseln Klassenfunktionen Logik und Programmabläufe.\n",
    "- In Aufbau und Funktionsweise sind sie den Standardfunktion ähnlich.  \n",
    "- Klassenfunktionen sind ähnlich zur ```__init__()``` \n",
    "- Klassenfunktionen können allerdings auch auf Instanz- und Klassenvariablen- zugreifen"
   ]
  },
  {
   "cell_type": "code",
   "execution_count": 7,
   "metadata": {},
   "outputs": [],
   "source": [
    "class Car:\n",
    "    \"\"\" Erweiterte Klassendefinition für Autos\"\"\"\n",
    "\n",
    "    \"\"\" Init Funktion (Konstruktor) für die Instanzvariablen\"\"\"\n",
    "    def __init__(self,weight,max_speed,locked,window_positions):\n",
    "        self.weight = weight # Instanzvariable\n",
    "        self.max_speed = max_speed # Instanzvariable\n",
    "        self.window_positions = window_positions# Instanzvariable\n",
    "        self.locked = locked # Instanzvariable\n",
    "    \"\"\" Unser oben genantes Beispiel, dass alle Autos gleichzeitig\n",
    "    offen oder verriegelt sind, ist natürlich realitätsfern. Daher\n",
    "    definieren wir jedes Attribut als Instanzvariable aktiven Objekte geteilt. \"\"\"\n",
    "\n",
    "    \"\"\" Das ermöglicht uns über Funktionen Logik zu implementieren. \n",
    "    Wie auch bei __init__()  \"\"\"\n",
    "    def lock(self):\n",
    "        self.locked = True\n",
    "        self.window_positions = [100,100,100,100]\n",
    "        print(\"Car is locked!\")\n",
    "\n",
    "    def unlock(self):\n",
    "        self.locked = False\n",
    "        self.window_positions = [50,100,100,100]\n",
    "        print(\"Car is unlocked!\")\n",
    "        # Für dieses Beispiel lassen wir ein Fenster auf 50% Höhe ab,\n",
    "        # wenn entriegelt."
   ]
  },
  {
   "cell_type": "code",
   "execution_count": 8,
   "metadata": {},
   "outputs": [],
   "source": [
    "class Car:\n",
    "    \"\"\" Gleiche Klasse wie oben aber mit Standartwerden\n",
    "        => Wir gehen von einem initial geschlossenem Auto aus. \"\"\"\n",
    "\n",
    "    def __init__(self,weight,max_speed,locked=True,window_positions=[100,100,100,100]):\n",
    "        self.weight = weight # Instanzvariable\n",
    "        self.max_speed = max_speed # Instanzvariable\n",
    "        self.locked = locked # Instanzvariable\n",
    "        self.window_positions = window_positions# Instanzvariable\n",
    "\n",
    "    def lock(self):\n",
    "        self.locked = True\n",
    "        self.window_positions = [100,100,100,100]\n",
    "        print(\"Car is locked!\")\n",
    "        \n",
    "    def unlock(self):\n",
    "        self.locked = False\n",
    "        self.window_positions = [50,100,100,100]\n",
    "        print(\"Car is locked!\")"
   ]
  },
  {
   "cell_type": "code",
   "execution_count": 9,
   "metadata": {},
   "outputs": [
    {
     "name": "stdout",
     "output_type": "stream",
     "text": [
      "Car is locked!\n",
      "Car is locked!\n",
      "2010\n"
     ]
    }
   ],
   "source": [
    "# Beispiel für private variablen \n",
    "caprio = Car(2000,210)\n",
    "# Klassenfunktionen können genauso aufgerufen werden wie Variablen:\n",
    "caprio.lock() # Schließt Auto \n",
    "caprio.unlock() # Öffnet Auto\n",
    "\n",
    "# Baumaßnahmen Erhöhen das Gewicht um 10 Kilo:\n",
    "caprio.weight =  2010\n",
    "print(caprio.weight) # Test ob geändert."
   ]
  },
  {
   "cell_type": "markdown",
   "metadata": {},
   "source": [
    "## Private Variablen\n",
    "- Private Variablen sind Klassenattribute die nicht außerhalb des Objekts geändert werder dürfen/können.\n",
    "- Anders wie z. B. in Java, gibt es in Python keine explizite Form um ein Klassenattribut privat zu halten. \n",
    "- Allerdings gibt es einige Konventionen die sich in der Python Community durchgesetzt haben:\n",
    "    - Wird eine Variable mit Underscore benannt, z. B. `_weight`, ist diese als private Variable einzustufen. \n",
    "- Bei zwei Underscore-Zeichen wie, z. B. `__weight`, erstellt eine private Variable, auf die nicht Zugegriffen werden kann. Beim Zugriff erscheint eine Fehlermeldung. \n",
    "    - Dieser Vorgehen wird <i>Name Mangling</i> genannt und ist für die Abgrenzung von Variablen gedacht.\n",
    "    - Auf die Variable kann trotzdem von Außen durch `_classname__weight`zugegriffen werden. "
   ]
  },
  {
   "cell_type": "markdown",
   "metadata": {},
   "source": [
    "#### Zusammenfassend heißt dass: kein expliziter Mechanismus für private Variablen in Python. Und: Python nimmt jeden Entwickelnden selbst verantwortlich macht, sich an diese Konvention zu halten. "
   ]
  },
  {
   "cell_type": "code",
   "execution_count": 20,
   "metadata": {},
   "outputs": [],
   "source": [
    "class Car:\n",
    "    \"\"\" Gleiche Klasse wie oben aber ohne Funktionen.\n",
    "        Allerdings mit privaten Variablen \"\"\"\n",
    "\n",
    "    def __init__(self,weight,max_speed,locked=True,window_positions=[100,100,100,100]):\n",
    "        # PRIVATE Instanzvariable per Konvention\n",
    "        self._max_speed = max_speed\n",
    "        # Private Instanzvariable über Name Mangling \n",
    "        self.__max_people = 4\n",
    "        self.weight = weight # Instanzvariable\n",
    "        # Rest ... wie oben!"
   ]
  },
  {
   "cell_type": "code",
   "execution_count": 21,
   "metadata": {},
   "outputs": [],
   "source": [
    "#Beispiel private Variable\n",
    "caprio = Car(2000,100)\n",
    "\n",
    "# Vermeiden Sie folgenden Zugriff auf private Variablen!! \n",
    "caprio._max_speed = 100"
   ]
  },
  {
   "cell_type": "code",
   "execution_count": 22,
   "metadata": {},
   "outputs": [
    {
     "ename": "AttributeError",
     "evalue": "'Car' object has no attribute '__max_people'",
     "output_type": "error",
     "traceback": [
      "\u001b[0;31m---------------------------------------------------------------------------\u001b[0m",
      "\u001b[0;31mAttributeError\u001b[0m                            Traceback (most recent call last)",
      "\u001b[0;32m/var/folders/gh/3m_3p_5x0mnczrxzy1zqfych0000gn/T/ipykernel_4188/2026308719.py\u001b[0m in \u001b[0;36m<module>\u001b[0;34m\u001b[0m\n\u001b[1;32m      2\u001b[0m \u001b[0;34m\u001b[0m\u001b[0m\n\u001b[1;32m      3\u001b[0m \u001b[0;31m# Zugriff auf echt private Variable resultiert in Fehler!\u001b[0m\u001b[0;34m\u001b[0m\u001b[0;34m\u001b[0m\u001b[0;34m\u001b[0m\u001b[0m\n\u001b[0;32m----> 4\u001b[0;31m \u001b[0mcaprio\u001b[0m\u001b[0;34m.\u001b[0m\u001b[0m__max_people\u001b[0m\u001b[0;34m\u001b[0m\u001b[0;34m\u001b[0m\u001b[0m\n\u001b[0m",
      "\u001b[0;31mAttributeError\u001b[0m: 'Car' object has no attribute '__max_people'"
     ]
    }
   ],
   "source": [
    "caprio = Car(2000,100)\n",
    "\n",
    "# Zugriff auf echt private Variable resultiert in Fehler! \n",
    "caprio.__max_people"
   ]
  },
  {
   "cell_type": "code",
   "execution_count": 23,
   "metadata": {},
   "outputs": [
    {
     "name": "stdout",
     "output_type": "stream",
     "text": [
      "4\n"
     ]
    }
   ],
   "source": [
    "caprio = Car(2000,100)\n",
    "\n",
    "# Zugriff auf name Mangling Variable\n",
    "print(caprio._Car__max_people)"
   ]
  },
  {
   "cell_type": "markdown",
   "metadata": {},
   "source": [
    "## Vererbung Motivation\n",
    "- Bei all unseren Beispielen gingen wir davon aus das ein kleines Auto und ein Caprio die gleiche Klasse haben. Allerdings haben wir für jede Änderung die wir für Caprio vorgenommen haben die Car-Klasse neu geschrieben. \n",
    "    - Das heißt in einem Programm würde das potenziell beide Typen betreffen, sobald sie nach den Änderungen an der Klasse instanziiert werden. \n",
    "- Das soll es aber nicht, da wir für `small_car` keine Änderungen vornehmen wollen. \n",
    "\n",
    "### ABER: Ein kleines Auto (`small_Car`) und ein Caprio haben durchaus Funktionen die sie gemeinsam haben. Beispielsweise, die Funktion öffnen und schließen. "
   ]
  },
  {
   "cell_type": "markdown",
   "metadata": {},
   "source": [
    "## Vererbung - Motivation \n",
    "- Dies ist die Motivation von Vererbung. Es existiert eine `BaseClass`, die die grundsätzlichen Attribute von Autos bereitstellt. Darauf aufbauend gibt es `DerivedClasses`. Diese <i>erben</i> die Funktion der Baseclass und implementieren für ihren Fall spezifische Inhalte.\n",
    "- Beispiel: `Car` stellt `lock()` und `unlock()`. Bei Caprios gibt es darüber die Funktion, dass Dach zu öffnen. Daher ist es sinnvoll `lock()` und `unlock()` zu erben und den Rest in der Klasse `Caprio` zu implementieren. \n",
    "\n",
    "### Vorteil: Es verhindert Redundanzen, die unter Umständen zeitaufwendig zu warten sind. Z. B. wenn sich der Schließmechanismus überall ändert, dann kann dies in der BaseClass für alle geändert werden. "
   ]
  },
  {
   "cell_type": "code",
   "execution_count": 33,
   "metadata": {},
   "outputs": [],
   "source": [
    "class BaseCar:\n",
    "    \"\"\" Gleiche Klasse - BaseClass muss nicht separat definiert werden \"\"\"\n",
    "\n",
    "    def __init__(self,weight=1400,max_speed=210,locked=True,window_positions=[100,100,100,100]):\n",
    "        self.weight = weight \n",
    "        self.max_speed = max_speed \n",
    "        self.locked = locked \n",
    "        self.window_positions = window_positions\n",
    "\n",
    "    def lock(self):\n",
    "        self.locked = True\n",
    "        self.window_positions = [100,100,100,100]\n",
    "        print(\"Car is locked!\")\n",
    "        \n",
    "    def unlock(self):\n",
    "        self.locked = False\n",
    "        self.window_positions = [50,100,100,100]\n",
    "        print(\"Car is locked!\")"
   ]
  },
  {
   "cell_type": "code",
   "execution_count": 25,
   "metadata": {},
   "outputs": [
    {
     "name": "stdout",
     "output_type": "stream",
     "text": [
      "Car is locked!\n",
      "Roof is open!\n"
     ]
    },
    {
     "data": {
      "text/plain": [
       "210"
      ]
     },
     "execution_count": 25,
     "metadata": {},
     "output_type": "execute_result"
    }
   ],
   "source": [
    "class Caprio(BaseCar):\n",
    "    \"\"\"Spezifische Caprio Klasse die von Car die Funktionen erbt.\"\"\"\n",
    "\n",
    "    def open_roof(self):\n",
    "        self.roof_opend = True\n",
    "        print(\"Roof is open!\")\n",
    "    \n",
    "    def close_roof(self):\n",
    "        self.roof_opend = False\n",
    "        print(\"Roof is closed!\")\n",
    "\n",
    "ca = Caprio()\n",
    "ca.lock() # Vererbte Funktion\n",
    "ca.open_roof() # Neu implementiert für Caprio\n",
    "ca.max_speed # Vererbte Instanzvariable"
   ]
  },
  {
   "cell_type": "markdown",
   "metadata": {},
   "source": [
    "## Überschreiben von Funktionen und Variablen\n",
    "- Beim Caprio Beispiel haben wir keine `__init__()` Funktion definiert. \n",
    "    - Allerdings würden wir gerne beim Instanziieren eines Caprios mehr Informationen zum Zustand des Dachs übergeben.\n",
    "- Daher schreiben wir eine für Caprio eigene `__init__()` Funktion. Damit `überschreiben` wir diese Funktion. \n",
    "- Grundsätzlich kann jedes Klassenattribut und jede Funktion überschrieben werden.\n",
    "- Durch `super().__init__(...)` kann alte Funktion übernommen werden und zusätzlich Caprio spezifischer Inhalt implementiert werden."
   ]
  },
  {
   "cell_type": "code",
   "execution_count": 32,
   "metadata": {},
   "outputs": [],
   "source": [
    "class Caprio(BaseCar):\n",
    "    \"\"\"Spezifische Caprio Klasse die von Car die Funktionen erbt.\n",
    "      Alle Parameter wie oben, aber roof_opend \n",
    "      kam spezisich für diese Klasse hinzu.\"\"\"\n",
    "    def __init__(self, roof_opend = False, weight=1400, max_speed=210,\n",
    "                           locked=True, window_positions=[100, 100, 100, 100]):\n",
    "        \"\"\"Nächste Zeile führt Konstruktor (init()) der BaseCar für uns aus.\"\"\"\n",
    "        super().__init__(weight=weight, max_speed=max_speed, \n",
    "                            locked=locked, window_positions=window_positions)\n",
    "\n",
    "        \"\"\" Caprio spezifische Inhalte\"\"\"\n",
    "        self.roof_opend = roof_opend\n",
    "        \n",
    "    def open_roof(self):\n",
    "        self.roof_opend = True if self.roof_opend else False\n",
    "        print(\"Roof is open!\")\n",
    "    \n",
    "    def close_roof(self):\n",
    "        self.roof_opend = False if ~self.roof_opend else True\n",
    "        print(\"Roof is closed!\")"
   ]
  },
  {
   "cell_type": "code",
   "execution_count": 27,
   "metadata": {},
   "outputs": [
    {
     "name": "stdout",
     "output_type": "stream",
     "text": [
      "Roof is open!\n",
      "Capriodach ist offen: False\n",
      "Roof is closed!\n",
      "Capriodach ist offen: False\n"
     ]
    }
   ],
   "source": [
    "caprio = Caprio()\n",
    "caprio.open_roof()\n",
    "print(\"Capriodach ist offen: \" + str(caprio.roof_opend))\n",
    "caprio.close_roof()\n",
    "print(\"Capriodach ist offen: \" + str(caprio.roof_opend))\n",
    "# Beachte: Wenn ein String und eine nicht-String Variable ausgegeben werden sollen,\n",
    "# muss letzteres zu String konvertiert werden#. "
   ]
  },
  {
   "cell_type": "code",
   "execution_count": 28,
   "metadata": {},
   "outputs": [],
   "source": [
    "class Smallcar(BaseCar):\n",
    "    \n",
    "    \"\"\" Spezifische SmallCar Klasse, welches leichter und langsamer ist. \n",
    "         Zusätzlich gibt es nur zwei höhenverstellbare Fenster. \"\"\"\n",
    "    def __init__(self, weight=1000, max_speed=180,\n",
    "                         locked=True, window_positions=[100, 100]):\n",
    "        super().__init__(weight=weight, max_speed=max_speed,\n",
    "                             locked=locked, window_positions=window_positions)\n",
    "\n",
    "    def be_small(self):\n",
    "        print(\"Regular car, Just small\")\n",
    "\n"
   ]
  },
  {
   "cell_type": "code",
   "execution_count": 29,
   "metadata": {},
   "outputs": [
    {
     "name": "stdout",
     "output_type": "stream",
     "text": [
      "[100, 100] 1000\n"
     ]
    }
   ],
   "source": [
    "smallcar = Smallcar()\n",
    "print(smallcar.window_positions,smallcar.weight)"
   ]
  },
  {
   "cell_type": "markdown",
   "metadata": {},
   "source": [
    "## Mehrfachvererbung und Standardobject\n",
    "- Es sind Mehrfachvererbungen möglich. \n",
    "    - Jede Klasse, bei der keine `BaseClass` definiert ist, erbt von `Object`.\n",
    "- D. h. selbst unsere `BaseCar` erbt Funktionen und Klassenattribute. \n",
    "- Viele davon sind nützlich, um das Objekt auszugeben oder mehr Informationen zu bekommen.\n",
    "    - In der Regel sind diese durch `__` gekennzeichnet wie z. B. `car.__dict__`\n",
    "### Vererbungsketten werden als Mehrfachvererbung. Dies ist auch bei uns der Fall:\n",
    "#### Object => BaseCar => Caprio"
   ]
  },
  {
   "cell_type": "code",
   "execution_count": 57,
   "metadata": {},
   "outputs": [
    {
     "name": "stdout",
     "output_type": "stream",
     "text": [
      "(<class '__main__.BaseCar'>,)\n",
      "(<class 'object'>,)\n"
     ]
    }
   ],
   "source": [
    "car = BaseCar() # Unser Car Baseclass\n",
    "print(caprio.__class__.__bases__) ## Vererbtes Attribut,\n",
    "# welches gleichzeitig die BaseClass von BaseCar ausgibt.\n",
    "# Ausdruck kann Aneinandergereiht werden:\n",
    "print(caprio.__class__.__bases__.__class__.__bases__)\n",
    "# Erinnerung Slide davor: Object => BaseCar => Caprio"
   ]
  },
  {
   "cell_type": "code",
   "execution_count": 66,
   "metadata": {},
   "outputs": [
    {
     "data": {
      "text/plain": [
       "32"
      ]
     },
     "execution_count": 66,
     "metadata": {},
     "output_type": "execute_result"
    }
   ],
   "source": [
    "# Sonstige Standardfunktionen, vererbt von Object.\n",
    "car.__dict__ # Gibt alle Attribute als Dict zurück.\n",
    "car.__sizeof__() # Größe des Objekts in Bytes"
   ]
  },
  {
   "cell_type": "code",
   "execution_count": null,
   "metadata": {},
   "outputs": [],
   "source": []
  },
  {
   "cell_type": "markdown",
   "metadata": {},
   "source": [
    "## Zusammenfassung"
   ]
  },
  {
   "cell_type": "markdown",
   "metadata": {},
   "source": [
    "## Quellen und Weiterführendes \n",
    "- https://docs.python.org/3/tutorial/classes.html"
   ]
  },
  {
   "cell_type": "markdown",
   "metadata": {},
   "source": []
  }
 ],
 "metadata": {
  "interpreter": {
   "hash": "b73d1a4536618e175e90ff685b834bc4473c0d15eefc412f5790ee72ebe09a54"
  },
  "kernelspec": {
   "display_name": "Python 3.7.11 64-bit ('thesis': conda)",
   "name": "python3"
  },
  "language_info": {
   "codemirror_mode": {
    "name": "ipython",
    "version": 3
   },
   "file_extension": ".py",
   "mimetype": "text/x-python",
   "name": "python",
   "nbconvert_exporter": "python",
   "pygments_lexer": "ipython3",
   "version": "3.7.11"
  }
 },
 "nbformat": 4,
 "nbformat_minor": 5
}
