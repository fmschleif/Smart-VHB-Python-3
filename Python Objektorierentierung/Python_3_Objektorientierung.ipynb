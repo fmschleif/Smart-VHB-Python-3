{
 "cells": [
  {
   "cell_type": "markdown",
   "source": [
    "# Python 3 Erweiterte Variablentypen\n",
    "\n",
    "Diese Präsentation ist ein Jupyter Notebook. Achten Sie auf $\\#$ Symbole für weitere Informationen."
   ],
   "metadata": {}
  },
  {
   "cell_type": "markdown",
   "source": [
    "## Lernziele\n",
    "- Erweiterte Variablentypen können benannt werden.\n",
    "- Methoden für erweiterte Variablentypen können eingesetzt werden.\n",
    "- Komplexere Datenstrukturen können erstellt und verändert werden."
   ],
   "metadata": {}
  },
  {
   "cell_type": "markdown",
   "source": [
    "## Vorkenntnisse \n",
    "- Grundlagen in Mathematik \n",
    "- Grundlagen in Python 3 Variablen und Operatoren\n",
    "- Grundlagen in Python 3 Methoden und Kontrollstrukturen\n",
    "- Keine weiteren Python Kenntnisse"
   ],
   "metadata": {}
  },
  {
   "cell_type": "markdown",
   "source": [
    "## Zielgruppe\n",
    "- Studierende in Naturwissenschaftlichen\n",
    "- Studierende in Ingenieurstudiengängen \n",
    "- Studierende mit anderweitigem naturwissenschaftlichen/technischen Hintergrund\n",
    "- Studierende mit ersten Erfahurngen in anderen Programmiersprachen"
   ],
   "metadata": {}
  },
  {
   "cell_type": "markdown",
   "source": [
    "## Aufbau\n",
    "- Erweiterte Listen\n",
    "- Umgang mit Listen\n",
    "- Stack\n",
    "- Queue\n",
    "- Tupel und Sequenzen\n",
    "- Sets\n",
    "- Dictionaries"
   ],
   "metadata": {}
  },
  {
   "cell_type": "markdown",
   "source": [],
   "metadata": {}
  },
  {
   "cell_type": "markdown",
   "source": [],
   "metadata": {}
  }
 ],
 "metadata": {
  "kernelspec": {
   "display_name": "Python 3",
   "language": "python",
   "name": "python3"
  },
  "language_info": {
   "codemirror_mode": {
    "name": "ipython",
    "version": 3
   },
   "file_extension": ".py",
   "mimetype": "text/x-python",
   "name": "python",
   "nbconvert_exporter": "python",
   "pygments_lexer": "ipython3",
   "version": "3.8.5"
  }
 },
 "nbformat": 4,
 "nbformat_minor": 5
}