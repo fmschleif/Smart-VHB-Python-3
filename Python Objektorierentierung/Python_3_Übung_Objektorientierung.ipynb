{
 "cells": [
  {
   "cell_type": "markdown",
   "metadata": {},
   "source": [
    "# Übungen Python 3 Objektorientierung"
   ]
  },
  {
   "cell_type": "markdown",
   "metadata": {},
   "source": [
    "Diese Präsentation ist ein Jupyter Notebook. Mit Jupyter-Notebooks können gewöhnliche Präsentation-Slides und Code kombiniert dargestellt werden. Eine Code-Slide erkennen Sie an ```In [Zahl]:``` und ```Out[Zahl]:```. Dabei bezeichnet ```In``` den verwendeten Code und ```Out``` die Ausgabe dessen. Achten Sie auf ```#``` Symbole für weitere Informationen."
   ]
  },
  {
   "cell_type": "markdown",
   "metadata": {},
   "source": [
    "# Übung 1:\n",
    "Erstellen Sie ein Klasse Reelle Zahl. Und implementieren Sie die Klassenattribute Zahlenwert und die Funktionen nte-Wurzel und berechne nte-Potenz. Testen Sie die beiden Funktionen."
   ]
  },
  {
   "cell_type": "code",
   "execution_count": null,
   "metadata": {},
   "outputs": [],
   "source": [
    "# Ihre Lösung"
   ]
  },
  {
   "cell_type": "code",
   "execution_count": 9,
   "metadata": {},
   "outputs": [
    {
     "name": "stdout",
     "output_type": "stream",
     "text": [
      "30.25 2.345207879911715\n"
     ]
    }
   ],
   "source": [
    "# Unsere Lösung\n",
    "class RealNumber():\n",
    "    def __init__(self,value):\n",
    "        self.value = value\n",
    "\n",
    "    def nthsqrt(self,n):\n",
    "        return self.value ** (1/n)\n",
    "\n",
    "    def nthpow(self,n):\n",
    "        return self.value ** n\n",
    "\n",
    "number = RealNumber(5.5)\n",
    "print(number.nthpow(2), number.nthsqrt(2))\n"
   ]
  },
  {
   "cell_type": "markdown",
   "metadata": {},
   "source": [
    "## Übung 2:\n",
    "Erstellen Sie zwei Klassen: Ganze Zahlen und natürliche Zahlen. Lassen Sie die Klassen Reelle Zahlen, Ganze und natürliche Zahlen mathematisch sinnvoll voneinander erben. Des Weiteren sollen in den beiden Neuen Klassen, jeweils eine Wert-Überprüfung bei der Objekt Instanziierung vorgenommen werden.   "
   ]
  },
  {
   "cell_type": "code",
   "execution_count": null,
   "metadata": {},
   "outputs": [],
   "source": [
    "# Ihre Lösung"
   ]
  },
  {
   "cell_type": "code",
   "execution_count": 19,
   "metadata": {},
   "outputs": [
    {
     "name": "stdout",
     "output_type": "stream",
     "text": [
      "No real Number\n",
      "25\n"
     ]
    }
   ],
   "source": [
    "# Unsere Lösung 1 \n",
    "class Wholenumber(RealNumber):\n",
    "    def __init__(self, value):\n",
    "        if type(value) is not int:\n",
    "            print(\"No real Number\")\n",
    "        else:\n",
    "            self.value = value\n",
    "\n",
    "test = Wholenumber(5.3) # Test\n",
    "five = Wholenumber(5)\n",
    "print(five.nthpow(2))"
   ]
  },
  {
   "cell_type": "code",
   "execution_count": 23,
   "metadata": {},
   "outputs": [
    {
     "name": "stdout",
     "output_type": "stream",
     "text": [
      "No natural number\n",
      "No real Number\n"
     ]
    }
   ],
   "source": [
    "# Unsere Lösung 2\n",
    "class Naturalnumber(Wholenumber):\n",
    "    def __init__(self, value):\n",
    "        if value < 0:\n",
    "            print(\"No natural number\")\n",
    "        else:\n",
    "            super().__init__(value)\n",
    "test = Naturalnumber(-1)\n",
    "test = Naturalnumber(5.4)\n",
    "three = Naturalnumber(3)"
   ]
  }
 ],
 "metadata": {
  "interpreter": {
   "hash": "b73d1a4536618e175e90ff685b834bc4473c0d15eefc412f5790ee72ebe09a54"
  },
  "kernelspec": {
   "display_name": "Python 3.7.11 64-bit ('thesis': conda)",
   "name": "python3"
  },
  "language_info": {
   "codemirror_mode": {
    "name": "ipython",
    "version": 3
   },
   "file_extension": ".py",
   "mimetype": "text/x-python",
   "name": "python",
   "nbconvert_exporter": "python",
   "pygments_lexer": "ipython3",
   "version": "3.7.11"
  }
 },
 "nbformat": 4,
 "nbformat_minor": 5
}
