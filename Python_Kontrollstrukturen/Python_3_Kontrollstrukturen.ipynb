{
 "cells": [
  {
   "cell_type": "markdown",
   "metadata": {
    "slideshow": {
     "slide_type": "slide"
    }
   },
   "source": [
    "# Kontrollstrukturen in Python 3"
   ]
  },
  {
   "cell_type": "markdown",
   "metadata": {
    "slideshow": {
     "slide_type": "slide"
    }
   },
   "source": [
    "Diese Präsentation ist ein Jupyter Notebook. Mit Jupyter-Notebooks können gewöhnliche Präsentation-Slides und Code kombiniert dargestellt werden. Eine Code-Slide erkennen Sie an ```In [Zahl]:``` und ```Out[Zahl]:```. Dabei bezeichnet ```In``` den verwendeten Code und ```Out``` die Ausgabe dessen. Achten Sie auf ```#``` Symbole für weitere Informationen."
   ]
  },
  {
   "cell_type": "markdown",
   "metadata": {
    "slideshow": {
     "slide_type": "slide"
    }
   },
   "source": [
    "## Kurzbeschreibung\n",
    "Kontrollstrukturen sind ein wichtiger Bestandteil jeder Programmiersprache. Sie definieren Logik und Programm-Abläufe. Dabei enthält die Programmiersprache Python in Version 3 einige Konstrukte für verschiedenste Anwendungen. Dabei wird grundsätzlich zwischen Schleifen (Programm-Iterationen: For und While) und Wahr-Falsch Abfragen (If-Else) unterschieden.\n",
    "\n",
    "Diese Lerneinheit enthält die wichtigsten Kontrollstrukturen aus der Programmiersprache Python mit vielen Beispielen zur Demonstration der Möglichkeiten dieser Strukturen. Dabei ist ein Exkurs zum Thema Lambda Expressions zur Illustration der Anwendung enthalten."
   ]
  },
  {
   "cell_type": "markdown",
   "metadata": {
    "slideshow": {
     "slide_type": "slide"
    }
   },
   "source": [
    "## Lernziele\n",
    "- Die verschiedenen Kontrollstrukturen können benannt werden.\n",
    "- Die Iteration von Collections oder Strings sollten bekannt sein.\n",
    "- Komplexere Berechnungen können umgesetzt werden.\n",
    "- Die Iterations-typen über Datenstrukturen können eingesetzt werden. "
   ]
  },
  {
   "cell_type": "markdown",
   "metadata": {
    "slideshow": {
     "slide_type": "slide"
    }
   },
   "source": [
    "## Vorkenntnisse \n",
    "- Grundlagen in Mathematik und Logik \n",
    "- Grundlagen in Variablen und Operatoren\n",
    "- Keine tiefergehenden Python Kenntnisse (z.B. Collections, Methoden)"
   ]
  },
  {
   "cell_type": "markdown",
   "metadata": {
    "slideshow": {
     "slide_type": "slide"
    }
   },
   "source": [
    "## Zielgruppe\n",
    "- Studierende in naturwissenschaftlichen Studiengängen\n",
    "- Studierende in Ingenieurstudiengängen \n",
    "- Studierende mit anderweitigem naturwissenschaftlichen/technischen Hintergrund\n",
    "- Studierende mit ersten Erfahrungen in anderen Programmiersprachen"
   ]
  },
  {
   "cell_type": "markdown",
   "metadata": {
    "slideshow": {
     "slide_type": "slide"
    }
   },
   "source": [
    "## Aufbau\n",
    "- Definition Kontrollstrukturen \n",
    "- If-Else Abfrage\n",
    "- If-Elif-Else Abfrage\n",
    "- Bedingte Variablendefinition\n",
    "- While Schleife\n",
    "- For Schleife\n",
    "- range() Funktion\n",
    "- enumerate() Funktion"
   ]
  },
  {
   "cell_type": "markdown",
   "metadata": {
    "slideshow": {
     "slide_type": "slide"
    }
   },
   "source": [
    "## If Abfrage\n",
    "Die If Abfrage prüft eine Bedingung und führt den designierten Code nach der Abfrage nur dann aus, wenn die Bedingung True ist. Falls nicht, werden diese Codezeilen übersprungen."
   ]
  },
  {
   "cell_type": "markdown",
   "metadata": {
    "slideshow": {
     "slide_type": "slide"
    }
   },
   "source": [
    "## Syntax\n",
    "`if Bedingung:` Abfrage via if und Boolean Wert\n",
    "\n",
    "&emsp;&emsp;`Code`  Code der ausgeführt werden soll\n",
    "\n",
    "`else`: Else besitzt nur implizierte Bedingung \n",
    "\n",
    "&emsp;&emsp;`Code` Zeile wird bei else ausgeführt.\n",
    "\n",
    "`Code` kann auch leer sein.\n",
    "\n",
    "Mehrere Zeilen `Code` sind möglich."
   ]
  },
  {
   "cell_type": "code",
   "execution_count": 1,
   "metadata": {
    "slideshow": {
     "slide_type": "slide"
    }
   },
   "outputs": [
    {
     "name": "stdout",
     "output_type": "stream",
     "text": [
      "x ist größer 2\n"
     ]
    }
   ],
   "source": [
    "#Beispiel\n",
    "x = 5 # Zuweisung der Variable x mit einem Integer\n",
    "if x > 2: # Wenn die Variable x größer ist als zwei, dann...\n",
    "    print(\"x ist größer 2\")"
   ]
  },
  {
   "cell_type": "markdown",
   "metadata": {
    "slideshow": {
     "slide_type": "slide"
    }
   },
   "source": [
    "## If-Else Abfrage\n",
    "Wenn neben der Hauptabfrage etwas passieren soll, wenn die Bedungung nicht True ist, dann kann Else benutzt werden."
   ]
  },
  {
   "cell_type": "code",
   "execution_count": 2,
   "metadata": {
    "slideshow": {
     "slide_type": "slide"
    }
   },
   "outputs": [
    {
     "name": "stdout",
     "output_type": "stream",
     "text": [
      "x ist kleiner gleich 2\n"
     ]
    }
   ],
   "source": [
    "x = 2 # Zuweisung der Variable x mit einem Integer\n",
    "if x > 2: # Wenn die Variable x größer ist als zwei, dann...\n",
    "    print(\"x ist größer 2\")\n",
    "else: # Sonst...\n",
    "    print(\"x ist kleiner gleich 2\")"
   ]
  },
  {
   "cell_type": "markdown",
   "metadata": {
    "slideshow": {
     "slide_type": "slide"
    }
   },
   "source": [
    "## If-Elif-Else\n",
    "Elif steht für Else If und prüft ähnlich wie die If Abfrage eine weitere Bedingung. Eine Elif Abfrage kann nur nach einer If Abfrage kommen, sie ist aber optional. Eine Elif Abfrage kann auch für verschiedene Bedingungen eingesetzt werden und ist nicht nur auf einen Einsatz pro If Abfrage beschränkt. Daher kann Elif ähnlich wie ein Switch Case oder Select von anderen Sprachen verwendet werden."
   ]
  },
  {
   "cell_type": "code",
   "execution_count": 3,
   "metadata": {
    "slideshow": {
     "slide_type": "slide"
    }
   },
   "outputs": [
    {
     "name": "stdout",
     "output_type": "stream",
     "text": [
      "x ist nicht ganzzahlig durch zwei oder drei teilbar\n"
     ]
    }
   ],
   "source": [
    "x = 7 # Zuweisung der Variable x mit einem Integer\n",
    "if x % 5 == 0: # Ist die Variable x ganzzahlig durch fünf teilbar? Dann...\n",
    "    print(\"x ist ganzzahlig durch fünf teilbar\")\n",
    "elif x % 3 == 0: # Ist die Variable x ganzzahlig durch drei teilbar? Dann...\n",
    "    print(\"x ist ganzzahlig durch drei teilbar\")\n",
    "else: # Sonst...\n",
    "    print(\"x ist nicht ganzzahlig durch zwei oder drei teilbar\")"
   ]
  },
  {
   "cell_type": "markdown",
   "metadata": {
    "slideshow": {
     "slide_type": "slide"
    }
   },
   "source": [
    "## Match Case\n",
    "- Ab der Version Python 3.10 gibt es das Match-Case.\n",
    "- Die Match Case Abfrage definiert, ähnlich wie bei If-Elif, verschiedene Boolean-Werte über so genannte Cases. Jeder Case definiert separaten Programmcode.\n",
    "- Damit ist das Match-Case Konstrukt sehr ähnlich zur If-Elif Abfrage und ähnlich wie ein Switch in Java. "
   ]
  },
  {
   "cell_type": "markdown",
   "metadata": {
    "slideshow": {
     "slide_type": "slide"
    }
   },
   "source": [
    "## Bedingte Variablendefinition\n",
    "Eine If-(Elif-)Else Abfrage kann auch benutzt werden, um dynamisch Variablen zu definieren oder zu manipulieren. Für das Beispiel wird als erstes die Wurzelfunktion sqrt() vom Modul Math importiert."
   ]
  },
  {
   "cell_type": "code",
   "execution_count": 4,
   "metadata": {
    "slideshow": {
     "slide_type": "slide"
    }
   },
   "outputs": [],
   "source": [
    "# Import der Wurzelfunktion\n",
    "from math import sqrt\n",
    "# form definiert das Modul aus dem importiert werden soll.\n",
    "# import definiert die Funktion, Variable, etc.,\n",
    "# welche importiert werden soll. "
   ]
  },
  {
   "cell_type": "code",
   "execution_count": 5,
   "metadata": {
    "slideshow": {
     "slide_type": "slide"
    }
   },
   "outputs": [
    {
     "name": "stdout",
     "output_type": "stream",
     "text": [
      "2.449489742783178\n"
     ]
    }
   ],
   "source": [
    "x=6 # Zuweisung der Variable x mit einem Integer\n",
    "if x<=0: # Wenn x negativ ist, dann:\n",
    "    x=0\n",
    "else: # Sonst...\n",
    "    x=sqrt(x)\n",
    "print(x)"
   ]
  },
  {
   "cell_type": "markdown",
   "metadata": {
    "slideshow": {
     "slide_type": "slide"
    }
   },
   "source": [
    "## Shortcuts "
   ]
  },
  {
   "cell_type": "markdown",
   "metadata": {
    "slideshow": {
     "slide_type": "slide"
    }
   },
   "source": [
    "In Python gibt es einige Shortcuts die den geschriebenen Code und speziell die verwendeten Codezeilen drastisch reduzieren. \n",
    "Diese können bei der Zuweisung von Variablen eingesetzt werden.\n",
    "\n",
    "Syntax: `ausdruck <if> <Bedingung> else <ausdruck>`"
   ]
  },
  {
   "cell_type": "code",
   "execution_count": 6,
   "metadata": {
    "slideshow": {
     "slide_type": "slide"
    }
   },
   "outputs": [
    {
     "name": "stdout",
     "output_type": "stream",
     "text": [
      "2.449489742783178\n"
     ]
    }
   ],
   "source": [
    "#Beispiel\n",
    "import math\n",
    "x=6 # Zuweisung der Variable x mit einem Integer\n",
    "y=0 if x<=0 else math.sqrt(x) # Wenn x negativ ist, \n",
    "#dann wird x auf 0 gesetzt, sonst wird x = wurzel(x) gesetzt.\n",
    "print(y)"
   ]
  },
  {
   "cell_type": "markdown",
   "metadata": {
    "slideshow": {
     "slide_type": "slide"
    }
   },
   "source": [
    "## While\n",
    "Eine While Schleife führt den Inhalt so lange aus, bis die Bedingung False ist. Die Bedingung wird vor jeder Ausführung geprüft."
   ]
  },
  {
   "cell_type": "code",
   "execution_count": 7,
   "metadata": {
    "slideshow": {
     "slide_type": "slide"
    }
   },
   "outputs": [
    {
     "name": "stdout",
     "output_type": "stream",
     "text": [
      "0\n",
      "1\n",
      "2\n",
      "3\n",
      "4\n",
      "5\n",
      "fertig\n"
     ]
    }
   ],
   "source": [
    "y = 0 # Zuweisung der Variable y mit einem Integer\n",
    "while y < 7: # Solange y kleiner als 10 ist\n",
    "    print(y)\n",
    "    if y < 0: # Wenn y negativ ist, dann...\n",
    "        break # Schleife vorzeitig abbrechen\n",
    "    elif y == 5: # Wenn y gleich 5 ist, dann...\n",
    "        y+=2 # y um zwei hochzählen\n",
    "        continue # Restlichen Schleifendurchlauf überspringen\n",
    "    else: # Sonst...\n",
    "        y+=1 # y um eins hochzählen\n",
    "else: # Sonst (y größer gleich 10)\n",
    "    print(\"fertig\")"
   ]
  },
  {
   "cell_type": "markdown",
   "metadata": {
    "slideshow": {
     "slide_type": "slide"
    }
   },
   "source": [
    "## Abbruch oder Springen\n",
    "Innerhalb von Kontrollstrukturen können Sprünge oder Abbrüche vorgenommen werden. Beispielsweise wurde im Beispiel zuvor die While-Schleife abgebrochen, wenn die Variable y kleiner Null wird.\n",
    "\n",
    "- `break` => Bricht Schleife ab\n",
    "- `continue` => Sprint zum nächsten Schleifendurchlauf\n",
    "\n",
    "Beide Keywords können auch in If-Abfragen verwendet werden."
   ]
  },
  {
   "cell_type": "markdown",
   "metadata": {
    "slideshow": {
     "slide_type": "slide"
    }
   },
   "source": [
    "## For Schleife\n",
    "Anders als in anderen Sprachen durchläuft die For Schleife die Elemente von Listen, Strings, Arrays oder anderen Collections nach der Reihenfolge und benötigt keinen expliziten Stop- oder Indexmechanismus. Dieser Mechanismus kann auch genutzt werden, um neue Variablen, wie Strings und Collections, zu erstellen oder zu ändern."
   ]
  },
  {
   "cell_type": "code",
   "execution_count": 8,
   "metadata": {
    "slideshow": {
     "slide_type": "slide"
    }
   },
   "outputs": [
    {
     "name": "stdout",
     "output_type": "stream",
     "text": [
      "H\n",
      "a\n",
      "l\n",
      "l\n",
      "o\n"
     ]
    }
   ],
   "source": [
    "example_string = \"Hallo\" # Zuweisung der Variable mit einem String\n",
    "for c in example_string: # Für jeden Charakter (=Element) in der Variable:\n",
    "    print(c)"
   ]
  },
  {
   "cell_type": "code",
   "execution_count": 9,
   "metadata": {
    "slideshow": {
     "slide_type": "slide"
    }
   },
   "outputs": [
    {
     "name": "stdout",
     "output_type": "stream",
     "text": [
      "Hao Wet\n"
     ]
    }
   ],
   "source": [
    "example_string = \"Hallo Welt\" # Zuweisung der Variable mit einem String\n",
    "neuer_string = \"\" # Zuweisung der Variable mit einem leeren String\n",
    "for c in example_string: # Für jeden Buchstabe (=Element) in der Variable:\n",
    "    if c != \"l\": # Wenn der Buchstabe kein \"l\" ist, dann\n",
    "        neuer_string += c # füge den Buchstaben im Durchlauf zum neuen String dazu\n",
    "print(neuer_string) "
   ]
  },
  {
   "cell_type": "code",
   "execution_count": 10,
   "metadata": {
    "slideshow": {
     "slide_type": "slide"
    }
   },
   "outputs": [
    {
     "name": "stdout",
     "output_type": "stream",
     "text": [
      "Iteration: 0, y: 0\n",
      "Iteration: 1, y: 1\n",
      "Iteration: 2, y: 2\n",
      "Iteration: 3, y: 3\n",
      "Iteration: 4, y: 4\n",
      "Iteration: 5, y: 5\n",
      "Iteration: 6, y: 7\n",
      "Iteration: 7, y: 8\n",
      "fertig\n"
     ]
    }
   ],
   "source": [
    "y = 0 # Zuweisung der Variable x mit einem Integer\n",
    "for iteration in range(8): # 10 mal ausführen; range erstellt einen Iterator von von 0-9\n",
    "    print(\"Iteration: \" + str(iteration) + \", y: \" + str(y))\n",
    "    if y < 0: # Wenn y negativ ist, dann...\n",
    "        break # Schleife vorzeigig abbrechen\n",
    "    elif y == 5: # Wenn y gleich 5 ist, dann...\n",
    "        y+=2 # y um zwei hochzählen\n",
    "        continue # Restlichen Schleifendurchlauf überspringen\n",
    "    else: # Sonst...\n",
    "        y+=1 # y um eins hochzählen\n",
    "else: # Sonst (liste ist komplett durchgelaufen)\n",
    "    print(\"fertig\")"
   ]
  },
  {
   "cell_type": "markdown",
   "metadata": {
    "slideshow": {
     "slide_type": "slide"
    }
   },
   "source": [
    "## Die range() Funktion\n",
    "Die range(Start, Ende, Schritt) Funktion kann Sequenzen generieren, zum Beispiel für for Schleifen mit Start-, End- und Schrittwerten."
   ]
  },
  {
   "cell_type": "code",
   "execution_count": 11,
   "metadata": {
    "slideshow": {
     "slide_type": "slide"
    }
   },
   "outputs": [
    {
     "name": "stdout",
     "output_type": "stream",
     "text": [
      "0 H\n",
      "2 l\n",
      "4 o\n",
      "6 W\n",
      "8 l\n"
     ]
    }
   ],
   "source": [
    "example_string = \"Hallo Welt\" # Zuweisung der Variable mit einem String\n",
    "for index in range(0,len(example_string),2): # Durchlaufe jeden zweiten Charakter. \n",
    "               #Die len() Funktion bestimmt die Länge einer Collection / eines Strings\n",
    "     print(index, example_string[index]) "
   ]
  },
  {
   "cell_type": "markdown",
   "metadata": {
    "slideshow": {
     "slide_type": "slide"
    }
   },
   "source": [
    "## Die enumerate() Funktion\n",
    "Alternativ ähnlich wie oben mit enumerate(collection/string) und einer if Abfrage. Die enumerate() Funktion gibt alle Elemente in einer Collection / alle Chars in einem String mit demm jeweiligen Index zurück."
   ]
  },
  {
   "cell_type": "code",
   "execution_count": 12,
   "metadata": {
    "slideshow": {
     "slide_type": "slide"
    }
   },
   "outputs": [
    {
     "name": "stdout",
     "output_type": "stream",
     "text": [
      "0 H\n",
      "2 l\n",
      "4 o\n",
      "6 W\n",
      "8 l\n"
     ]
    }
   ],
   "source": [
    "example_string = \"Hallo Welt\" # Zuweisung der Variable mit einem String\n",
    "for index,c in enumerate(example_string): # Durchlaufe jeden Charakter\n",
    "     if index % 2 == 0: # Jeder zweite Charakter\n",
    "        print(index, c) "
   ]
  },
  {
   "cell_type": "markdown",
   "metadata": {
    "slideshow": {
     "slide_type": "slide"
    }
   },
   "source": [
    "## Exkurs Listen\n",
    "- Strings können als Liste verstanden werden.\n",
    "- Daher sind alle gerade gezeigten Möglichkeiten auch auf Listen anwendbar. Einige Beispiele folgen: "
   ]
  },
  {
   "cell_type": "code",
   "execution_count": 13,
   "metadata": {
    "slideshow": {
     "slide_type": "slide"
    }
   },
   "outputs": [
    {
     "name": "stdout",
     "output_type": "stream",
     "text": [
      "0\n",
      "1\n",
      "2\n",
      "3\n",
      "4\n",
      "5\n",
      "6\n"
     ]
    }
   ],
   "source": [
    "alist = [0,1,2,3,4,5,6]\n",
    "\n",
    "for a in alist:\n",
    "    print(a)"
   ]
  },
  {
   "cell_type": "code",
   "execution_count": 14,
   "metadata": {
    "slideshow": {
     "slide_type": "slide"
    }
   },
   "outputs": [
    {
     "name": "stdout",
     "output_type": "stream",
     "text": [
      "0 1\n",
      "1 7\n",
      "2 2\n",
      "3 4\n",
      "4 6\n",
      "5 7\n"
     ]
    }
   ],
   "source": [
    "alist = [1,7,2,4,6,7]\n",
    "\n",
    "for index,a in enumerate(alist):\n",
    "    print(index,a)"
   ]
  },
  {
   "cell_type": "markdown",
   "metadata": {
    "slideshow": {
     "slide_type": "slide"
    }
   },
   "source": [
    "Die If-Else Shortcuts können zusammen mit For-Scheifen verwendet werden um dynamisch Listen zu erzeugen. Dies wird mit List-Comprehensions erreicht und kommt sehr häufig in Python vor. Nachfolgend werden einige Beispiels gezeigt, allerdings ist dieses Thema nicht Fokus der Lerneinheit."
   ]
  },
  {
   "cell_type": "code",
   "execution_count": 15,
   "metadata": {
    "slideshow": {
     "slide_type": "slide"
    }
   },
   "outputs": [
    {
     "name": "stdout",
     "output_type": "stream",
     "text": [
      "[0, 1, 2, 3, 4, 5, 6, 7, 8, 9]\n"
     ]
    },
    {
     "data": {
      "text/plain": [
       "['a', 'a', 'a', 'a', 'a', 'b', 'b', 'b', 'b', 'b']"
      ]
     },
     "execution_count": 15,
     "metadata": {
      "slideshow": {
       "slide_type": "slide"
      }
     },
     "output_type": "execute_result"
    }
   ],
   "source": [
    "# Beispiel dd\n",
    "a_list = [x for x in range(10)] # List comprehension \n",
    "print(a_list)\n",
    "['a' if x <5 else 'b' for x in range(10)] # List comprehension with "
   ]
  },
  {
   "cell_type": "code",
   "execution_count": 16,
   "metadata": {
    "slideshow": {
     "slide_type": "slide"
    }
   },
   "outputs": [
    {
     "data": {
      "text/html": [
       "<script>var code_show=!1;function code_toggle(){var e,d;code_show?(null!=(e=document.getElementsByClassName(\"jp-CodeMirrorEditor jp-Editor jp-InputArea-editor\")[15])&&(e.style.display=\"\"),null!=(d=document.querySelector(\"div.cell.code_cell.rendered.selected div.input\"))&&(d.style.display=\"\")):(null!=(e=document.getElementsByClassName(\"jp-CodeMirrorEditor jp-Editor jp-InputArea-editor\")[15])&&(e.style.display=\"none\"),null!=(d=document.querySelector(\"div.cell.code_cell.rendered.selected div.input\"))&&(d.style.display=\"none\"));code_show=!code_show}code_toggle();</script>Zum Anzeigen des verwendeten Javascript klicken Sie <a onClick=\"code_toggle(); return false;\" >hier</a>.<center><h1>Single Choice Fragen</h1></center><p><form name=\"quiz\"><p><b>Frage 1.<br>Mit welchem Code ist es möglich von Null bis Zehn zu iterieren?<br></b><blockquote><input type=\"radio\" name=\"q1\" value=\"first\">for i in 0 to 10 <br><input type=\"radio\" name=\"q1\" value=\"second\">for i in range(10)<br><input type=\"radio\" name=\"q1\" value=\"third\">for i in enumerate(10)<br></blockquote><p><b><hr>Frage 2.<br>Welcher Befehl erlaubt das Überspringen des aktuellen Schleifendurchlaufs?<br></b><blockquote><input type=\"radio\" name=\"q2\" value=\"first\">next<br><input type=\"radio\" name=\"q2\" value=\"second\">break<br><input type=\"radio\" name=\"q2\" value=\"third\">continue<br></blockquote><p><b><hr><input type=\"button\"value=\"Einreichen\"onClick=\"getScore(this.form);\"><input type=\"reset\" value=\"Auswahl löschen\"><p>Von 2 Fragen sind richtig: <input type=text size 15 name=\"mark\"> Genauigkeit=<input type=text size=15 name=\"percentage\"><br></form><p><form method=\"post\" name=\"Form\" onsubmit=\"\" action=\"\"></form></body><script>var numQues=2;var numChoi=3;var answers=new Array(numQues);answers[0]=\"second\";answers[1]=\"third\";function getScore(form){var score=0;var currElt;var currSelection;for (i=0; i<numQues; i++){currElt=i*numChoi;answered=false;for (j=0; j<numChoi; j++){currSelection=form.elements[currElt + j];if (currSelection.checked){answered=true;if (currSelection.value==answers[i]){score++;break;}}}if (answered===false){alert(\"Bitte alle Fragen beantworten!\") ;return false;}}var scoreper=Math.round(score/numQues*100);form.percentage.value=scoreper + \"%\";form.mark.value=score;}</script>\n"
      ],
      "text/plain": [
       "<IPython.core.display.HTML object>"
      ]
     },
     "metadata": {
      "slideshow": {
       "slide_type": "slide"
      }
     },
     "output_type": "display_data"
    }
   ],
   "source": [
    "%%html\n",
    "<script>var code_show=!1;function code_toggle(){var e,d;code_show?(null!=(e=document.getElementsByClassName(\"jp-CodeMirrorEditor jp-Editor jp-InputArea-editor\")[15])&&(e.style.display=\"\"),null!=(d=document.querySelector(\"div.cell.code_cell.rendered.selected div.input\"))&&(d.style.display=\"\")):(null!=(e=document.getElementsByClassName(\"jp-CodeMirrorEditor jp-Editor jp-InputArea-editor\")[15])&&(e.style.display=\"none\"),null!=(d=document.querySelector(\"div.cell.code_cell.rendered.selected div.input\"))&&(d.style.display=\"none\"));code_show=!code_show}code_toggle();</script>Zum Anzeigen des verwendeten Javascript klicken Sie <a onClick=\"code_toggle(); return false;\" >hier</a>.<center><h1>Single Choice Fragen</h1></center><p><form name=\"quiz\"><p><b>Frage 1.<br>Mit welchem Code ist es möglich von Null bis Zehn zu iterieren?<br></b><blockquote><input type=\"radio\" name=\"q1\" value=\"first\">for i in 0 to 10 <br><input type=\"radio\" name=\"q1\" value=\"second\">for i in range(10)<br><input type=\"radio\" name=\"q1\" value=\"third\">for i in enumerate(10)<br></blockquote><p><b><hr>Frage 2.<br>Welcher Befehl erlaubt das Überspringen des aktuellen Schleifendurchlaufs?<br></b><blockquote><input type=\"radio\" name=\"q2\" value=\"first\">next<br><input type=\"radio\" name=\"q2\" value=\"second\">break<br><input type=\"radio\" name=\"q2\" value=\"third\">continue<br></blockquote><p><b><hr><input type=\"button\"value=\"Einreichen\"onClick=\"getScore(this.form);\"><input type=\"reset\" value=\"Auswahl löschen\"><p>Von 2 Fragen sind richtig: <input type=text size 15 name=\"mark\"> Genauigkeit=<input type=text size=15 name=\"percentage\"><br></form><p><form method=\"post\" name=\"Form\" onsubmit=\"\" action=\"\"></form></body><script>var numQues=2;var numChoi=3;var answers=new Array(numQues);answers[0]=\"second\";answers[1]=\"third\";function getScore(form){var score=0;var currElt;var currSelection;for (i=0; i<numQues; i++){currElt=i*numChoi;answered=false;for (j=0; j<numChoi; j++){currSelection=form.elements[currElt + j];if (currSelection.checked){answered=true;if (currSelection.value==answers[i]){score++;break;}}}if (answered===false){alert(\"Bitte alle Fragen beantworten!\") ;return false;}}var scoreper=Math.round(score/numQues*100);form.percentage.value=scoreper + \"%\";form.mark.value=score;}</script>"
   ]
  },
  {
   "cell_type": "markdown",
   "metadata": {
    "slideshow": {
     "slide_type": "slide"
    }
   },
   "source": [
    "# Zusammenfassung \n",
    "- Kontrollstrukturen werden gebraucht, \n",
    "    - wenn etwas mehrfach ausgeführt werden soll.\n",
    "    - Logik und verschiedene Programmabläufe abbilden zu können\n",
    "    - Entscheidungen währen des Programm zu treffen.\n",
    "- Die Kontrollstrukturen in Kombination mit Variablen und Operatoren sind das Grundgerüst von Programmen und können in Funktionen ausgelagert werden. \n",
    "\n",
    "- Schleifen ermöglichen iterative Wiederholungen eines Programms. \n",
    "    - Die For Schleife ist dabei meist genutzt.\n",
    "    - Schleifen können mit break und continue modifiziert werden.\n",
    "    - Schleifen sind Hilfsmittel zur generierung von Daten. "
   ]
  },
  {
   "cell_type": "markdown",
   "metadata": {
    "slideshow": {
     "slide_type": "slide"
    }
   },
   "source": [
    "## Quellen\n",
    "- https://docs.python.org/3/tutorial/controlflow.html"
   ]
  }
 ],
 "metadata": {
  "interpreter": {
   "hash": "b73d1a4536618e175e90ff685b834bc4473c0d15eefc412f5790ee72ebe09a54"
  },
  "kernelspec": {
   "display_name": "Python 3.7.11 64-bit ('thesis': conda)",
   "name": "python3"
  },
  "language_info": {
   "codemirror_mode": {
    "name": "ipython",
    "version": 3
   },
   "file_extension": ".py",
   "mimetype": "text/x-python",
   "name": "python",
   "nbconvert_exporter": "python",
   "pygments_lexer": "ipython3",
   "version": "3.7.11"
  }
 },
 "nbformat": 4,
 "nbformat_minor": 5
}
