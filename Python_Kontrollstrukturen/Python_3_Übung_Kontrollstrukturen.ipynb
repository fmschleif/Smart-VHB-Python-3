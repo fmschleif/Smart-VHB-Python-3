{
 "cells": [
  {
   "cell_type": "markdown",
   "metadata": {
    "slideshow": {
     "slide_type": "slide"
    }
   },
   "source": [
    "# Übungen Python 3 Kontrollstrukturen"
   ]
  },
  {
   "cell_type": "markdown",
   "metadata": {
    "slideshow": {
     "slide_type": "slide"
    }
   },
   "source": [
    "Diese Präsentation ist ein Jupyter Notebook. Mit Jupyter-Notebooks können gewöhnliche Präsentation-Slides und Code kombiniert dargestellt werden. Eine Code-Slide erkennen Sie an ```In [Zahl]:``` und ```Out[Zahl]:```. Dabei bezeichnet ```In``` den verwendeten Code und ```Out``` die Ausgabe dessen. Achten Sie auf ```#``` Symbole für weitere Informationen."
   ]
  },
  {
   "cell_type": "markdown",
   "metadata": {
    "slideshow": {
     "slide_type": "slide"
    }
   },
   "source": [
    "## Übung 1:\n",
    "Finden Sie den größten ganzzahligen Teiler von 62, welche nicht 62 ist, mit einer Schleife.\n"
   ]
  },
  {
   "cell_type": "code",
   "execution_count": null,
   "metadata": {
    "slideshow": {
     "slide_type": "slide"
    }
   },
   "outputs": [],
   "source": [
    "# Ihre Lösung"
   ]
  },
  {
   "cell_type": "code",
   "execution_count": 4,
   "metadata": {
    "slideshow": {
     "slide_type": "slide"
    }
   },
   "outputs": [
    {
     "name": "stdout",
     "output_type": "stream",
     "text": [
      "Der größte ganzzahlige Teiler ist 31\n"
     ]
    }
   ],
   "source": [
    "# Unsere Lösung\n",
    "x = 62\n",
    "teiler = x - 1 # Jede Zahl ist durch sich selbst teilbar, daher beginnt man bei x - 1.\n",
    "while teiler > 1: \n",
    "    #Jede Zahl ist durch eins teilbar, daher prüft man alle Zahlen bis inklusive zwei.\n",
    "    if x % teiler == 0: \n",
    "        # wWnn die Zahl x ganzzahlig mit dem derzeitigen Teiler teilbar ist, dann ...\n",
    "        print(\"Der größte ganzzahlige Teiler ist \" + str(teiler))\n",
    "        break # Schleifenabbruch\n",
    "    teiler -= 1  # Wenn nicht, dann Teiler runterzählen und erneut prüfen.\n",
    "else: \n",
    "    # Wenn die While Schleife nicht durch break verlassen wurde und die Bedingung:\n",
    "    # teiler > 1 False ist, dann ...\n",
    "    print(\"Der größte ganzzahlige Teiler ist 1\")"
   ]
  },
  {
   "cell_type": "markdown",
   "metadata": {
    "slideshow": {
     "slide_type": "slide"
    }
   },
   "source": [
    "## Übung 2:\n",
    "Erstellen Sie einen String mit dem Inhalt \"Hallo Welt\" und kehren Sie diesen mit der Leserichtung von Rechts nach Links um."
   ]
  },
  {
   "cell_type": "code",
   "execution_count": null,
   "metadata": {
    "slideshow": {
     "slide_type": "slide"
    }
   },
   "outputs": [],
   "source": [
    "# Ihre Lösung"
   ]
  },
  {
   "cell_type": "code",
   "execution_count": 5,
   "metadata": {
    "slideshow": {
     "slide_type": "slide"
    }
   },
   "outputs": [
    {
     "name": "stdout",
     "output_type": "stream",
     "text": [
      "tleW ollaH\n"
     ]
    }
   ],
   "source": [
    "#Unsere Lösung \n",
    "example = \"Hallo Welt\"\n",
    "reversed_example = \"\"\n",
    "for i in range(len(example)-1,-1,-1): \n",
    "        # len(example): Anzahl der Zeichen im String, range(): \n",
    "        # Start bei Anzahl -1 bis (0-1) in -1 Schritten.\n",
    "        #  Wichtig!: in Python fangen Indizes bei 0 an,\n",
    "        #  daher muss bei Start und Stop jeweils eins subtrahiert werden\n",
    "    reversed_example += example[i] # Auslesen vom Zeichen\n",
    "    # an der speziellen Position und hinzufügen zu dem reversed_example\n",
    "print(reversed_example)"
   ]
  },
  {
   "cell_type": "markdown",
   "metadata": {
    "slideshow": {
     "slide_type": "slide"
    }
   },
   "source": [
    "## Übung 3:\n",
    "Finden Sie alle Primzahlen von 2 bis 100 und geben Sie die Summe der Primzahlen und die Summe der Nicht-Primzahlen aus. Erinnerung: Eine Primzahl ist eine Zahl, die nur durch sich selbst und durch 1 ganzzahlig teilbar ist."
   ]
  },
  {
   "cell_type": "code",
   "execution_count": 10,
   "metadata": {
    "slideshow": {
     "slide_type": "slide"
    }
   },
   "outputs": [],
   "source": [
    "# Ihre Lösung"
   ]
  },
  {
   "cell_type": "code",
   "execution_count": 11,
   "metadata": {
    "slideshow": {
     "slide_type": "slide"
    }
   },
   "outputs": [
    {
     "name": "stdout",
     "output_type": "stream",
     "text": [
      "Summe der Primzahlen:  1060\n",
      "Summe der Nicht-Primzahlen:  3989\n"
     ]
    }
   ],
   "source": [
    "#Unsere Lösung\n",
    "summe_prim = 0\n",
    "summe_nicht_prim = 0\n",
    "for n in range(2, 101): # für alle Zahlen n in der Liste [2,3,4,5,...100]\n",
    "     for x in range(2, n):  \n",
    "         # für alle Zahlen x in der Liste [2,...n]\n",
    "         # - hier bis maximal x = 99\n",
    "         if n % x == 0:\n",
    "              # Wenn die Zahl n durch den derzeitigen \n",
    "             #Teiler x ganzzahlig teilbar ist, dann ist n keine Primzahl\n",
    "             summe_nicht_prim += n\n",
    "             break\n",
    "     else: # Wenn die for Schleife nie durch break verlassen wurde,\n",
    "           #  dann muss n eine Primzahl sein\n",
    "         summe_prim += n\n",
    "print(\"Summe der Primzahlen: \", summe_prim)\n",
    "print(\"Summe der Nicht-Primzahlen: \", summe_nicht_prim)"
   ]
  }
 ],
 "metadata": {
  "interpreter": {
   "hash": "e16839f294d4c0c3a950d69e469040cf54ee0fe2b9ac54c836cd69dce56f946f"
  },
  "kernelspec": {
   "display_name": "Python 3.7.11 64-bit ('thesis': conda)",
   "name": "python3"
  },
  "language_info": {
   "codemirror_mode": {
    "name": "ipython",
    "version": 3
   },
   "file_extension": ".py",
   "mimetype": "text/x-python",
   "name": "python",
   "nbconvert_exporter": "python",
   "pygments_lexer": "ipython3",
   "version": "3.7.11"
  }
 },
 "nbformat": 4,
 "nbformat_minor": 5
}
