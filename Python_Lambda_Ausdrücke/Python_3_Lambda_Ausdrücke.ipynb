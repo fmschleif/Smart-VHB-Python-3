{
 "cells": [
  {
   "cell_type": "markdown",
   "metadata": {
    "slideshow": {
     "slide_type": "slide"
    }
   },
   "source": [
    "# Python 3 Lambda Ausdrücke"
   ]
  },
  {
   "cell_type": "markdown",
   "metadata": {
    "slideshow": {
     "slide_type": "slide"
    }
   },
   "source": [
    "Diese Präsentation ist ein Jupyter Notebook. Mit Jupyter-Notebooks können gewöhnliche Präsentation-Slides und Code kombiniert dargestellt werden. Eine Code-Slide erkennen Sie an ```In [Zahl]:``` und ```Out[Zahl]:```. Dabei bezeichnet ```In``` den verwendeten Code und ```Out``` die Ausgabe dessen. Achten Sie auf ```#``` Symbole für weitere Informationen.\n"
   ]
  },
  {
   "cell_type": "markdown",
   "metadata": {
    "slideshow": {
     "slide_type": "slide"
    }
   },
   "source": [
    "## Kurzbeschreibung \n",
    "Lambda Ausdrücke oder auch Expressions genannt kommen häufig in Higher-Order-Functions vor. Dabei kapseln Lambda Ausdrücke dediziert Programmabläufe und Berechnungen, die flexibel eingesetzt werden können. Allerdings sind Lambda Ausdrücke auch für ihr schwere Lesbarkeit bei Dritten bekannt.\n",
    "\n",
    "In dieser Lerneinheit werden die Lambda Expressions anhand von vielen Beispielen eingeführt. Anschließend wird die Kombination von Higher-Order-Functions und Lambda Ausdrücken demonstriert.  Abschließend wird der Fokus auf Coding Guidelines gelegt, um oben genannte Problematiken zu vermeiden."
   ]
  },
  {
   "cell_type": "markdown",
   "metadata": {
    "slideshow": {
     "slide_type": "slide"
    }
   },
   "source": [
    "## Lernziele \n",
    "- Lambda Ausdrücke können erkannt und implementiert werden.\n",
    "- Die Abgrenzung zwischen Lambda Ausdrücken und Python-Funktionen kann definiert werden.\n",
    "- Sogenannte High-Order Functions können erkannt und implementiert werden.\n",
    "- Anwendung der Built-In High-Order Functions von Python.\n",
    "- Coding Guidelines für Lambda Ausdrücke können benannt werden.   "
   ]
  },
  {
   "cell_type": "markdown",
   "metadata": {
    "slideshow": {
     "slide_type": "slide"
    }
   },
   "source": [
    "## Vorkenntnisse \n",
    "- Grundlagen in Mathematik \n",
    "- Python 3 Kenntnisse in\n",
    "    - Variablen und Operatoren\n",
    "    - Kontrollstrukturen\n",
    "    - Erweiterte Variablentypen (Datenstrukturen)"
   ]
  },
  {
   "cell_type": "markdown",
   "metadata": {
    "slideshow": {
     "slide_type": "slide"
    }
   },
   "source": [
    "## Zielgruppe\n",
    "- Studierende in naturwissenschaftlichen Studiengängen\n",
    "- Studierende in Ingenieurstudiengängen \n",
    "- Studierende mit anderweitigem naturwissenschaftlichen/technischen Hintergrund\n",
    "- Studierende mit ersten Erfahrungen in anderen Programmiersprachen"
   ]
  },
  {
   "cell_type": "markdown",
   "metadata": {
    "slideshow": {
     "slide_type": "slide"
    }
   },
   "source": [
    "## Aufbau\n",
    "- Lambda Expressions (Ausdrücke) vs. Funktionen\n",
    "- Programmabläufe in Lambda Expressions\n",
    "- Named Lambda Expressions\n",
    "- High-Order Functions\n",
    "- Coding Guidelines"
   ]
  },
  {
   "cell_type": "markdown",
   "metadata": {
    "slideshow": {
     "slide_type": "slide"
    }
   },
   "source": [
    "## Lambda Expresssion (Ausdrücke) und  Funktionen\n",
    "## Ein Vergleich\n"
   ]
  },
  {
   "cell_type": "code",
   "execution_count": 1,
   "metadata": {
    "slideshow": {
     "slide_type": "slide"
    }
   },
   "outputs": [
    {
     "data": {
      "text/plain": [
       "5"
      ]
     },
     "execution_count": 1,
     "metadata": {
      "slideshow": {
       "slide_type": "slide"
      }
     },
     "output_type": "execute_result"
    }
   ],
   "source": [
    "# Die Identity-Funktion gibt einfach das Funktionsargument x zurück.\n",
    "def identity(x):\n",
    "    return x \n",
    "\n",
    "identity(5) # Integer 5 in\n",
    "# Integer 5 out"
   ]
  },
  {
   "cell_type": "markdown",
   "metadata": {
    "slideshow": {
     "slide_type": "slide"
    }
   },
   "source": [
    "## Syntax \n",
    "Die Syntax von Lambda Expressions ist vergleichbar mit der Syntax von Funktionen:  \n",
    "`lambda <Funktionsargument> : <Code>`  \n",
    "Dabei ist `lambda` ein reserviertes Keyword von Python selbst. `<Funktionsargument>` und `<Code>` werden vom Entwickler festgelegt. Allerdings darf `<Code>` nicht länger als eine Programmzeile sein.  \n",
    "\n",
    "\n",
    "Wenn die Definition, Argumentübergabe und Ausführung von Lambda alles in einer Zeile definiert wird, müssen Klammern verwendet werden:  \n",
    "`(lambda <Funktionsargument> : <Code>) (<Funktionsargument>)`  \n",
    "Dies wird als \"Immediately Invoked Function Expression\" (IIFE) bezeichnet.  "
   ]
  },
  {
   "cell_type": "code",
   "execution_count": 2,
   "metadata": {
    "slideshow": {
     "slide_type": "slide"
    }
   },
   "outputs": [
    {
     "data": {
      "text/plain": [
       "5"
      ]
     },
     "execution_count": 2,
     "metadata": {
      "slideshow": {
       "slide_type": "slide"
      }
     },
     "output_type": "execute_result"
    }
   ],
   "source": [
    "# Lambda-Aquivalent zu der Identity Funktions \n",
    "(lambda x : x)(5)\n",
    "# Erste Klammer definiert die Lambda Funktion.\n",
    "# Zweite Klammer definiert den Input der Lambda Funktion. "
   ]
  },
  {
   "cell_type": "markdown",
   "metadata": {
    "slideshow": {
     "slide_type": "slide"
    }
   },
   "source": [
    "Lambda Ausdrücke oder auch Expressions genannt sind so genannte anonyme Funktionen. Anonyme deshalb, da sie auch ohne Bezeichner definiert und ausgeführt werden dürfen."
   ]
  },
  {
   "cell_type": "markdown",
   "metadata": {
    "slideshow": {
     "slide_type": "slide"
    }
   },
   "source": [
    "## Logik in Lambda Expressions\n",
    "- Lambda Expressions können Logik, Abläufe oder Berechnungen kapseln.\n",
    "- Innerhalb von Lambda Expressions können Funktionen geschachtelt werden"
   ]
  },
  {
   "cell_type": "code",
   "execution_count": 3,
   "metadata": {
    "slideshow": {
     "slide_type": "slide"
    }
   },
   "outputs": [
    {
     "name": "stdout",
     "output_type": "stream",
     "text": [
      "6\n",
      "6\n"
     ]
    }
   ],
   "source": [
    "def mul_two(x):\n",
    "    return print(x*2)\n",
    "\n",
    "mul_two(3)\n",
    "(lambda x : print(x * 2))(3)"
   ]
  },
  {
   "cell_type": "markdown",
   "metadata": {
    "slideshow": {
     "slide_type": "slide"
    }
   },
   "source": [
    "## Named Lambda Expression\n",
    "Lambda Expressions können auch wie Funkionen benannt werden. Dadurch können sie wiederverwendet werden. Named Lambda Expressions werden vom Python-Compiler als Funktion interpretiert"
   ]
  },
  {
   "cell_type": "code",
   "execution_count": 4,
   "metadata": {
    "slideshow": {
     "slide_type": "slide"
    }
   },
   "outputs": [
    {
     "name": "stdout",
     "output_type": "stream",
     "text": [
      "<class 'function'>\n",
      "6\n",
      "6\n"
     ]
    }
   ],
   "source": [
    "# Funktion mit einer geschachtelten Funktion\n",
    "def add_one_print(x):\n",
    "    print(x*2) # Berechnung und \n",
    "               # Funktionsaufruf in der Funktion \n",
    "\n",
    "# Lambda Äquivalent\n",
    "add_one_lambda = lambda x : print(x*2)\n",
    "\n",
    "print(type(add_one_lambda)) # Gib den Typ hinter Bezeichner add_one_lambda aus\n",
    "add_one_print(3) # Funktionsaufruf\n",
    "add_one_lambda(3) # Named Lambda Expression Aufruf"
   ]
  },
  {
   "cell_type": "markdown",
   "metadata": {
    "slideshow": {
     "slide_type": "slide"
    }
   },
   "source": [
    "## Lambda Expressions mit mehreren Parametern\n",
    "Die Syntax mit mehreren Parametern ist wieder vergleichbar zu Funktionen:\n",
    "\n",
    "`lambda <Funktionsargument1>,<Funktionsargument2> : <Code>`"
   ]
  },
  {
   "cell_type": "code",
   "execution_count": 5,
   "metadata": {
    "slideshow": {
     "slide_type": "slide"
    }
   },
   "outputs": [
    {
     "name": "stdout",
     "output_type": "stream",
     "text": [
      "16\n",
      "64\n"
     ]
    }
   ],
   "source": [
    "# Beispiel n-the Potenz mit Standardwert 2. \n",
    "# Wenn nichts weiter übergeben, wird der Wert 2 verwendet.\n",
    "nthpower = lambda x,n=2 : x**n\n",
    "\n",
    "\n",
    "print(nthpower(4)) # Ausgabe von 4^2\n",
    "print(nthpower(4,3)) # Ausgabe von 4^3"
   ]
  },
  {
   "cell_type": "code",
   "execution_count": 6,
   "metadata": {
    "slideshow": {
     "slide_type": "slide"
    }
   },
   "outputs": [
    {
     "name": "stdout",
     "output_type": "stream",
     "text": [
      "6\n",
      "6\n",
      "10\n"
     ]
    }
   ],
   "source": [
    "# Weitere Beispiele von Lambda Expressions\n",
    "\n",
    "# Lambda Expression mit sogenanntem Named Argument \n",
    "# für die Variable x,y,z und einem Default-Wert für z = 3.\n",
    "print((lambda x,y,z : x + y+ z) (x=1,y=2,z=3))\n",
    "\n",
    "# Lambda Expression welches *args erwarten.\n",
    "# *args ist ein Iterator und erwartet \n",
    "# beliebig viele Funktionsargumente\n",
    "print((lambda *args : sum(args)) (1,2,3))\n",
    "print((lambda *args : sum(args)) (1,2,3,4))"
   ]
  },
  {
   "cell_type": "markdown",
   "metadata": {
    "slideshow": {
     "slide_type": "slide"
    }
   },
   "source": [
    "## Synonyme zu Lambda Expression\n",
    "In der Python-Community haben sich für die Lambda Expressions verschiedene Synonyme etabliert. So werden die folgenden Begriffe synonym behandelt:\n",
    "- Lambda Functions \n",
    "- Lambda Expressions\n",
    "- Lambda Abstractions\n",
    "- Lambda Forms"
   ]
  },
  {
   "cell_type": "markdown",
   "metadata": {
    "slideshow": {
     "slide_type": "slide"
    }
   },
   "source": [
    "## High Order Functions\n",
    "Eine sogenannte \"Higher Order Function\" ist eine Funktion die entweder eine oder mehrere Funktionen als Funktionsargument erwartet oder eine oder mehrere Funktionen zurück gibt. "
   ]
  },
  {
   "cell_type": "code",
   "execution_count": 7,
   "metadata": {
    "slideshow": {
     "slide_type": "slide"
    }
   },
   "outputs": [
    {
     "name": "stdout",
     "output_type": "stream",
     "text": [
      "6\n",
      "6\n"
     ]
    }
   ],
   "source": [
    "# Beispiel\n",
    "\n",
    "ho_func = lambda x, function : x + function(x)\n",
    "# Zweites Funktionsargument ist eine Funktion.\n",
    "# Daher erwartet ho_func entweder eine Funkion \n",
    "# oder eine andere Lambda Expression.\n",
    "def secpow(x): return x * x # Funktion\n",
    "secpow_lambda = lambda x : x*x  # Lambda Expression\n",
    "print(ho_func(2 , secpow ))\n",
    "print(ho_func(2,secpow_lambda))\n",
    "# Funktionen werden ohne Klammern übergeben."
   ]
  },
  {
   "cell_type": "markdown",
   "metadata": {
    "slideshow": {
     "slide_type": "slide"
    }
   },
   "source": [
    "# Standard Higher Order Functions\n",
    "Die Python Programmiersprache bietet standardmäßig sogenannte \"built-in\" Higher Order Functions an. Beispielsweise \n",
    "- map() => Wendet übergebene Funktion auf übergebe Variable an\n",
    "- filter() => Filter übergebene Variable via übergebene Funktion\n",
    "- sort() => Sortiert eine Liste\n",
    "- all() = > Gibt True zurück, wenn alle Elemente übergebenen Argumente True sind sonst False.\n",
    "- min() => Gibt kleinste Zahl einer Liste zurück\n",
    "- max() => Gibt größte Zahl einer Liste zurück"
   ]
  },
  {
   "cell_type": "code",
   "execution_count": 8,
   "metadata": {
    "slideshow": {
     "slide_type": "slide"
    }
   },
   "outputs": [
    {
     "name": "stdout",
     "output_type": "stream",
     "text": [
      "<map object at 0x7fa08863b910>\n",
      "[4, 16, 36]\n"
     ]
    }
   ],
   "source": [
    "# Beispiel Map\n",
    "numbs = [2,4,6]\n",
    "square = lambda x : x *x \n",
    "squared = map(square,numbs)\n",
    "print(squared) # Gibt Map Iterator zurück\n",
    "\n",
    "# Konvertiert Iterator zu Liste.\n",
    "print(list(squared)) \n",
    "# Wichtig: Map wird erst zu dieser Zeit ausgeführt!"
   ]
  },
  {
   "cell_type": "code",
   "execution_count": 9,
   "metadata": {
    "slideshow": {
     "slide_type": "slide"
    }
   },
   "outputs": [
    {
     "name": "stdout",
     "output_type": "stream",
     "text": [
      "[2, 4, 6, 8]\n"
     ]
    }
   ],
   "source": [
    "# Beispiel Filter \n",
    "numbs = [1 ,2 ,3 ,4 ,5 ,6 ,7 ,8 ]\n",
    "def check_even(x):  \n",
    "    if x % 2 == 0:return True\n",
    "    else: return False\n",
    "\n",
    "print(list(filter(check_even,numbs)))\n",
    "# Alle Schritte in einer Zeile zusammengefasst.\n",
    "# Filter, Iterator, Konvertierung zur Liste und Ausgabe."
   ]
  },
  {
   "cell_type": "code",
   "execution_count": 10,
   "metadata": {
    "slideshow": {
     "slide_type": "slide"
    }
   },
   "outputs": [
    {
     "data": {
      "text/plain": [
       "['a', 'a', 'a', 'a', 'b', 'b']"
      ]
     },
     "execution_count": 10,
     "metadata": {
      "slideshow": {
       "slide_type": "slide"
      }
     },
     "output_type": "execute_result"
    }
   ],
   "source": [
    "# Beispiel für das Filtern mit If-Else Kontrollstruktur\n",
    "# Dabei ist die Syntax der If-Else Abfrage gleich zur \n",
    "# Syntax bei der Erstellung der einer Variablen.\n",
    "list(map(lambda x: 'a' if x<5 else 'b',[0,1,2,3,7,8]))"
   ]
  },
  {
   "cell_type": "markdown",
   "metadata": {
    "slideshow": {
     "slide_type": "slide"
    }
   },
   "source": [
    "## Coding Guidelines \n",
    "- Zwar können Lambda Expressions vielfältig eingesetzt werden, allerdings gibt es einiges zu beachten, da sonst das nachträgliche Verstehen und das Debugging schwierig wird. \n",
    "- Daher sollten Lambda Expressions nur gezielt eingesetzt werden\n",
    "\n",
    "Nachfolgend einige Beispiele die es zu vermeiden gilt."
   ]
  },
  {
   "cell_type": "markdown",
   "metadata": {
    "slideshow": {
     "slide_type": "slide"
    }
   },
   "source": [
    "## Guideline Documentation\n",
    "- Lambda Expressions können nicht wie üblich Dokumentiert werden.\n",
    "- D.h. das Docstring Element fehlt und daher kann Beispielsweise eine IDE keine Dokumentation von Lambda Expression aufrufen. \n",
    "- Des Weiteren fehlt jedem Dritten die Information über die Funktionalität.\n",
    "- Daher sollte die Lambda Expression selbsterklärend sein."
   ]
  },
  {
   "cell_type": "markdown",
   "metadata": {
    "slideshow": {
     "slide_type": "slide"
    }
   },
   "source": [
    "## Guideline Exception\n",
    "- Da Lambda Expressions nicht gut debuggt werden können, sollten sie daher nicht zum werfen eine Expection verwendet werden. \n",
    "- Dritte werden Probleme haben, die Fehlermeldung korrekt nachzuvollziehen und einen möglichen Fehler zu beheben.\n",
    "- Beispielsweise sollte folgendes vermieden werden:  \n",
    "`def throw(ex): raise ex`  \n",
    "`(lambda: throw(Exception('Something bad happened')))()` \n"
   ]
  },
  {
   "cell_type": "markdown",
   "metadata": {
    "slideshow": {
     "slide_type": "slide"
    }
   },
   "source": [
    "## Guideline Kryptische Funktion\n",
    "- Da Lambda Expressions nicht dokumentiert werden können muss klar sein:\n",
    "    - Usecase\n",
    "    - und  Funktionalität\n",
    "- Komplizierte Berechnungen oder Programmlogik sollten daher in eine Funktion geschrieben werden.  "
   ]
  },
  {
   "cell_type": "code",
   "execution_count": 11,
   "metadata": {
    "slideshow": {
     "slide_type": "slide"
    }
   },
   "outputs": [
    {
     "name": "stdout",
     "output_type": "stream",
     "text": [
      "[0, 1, 1, 2, 2, 3, 3, 4, 4, 5]\n"
     ]
    }
   ],
   "source": [
    "# Beispiel Kryptische Lambda Expression\n",
    "# Das Underscore (_) ermöglicht das Verwenden einer Variablen ohne Namen.\n",
    "# Dies erschwert Nachvollziehbarkeit.\n",
    "print((lambda _: list(map(lambda _: _ // 2, _)))\n",
    "    ([1,2,3,4,5,6,7,8,9,10]))\n"
   ]
  },
  {
   "cell_type": "code",
   "execution_count": 12,
   "metadata": {
    "slideshow": {
     "slide_type": "slide"
    }
   },
   "outputs": [
    {
     "name": "stdout",
     "output_type": "stream",
     "text": [
      "[0.6411803884299546, 1.0, 1.5596234976067807, 2.4324254542872077, 3.7936678946831774, 5.916693590664329, 9.227814352139525, 14.391916095149892, 22.445970517581, 35.00726304580835]\n"
     ]
    }
   ],
   "source": [
    "# Komplizierte Rechnungen sollten in eine Funktion, da sonst nicht richtig Dokumentiert. \n",
    "# Demonstriert im folgendem Beispiel zur Berechnung eines Gaussian Kernels mit der Zahl 2.\n",
    "import math\n",
    "print((lambda _: list(map(lambda _: math.exp( (_ - 2) / 1.5**2), _)))([1,2,3,4,5,6,7,8,9,10]))"
   ]
  },
  {
   "cell_type": "code",
   "execution_count": 13,
   "metadata": {
    "slideshow": {
     "slide_type": "slide"
    }
   },
   "outputs": [
    {
     "data": {
      "text/html": [
       "<script>var code_show=!1;function code_toggle(){var e,d;code_show?(null!=(e=document.getElementsByClassName(\"jp-CodeMirrorEditor jp-Editor jp-InputArea-editor\")[12])&&(e.style.display=\"\"),null!=(d=document.querySelector(\"div.cell.code_cell.rendered.selected div.input\"))&&(d.style.display=\"\")):(null!=(e=document.getElementsByClassName(\"jp-CodeMirrorEditor jp-Editor jp-InputArea-editor\")[12])&&(e.style.display=\"none\"),null!=(d=document.querySelector(\"div.cell.code_cell.rendered.selected div.input\"))&&(d.style.display=\"none\"));code_show=!code_show}code_toggle();</script>Zum Anzeigen des verwendeten Javascript klicken Sie <a onClick=\"code_toggle(); return false;\" >hier</a>.<center><h1>Single Choice Fragen</h1></center><p><form name=\"quiz\"><p><b>Frage 1.<br>Welche der folgenden Aussagen stimmt über Lambda Expressions?<br></b><blockquote><input type=\"radio\" name=\"q1\" value=\"first\">Sind immer selbsterklärend.<br><input type=\"radio\" name=\"q1\" value=\"second\">High Order Functions können mit ihnen kombiniert werden.<br><input type=\"radio\" name=\"q1\" value=\"third\">Lambda Expressions eignen sich für Exceptions.<br></blockquote><p><b><hr>Frage 2.<br>Welche der folgenden Codezeilen stimmt?<br></b><blockquote><input type=\"radio\" name=\"q2\" value=\"first\">(lambda x,y : x * y)(x=2,3)<br><input type=\"radio\" name=\"q2\" value=\"second\">(lambda x,y : x * y)(2,y=3)<br><input type=\"radio\" name=\"q2\" value=\"thrid\">(lambda x,y : x * y)(2)<br></blockquote><p><b><hr><input type=\"button\"value=\"Einreichen\"onClick=\"getScore(this.form);\"><input type=\"reset\" value=\"Auswahl löschen\"><p>Von 2 Fragen sind richtig: <input type=text size 15 name=\"mark\"> Genauigkeit=<input type=text size=15 name=\"percentage\"><br></form><p><form method=\"post\" name=\"Form\" onsubmit=\"\" action=\"\"></form></body><script>var numQues=2;var numChoi=3;var answers=new Array(numQues);answers[0]=\"second\";answers[1]=\"second\";function getScore(form){var score=0;var currElt;var currSelection;for (i=0; i<numQues; i++){currElt=i*numChoi;answered=false;for (j=0; j<numChoi; j++){currSelection=form.elements[currElt + j];if (currSelection.checked){answered=true;if (currSelection.value==answers[i]){score++;break;}}}if (answered===false){alert(\"Bitte alle Fragen beantworten!\") ;return false;}}var scoreper=Math.round(score/numQues*100);form.percentage.value=scoreper + \"%\";form.mark.value=score;}</script>\n"
      ],
      "text/plain": [
       "<IPython.core.display.HTML object>"
      ]
     },
     "metadata": {
      "slideshow": {
       "slide_type": "slide"
      }
     },
     "output_type": "display_data"
    }
   ],
   "source": [
    "%%html\n",
    "<script>var code_show=!1;function code_toggle(){var e,d;code_show?(null!=(e=document.getElementsByClassName(\"jp-CodeMirrorEditor jp-Editor jp-InputArea-editor\")[12])&&(e.style.display=\"\"),null!=(d=document.querySelector(\"div.cell.code_cell.rendered.selected div.input\"))&&(d.style.display=\"\")):(null!=(e=document.getElementsByClassName(\"jp-CodeMirrorEditor jp-Editor jp-InputArea-editor\")[12])&&(e.style.display=\"none\"),null!=(d=document.querySelector(\"div.cell.code_cell.rendered.selected div.input\"))&&(d.style.display=\"none\"));code_show=!code_show}code_toggle();</script>Zum Anzeigen des verwendeten Javascript klicken Sie <a onClick=\"code_toggle(); return false;\" >hier</a>.<center><h1>Single Choice Fragen</h1></center><p><form name=\"quiz\"><p><b>Frage 1.<br>Welche der folgenden Aussagen stimmt über Lambda Expressions?<br></b><blockquote><input type=\"radio\" name=\"q1\" value=\"first\">Sind immer selbsterklärend.<br><input type=\"radio\" name=\"q1\" value=\"second\">High Order Functions können mit ihnen kombiniert werden.<br><input type=\"radio\" name=\"q1\" value=\"third\">Lambda Expressions eignen sich für Exceptions.<br></blockquote><p><b><hr>Frage 2.<br>Welche der folgenden Codezeilen stimmt?<br></b><blockquote><input type=\"radio\" name=\"q2\" value=\"first\">(lambda x,y : x * y)(x=2,3)<br><input type=\"radio\" name=\"q2\" value=\"second\">(lambda x,y : x * y)(2,y=3)<br><input type=\"radio\" name=\"q2\" value=\"thrid\">(lambda x,y : x * y)(2)<br></blockquote><p><b><hr><input type=\"button\"value=\"Einreichen\"onClick=\"getScore(this.form);\"><input type=\"reset\" value=\"Auswahl löschen\"><p>Von 2 Fragen sind richtig: <input type=text size 15 name=\"mark\"> Genauigkeit=<input type=text size=15 name=\"percentage\"><br></form><p><form method=\"post\" name=\"Form\" onsubmit=\"\" action=\"\"></form></body><script>var numQues=2;var numChoi=3;var answers=new Array(numQues);answers[0]=\"second\";answers[1]=\"second\";function getScore(form){var score=0;var currElt;var currSelection;for (i=0; i<numQues; i++){currElt=i*numChoi;answered=false;for (j=0; j<numChoi; j++){currSelection=form.elements[currElt + j];if (currSelection.checked){answered=true;if (currSelection.value==answers[i]){score++;break;}}}if (answered===false){alert(\"Bitte alle Fragen beantworten!\") ;return false;}}var scoreper=Math.round(score/numQues*100);form.percentage.value=scoreper + \"%\";form.mark.value=score;}</script>"
   ]
  },
  {
   "cell_type": "markdown",
   "metadata": {
    "slideshow": {
     "slide_type": "slide"
    }
   },
   "source": [
    "\n",
    "# Zusammenfassung \n",
    "- Lambda Expressions kapseln Programmlogik ohne dafür eine Funktion definieren zu müssen.\n",
    "    - Sind daher Funktionen in Syntax und Funktionsweise sehr ähnlich.\n",
    "- Mit Built-In Funktionen wie map oder filter können dadurch sehr klar und schnell, große Funktionsabläufe programmiert werden.\n",
    "- Allerdings muss darauf geachtet werden, dass die Lambda Expression gut dokumentiert oder selbsterklärend ist. \n",
    "- Wenn der Programmablauf nicht in eine Codezeile des Editors passt, sollte eine eigene Funktion implementiert werden. \n",
    "- Abschließend sollten Lambdas nicht für Exceptions verwendet werden, da sie schwer zu Debuggen sind.  "
   ]
  },
  {
   "cell_type": "markdown",
   "metadata": {
    "slideshow": {
     "slide_type": "slide"
    }
   },
   "source": [
    "## Quellen und Weiterführendes\n",
    "- https://realpython.com/python-lambda\n",
    "- https://www.programiz.com/python-programming/methods/built-in/map \n",
    "- https://www.programiz.com/python-programming/methods/built-in/filter "
   ]
  }
 ],
 "metadata": {
  "celltoolbar": "Slideshow",
  "interpreter": {
   "hash": "b73d1a4536618e175e90ff685b834bc4473c0d15eefc412f5790ee72ebe09a54"
  },
  "kernelspec": {
   "display_name": "Python 3.7.11 64-bit ('thesis': conda)",
   "name": "python3"
  },
  "language_info": {
   "codemirror_mode": {
    "name": "ipython",
    "version": 3
   },
   "file_extension": ".py",
   "mimetype": "text/x-python",
   "name": "python",
   "nbconvert_exporter": "python",
   "pygments_lexer": "ipython3",
   "version": "3.7.11"
  }
 },
 "nbformat": 4,
 "nbformat_minor": 5
}
