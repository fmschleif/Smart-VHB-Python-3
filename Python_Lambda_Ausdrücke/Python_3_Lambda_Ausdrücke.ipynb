{
 "cells": [
  {
   "cell_type": "code",
   "execution_count": 5,
   "source": [
    "[f(x) if condition else g(x) for x in sequence]\n",
    "\n",
    "And, for list comprehensions with if conditions only,\n",
    "\n",
    "[f(x) for x in sequence if condition]\n"
   ],
   "outputs": [],
   "metadata": {}
  }
 ],
 "metadata": {
  "kernelspec": {
   "display_name": "Python 3",
   "language": "python",
   "name": "python3"
  },
  "language_info": {
   "codemirror_mode": {
    "name": "ipython",
    "version": 3
   },
   "file_extension": ".py",
   "mimetype": "text/x-python",
   "name": "python",
   "nbconvert_exporter": "python",
   "pygments_lexer": "ipython3",
   "version": "3.8.5"
  }
 },
 "nbformat": 4,
 "nbformat_minor": 5
}