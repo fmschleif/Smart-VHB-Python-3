{
 "cells": [
  {
   "cell_type": "markdown",
   "metadata": {
    "slideshow": {
     "slide_type": "slide"
    }
   },
   "source": [
    "# Python 3 Lambda Expresssions"
   ]
  },
  {
   "cell_type": "markdown",
   "metadata": {
    "slideshow": {
     "slide_type": "slide"
    }
   },
   "source": [
    "Diese Präsentation ist ein Jupyter Notebook. Mit Jupyter-Notebooks können gewöhnliche Präsentation-Slides und Code kombiniert dargestellt werden. Eine Code-Slide erkennen Sie an ```In [Zahl]:``` und ```Out[Zahl]:```. Dabei bezeichnet ```In``` den verwendeten Code und ```Out``` die Ausgabe dessen. Achten Sie auf ```#``` Symbole für weitere Informationen.\n"
   ]
  },
  {
   "cell_type": "markdown",
   "metadata": {
    "slideshow": {
     "slide_type": "slide"
    }
   },
   "source": [
    "\n",
    "## Lernziele\n",
    "- Die verschiedenen Variablentypen und Operatoren können benannt werden.\n",
    "- Zuweisung von Werten können durchgeführt werden.\n",
    "- Einfache Berechnungen können umgesetzt werden.\n",
    "- Im Kurs besprochene Manipulationen der Variablen ist anwendbar. \n",
    "- Funktionen können definiert und implementiert werden"
   ]
  },
  {
   "cell_type": "markdown",
   "metadata": {
    "slideshow": {
     "slide_type": "slide"
    }
   },
   "source": [
    "## Vorkenntnisse \n",
    "- Grundlagen in Mathematik \n",
    "- Python 3 Kenntnisse in\n",
    "    - Variablen und Operatoren\n",
    "    - Kontrollstrukturen\n",
    "    - Erweiterte Variablentypen (Datenstrukturen)"
   ]
  },
  {
   "cell_type": "markdown",
   "metadata": {
    "slideshow": {
     "slide_type": "slide"
    }
   },
   "source": [
    "## Zielgruppe\n",
    "- Studierende in Naturwissenschaftlichen\n",
    "- Studierende in Ingenieurstudiengängen \n",
    "- Studierende mit anderweitigem naturwissenschaftlichen/technischen Hintergrund\n",
    "- Studierende mit ersten Erfahrungen in anderen Programmiersprachen"
   ]
  },
  {
   "cell_type": "markdown",
   "metadata": {
    "slideshow": {
     "slide_type": "slide"
    }
   },
   "source": [
    "## Aufbau\n",
    "- Lambda Expressions und Funktion\n",
    "- Programmabläufe in Lambda Expressions\n",
    "- Named Lambda Expressions\n",
    "- Vor und Nachteile\n",
    "- Anwendungsgebiete"
   ]
  },
  {
   "cell_type": "markdown",
   "metadata": {},
   "source": [
    "## Lambda Expresssion und  Funktionen\n",
    "## Ein Vergleich\n"
   ]
  },
  {
   "cell_type": "code",
   "execution_count": 1,
   "metadata": {},
   "outputs": [
    {
     "data": {
      "text/plain": [
       "5"
      ]
     },
     "execution_count": 1,
     "metadata": {},
     "output_type": "execute_result"
    }
   ],
   "source": [
    "# Die Identity-function returns just the input value.\n",
    "def identity(x):\n",
    "    return x \n",
    "\n",
    "identity(5) # Integer 5 in\n",
    "# Integer 5 out"
   ]
  },
  {
   "cell_type": "markdown",
   "metadata": {},
   "source": [
    "## Syntax \n",
    "Die Syntax von Lambda Expressions ist vergleichbar mit der Syntax von Funktionen:</br>\n",
    "`lambda <Funktionsargument : <Code>`\n",
    "\n",
    "Dabei ist `lambda` ein reserviertes Keyword von Python selbst. `<Funktionsargument>` und `<Code>` werden vom Entwickler festgelegt. Allerdings darf `<Code>` nicht länger als eine Programmzeile sein.</br>\n",
    "\n",
    "Wenn die Definition,Übergabe von Variablen und Ausführung von Lambda alles in einer Zeile definiert wird, müssen Klammern verwendet werden:</br>\n",
    "`(lambda <Funktionsargument> : <Code>)`(<Übergebene Variablen>)</br>\n",
    "Dies wird als \"Immediately Invoked Function Expression\" (IIFE) bezeichnet."
   ]
  },
  {
   "cell_type": "code",
   "execution_count": 2,
   "metadata": {},
   "outputs": [
    {
     "data": {
      "text/plain": [
       "5"
      ]
     },
     "execution_count": 2,
     "metadata": {},
     "output_type": "execute_result"
    }
   ],
   "source": [
    "# Lambda Aquivalent zu der Identity Funktions \n",
    "(lambda x : x)(5)\n",
    "# Erste Klammer definiert die Lambda Funktion\n",
    "# Zweite Klammer definiert den Input der Lambda Funktion. "
   ]
  },
  {
   "cell_type": "markdown",
   "metadata": {},
   "source": [
    "## Logik in Lambda Ausdrücke\n",
    "- Kapselt Logik, Abläufe oder Berechnungen zu programmieren \n",
    "- Bei Lambdas können Funktionen geschachtelt werden\n",
    "- Ein Lambda kann über eine Variable deklariert werden "
   ]
  },
  {
   "cell_type": "code",
   "execution_count": 3,
   "metadata": {},
   "outputs": [
    {
     "name": "stdout",
     "output_type": "stream",
     "text": [
      "6\n",
      "6\n"
     ]
    }
   ],
   "source": [
    "def mul_two(x):\n",
    "    return x*2\n",
    "\n",
    "print(mul_two(3))\n",
    "print((lambda x : x * 2)(3))"
   ]
  },
  {
   "cell_type": "markdown",
   "metadata": {},
   "source": [
    "## Named Lambda Expression\n",
    "Lambda Expressions können auch wie Funkionen benannt werden. Dadurch können sie wiederverwendet werden. Named Lambda Expressions werden vom Python-Compiler als Funktion interpretiert"
   ]
  },
  {
   "cell_type": "code",
   "execution_count": 4,
   "metadata": {},
   "outputs": [
    {
     "name": "stdout",
     "output_type": "stream",
     "text": [
      "<class 'function'>\n",
      "6\n",
      "6\n"
     ]
    }
   ],
   "source": [
    "# Funktion mit einer geschachtelten Funktion\n",
    "def add_one_print(x):\n",
    "    print(x*2) # Berechnung und \n",
    "               # Funktion in der Funktion \n",
    "\n",
    "add_one_lambda = lambda x : print(x*2)\n",
    "\n",
    "print(type(add_one_lambda)) # Gib den Typ hinter der add_one_lambda aus\n",
    "add_one_print(3) # Funktionsaufruf\n",
    "add_one_lambda(3) # Named Lambda Expression Aufruf"
   ]
  },
  {
   "cell_type": "markdown",
   "metadata": {},
   "source": [
    "## Lambda Expressions mit mehreren Parameter \n",
    "Die Syntax mit mehreren Parametern ist wieder vergleichbar zu Funktionen:\n",
    "\n",
    "`lambda <Funktionsargument1>,<Funktionsargument2> : <Code>`(<Übergebene Variablen>)"
   ]
  },
  {
   "cell_type": "code",
   "execution_count": 5,
   "metadata": {},
   "outputs": [
    {
     "name": "stdout",
     "output_type": "stream",
     "text": [
      "16\n",
      "64\n"
     ]
    }
   ],
   "source": [
    "#Beispiel n-the Potenz mit Standardwert 2. \n",
    "# Wenn nichts weiter übergeben, wird der Wert 2 verwendet.\n",
    "nthpower = lambda x,n=2 : x**n\n",
    "\n",
    "\n",
    "print(nthpower(4)) # Ausgabe von 4^2\n",
    "print(nthpower(4,3)) # Ausgabe von 4^3"
   ]
  },
  {
   "cell_type": "code",
   "execution_count": 6,
   "metadata": {},
   "outputs": [
    {
     "name": "stdout",
     "output_type": "stream",
     "text": [
      "6\n",
      "6\n",
      "10\n"
     ]
    }
   ],
   "source": [
    "# Weitere Beispiele von Lambda Expressions\n",
    "\n",
    "# Lambda Expression mit sogenanntem Named Argument \n",
    "# für die Variable y und einem Default-Wert für z = 3.\n",
    "print((lambda x,y,z=3 : x + y+ z) (1,2,3))\n",
    "\n",
    "# Lambda Expression welches *args erwarten.\n",
    "# *args ist ein Iterator und erwartet \n",
    "# beliebig viele Funktionsargumente\n",
    "print((lambda *args : sum(args)) (1,2,3))\n",
    "print((lambda *args : sum(args)) (1,2,3,4))"
   ]
  },
  {
   "cell_type": "markdown",
   "metadata": {},
   "source": [
    "## Synonyme zu Lambda Expression\n",
    "In der Python-Community haben sich für die Lambda Expressions verschiedene Synonyme etabliert. So werden die folgenden Synonym behandelt:\n",
    "- Lambda Functions \n",
    "- Lambda Expressions\n",
    "- Lambda Abstractions\n",
    "- Lambda Form "
   ]
  },
  {
   "cell_type": "markdown",
   "metadata": {},
   "source": [
    "## High Order Functions\n",
    "Eine sogenannte \"Higher Order Function\" ist eine Funktion die entweder eine oder mehrere Funktionen als Funktionsargument erwartet oder eine oder mehrere Funktionsargumente zurück gibt. "
   ]
  },
  {
   "cell_type": "code",
   "execution_count": 7,
   "metadata": {},
   "outputs": [
    {
     "name": "stdout",
     "output_type": "stream",
     "text": [
      "6\n",
      "6\n"
     ]
    }
   ],
   "source": [
    "# Beispiel\n",
    "\n",
    "ho_func = lambda x, function : x + function(x)\n",
    "# Zweites Funktionsargument ist eine Funktion.\n",
    "# Daher erwartet ho_func etweder eine Funkion \n",
    "# oder eine andere Lambda Expression\n",
    "def secpow(x): return x * x\n",
    "secpow_lambda = lambda x : x*x \n",
    "print(ho_func(2 , secpow ))\n",
    "print(ho_func(2,secpow_lambda))\n",
    "# Funktionen werden ohne Klammern übergeben."
   ]
  },
  {
   "cell_type": "markdown",
   "metadata": {},
   "source": [
    "# Standard Higher Order Functions\n",
    "Die Python Programmiersprache bietet standardmäßig sogenannte \"built-in\" Higher Order Functions an. Beispielsweise \n",
    "- map() => Wendet übergebene Funktion auf übergebe Variable an\n",
    "- filter() => Filter übergebene Variable via übergebene Funktion\n",
    "- sort() => Sortiert eine Liste\n",
    "- min() => Gibt kleinste Zahl einer Liste zurück\n",
    "- max() => Gibt größte Zahl einer Liste zurück"
   ]
  },
  {
   "cell_type": "code",
   "execution_count": 8,
   "metadata": {},
   "outputs": [
    {
     "name": "stdout",
     "output_type": "stream",
     "text": [
      "<map object at 0x7f8a78c052d0>\n",
      "[4, 16, 36]\n"
     ]
    }
   ],
   "source": [
    "# Beispiel Map\n",
    "numbs = [2,4,6]\n",
    "square = lambda x : x *x \n",
    "squared = map(square,numbs)\n",
    "print(squared) # Gibt Map Iterator zurück\n",
    "\n",
    "# Konvertiert Iterator zu Liste.\n",
    "print(list(squared)) \n",
    "# Wichtig: Map wird erst zu dieser Zeit ausgeführt!"
   ]
  },
  {
   "cell_type": "code",
   "execution_count": 9,
   "metadata": {},
   "outputs": [
    {
     "name": "stdout",
     "output_type": "stream",
     "text": [
      "[2, 4, 6, 8]\n"
     ]
    }
   ],
   "source": [
    "# Beispiel Filter \n",
    "numbs = [1 ,2 ,3 ,4 ,5 ,6 ,7 ,8 ]\n",
    "def check_even(x):  \n",
    "    if x % 2 == 0:return True\n",
    "    else: return False\n",
    "\n",
    "print(list(filter(check_even,numbs)))\n",
    "# Alle Schritte von vorheriger Slide zusammengefasst\n",
    "# Filter Iterator, Konvertierung zur Liste, Ausgabe"
   ]
  },
  {
   "cell_type": "code",
   "execution_count": 10,
   "metadata": {},
   "outputs": [
    {
     "data": {
      "text/plain": [
       "['a', 'a', 'a', 'a', 'b', 'b']"
      ]
     },
     "execution_count": 10,
     "metadata": {},
     "output_type": "execute_result"
    }
   ],
   "source": [
    "# Beispiel für das Filtern mit If-Else Kontrollstruktur\n",
    "# Dabei ist die Syntax der If-Else Abfrage gleich zur \n",
    "# Syntax bei der Erstellung der einer Variablen.\n",
    "list(map(lambda x: 'a' if x<5 else 'b',[0,1,2,3,7,8]))"
   ]
  },
  {
   "cell_type": "markdown",
   "metadata": {},
   "source": [
    "## Coding Guidelines \n",
    "- Zwar können Lambda Expressions Vielfältig eingesetzt werden, allerdings gibt es einiges zu Beachten, da sonst das nachträgliche Verstehen und das Debugging schwierig wird. \n",
    "- Daher sollten Lambda Expressions nur gezielt eingesetzt werden\n",
    "- Nachfolgend einige Beispiele die es zu vermeiden gilt."
   ]
  },
  {
   "cell_type": "markdown",
   "metadata": {},
   "source": [
    "## Guideline Documentation\n",
    "- Lambda Expressions können nicht wie üblich Dokumentiert werden.\n",
    "- D.h. das Docstring Element fehlt und daher kann eine IDE keine Dokumentation von Lambda Expression aufrufen. \n",
    "- Des Weiteren fehlt jedem Dritten die Information über die Funktionalität"
   ]
  },
  {
   "cell_type": "markdown",
   "metadata": {},
   "source": [
    "## Guideline Exception\n",
    "- Da Lambda Expressions nicht gut Debuggt werden können, sollten keine Logik zur werfen eine Expection verwendet werden. \n",
    "- Dritte werden Probleme haben, die Fehlermeldung korrekt nachzuvollziehen und einen möglichen Fehler zu beheben.\n",
    "- Beispielsweise sollte folgendes vermieden werden:</br>\n",
    "`def throw(ex): raise ex`</br>\n",
    "`(lambda: throw(Exception('Something bad happened')))()` \n"
   ]
  },
  {
   "cell_type": "markdown",
   "metadata": {},
   "source": [
    "## Guideline Kryptische Funktion\n",
    "- Da Lambda Expressions nicht dokumentiert werden können muss klar sein:\n",
    "    - Usecase\n",
    "    - und  Funktionalität\n",
    "- Komplizierte Berechnung oder Programmlogik sollte in einer Funktion geschrieben werden.  "
   ]
  },
  {
   "cell_type": "code",
   "execution_count": 11,
   "metadata": {},
   "outputs": [
    {
     "name": "stdout",
     "output_type": "stream",
     "text": [
      "[0, 1, 1, 2, 2, 3, 3, 4, 4, 5]\n",
      "[0.6411803884299546, 1.0, 1.5596234976067807, 2.4324254542872077, 3.7936678946831774, 5.916693590664329, 9.227814352139525, 14.391916095149892, 22.445970517581, 35.00726304580835]\n"
     ]
    }
   ],
   "source": [
    "# Beispiel Kryptische Funktion\n",
    "# Das Underscore (_) ermöglicht das verwenden einer Variablen ohne Namen.\n",
    "# Dies erschwert Nachvollziehbarkeit.\n",
    "print((lambda _: list(map(lambda _: _ // 2, _)))([1,2,3,4,5,6,7,8,9,10]))\n",
    "[0, 1, 1, 2, 2, 3, 3, 4, 4, 5]\n"
   ]
  },
  {
   "cell_type": "code",
   "execution_count": 13,
   "metadata": {},
   "outputs": [
    {
     "name": "stdout",
     "output_type": "stream",
     "text": [
      "[0.6411803884299546, 1.0, 1.5596234976067807, 2.4324254542872077, 3.7936678946831774, 5.916693590664329, 9.227814352139525, 14.391916095149892, 22.445970517581, 35.00726304580835]\n"
     ]
    }
   ],
   "source": [
    "# Komplizierte Rechnungen sollten in eine Funktion, da sonst nicht richtig Dokumentiert. \n",
    "# Demonstriert im folgendem Beispiel zur Berechnung eines Gaussian Kernels mit der Zahl 2.\n",
    "import math\n",
    "print((lambda _: list(map(lambda _: math.exp( (_ - 2) / 1.5**2), _)))([1,2,3,4,5,6,7,8,9,10]))"
   ]
  },
  {
   "cell_type": "markdown",
   "metadata": {
    "slideshow": {
     "slide_type": "slide"
    }
   },
   "source": [
    "\n",
    "# Zusammenfassung \n",
    "- Lambda Expressions kapseln Programmlogik ohne dafür eine Funktion definieren zu müssen.\n",
    "- Sind daher Funktionen in Syntax und Funktionsweise sehr ähnlich.\n",
    "- Mit Built-In Funktionen wie map oder filter können dadurch sehr klar und schnell große Funktionsabläufe programmiert werden.\n",
    "- Allerdings muss darauf geachtet werden, dass die Lambda Expression gut dokumentiert ist oder selbsterklärend ist. \n",
    "- Wenn der Programmablauf nicht in eine Codezeile des Editors passt, sollte eine eigene Funktion implementiert werden. \n",
    "- Abschließend sollten Lambdas nicht für Exceptions verwendet werden, da sie schwer zu Debuggen sind.  "
   ]
  },
  {
   "cell_type": "markdown",
   "metadata": {
    "slideshow": {
     "slide_type": "slide"
    }
   },
   "source": [
    "## Quellen und Weiterführendes\n",
    "- https://realpython.com/python-lambda\n",
    "- https://www.programiz.com/python-programming/methods/built-in/map \n",
    "- https://www.programiz.com/python-programming/methods/built-in/filter "
   ]
  },
  {
   "cell_type": "markdown",
   "metadata": {},
   "source": []
  },
  {
   "cell_type": "markdown",
   "metadata": {},
   "source": [
    "b"
   ]
  }
 ],
 "metadata": {
  "celltoolbar": "Slideshow",
  "interpreter": {
   "hash": "e16839f294d4c0c3a950d69e469040cf54ee0fe2b9ac54c836cd69dce56f946f"
  },
  "kernelspec": {
   "display_name": "Python 3.7.11 64-bit ('thesis': conda)",
   "name": "python3"
  },
  "language_info": {
   "codemirror_mode": {
    "name": "ipython",
    "version": 3
   },
   "file_extension": ".py",
   "mimetype": "text/x-python",
   "name": "python",
   "nbconvert_exporter": "python",
   "pygments_lexer": "ipython3",
   "version": "3.7.11"
  }
 },
 "nbformat": 4,
 "nbformat_minor": 5
}
