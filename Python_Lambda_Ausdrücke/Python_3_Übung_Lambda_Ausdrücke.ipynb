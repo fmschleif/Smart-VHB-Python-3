{
 "cells": [
  {
   "cell_type": "markdown",
   "metadata": {
    "slideshow": {
     "slide_type": "slide"
    }
   },
   "source": [
    "# Übungen Python 3 Lambda Ausdrücke"
   ]
  },
  {
   "cell_type": "markdown",
   "metadata": {
    "slideshow": {
     "slide_type": "slide"
    }
   },
   "source": [
    "Diese Präsentation ist ein Jupyter Notebook. Mit Jupyter-Notebooks können gewöhnliche Präsentation-Slides und Code kombiniert dargestellt werden. Eine Code-Slide erkennen Sie an ```In [Zahl]:``` und ```Out[Zahl]:```. Dabei bezeichnet ```In``` den verwendeten Code und ```Out``` die Ausgabe dessen. Achten Sie auf ```#``` Symbole für weitere Informationen."
   ]
  },
  {
   "cell_type": "markdown",
   "metadata": {
    "slideshow": {
     "slide_type": "slide"
    }
   },
   "source": [
    "## Übung 1:\n",
    "Implementieren Sie eine Lambda Expression, sodass die n-th Wurzel berechnet wird. Wird der Lambda Expression für das Wurzel ziehen nur eine Zahl, aber keinen Grad, soll der Wert 2 verwendet werden.\n"
   ]
  },
  {
   "cell_type": "code",
   "execution_count": 1,
   "metadata": {
    "slideshow": {
     "slide_type": "slide"
    }
   },
   "outputs": [],
   "source": [
    "# Ihre Lösung"
   ]
  },
  {
   "cell_type": "code",
   "execution_count": 2,
   "metadata": {
    "slideshow": {
     "slide_type": "slide"
    }
   },
   "outputs": [
    {
     "name": "stdout",
     "output_type": "stream",
     "text": [
      "1.2599210498948732\n",
      "1.4142135623730951\n",
      "1.4142135623730951\n"
     ]
    }
   ],
   "source": [
    "# Unsere Lösung\n",
    "import math\n",
    "nthsqrt = lambda x,n=2 : x**(1/n)\n",
    "print(nthsqrt(2,3)) # Mit übergrade des Wurzelgrads\n",
    "print(nthsqrt(2)) # Standardwert 2 \n",
    "print(nthsqrt(2,2)) # Überprüfen ob Standardwert richtig."
   ]
  },
  {
   "cell_type": "markdown",
   "metadata": {
    "slideshow": {
     "slide_type": "slide"
    }
   },
   "source": [
    "## Übung 2:\n",
    "Implementieren Sie einen Lambda Ausdruck mit einem Standardfunktionsargument x = 2 und beliebig viele weitere Argumente. Die Funktion soll den Logarithmus zur Basis x für alle weiteren Argumente berechnen und als Liste zurückgeben. "
   ]
  },
  {
   "cell_type": "code",
   "execution_count": 3,
   "metadata": {
    "slideshow": {
     "slide_type": "slide"
    }
   },
   "outputs": [],
   "source": [
    "# Ihre Lösung"
   ]
  },
  {
   "cell_type": "code",
   "execution_count": 4,
   "metadata": {
    "slideshow": {
     "slide_type": "slide"
    }
   },
   "outputs": [
    {
     "name": "stdout",
     "output_type": "stream",
     "text": [
      "[0.0, 1.0, 1.5849625007211563, 2.321928094887362, 2.584962500721156]\n",
      "[0.0, 1.0, 1.5849625007211563, 2.321928094887362, 2.584962500721156]\n",
      "[0.0, 0.5, 0.7924812503605781, 1.160964047443681, 1.292481250360578]\n"
     ]
    }
   ],
   "source": [
    "# Unsere Lösung\n",
    "import math\n",
    "# Liste wird mit der sogenannten List Comprehension erstellt.\n",
    "nthlog = lambda *args,x=2: [math.log(i,x) for i in args ]\n",
    "numbers = range(1,11)\n",
    "print(nthlog(1,2,3,5,6,x=2))\n",
    "print(nthlog(1,2,3,5,6))\n",
    "print(nthlog(1,2,3,5,6,x=4))"
   ]
  },
  {
   "cell_type": "markdown",
   "metadata": {
    "slideshow": {
     "slide_type": "slide"
    }
   },
   "source": [
    "## Übung 3:\n",
    "\n",
    "Filtern Sie alle Primzahlen aus einer Liste von 2 bis 100 über Lambda und Built-In Funktionen. Das Ergebnis soll eine Liste mit allen Primzahlen im Zahlenbereich sein. "
   ]
  },
  {
   "cell_type": "code",
   "execution_count": 5,
   "metadata": {
    "slideshow": {
     "slide_type": "slide"
    }
   },
   "outputs": [],
   "source": [
    "\n",
    "# Ihre Lösung"
   ]
  },
  {
   "cell_type": "code",
   "execution_count": 6,
   "metadata": {
    "slideshow": {
     "slide_type": "slide"
    }
   },
   "outputs": [
    {
     "name": "stdout",
     "output_type": "stream",
     "text": [
      "[2, 3, 5, 7, 11, 13, 17, 19, 23, 29, 31, 37, 41, 43, 47, 53, 59, 61, 67, 71, 73, 79, 83, 89, 97]\n"
     ]
    }
   ],
   "source": [
    "is_prime = lambda x: all( x%i != 0 for i in range(2, x ))\n",
    "# all() ist eine Built-In Funktion die True zurück gibt,\n",
    "# wenn alle übergebenen Objekte True (1) sind ansonsten False.\n",
    "# Das heißt, wenn x%i == 0 ist die Bedingung für eine Primezahl \n",
    "# NICHT erfüllt. \n",
    "number = range(2,101) # Definiere Zahlenbereich\n",
    "\n",
    "print(list(filter(is_prime,number)))"
   ]
  }
 ],
 "metadata": {
  "interpreter": {
   "hash": "b73d1a4536618e175e90ff685b834bc4473c0d15eefc412f5790ee72ebe09a54"
  },
  "kernelspec": {
   "display_name": "Python 3.7.11 64-bit ('thesis': conda)",
   "name": "python3"
  },
  "language_info": {
   "codemirror_mode": {
    "name": "ipython",
    "version": 3
   },
   "file_extension": ".py",
   "mimetype": "text/x-python",
   "name": "python",
   "nbconvert_exporter": "python",
   "pygments_lexer": "ipython3",
   "version": "3.7.11"
  }
 },
 "nbformat": 4,
 "nbformat_minor": 5
}
