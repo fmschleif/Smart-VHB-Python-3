{
  "nbformat": 4,
  "nbformat_minor": 5,
  "metadata": {
    "kernelspec": {
      "name": "python3",
      "display_name": "Python 3.7.11 64-bit ('thesis': conda)"
    },
    "language_info": {
      "codemirror_mode": {
        "name": "ipython",
        "version": 3
      },
      "file_extension": ".py",
      "mimetype": "text/x-python",
      "name": "python",
      "nbconvert_exporter": "python",
      "pygments_lexer": "ipython3",
      "version": "3.7.11"
    },
    "interpreter": {
      "hash": "e16839f294d4c0c3a950d69e469040cf54ee0fe2b9ac54c836cd69dce56f946f"
    },
    "colab": {
      "name": "Python_3_Übung_Variablen_und_Operatoren.ipynb",
      "provenance": [],
      "include_colab_link": true
    }
  },
  "cells": [
    {
      "cell_type": "markdown",
      "metadata": {
        "id": "view-in-github",
        "colab_type": "text"
      },
      "source": [
        "<a href=\"https://colab.research.google.com/github/ChristophRaab/Smart-VHB-Python-3/blob/main/Python_3_U%CC%88bung_Variablen_und_Operatoren.ipynb\" target=\"_parent\"><img src=\"https://colab.research.google.com/assets/colab-badge.svg\" alt=\"Open In Colab\"/></a>"
      ]
    },
    {
      "cell_type": "markdown",
      "metadata": {
        "id": "1d6C7-NwOBwc"
      },
      "source": [
        "# Übungen Python 3 Variablen und Operatoren "
      ],
      "id": "1d6C7-NwOBwc"
    },
    {
      "cell_type": "markdown",
      "metadata": {
        "id": "nxej3CQEOBwe"
      },
      "source": [
        "Diese Präsentation ist ein Jupyter Notebook. Mit Jupyter-Notebooks können gewöhnliche Präsentation-Slides und Code kombiniert dargestellt werden. Eine Code-Slide erkennen Sie an ```In [Zahl]:``` und ```Out[Zahl]:```. Dabei bezeichnet ```In``` den verwendeten Code und ```Out``` die Ausgabe dessen. Achten Sie auf ```#``` Symbole für weitere Informationen."
      ],
      "id": "nxej3CQEOBwe"
    },
    {
      "cell_type": "markdown",
      "metadata": {
        "id": "QGpz9LfFOBwf"
      },
      "source": [
        "# Aufgabe 1: Operatoren berechnung\n",
        "- Initialisieren Sie eine Variable die das Produkt aus zwei bereits definierten Variablen ist.\n",
        "- Schreiben Sie einen korrekten Satz aus bereits definierten Wörtern"
      ],
      "id": "QGpz9LfFOBwf"
    },
    {
      "cell_type": "code",
      "metadata": {
        "id": "HM5qQxTnOBwg"
      },
      "source": [
        "# Ihre Lösung"
      ],
      "id": "HM5qQxTnOBwg",
      "execution_count": null,
      "outputs": []
    },
    {
      "cell_type": "code",
      "metadata": {
        "id": "0GqnrlSMOBwg",
        "outputId": "c40d0c0c-6f45-462e-c34a-863b322af5d2"
      },
      "source": [
        "# Unsere Lösung\n",
        "x,y = 3,4\n",
        "z = x*y\n",
        "print(x)\n",
        "\n",
        "a,b,c = \"Eine \", \"Code \", \"Zeile.\"\n",
        "d = a + b +c \n",
        "print(d)"
      ],
      "id": "0GqnrlSMOBwg",
      "execution_count": null,
      "outputs": [
        {
          "output_type": "stream",
          "name": "stdout",
          "text": [
            "3\n",
            "Eine Code Zeile.\n"
          ]
        }
      ]
    },
    {
      "cell_type": "markdown",
      "metadata": {
        "id": "jGpa09DsOBwi"
      },
      "source": [
        "# Aufgabe 2: Implementierung Mathe-Funktion\n",
        "- Schreiben Sie eine Funktion die zwei Argumente erwartet.\n",
        "- Berechnen Sie die Wurzel aus dem ersten Argument\n",
        "- Das zweite Argument ist der Grad der Wurzel. \n",
        "- Geben Sie das Ergebnis _zurück_.\n",
        "- Schreiben Sie ein Beispiel um die korrekte Funktion zu testen. \n",
        "\n"
      ],
      "id": "jGpa09DsOBwi"
    },
    {
      "cell_type": "code",
      "metadata": {
        "id": "4bq1pnDUOBwi"
      },
      "source": [
        "# Ihre Lösung\n"
      ],
      "id": "4bq1pnDUOBwi",
      "execution_count": null,
      "outputs": []
    },
    {
      "cell_type": "code",
      "metadata": {
        "id": "noN1PFBsOBwj",
        "outputId": "a10af68b-5f96-4508-ecb1-fd0462f43da3"
      },
      "source": [
        "# Unsere Lösung \n",
        "def nth_sqrt(a,b):\n",
        "    a_nsqrt = a**(1/b)\n",
        "    return a_nsqrt\n",
        "\n",
        "x = 64\n",
        "y = 3\n",
        "answer = nth_sqrt(x,y)\n",
        "print(answer) # Fast viert ist auch eine valide Lösung aufgrund von Ungenauigkeiten"
      ],
      "id": "noN1PFBsOBwj",
      "execution_count": null,
      "outputs": [
        {
          "output_type": "stream",
          "name": "stdout",
          "text": [
            "3.9999999999999996\n"
          ]
        }
      ]
    },
    {
      "cell_type": "markdown",
      "metadata": {
        "id": "lqu8VsIGOBwk"
      },
      "source": [
        "# Aufgabe 3: String Manipulation\n",
        "- Schreiben Sie eine Funktion mit drei Argumenten: sentence, search und replace \n",
        "- Die Funktion ersetzt den String search mit den replace string \n",
        "- Geben Sie das Ergebnis zurück sowie das Ergebnis mit Großbuchstaben\n"
      ],
      "id": "lqu8VsIGOBwk"
    },
    {
      "cell_type": "code",
      "metadata": {
        "id": "yGY0Woz5OBwl"
      },
      "source": [
        "# Ihre Lösung"
      ],
      "id": "yGY0Woz5OBwl",
      "execution_count": null,
      "outputs": []
    },
    {
      "cell_type": "code",
      "metadata": {
        "id": "JJbKwK7KOBwm",
        "outputId": "441e8d9f-ace7-4468-81e5-8bd7c8d33595"
      },
      "source": [
        "# Unser Lösung\n",
        "\n",
        "def search_replace(sentence,search,replace):\n",
        "    return sentence.replace(search,replace)\n",
        "\n",
        "sents  = \"Dieser Satz muss ersetzt werden\"\n",
        "search = \"muss\"\n",
        "replace = \"soll\"\n",
        "replaced_sents = search_replace(sents,search,replace)\n",
        "print(replaced_sents)\n"
      ],
      "id": "JJbKwK7KOBwm",
      "execution_count": null,
      "outputs": [
        {
          "output_type": "stream",
          "name": "stdout",
          "text": [
            "Dieser Satz soll ersetzt werden\n"
          ]
        }
      ]
    }
  ]
}