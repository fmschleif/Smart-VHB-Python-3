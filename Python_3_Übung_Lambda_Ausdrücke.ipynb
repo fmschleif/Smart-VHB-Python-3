{
  "nbformat": 4,
  "nbformat_minor": 5,
  "metadata": {
    "interpreter": {
      "hash": "b73d1a4536618e175e90ff685b834bc4473c0d15eefc412f5790ee72ebe09a54"
    },
    "kernelspec": {
      "display_name": "Python 3.7.11 64-bit ('thesis': conda)",
      "name": "python3"
    },
    "language_info": {
      "codemirror_mode": {
        "name": "ipython",
        "version": 3
      },
      "file_extension": ".py",
      "mimetype": "text/x-python",
      "name": "python",
      "nbconvert_exporter": "python",
      "pygments_lexer": "ipython3",
      "version": "3.7.11"
    },
    "colab": {
      "name": "Python_3_Übung_Lambda_Ausdrücke.ipynb",
      "provenance": [],
      "include_colab_link": true
    }
  },
  "cells": [
    {
      "cell_type": "markdown",
      "metadata": {
        "id": "view-in-github",
        "colab_type": "text"
      },
      "source": [
        "<a href=\"https://colab.research.google.com/github/ChristophRaab/Smart-VHB-Python-3/blob/main/Python_3_U%CC%88bung_Lambda_Ausdru%CC%88cke.ipynb\" target=\"_parent\"><img src=\"https://colab.research.google.com/assets/colab-badge.svg\" alt=\"Open In Colab\"/></a>"
      ]
    },
    {
      "cell_type": "markdown",
      "metadata": {
        "id": "4uSphdzOOOYF"
      },
      "source": [
        "# Übungen Python 3 Lambda Ausdrücke"
      ],
      "id": "4uSphdzOOOYF"
    },
    {
      "cell_type": "markdown",
      "metadata": {
        "id": "3bdvgzYlOOYH"
      },
      "source": [
        "Diese Präsentation ist ein Jupyter Notebook. Mit Jupyter-Notebooks können gewöhnliche Präsentation-Slides und Code kombiniert dargestellt werden. Eine Code-Slide erkennen Sie an ```In [Zahl]:``` und ```Out[Zahl]:```. Dabei bezeichnet ```In``` den verwendeten Code und ```Out``` die Ausgabe dessen. Achten Sie auf ```#``` Symbole für weitere Informationen."
      ],
      "id": "3bdvgzYlOOYH"
    },
    {
      "cell_type": "markdown",
      "metadata": {
        "id": "YlhaE1t5OOYI"
      },
      "source": [
        "## Übung 1:\n",
        "Implementieren Sie eine Lambda Expression, sodass die n-th Wurzel berechnet wird. Wird der Lambda Expression für das Wurzel ziehen nur eine Zahl, aber keinen Grad, soll der Wert 2 verwendet werden.\n"
      ],
      "id": "YlhaE1t5OOYI"
    },
    {
      "cell_type": "code",
      "metadata": {
        "id": "ZDfjDvFTOOYI"
      },
      "source": [
        "# Ihre Lösung"
      ],
      "id": "ZDfjDvFTOOYI",
      "execution_count": null,
      "outputs": []
    },
    {
      "cell_type": "code",
      "metadata": {
        "id": "sA7aNsPtOOYJ",
        "outputId": "e3189be8-056b-4a69-f99f-33210fc3ad90"
      },
      "source": [
        "# Unsere Lösung\n",
        "import math\n",
        "nthsqrt = lambda x,n=2 : x**(1/n)\n",
        "print(nthsqrt(2,3)) # Mit übergrade des Wurzelgrads\n",
        "print(nthsqrt(2)) # Standardwert 2 \n",
        "print(nthsqrt(2,2)) # Überprüfen ob Standardwert richtig."
      ],
      "id": "sA7aNsPtOOYJ",
      "execution_count": null,
      "outputs": [
        {
          "name": "stdout",
          "output_type": "stream",
          "text": [
            "1.2599210498948732\n",
            "1.4142135623730951\n",
            "1.4142135623730951\n"
          ]
        }
      ]
    },
    {
      "cell_type": "markdown",
      "metadata": {
        "id": "xZTlYBwBOOYK"
      },
      "source": [
        "## Übung 2:\n",
        "Implementieren Sie einen Lambda Ausdruck mit einem Standardfunktionsargument x = 2 und beliebig viele weitere Argumente. Die Funktion soll den Logarithmus zur Basis x für alle weiteren Argumente berechnen und als Liste zurückgeben. "
      ],
      "id": "xZTlYBwBOOYK"
    },
    {
      "cell_type": "code",
      "metadata": {
        "id": "3W82YYjcOOYK"
      },
      "source": [
        "# Ihre Lösung"
      ],
      "id": "3W82YYjcOOYK",
      "execution_count": null,
      "outputs": []
    },
    {
      "cell_type": "code",
      "metadata": {
        "id": "SMHXEJDlOOYK",
        "outputId": "98dc5c9d-a8c4-41a2-8f01-dd305b5357fa"
      },
      "source": [
        "# Unsere Lösung\n",
        "import math\n",
        "# Liste wird mit der sogenannten List Comprehension erstellt.\n",
        "nthlog = lambda *args,x=2: [math.log(i,x) for i in args ]\n",
        "numbers = range(1,11)\n",
        "print(nthlog(1,2,3,5,6,x=2))\n",
        "print(nthlog(1,2,3,5,6))\n",
        "print(nthlog(1,2,3,5,6,x=4))"
      ],
      "id": "SMHXEJDlOOYK",
      "execution_count": null,
      "outputs": [
        {
          "name": "stdout",
          "output_type": "stream",
          "text": [
            "[0.0, 1.0, 1.5849625007211563, 2.321928094887362, 2.584962500721156]\n",
            "[0.0, 1.0, 1.5849625007211563, 2.321928094887362, 2.584962500721156]\n",
            "[0.0, 0.5, 0.7924812503605781, 1.160964047443681, 1.292481250360578]\n"
          ]
        }
      ]
    },
    {
      "cell_type": "markdown",
      "metadata": {
        "id": "gHCcx36YOOYL"
      },
      "source": [
        "## Übung 3:\n",
        "\n",
        "Filtern Sie alle Primzahlen aus einer Liste von 2 bis 100 über Lambda und Built-In Funktionen. Das Ergebnis soll eine Liste mit allen Primzahlen im Zahlenbereich sein. "
      ],
      "id": "gHCcx36YOOYL"
    },
    {
      "cell_type": "code",
      "metadata": {
        "id": "pMDS7AN_OOYL"
      },
      "source": [
        "\n",
        "# Ihre Lösung"
      ],
      "id": "pMDS7AN_OOYL",
      "execution_count": null,
      "outputs": []
    },
    {
      "cell_type": "code",
      "metadata": {
        "id": "EPUYj7gaOOYM",
        "outputId": "10346c6f-f1a5-446e-eb12-2c668ebf9e30"
      },
      "source": [
        "is_prime = lambda x: all( x%i != 0 for i in range(2, x ))\n",
        "# all() ist eine Built-In Funktion die True zurück gibt,\n",
        "# wenn alle übergebenen Objekte True (1) sind ansonsten False.\n",
        "# Das heißt, wenn x%i == 0 ist die Bedingung für eine Primezahl \n",
        "# NICHT erfüllt. \n",
        "number = range(2,101) # Definiere Zahlenbereich\n",
        "\n",
        "print(list(filter(is_prime,number)))"
      ],
      "id": "EPUYj7gaOOYM",
      "execution_count": null,
      "outputs": [
        {
          "name": "stdout",
          "output_type": "stream",
          "text": [
            "[2, 3, 5, 7, 11, 13, 17, 19, 23, 29, 31, 37, 41, 43, 47, 53, 59, 61, 67, 71, 73, 79, 83, 89, 97]\n"
          ]
        }
      ]
    }
  ]
}