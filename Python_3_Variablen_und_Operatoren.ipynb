{
  "nbformat": 4,
  "nbformat_minor": 5,
  "metadata": {
    "celltoolbar": "Slideshow",
    "interpreter": {
      "hash": "e16839f294d4c0c3a950d69e469040cf54ee0fe2b9ac54c836cd69dce56f946f"
    },
    "kernelspec": {
      "name": "python3",
      "display_name": "Python 3.7.11 64-bit ('thesis': conda)"
    },
    "language_info": {
      "codemirror_mode": {
        "name": "ipython",
        "version": 3
      },
      "file_extension": ".py",
      "mimetype": "text/x-python",
      "name": "python",
      "nbconvert_exporter": "python",
      "pygments_lexer": "ipython3",
      "version": "3.7.11"
    },
    "colab": {
      "name": "Python_3_Variablen_und_Operatoren.ipynb",
      "provenance": [],
      "include_colab_link": true
    }
  },
  "cells": [
    {
      "cell_type": "markdown",
      "metadata": {
        "id": "view-in-github",
        "colab_type": "text"
      },
      "source": [
        "<a href=\"https://colab.research.google.com/github/ChristophRaab/Smart-VHB-Python-3/blob/main/Python_3_Variablen_und_Operatoren.ipynb\" target=\"_parent\"><img src=\"https://colab.research.google.com/assets/colab-badge.svg\" alt=\"Open In Colab\"/></a>"
      ]
    },
    {
      "cell_type": "markdown",
      "metadata": {
        "id": "LqYqJtGlMQjU"
      },
      "source": [
        "# Python 3 Variablen und Operatoren "
      ],
      "id": "LqYqJtGlMQjU"
    },
    {
      "cell_type": "markdown",
      "metadata": {
        "id": "613tsAxMMQjV"
      },
      "source": [
        "Diese Präsentation ist ein Jupyter Notebook. Mit Jupyter-Notebooks können gewöhnliche Präsentation-Slides und Code kombiniert dargestellt werden. Eine Code-Slide erkennen Sie an ```In [Zahl]:``` und ```Out[Zahl]:```. Dabei bezeichnet ```In``` den verwendeten Code und ```Out``` die Ausgabe dessen. Achten Sie auf ```#``` Symbole für weitere Informationen.\n"
      ],
      "id": "613tsAxMMQjV"
    },
    {
      "cell_type": "markdown",
      "metadata": {
        "id": "fwTwK0sMMQjX"
      },
      "source": [
        "\n",
        "## Lernziele\n",
        "- Die verschiedenen Variablentypen und Operatoren können benannt werden.\n",
        "- Zuweisung von Werten können durchgeführt werden.\n",
        "- Einfache Berechnungen können umgesetzt werden.\n",
        "- Im Kurs besprochene Manipulationen der Variablen ist anwendbar. \n",
        "- Funktionen können definiert und implementiert werden"
      ],
      "id": "fwTwK0sMMQjX"
    },
    {
      "cell_type": "markdown",
      "metadata": {
        "id": "n57EUGG6MQjX"
      },
      "source": [
        "## Vorkenntnisse \n",
        "- Grundlagen in Mathematik \n",
        "- Keine weiteren Python Kenntnisse"
      ],
      "id": "n57EUGG6MQjX"
    },
    {
      "cell_type": "markdown",
      "metadata": {
        "id": "oHZJHDOhMQjX"
      },
      "source": [
        "## Zielgruppe\n",
        "- Studierende in Naturwissenschaftlichen\n",
        "- Studierende in Ingenieurstudiengängen \n",
        "- Studierende mit anderweitigem naturwissenschaftlichen/technischen Hintergrund\n",
        "- Studierende mit ersten Erfahrungen in anderen Programmiersprachen"
      ],
      "id": "oHZJHDOhMQjX"
    },
    {
      "cell_type": "markdown",
      "metadata": {
        "id": "g6IF9pX5MQjY"
      },
      "source": [
        "## Aufbau\n",
        "- Variablen\n",
        "- Operatoren \n",
        "- Import Statements\n",
        "- Irrationale Zahlen als Variablen\n",
        "- Funktionen\n",
        "- Strings "
      ],
      "id": "g6IF9pX5MQjY"
    },
    {
      "cell_type": "markdown",
      "metadata": {
        "id": "s1_B86x1MQjY"
      },
      "source": [
        "## Variablen\n",
        "- Variablen speichern Informationen welche durch fest zugewiesene Namen wieder aufrufbar sind. \n",
        "- Diese Information kann beispielsweise sein:\n",
        "    - Zahlen\n",
        "    - Wörter, Buchstaben, Sätze\n",
        "    - Datum\n",
        "    - Wahr/Falsch-Ausdrücke\n",
        "    - Referenz auf eine andere Variable (Nicht behandelt)\n",
        "- Der Inhalt einer Variable entscheidet den (Daten)-Typ einer Variable. \n",
        "- Jede Variable besitzt einen eindeutigen Namen.\n",
        "- Es ist nicht möglich zwei Variablen mit gleichen Namen zu initialisieren."
      ],
      "id": "s1_B86x1MQjY"
    },
    {
      "cell_type": "markdown",
      "metadata": {
        "id": "j-0D64vaMQjY"
      },
      "source": [
        "## Grundsätzliches \n",
        "In der Sprache Python ist jede Zeile eine für sich eigenständige Codezeile. Das heißt jede geschriebene Linie wird als Code interpretiert und ausgeführt. \n",
        "Um mehrere Variablen zu initialisieren wird dementsprechend für jede Variable eine Zeile verwendet.  "
      ],
      "id": "j-0D64vaMQjY"
    },
    {
      "cell_type": "code",
      "metadata": {
        "id": "uv6cSOnvMQjY",
        "outputId": "3fb5a1fb-f070-41b0-97f4-8308fa8abe2c"
      },
      "source": [
        "# Jede Zeile enthält Code. Python wird zeilenweise Programmiert.\n",
        "# Das heißt jede Zeile ist ausführbar mit Ausnahme von Zeilen mit #.\n",
        "# Diese sind Kommentare und bieten weitere Informationen zum Programm.  \n",
        "x = 5  # Eine Code Zeile. Die Variable x mit Wert 5 wird initialisiert.\n",
        "print(x) # print() ist eine sogenannte Ausgabefunktion.\n",
        "x # Am Ende einer Zelle"
      ],
      "id": "uv6cSOnvMQjY",
      "execution_count": null,
      "outputs": [
        {
          "output_type": "stream",
          "name": "stdout",
          "text": [
            "5\n"
          ]
        },
        {
          "output_type": "execute_result",
          "data": {
            "text/plain": [
              "5"
            ]
          },
          "metadata": {
            "slideshow": {
              "slide_type": "slide"
            }
          },
          "execution_count": 1
        }
      ]
    },
    {
      "cell_type": "markdown",
      "metadata": {
        "id": "AVt_MjJhMQja"
      },
      "source": [
        "## Datentypen \n",
        "Jede Variable besitzt nach der Zuweisung einer Information einen Datentyp. Dieser Datentyp wird vom Compiler festgelegt. Der Typ bestimmt wie die Variable verwendet werden kann. "
      ],
      "id": "AVt_MjJhMQja"
    },
    {
      "cell_type": "code",
      "metadata": {
        "id": "EWc2qitlMQja"
      },
      "source": [
        "# Beispiele von Variablen und deren Datentyp\n",
        "x = 5 # Integer\n",
        "buchstabe = \"c\" # String\n",
        "wort = \"Apfel\" # String\n",
        "satz = \"Das Wetter ist heute schön!\" # String\n",
        "wahr = True # Boolean Wahr\n",
        "falsch = False # Boolean Falsch"
      ],
      "id": "EWc2qitlMQja",
      "execution_count": null,
      "outputs": []
    },
    {
      "cell_type": "code",
      "metadata": {
        "id": "AMKI2mMOMQjb",
        "outputId": "e117f489-2c92-41d9-8e80-3c13131cc7c2"
      },
      "source": [
        "# Nachweis von Datentypen der Variablen\n",
        "x = 5 \n",
        "y = 3.4 # Wir initialisieren zwei Variablen.\n",
        "type_x = type(x) # type() Funktion liefert den Datentyp\n",
        "type_y = type(y) \n",
        "print(type_x,type_y) # Funktionen können\n",
        "# geschachtelt werden. "
      ],
      "id": "AMKI2mMOMQjb",
      "execution_count": null,
      "outputs": [
        {
          "output_type": "stream",
          "name": "stdout",
          "text": [
            "<class 'int'> <class 'float'>\n"
          ]
        }
      ]
    },
    {
      "cell_type": "markdown",
      "metadata": {
        "id": "VUM488DlMQjb"
      },
      "source": [
        "## Shortcuts\n",
        "Anders als in anderen Programmiersprachen können in Python mehrere Variablen gleichzeitig initialisiert werden. "
      ],
      "id": "VUM488DlMQjb"
    },
    {
      "cell_type": "code",
      "metadata": {
        "id": "inNgEhGjMQjb",
        "outputId": "c844c4fa-a4ed-484d-e3a0-c5e774da044b"
      },
      "source": [
        "# Shortcuts \n",
        "a,b = 3,4 # Unterschiedliche Werte für zwei Variablen\n",
        "print(a,b)\n",
        "a = b = 2 # Alle haben den Wert 2 \n",
        "print(a,b)"
      ],
      "id": "inNgEhGjMQjb",
      "execution_count": null,
      "outputs": [
        {
          "output_type": "stream",
          "name": "stdout",
          "text": [
            "3 4\n",
            "2 2\n"
          ]
        }
      ]
    },
    {
      "cell_type": "code",
      "metadata": {
        "id": "TZj85Ws0MQjb",
        "outputId": "6192c5fd-d315-4b82-a8b6-7b8a56fa9b06"
      },
      "source": [
        "# Darstellung von Floats\n",
        "x = 1.3 \n",
        "y = 1.6e10 # 1.6^10\n",
        "z = 1.0e-10 # 0.1\n",
        "print(x,y,z)"
      ],
      "id": "TZj85Ws0MQjb",
      "execution_count": null,
      "outputs": [
        {
          "output_type": "stream",
          "name": "stdout",
          "text": [
            "1.3 16000000000.0 1e-10\n"
          ]
        }
      ]
    },
    {
      "cell_type": "markdown",
      "metadata": {
        "id": "CL2iV92CMQjc"
      },
      "source": [
        "## Operatoren für Zahlen\n",
        "- Durch Operatoren können die Informationen der Variablen bearbeitet werden.\n",
        "- Fast alle mathematischen Operatoren sind standartmäßig in Python vorhanden.\n"
      ],
      "id": "CL2iV92CMQjc"
    },
    {
      "cell_type": "code",
      "metadata": {
        "id": "wMxKMBW5MQjc",
        "outputId": "7ac63b9f-574b-49fb-e842-004b20caba55"
      },
      "source": [
        " a,b = 3, 8\n",
        " c = a + b # Plus operation\n",
        " print(c) \n",
        " print( a - b) # Minus \n",
        " print( a % b) # Modulo Operator\n",
        " print( a**b) # a hoch b \n",
        " print( a / b) # a geteilt durch b"
      ],
      "id": "wMxKMBW5MQjc",
      "execution_count": null,
      "outputs": [
        {
          "output_type": "stream",
          "name": "stdout",
          "text": [
            "11\n",
            "-5\n",
            "3\n",
            "6561\n",
            "0.375\n"
          ]
        }
      ]
    },
    {
      "cell_type": "markdown",
      "metadata": {
        "id": "9p1oAIzZMQjc"
      },
      "source": [
        "## Imports\n",
        "Ein standard Python-Programm bietet nur eine sehr begrenzte Auswahl an Funktionen und Operatoren an. Beispielsweise die print() Funktion. Durch das importieren von zusätzlichen Modulen lässt sich der Funktionsumfang erweitern und zusätzliche Variablen einführen. Ein Modul bezeichnet eine selbständige Python-Datei (.py), die Variablen, Operatoren und Funktionen definiert. "
      ],
      "id": "9p1oAIzZMQjc"
    },
    {
      "cell_type": "code",
      "metadata": {
        "id": "VTbV8AOkMQjd",
        "outputId": "ec31ec37-80e6-4274-e350-8c027e87d3e2"
      },
      "source": [
        "import math # \n",
        "print(math.pi) # Gibt die Zahl Pi aus die wir durch \n",
        "# den Import vom Modul Math unserem Programm verfügbar machen."
      ],
      "id": "VTbV8AOkMQjd",
      "execution_count": null,
      "outputs": [
        {
          "output_type": "stream",
          "name": "stdout",
          "text": [
            "3.141592653589793\n"
          ]
        }
      ]
    },
    {
      "cell_type": "markdown",
      "metadata": {
        "id": "r8HZfzOkMQjd"
      },
      "source": [
        "## Irrationalle Zahlen\n",
        "- Irrationalle Zahlen stehen nicht regulär zur Verfügung.\n",
        "- Um diese nutzen zu können müssen wir Sie in das Programm importieren.\n",
        "- Das Modul \"math\" bietet eine Vielzahl von mathematischen Funktionen und Ausdrücken\n",
        "- Durch das \"import\" Statement können zusätzliche Funktionen und Variablen in den Progamm-Code importiert werden  "
      ],
      "id": "r8HZfzOkMQjd"
    },
    {
      "cell_type": "code",
      "metadata": {
        "id": "CZ6cR9fOMQjd",
        "outputId": "61607eef-30cd-4eb0-c862-f353cf435633"
      },
      "source": [
        "import math \n",
        "# Importieren von mathematischen Funktionen in das Program\n",
        "# Ab jetzt können Sie \"math\" benutzen \n",
        "\n",
        "pi = math.pi # Variable mit irrationaler Zahl\n",
        "print(pi) # Ausgabe \n",
        "neg = -5 # Negativer Integer\n",
        "pos = abs(neg) # Absoluter Wert der Variable \n",
        "print(pos)\n",
        "print(math.sin(0.5)) # Sinusfunktion an der Stelle 0.5"
      ],
      "id": "CZ6cR9fOMQjd",
      "execution_count": null,
      "outputs": [
        {
          "output_type": "stream",
          "name": "stdout",
          "text": [
            "3.141592653589793\n",
            "5\n",
            "0.479425538604203\n"
          ]
        }
      ]
    },
    {
      "cell_type": "code",
      "metadata": {
        "id": "6OWE_EGTMQje",
        "outputId": "f78d1b99-a354-4d11-9f6d-e0e3cb6b3d8d"
      },
      "source": [
        "# Komplexe Zahlen \n",
        "z = 3+4j # Reeller Anteil gleich 3 und imaginärer is 4\n",
        "print(z) # Ausgabe von z \n",
        "\n",
        "z2 = complex(3,4) # Alternative Art der Variablenerstellung\n",
        "print(z == z2) # Vergleich über Äquivalenz operator"
      ],
      "id": "6OWE_EGTMQje",
      "execution_count": null,
      "outputs": [
        {
          "output_type": "stream",
          "name": "stdout",
          "text": [
            "(3+4j)\n",
            "True\n"
          ]
        }
      ]
    },
    {
      "cell_type": "code",
      "metadata": {
        "id": "l0d9u8PCMQje",
        "outputId": "549d0d8a-80de-42d9-bb47-1c55dbb4fef8"
      },
      "source": [
        "import math # Funktionen für nicht reelle Zahlen\n",
        "import cmath # Funktionen für komplexe Zahlen\n",
        "\n",
        "# Funktionen für komplexe Zahlen\n",
        "z = 3+4j\n",
        "print(abs(z)) # Abs-Funktion ist übergreifend\n",
        "def complex_abs(z): # Test zur übereinstimmung\n",
        "    # Eigene Implementierung von einer Funktion\n",
        "    result = math.sqrt( z.real**2 + z.imag**2) #  Schachtelung von sqrt()-Funktion und ** Operator\n",
        "    return result\n",
        "print(complex_abs(z))\n",
        "print(complex_abs(z) == abs(z))\n"
      ],
      "id": "l0d9u8PCMQje",
      "execution_count": null,
      "outputs": [
        {
          "output_type": "stream",
          "name": "stdout",
          "text": [
            "5.0\n",
            "5.0\n",
            "True\n"
          ]
        }
      ]
    },
    {
      "cell_type": "markdown",
      "metadata": {
        "id": "_x7sU7yoMQje"
      },
      "source": [
        "## Funtionen \n",
        "- Bisherige Funktionen: print(),abs(),type() und die gerade erstelle comlex_abs()\n",
        "- Funktionen enthalten Programmlogik.\n",
        "- Beispiel sind Berechnungen oder Prozesse.\n",
        "- Funktionen können ein oder mehrere Eingaben haben.\n",
        "    - Dabei können diese optional oder erforderlich sein.\n",
        "- Funktionen können eine oder mehrere Ausgaben haben.\n",
        "    - Diese sind allerdings bei Implementierung festzulegen.\n",
        "- print() ist eine Beispiel für eine Funktion mit mehreren Eingaben. \n",
        " "
      ],
      "id": "_x7sU7yoMQje"
    },
    {
      "cell_type": "code",
      "metadata": {
        "id": "qhpZF9F-MQje",
        "outputId": "f9375b66-06f4-4e61-d762-457f4b11dba4"
      },
      "source": [
        "# Beispiel einer Funktion f(x) = x * x \n",
        "\n",
        "def square(x): # Definieren einer Funktion mit Eingabe-Argument\n",
        "    # Name beliebig\n",
        "    result = x * x # Funktionslogik\n",
        "    return result # Ausgabe der Funktion\n",
        "x = 2 \n",
        "square(2)"
      ],
      "id": "qhpZF9F-MQje",
      "execution_count": null,
      "outputs": [
        {
          "output_type": "execute_result",
          "data": {
            "text/plain": [
              "4"
            ]
          },
          "metadata": {
            "slideshow": {
              "slide_type": "slide"
            }
          },
          "execution_count": 11
        }
      ]
    },
    {
      "cell_type": "code",
      "metadata": {
        "id": "3lRlaxUSMQje",
        "outputId": "40b18b7f-eb60-4546-c477-47690e575e28"
      },
      "source": [
        "# Beispiel mit zwei Eingaben: f(x,n) = x^n \n",
        "import math\n",
        "def convert(x,n=2): # Standartwert für n ist 2\n",
        "    result = math.pow(x,n) # Verwenden einer bereits importierten Funktion\n",
        "    print(result) # Keine Funktionsausgabe sondern \n",
        "                  # endet mit einer Print-Funktion.\n",
        "x,n = 2,4\n",
        "convert(x,n) # Üblich auch in anderen Programmiersprachen\n",
        "convert(x) # Optionale Parameter durch Standartwert"
      ],
      "id": "3lRlaxUSMQje",
      "execution_count": null,
      "outputs": [
        {
          "output_type": "stream",
          "name": "stdout",
          "text": [
            "16.0\n",
            "4.0\n"
          ]
        }
      ]
    },
    {
      "cell_type": "markdown",
      "metadata": {
        "id": "aD38noloMQje"
      },
      "source": [
        "## String und Characters\n",
        "- Einzelne Buchstaben, Wörter oder Sätze sind Strings.\n",
        "- Anders als in anderen Programmiersprachen gibt es den Datentypen Character nicht.\n",
        "- ABER: Jeder String ist eine abfolge von aneinandergereihten Buchstaben. \n",
        "- Auf diese Buchstaben kann zugegriffen werden."
      ],
      "id": "aD38noloMQje"
    },
    {
      "cell_type": "code",
      "metadata": {
        "id": "v2cIFEmzMQje",
        "outputId": "cd1203ff-b27a-447b-f2bb-56346be5dd8a"
      },
      "source": [
        "# Beide Variablen sind Strings\n",
        "buchstabe = \"a\"\n",
        "wort = \"apfel\"\n",
        "\n",
        "type_wort = type(wort) # type() Funktion liefert den Datentyp\n",
        "type_buchstabe = type(buchstabe)\n",
        "print(type_wort)\n",
        "print(type_buchstabe)"
      ],
      "id": "v2cIFEmzMQje",
      "execution_count": null,
      "outputs": [
        {
          "output_type": "stream",
          "name": "stdout",
          "text": [
            "<class 'str'>\n",
            "<class 'str'>\n"
          ]
        }
      ]
    },
    {
      "cell_type": "markdown",
      "metadata": {
        "id": "cTvbMdf0MQjf"
      },
      "source": [
        "## String Operatoren\n",
        "- String können durch Operatoren Manipuliert werden, beispielsweise\n",
        "    - können weiter Zeichen hinzugefügt oder wiederholt werden,\n",
        "    - Zeichen in einem String gesucht werden,\n",
        "    - Sonderzeichen und Zahlen hinzugefügt werden\n",
        "- Sonderzeichen müssen encoded werden, um innerhalb eines String eingesetzt zu werden.\n",
        "    - Dies ist notwendig da Sonderzeichen, wie beispielsweise % Programmlogik kapseln\n",
        "    - Um diese Logik nicht auszuführen sonder das Zeichen als solches zu verwenden, muss es daher encoded werden. "
      ],
      "id": "cTvbMdf0MQjf"
    },
    {
      "cell_type": "code",
      "metadata": {
        "id": "vBy3fjc5MQjf",
        "outputId": "204d882a-81a6-494d-fe10-247dd728e077"
      },
      "source": [
        "satz1 = \"Äpfel oder \\'Apples\\'\"\n",
        "satz2 = \"und Birnen oder \\'pear\\'.\"\n",
        "print(satz1) # Einfache Ausgabe\n",
        "print( satz1 + satz2 ) # Satz 2 an Satz 1 ausgehängt\n",
        "print(satz1*2) # Satz1 zwei mal "
      ],
      "id": "vBy3fjc5MQjf",
      "execution_count": null,
      "outputs": [
        {
          "output_type": "stream",
          "name": "stdout",
          "text": [
            "Äpfel oder 'Apples'\n",
            "Äpfel oder 'Apples'und Birnen oder 'pear'.\n",
            "Äpfel oder 'Apples'Äpfel oder 'Apples'\n"
          ]
        }
      ]
    },
    {
      "cell_type": "code",
      "metadata": {
        "id": "RaJzvG8CMQjf",
        "outputId": "988bf595-371f-4465-bfc3-143ebadec273"
      },
      "source": [
        "# Buchstabe und Wörter in Strings suchen \n",
        "satz = \"Äpfel und Birnen\"\n",
        "suchwort = \"Birne\"\n",
        "print( suchwort in satz) # \"in\" Operator für das suchen von String in String\n",
        "# Ausgabe ist Boolean True, d. h. das suchwort ist im Satz "
      ],
      "id": "RaJzvG8CMQjf",
      "execution_count": null,
      "outputs": [
        {
          "output_type": "stream",
          "name": "stdout",
          "text": [
            "True\n"
          ]
        }
      ]
    },
    {
      "cell_type": "code",
      "metadata": {
        "id": "OHHHc08bMQjf",
        "outputId": "8fa99913-0d1f-453c-8269-b3a770e4087c"
      },
      "source": [
        "# Zugriff auf einzelne Elemente im String\n",
        "\n",
        "satz = \"Äpfel und Birnen\"\n",
        "\n",
        "print(satz[0:5]) # [] Slice Operator,\n",
        "# d. h. Zugriff auf ein einzelnes Element \n",
        "# oder mehrere, mit 0 als erstes Element\n",
        "# Die Position eines Element ist sein Index\n",
        "# \":\" ist von index 0 bis index 5"
      ],
      "id": "OHHHc08bMQjf",
      "execution_count": null,
      "outputs": [
        {
          "output_type": "stream",
          "name": "stdout",
          "text": [
            "Äpfel\n"
          ]
        }
      ]
    },
    {
      "cell_type": "code",
      "metadata": {
        "id": "OzxloqvOMQjf",
        "outputId": "db7c906a-8538-4844-ce45-a90344a365bc"
      },
      "source": [
        "# Wichtige Slice Index Befehle\n",
        "satz = \"Äpfel und Birnen\"\n",
        "print(satz[0]) # Index 0: Erstes Element\n",
        "print(satz[-1]) # Index -1: Letzes Elemtn\n",
        "print(satz[0:3]) # Index 0 bis Index 3\n",
        "print(satz[-3:]) # Drittletzer Index bis Ende\n"
      ],
      "id": "OzxloqvOMQjf",
      "execution_count": null,
      "outputs": [
        {
          "output_type": "stream",
          "name": "stdout",
          "text": [
            "Ä\n",
            "n\n",
            "Äpf\n",
            "nen\n"
          ]
        }
      ]
    },
    {
      "cell_type": "markdown",
      "metadata": {
        "id": "Z7DTSq6wMQjf"
      },
      "source": [
        "## String Funktionen\n",
        "- Neben Operatoren haben Strings auch Funktionen.\n",
        "- Diese beinhalten komplexere Logik wie, z. B.:\n",
        "- Ersetzen, Zeichen Zählen, Alles kleine oder große Symbole.\n",
        "\n",
        "\n",
        "\n"
      ],
      "id": "Z7DTSq6wMQjf"
    },
    {
      "cell_type": "code",
      "metadata": {
        "id": "CqvfxM3JMQjg",
        "outputId": "fd7adb61-3064-477b-f364-9e2029b1d66b"
      },
      "source": [
        "satz = \"Äpfel und Birnen\"\n",
        "satz = satz.replace(\"Birnen\",\"Bananen\") \n",
        "#Suche den String Birnen und erstze mit Bananan\n",
        "print(satz)\n",
        "\n",
        "print(satz.lower()) # Alles klein "
      ],
      "id": "CqvfxM3JMQjg",
      "execution_count": null,
      "outputs": [
        {
          "output_type": "stream",
          "name": "stdout",
          "text": [
            "Äpfel und Bananen\n",
            "äpfel und bananen\n"
          ]
        }
      ]
    },
    {
      "cell_type": "markdown",
      "metadata": {
        "id": "SoDg-OJ2MQjg"
      },
      "source": [
        "## Booleans\n",
        "- Binärer Datentyp mit True oder Falsch\n",
        "- Meist genutzt in Kontrollstrukturen"
      ],
      "id": "SoDg-OJ2MQjg"
    },
    {
      "cell_type": "code",
      "metadata": {
        "id": "V3DYiB1cMQjg",
        "outputId": "9615757b-19da-476f-98a1-ea2d1b686686"
      },
      "source": [
        "a = True\n",
        "b = False\n",
        "print(a,b)\n",
        "print(type(a),type(b))"
      ],
      "id": "V3DYiB1cMQjg",
      "execution_count": null,
      "outputs": [
        {
          "output_type": "stream",
          "name": "stdout",
          "text": [
            "True False\n",
            "<class 'bool'> <class 'bool'>\n"
          ]
        }
      ]
    },
    {
      "cell_type": "code",
      "metadata": {
        "id": "cQjI7ASBMQjg",
        "outputId": "d303e023-cd37-4d52-d1a7-7578460baf5e"
      },
      "source": [
        "# Operatoren auf Booleans folgen dem Prinzip der Aussagenlogik \n",
        "a,b,c = True, False,True\n",
        "\n",
        "print(a or b) # OR Operator: Wahr, wenn a oder b wahr.\n",
        "print(a and b) # AND Operator: Wahr, wenn a und b wahr.\n",
        "print(a == b) # EQ Operator: Wahr, wenn a und b gleich.\n",
        "print(a != b) # NEQ Operator: Wahr, wenn a oder b ungleich.\n",
        "print(not a and b) # NOT Operator: Negiere Variable\n",
        "print((a and c ) or b) # Verbschachtelung\n"
      ],
      "id": "cQjI7ASBMQjg",
      "execution_count": null,
      "outputs": [
        {
          "output_type": "stream",
          "name": "stdout",
          "text": [
            "True\n",
            "False\n",
            "False\n",
            "True\n",
            "False\n",
            "True\n"
          ]
        }
      ]
    },
    {
      "cell_type": "code",
      "metadata": {
        "id": "jW05MlMiMQjg",
        "outputId": "b07301ed-2b1d-4c53-ab43-70aba5dcb7e5"
      },
      "source": [
        "%%html<script>var code_show=!1;function code_toggle(){var e,d;code_show?(null!=(e=document.getElementsByClassName(\"jp-CodeMirrorEditor jp-Editor jp-InputArea-editor\")[20])&&(e.style.display=\"\"),null!=(d=document.querySelector(\"div.cell.code_cell.rendered.selected div.input\"))&&(d.style.display=\"\")):(null!=(e=document.getElementsByClassName(\"jp-CodeMirrorEditor jp-Editor jp-InputArea-editor\")[20])&&(e.style.display=\"none\"),null!=(d=document.querySelector(\"div.cell.code_cell.rendered.selected div.input\"))&&(d.style.display=\"none\"));code_show=!code_show}code_toggle();</script>Zum Anzeigen des verwendeten Javascript klicken Sie <a onClick=\"code_toggle(); return false;\" >hier</a>.<center><h1>Single Choice Fragen</h1></center><p><form name=\"quiz\"><p><b>Frage 1.<br>Welche der folgenden Aussagen stimmt über Funktionen?<br></b><blockquote><input type=\"radio\" name=\"q1\" value=\"first\">Funktionen können mehrere Eingaben und Ausgaben haben.<br><input type=\"radio\" name=\"q1\" value=\"second\">Funktionen können eine Ein- und Ausgabe haben.<br><input type=\"radio\" name=\"q1\" value=\"third\">Funktionen können eine Eingaben und optionale Ausgaben haben.<br></blockquote><p><b><hr>Frage 2.<br>Welcher Befehl erlaubt das Zugreifen auf die letzten fünf Zeichen von einer Stringvariable genannt \"satz\" ?<br></b><blockquote><input type=\"radio\" name=\"q2\" value=\"first\">satz[-5:]<br><input type=\"radio\" name=\"q2\" value=\"second\">satz[5:]<br><input type=\"radio\" name=\"q2\" value=\"thrid\">satz.get(5}<br></blockquote><p><b><hr><input type=\"button\"value=\"Einreichen\"onClick=\"getScore(this.form);\"><input type=\"reset\" value=\"Auswahl löschen\"><p>Von 2 Fragen sind richtig: <input type=text size 15 name=\"mark\"> Genauigkeit=<input type=text size=15 name=\"percentage\"><br></form><p><form method=\"post\" name=\"Form\" onsubmit=\"\" action=\"\"></form></body><script>var numQues=2;var numChoi=3;var answers=new Array(numQues);answers[0]=\"first\";answers[1]=\"first\";function getScore(form){var score=0;var currElt;var currSelection;for (i=0; i<numQues; i++){currElt=i*numChoi;answered=false;for (j=0; j<numChoi; j++){currSelection=form.elements[currElt + j];if (currSelection.checked){answered=true;if (currSelection.value==answers[i]){score++;break;}}}if (answered===false){alert(\"Bitte alle Fragen beantworten!\") ;return false;}}var scoreper=Math.round(score/numQues*100);form.percentage.value=scoreper + \"%\";form.mark.value=score;}</script>"
      ],
      "id": "jW05MlMiMQjg",
      "execution_count": null,
      "outputs": [
        {
          "output_type": "display_data",
          "data": {
            "text/html": [
              "<script>var code_show=!1;function code_toggle(){var e,d;code_show?(null!=(e=document.getElementsByClassName(\"jp-CodeMirrorEditor jp-Editor jp-InputArea-editor\")[20])&&(e.style.display=\"\"),null!=(d=document.querySelector(\"div.cell.code_cell.rendered.selected div.input\"))&&(d.style.display=\"\")):(null!=(e=document.getElementsByClassName(\"jp-CodeMirrorEditor jp-Editor jp-InputArea-editor\")[20])&&(e.style.display=\"none\"),null!=(d=document.querySelector(\"div.cell.code_cell.rendered.selected div.input\"))&&(d.style.display=\"none\"));code_show=!code_show}code_toggle();</script>Zum Anzeigen des verwendeten Javascript klicken Sie <a onClick=\"code_toggle(); return false;\" >hier</a>.<center><h1>Single Choice Fragen</h1></center><p><form name=\"quiz\"><p><b>Frage 1.<br>Welche der folgenden Aussagen stimmt über Funktionen?<br></b><blockquote><input type=\"radio\" name=\"q1\" value=\"first\">Funktionen können mehrere Eingaben und Ausgaben haben.<br><input type=\"radio\" name=\"q1\" value=\"second\">Funktionen können eine Ein- und Ausgabe haben.<br><input type=\"radio\" name=\"q1\" value=\"third\">Funktionen können eine Eingaben und optionale Ausgaben haben.<br></blockquote><p><b><hr>Frage 2.<br>Welcher Befehl erlaubt das Zugreifen auf die letzten fünf Zeichen von einer Stringvariable genannt \"satz\" ?<br></b><blockquote><input type=\"radio\" name=\"q2\" value=\"first\">satz[-5:]<br><input type=\"radio\" name=\"q2\" value=\"second\">satz[5:]<br><input type=\"radio\" name=\"q2\" value=\"thrid\">satz.get(5}<br></blockquote><p><b><hr><input type=\"button\"value=\"Einreichen\"onClick=\"getScore(this.form);\"><input type=\"reset\" value=\"Auswahl löschen\"><p>Von 2 Fragen sind richtig: <input type=text size 15 name=\"mark\"> Genauigkeit=<input type=text size=15 name=\"percentage\"><br></form><p><form method=\"post\" name=\"Form\" onsubmit=\"\" action=\"\"></form></body><script>var numQues=2;var numChoi=3;var answers=new Array(numQues);answers[0]=\"first\";answers[1]=\"first\";function getScore(form){var score=0;var currElt;var currSelection;for (i=0; i<numQues; i++){currElt=i*numChoi;answered=false;for (j=0; j<numChoi; j++){currSelection=form.elements[currElt + j];if (currSelection.checked){answered=true;if (currSelection.value==answers[i]){score++;break;}}}if (answered===false){alert(\"Bitte alle Fragen beantworten!\") ;return false;}}var scoreper=Math.round(score/numQues*100);form.percentage.value=scoreper + \"%\";form.mark.value=score;}</script>\n"
            ],
            "text/plain": [
              "<IPython.core.display.HTML object>"
            ]
          },
          "metadata": {
            "slideshow": {
              "slide_type": "slide"
            }
          }
        }
      ]
    },
    {
      "cell_type": "markdown",
      "metadata": {
        "id": "JIvOFF20MQjh"
      },
      "source": [
        "# Zusammenfassung \n",
        "- Variablen speichern Informationen\n",
        "- Der Datentyp wird wenn nicht anders definiert impliziert zugewiesen. \n",
        "- Operatoren sind Kürzel für einfache Befehle.\n",
        "- Mit dem Import Statement wird das Programm durch ein Modul erweitert. \n",
        "- Funktionen enthalten Programmlogik, die entweder vorhanden, importiert oder selst implementiert werden kann. "
      ],
      "id": "JIvOFF20MQjh"
    },
    {
      "cell_type": "markdown",
      "metadata": {
        "id": "DhuvdS8TMQjh"
      },
      "source": [
        "## Quellen und Weiterführendes\n",
        "- https://docs.python.org/3/tutorial/introduction.html\n",
        "- https://docs.python.org/3/tutorial/controlflow.html#defining-functions \n",
        "- https://docs.python.org/3/library/stdtypes.html \n",
        "- https://docs.python.org/3/library/math.html  \n",
        "- https://docs.python.org/3/library/functions.html#complex \n",
        "- https://docs.python.org/3/reference/import.html\n",
        "-https://www.educba.com/string-operators-in-python/\n"
      ],
      "id": "DhuvdS8TMQjh"
    }
  ]
}