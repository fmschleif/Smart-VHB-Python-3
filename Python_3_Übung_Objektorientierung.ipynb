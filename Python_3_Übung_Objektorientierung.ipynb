{
  "nbformat": 4,
  "nbformat_minor": 5,
  "metadata": {
    "interpreter": {
      "hash": "b73d1a4536618e175e90ff685b834bc4473c0d15eefc412f5790ee72ebe09a54"
    },
    "kernelspec": {
      "display_name": "Python 3.7.11 64-bit ('thesis': conda)",
      "name": "python3"
    },
    "language_info": {
      "codemirror_mode": {
        "name": "ipython",
        "version": 3
      },
      "file_extension": ".py",
      "mimetype": "text/x-python",
      "name": "python",
      "nbconvert_exporter": "python",
      "pygments_lexer": "ipython3",
      "version": "3.7.11"
    },
    "colab": {
      "name": "Python_3_Übung_Objektorientierung.ipynb",
      "provenance": [],
      "include_colab_link": true
    }
  },
  "cells": [
    {
      "cell_type": "markdown",
      "metadata": {
        "id": "view-in-github",
        "colab_type": "text"
      },
      "source": [
        "<a href=\"https://colab.research.google.com/github/ChristophRaab/Smart-VHB-Python-3/blob/main/Python_3_U%CC%88bung_Objektorientierung.ipynb\" target=\"_parent\"><img src=\"https://colab.research.google.com/assets/colab-badge.svg\" alt=\"Open In Colab\"/></a>"
      ]
    },
    {
      "cell_type": "markdown",
      "metadata": {
        "id": "Jkh7IKgmJMvF"
      },
      "source": [
        "# Übungen Python 3 Objektorientierung"
      ],
      "id": "Jkh7IKgmJMvF"
    },
    {
      "cell_type": "markdown",
      "metadata": {
        "id": "bq_aTC58JMvH"
      },
      "source": [
        "Diese Präsentation ist ein Jupyter Notebook. Mit Jupyter-Notebooks können gewöhnliche Präsentation-Slides und Code kombiniert dargestellt werden. Eine Code-Slide erkennen Sie an ```In [Zahl]:``` und ```Out[Zahl]:```. Dabei bezeichnet ```In``` den verwendeten Code und ```Out``` die Ausgabe dessen. Achten Sie auf ```#``` Symbole für weitere Informationen."
      ],
      "id": "bq_aTC58JMvH"
    },
    {
      "cell_type": "markdown",
      "metadata": {
        "id": "Png58ikHJMvI"
      },
      "source": [
        "# Übung 1:\n",
        "Erstellen Sie ein Klasse Reelle Zahl. Und implementieren Sie die Klassenattribute Zahlenwert und die Funktionen nte-Wurzel und berechne nte-Potenz. Testen Sie die beiden Funktionen."
      ],
      "id": "Png58ikHJMvI"
    },
    {
      "cell_type": "code",
      "metadata": {
        "id": "21moxckAJMvI"
      },
      "source": [
        "# Ihre Lösung"
      ],
      "id": "21moxckAJMvI",
      "execution_count": null,
      "outputs": []
    },
    {
      "cell_type": "code",
      "metadata": {
        "id": "Ap_P3-G5JMvJ",
        "outputId": "604377a4-23f1-46d0-fbd2-5e02070a8a39"
      },
      "source": [
        "# Unsere Lösung\n",
        "class RealNumber():\n",
        "    def __init__(self,value):\n",
        "        self.value = value\n",
        "\n",
        "    def nthsqrt(self,n):\n",
        "        return self.value ** (1/n)\n",
        "\n",
        "    def nthpow(self,n):\n",
        "        return self.value ** n\n",
        "\n",
        "number = RealNumber(5.5)\n",
        "print(number.nthpow(2), number.nthsqrt(2))\n"
      ],
      "id": "Ap_P3-G5JMvJ",
      "execution_count": null,
      "outputs": [
        {
          "name": "stdout",
          "output_type": "stream",
          "text": [
            "30.25 2.345207879911715\n"
          ]
        }
      ]
    },
    {
      "cell_type": "markdown",
      "metadata": {
        "id": "_YrkBB-5JMvK"
      },
      "source": [
        "## Übung 2:\n",
        "Erstellen Sie zwei Klassen: Ganze Zahlen und natürliche Zahlen. Lassen Sie die Klassen Reelle Zahlen, Ganze und natürliche Zahlen mathematisch sinnvoll voneinander erben. Des weiteren sollen in den beiden Neuen Klassen, jeweils eine Wert-Überprüfung bei der Objekt-Instanziierung vorgenommen werden. In einem Fehlerfall soll über `print` eine sinnvolle Fehlermeldung ausgegeben werden"
      ],
      "id": "_YrkBB-5JMvK"
    },
    {
      "cell_type": "code",
      "metadata": {
        "id": "LN-SqlwBJMvK"
      },
      "source": [
        "# Ihre Lösung"
      ],
      "id": "LN-SqlwBJMvK",
      "execution_count": null,
      "outputs": []
    },
    {
      "cell_type": "code",
      "metadata": {
        "id": "wgGJuU4_JMvL",
        "outputId": "2229c725-497c-416b-dad2-beac6023022b"
      },
      "source": [
        "# Unsere Lösung 1 \n",
        "class Wholenumber(RealNumber):\n",
        "    def __init__(self, value):\n",
        "        if type(value) is not int:\n",
        "            print(\"No real Number\")\n",
        "        else:\n",
        "            self.value = value\n",
        "\n",
        "test = Wholenumber(5.3) # Test\n",
        "five = Wholenumber(5)\n",
        "print(five.nthpow(2))"
      ],
      "id": "wgGJuU4_JMvL",
      "execution_count": null,
      "outputs": [
        {
          "name": "stdout",
          "output_type": "stream",
          "text": [
            "No real Number\n",
            "25\n"
          ]
        }
      ]
    },
    {
      "cell_type": "code",
      "metadata": {
        "id": "RfsmtAl7JMvL",
        "outputId": "677c40ae-2dcf-49ab-c045-365720ad570f"
      },
      "source": [
        "# Unsere Lösung 2\n",
        "class Naturalnumber(Wholenumber):\n",
        "    def __init__(self, value):\n",
        "        if value < 0:\n",
        "            print(\"No natural number\")\n",
        "        else:\n",
        "            super().__init__(value)\n",
        "test = Naturalnumber(-1)\n",
        "test = Naturalnumber(5.4)\n",
        "three = Naturalnumber(3)"
      ],
      "id": "RfsmtAl7JMvL",
      "execution_count": null,
      "outputs": [
        {
          "name": "stdout",
          "output_type": "stream",
          "text": [
            "No natural number\n",
            "No real Number\n"
          ]
        }
      ]
    }
  ]
}