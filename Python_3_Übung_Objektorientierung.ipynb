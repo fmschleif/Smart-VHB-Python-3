{
  "nbformat": 4,
  "nbformat_minor": 5,
  "metadata": {
    "interpreter": {
      "hash": "b73d1a4536618e175e90ff685b834bc4473c0d15eefc412f5790ee72ebe09a54"
    },
    "kernelspec": {
      "display_name": "Python 3.7.11 64-bit ('thesis': conda)",
      "name": "python3"
    },
    "language_info": {
      "codemirror_mode": {
        "name": "ipython",
        "version": 3
      },
      "file_extension": ".py",
      "mimetype": "text/x-python",
      "name": "python",
      "nbconvert_exporter": "python",
      "pygments_lexer": "ipython3",
      "version": "3.7.11"
    },
    "colab": {
      "name": "Python_3_Übung_Objektorientierung.ipynb",
      "provenance": [],
      "include_colab_link": true
    }
  },
  "cells": [
    {
      "cell_type": "markdown",
      "metadata": {
        "id": "view-in-github",
        "colab_type": "text"
      },
      "source": [
        "<a href=\"https://colab.research.google.com/github/ChristophRaab/Smart-VHB-Python-3/blob/main/Python_3_U%CC%88bung_Objektorientierung.ipynb\" target=\"_parent\"><img src=\"https://colab.research.google.com/assets/colab-badge.svg\" alt=\"Open In Colab\"/></a>"
      ]
    },
    {
      "cell_type": "markdown",
      "metadata": {
        "id": "HKtrY1eROM4k"
      },
      "source": [
        "# Übungen Python 3 Objektorientierung"
      ],
      "id": "HKtrY1eROM4k"
    },
    {
      "cell_type": "markdown",
      "metadata": {
        "id": "4H0B0ZeEOM4l"
      },
      "source": [
        "Diese Präsentation ist ein Jupyter Notebook. Mit Jupyter-Notebooks können gewöhnliche Präsentation-Slides und Code kombiniert dargestellt werden. Eine Code-Slide erkennen Sie an ```In [Zahl]:``` und ```Out[Zahl]:```. Dabei bezeichnet ```In``` den verwendeten Code und ```Out``` die Ausgabe dessen. Achten Sie auf ```#``` Symbole für weitere Informationen."
      ],
      "id": "4H0B0ZeEOM4l"
    },
    {
      "cell_type": "markdown",
      "metadata": {
        "id": "3Cl42AlwOM4l"
      },
      "source": [
        "# Übung 1:\n",
        "Erstellen Sie ein Klasse Reelle Zahl. Und implementieren Sie die Klassenattribute Zahlenwert und die Funktionen nte-Wurzel und berechne nte-Potenz. Testen Sie die beiden Funktionen."
      ],
      "id": "3Cl42AlwOM4l"
    },
    {
      "cell_type": "code",
      "metadata": {
        "id": "qK3s9CLnOM4m"
      },
      "source": [
        "# Ihre Lösung"
      ],
      "id": "qK3s9CLnOM4m",
      "execution_count": null,
      "outputs": []
    },
    {
      "cell_type": "code",
      "metadata": {
        "id": "irqJcKkqOM4m",
        "outputId": "40eee38b-1def-4fe1-f87f-31d225d0ba9c"
      },
      "source": [
        "# Unsere Lösung\n",
        "class RealNumber():\n",
        "    def __init__(self,value):\n",
        "        self.value = value\n",
        "\n",
        "    def nthsqrt(self,n):\n",
        "        return self.value ** (1/n)\n",
        "\n",
        "    def nthpow(self,n):\n",
        "        return self.value ** n\n",
        "\n",
        "number = RealNumber(5.5)\n",
        "print(number.nthpow(2), number.nthsqrt(2))\n"
      ],
      "id": "irqJcKkqOM4m",
      "execution_count": null,
      "outputs": [
        {
          "name": "stdout",
          "output_type": "stream",
          "text": [
            "30.25 2.345207879911715\n"
          ]
        }
      ]
    },
    {
      "cell_type": "markdown",
      "metadata": {
        "id": "f1f3R6eXOM4n"
      },
      "source": [
        "## Übung 2:\n",
        "Erstellen Sie zwei Klassen: Ganze Zahlen und natürliche Zahlen. Lassen Sie die Klassen Reelle Zahlen, Ganze und natürliche Zahlen mathematisch sinnvoll voneinander erben. Des weiteren sollen in den beiden Neuen Klassen, jeweils eine Wert-Überprüfung bei der Objekt-Instanziierung vorgenommen werden. In einem Fehlerfall soll über `print` eine sinnvolle Fehlermeldung ausgegeben werden"
      ],
      "id": "f1f3R6eXOM4n"
    },
    {
      "cell_type": "code",
      "metadata": {
        "id": "D1j-GeZYOM4o"
      },
      "source": [
        "# Ihre Lösung"
      ],
      "id": "D1j-GeZYOM4o",
      "execution_count": null,
      "outputs": []
    },
    {
      "cell_type": "code",
      "metadata": {
        "id": "AcYCSoXeOM4o",
        "outputId": "0c191c67-331d-460e-b64c-1bb5f5b29a2a"
      },
      "source": [
        "# Unsere Lösung 1 \n",
        "class Wholenumber(RealNumber):\n",
        "    def __init__(self, value):\n",
        "        if type(value) is not int:\n",
        "            print(\"No real Number\")\n",
        "        else:\n",
        "            self.value = value\n",
        "\n",
        "test = Wholenumber(5.3) # Test\n",
        "five = Wholenumber(5)\n",
        "print(five.nthpow(2))"
      ],
      "id": "AcYCSoXeOM4o",
      "execution_count": null,
      "outputs": [
        {
          "name": "stdout",
          "output_type": "stream",
          "text": [
            "No real Number\n",
            "25\n"
          ]
        }
      ]
    },
    {
      "cell_type": "code",
      "metadata": {
        "id": "Ib-aUfWuOM4p",
        "outputId": "ddbb3039-d331-4dad-ad47-f6eda7849332"
      },
      "source": [
        "# Unsere Lösung 2\n",
        "class Naturalnumber(Wholenumber):\n",
        "    def __init__(self, value):\n",
        "        if value < 0:\n",
        "            print(\"No natural number\")\n",
        "        else:\n",
        "            super().__init__(value)\n",
        "test = Naturalnumber(-1)\n",
        "test = Naturalnumber(5.4)\n",
        "three = Naturalnumber(3)"
      ],
      "id": "Ib-aUfWuOM4p",
      "execution_count": null,
      "outputs": [
        {
          "name": "stdout",
          "output_type": "stream",
          "text": [
            "No natural number\n",
            "No real Number\n"
          ]
        }
      ]
    }
  ]
}